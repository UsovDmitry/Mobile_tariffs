{
 "cells": [
  {
   "cell_type": "markdown",
   "metadata": {},
   "source": [
    "# Цель исследования:\n",
    "**Определение перспективного тарифа для телеком-компании**"
   ]
  },
  {
   "cell_type": "markdown",
   "metadata": {
    "toc": true
   },
   "source": [
    "<h1>Содержание<span class=\"tocSkip\"></span></h1>\n",
    "<div class=\"toc\"><ul class=\"toc-item\"><li><span><a href=\"#Calls\" data-toc-modified-id=\"Calls-1\"><span class=\"toc-item-num\">1&nbsp;&nbsp;</span>Calls</a></span></li><li><span><a href=\"#Internet\" data-toc-modified-id=\"Internet-2\"><span class=\"toc-item-num\">2&nbsp;&nbsp;</span>Internet</a></span></li><li><span><a href=\"#Message\" data-toc-modified-id=\"Message-3\"><span class=\"toc-item-num\">3&nbsp;&nbsp;</span>Message</a></span></li><li><span><a href=\"#Tarif\" data-toc-modified-id=\"Tarif-4\"><span class=\"toc-item-num\">4&nbsp;&nbsp;</span>Tarif</a></span></li><li><span><a href=\"#Users\" data-toc-modified-id=\"Users-5\"><span class=\"toc-item-num\">5&nbsp;&nbsp;</span>Users</a></span></li><li><span><a href=\"#Предобработка\" data-toc-modified-id=\"Предобработка-6\"><span class=\"toc-item-num\">6&nbsp;&nbsp;</span>Предобработка</a></span></li><li><span><a href=\"#Подведем-итоги-по-анализу-абонентов.\" data-toc-modified-id=\"Подведем-итоги-по-анализу-абонентов.-7\"><span class=\"toc-item-num\">7&nbsp;&nbsp;</span>Подведем итоги по анализу абонентов.</a></span></li><li><span><a href=\"#Проверка-гипотез\" data-toc-modified-id=\"Проверка-гипотез-8\"><span class=\"toc-item-num\">8&nbsp;&nbsp;</span>Проверка гипотез</a></span></li><li><span><a href=\"#Общий-вывод\" data-toc-modified-id=\"Общий-вывод-9\"><span class=\"toc-item-num\">9&nbsp;&nbsp;</span>Общий вывод</a></span></li></ul></div>"
   ]
  },
  {
   "cell_type": "code",
   "execution_count": 1,
   "metadata": {},
   "outputs": [],
   "source": [
    "import pandas as pd\n",
    "import numpy as np\n",
    "import math\n",
    "import seaborn as sns\n",
    "import matplotlib.pyplot as plt\n",
    "import scipy.stats as st"
   ]
  },
  {
   "cell_type": "code",
   "execution_count": 2,
   "metadata": {},
   "outputs": [],
   "source": [
    "df_calls = pd.read_csv('/datasets/calls.csv')\n",
    "df_internet = pd.read_csv('/datasets/internet.csv')\n",
    "df_mess= pd.read_csv('/datasets/messages.csv')\n",
    "df_tarif=pd.read_csv('/datasets/tariffs.csv')\n",
    "df_users=pd.read_csv('/datasets/users.csv')"
   ]
  },
  {
   "cell_type": "markdown",
   "metadata": {},
   "source": [
    "## Calls \n"
   ]
  },
  {
   "cell_type": "code",
   "execution_count": 3,
   "metadata": {
    "scrolled": false
   },
   "outputs": [
    {
     "data": {
      "text/html": [
       "<div>\n",
       "<style scoped>\n",
       "    .dataframe tbody tr th:only-of-type {\n",
       "        vertical-align: middle;\n",
       "    }\n",
       "\n",
       "    .dataframe tbody tr th {\n",
       "        vertical-align: top;\n",
       "    }\n",
       "\n",
       "    .dataframe thead th {\n",
       "        text-align: right;\n",
       "    }\n",
       "</style>\n",
       "<table border=\"1\" class=\"dataframe\">\n",
       "  <thead>\n",
       "    <tr style=\"text-align: right;\">\n",
       "      <th></th>\n",
       "      <th>id</th>\n",
       "      <th>call_date</th>\n",
       "      <th>duration</th>\n",
       "      <th>user_id</th>\n",
       "    </tr>\n",
       "  </thead>\n",
       "  <tbody>\n",
       "    <tr>\n",
       "      <th>0</th>\n",
       "      <td>1000_0</td>\n",
       "      <td>2018-07-25</td>\n",
       "      <td>0.00</td>\n",
       "      <td>1000</td>\n",
       "    </tr>\n",
       "    <tr>\n",
       "      <th>1</th>\n",
       "      <td>1000_1</td>\n",
       "      <td>2018-08-17</td>\n",
       "      <td>0.00</td>\n",
       "      <td>1000</td>\n",
       "    </tr>\n",
       "    <tr>\n",
       "      <th>2</th>\n",
       "      <td>1000_2</td>\n",
       "      <td>2018-06-11</td>\n",
       "      <td>2.85</td>\n",
       "      <td>1000</td>\n",
       "    </tr>\n",
       "    <tr>\n",
       "      <th>3</th>\n",
       "      <td>1000_3</td>\n",
       "      <td>2018-09-21</td>\n",
       "      <td>13.80</td>\n",
       "      <td>1000</td>\n",
       "    </tr>\n",
       "    <tr>\n",
       "      <th>4</th>\n",
       "      <td>1000_4</td>\n",
       "      <td>2018-12-15</td>\n",
       "      <td>5.18</td>\n",
       "      <td>1000</td>\n",
       "    </tr>\n",
       "  </tbody>\n",
       "</table>\n",
       "</div>"
      ],
      "text/plain": [
       "       id   call_date  duration  user_id\n",
       "0  1000_0  2018-07-25      0.00     1000\n",
       "1  1000_1  2018-08-17      0.00     1000\n",
       "2  1000_2  2018-06-11      2.85     1000\n",
       "3  1000_3  2018-09-21     13.80     1000\n",
       "4  1000_4  2018-12-15      5.18     1000"
      ]
     },
     "execution_count": 3,
     "metadata": {},
     "output_type": "execute_result"
    }
   ],
   "source": [
    "df_calls.head(5)"
   ]
  },
  {
   "cell_type": "code",
   "execution_count": 4,
   "metadata": {},
   "outputs": [
    {
     "data": {
      "image/png": "[encoded data removed]",
      "text/plain": [
       "<Figure size 432x288 with 1 Axes>"
      ]
     },
     "metadata": {
      "needs_background": "light"
     },
     "output_type": "display_data"
    }
   ],
   "source": [
    "df_calls['duration'].plot(kind='hist', ec='blue', bins=100);\n",
    "plt.title('Гистограмма распределения длительности звонков')\n",
    "plt.xlabel('Длительность звонка, минут')\n",
    "plt.ylabel('Число звонков с данной длительностью')\n",
    "plt.legend().remove()\n",
    "plt.show()"
   ]
  },
  {
   "cell_type": "markdown",
   "metadata": {},
   "source": [
    "Выбивающихся значений нет, все в рамках разумного. \n",
    "\n",
    "В среднем разговор длиться 5-8 минут. Самый продолжительный 38 мин. \n",
    "Звонок в 0 минут, по условиям задачи - это пропущенный звонок. \n",
    "Таких звонков 20%, это много. \n",
    "\n",
    "Предположу,что к таким звонкам относятся и ситуация \"абонент не абонент\"\n",
    "Код ниже частично подтверждает данную теорию... \n",
    "Т.е. не дозвонившись или не получив ответ на звонок, пользователь направлял абоненту СМС-ку.\n",
    "\n",
    "\n",
    "*************\n",
    "( в дни, когда фиксировался звонок в 0 минут, пользователем направлялись СМС-ки.)\n",
    "\n",
    "df_calls[(df_calls['user_id']==1000) & (df_calls['duration']==0)].sort_values('call_date', ascending=True).head(10)\n",
    "df_mess[df_mess['user_id']==1000].sort_values('message_date', ascending=True).head(30)\n",
    "\n",
    "\n"
   ]
  },
  {
   "cell_type": "code",
   "execution_count": 5,
   "metadata": {},
   "outputs": [
    {
     "data": {
      "text/html": [
       "<div>\n",
       "<style scoped>\n",
       "    .dataframe tbody tr th:only-of-type {\n",
       "        vertical-align: middle;\n",
       "    }\n",
       "\n",
       "    .dataframe tbody tr th {\n",
       "        vertical-align: top;\n",
       "    }\n",
       "\n",
       "    .dataframe thead th {\n",
       "        text-align: right;\n",
       "    }\n",
       "</style>\n",
       "<table border=\"1\" class=\"dataframe\">\n",
       "  <thead>\n",
       "    <tr style=\"text-align: right;\">\n",
       "      <th></th>\n",
       "      <th>duration</th>\n",
       "      <th>user_id</th>\n",
       "    </tr>\n",
       "  </thead>\n",
       "  <tbody>\n",
       "    <tr>\n",
       "      <th>count</th>\n",
       "      <td>202607.000000</td>\n",
       "      <td>202607.000000</td>\n",
       "    </tr>\n",
       "    <tr>\n",
       "      <th>mean</th>\n",
       "      <td>6.755887</td>\n",
       "      <td>1253.940619</td>\n",
       "    </tr>\n",
       "    <tr>\n",
       "      <th>std</th>\n",
       "      <td>5.843365</td>\n",
       "      <td>144.722751</td>\n",
       "    </tr>\n",
       "    <tr>\n",
       "      <th>min</th>\n",
       "      <td>0.000000</td>\n",
       "      <td>1000.000000</td>\n",
       "    </tr>\n",
       "    <tr>\n",
       "      <th>25%</th>\n",
       "      <td>1.300000</td>\n",
       "      <td>1126.000000</td>\n",
       "    </tr>\n",
       "    <tr>\n",
       "      <th>50%</th>\n",
       "      <td>6.000000</td>\n",
       "      <td>1260.000000</td>\n",
       "    </tr>\n",
       "    <tr>\n",
       "      <th>75%</th>\n",
       "      <td>10.700000</td>\n",
       "      <td>1379.000000</td>\n",
       "    </tr>\n",
       "    <tr>\n",
       "      <th>max</th>\n",
       "      <td>38.000000</td>\n",
       "      <td>1499.000000</td>\n",
       "    </tr>\n",
       "  </tbody>\n",
       "</table>\n",
       "</div>"
      ],
      "text/plain": [
       "            duration        user_id\n",
       "count  202607.000000  202607.000000\n",
       "mean        6.755887    1253.940619\n",
       "std         5.843365     144.722751\n",
       "min         0.000000    1000.000000\n",
       "25%         1.300000    1126.000000\n",
       "50%         6.000000    1260.000000\n",
       "75%        10.700000    1379.000000\n",
       "max        38.000000    1499.000000"
      ]
     },
     "execution_count": 5,
     "metadata": {},
     "output_type": "execute_result"
    }
   ],
   "source": [
    "df_calls.describe()\n"
   ]
  },
  {
   "cell_type": "markdown",
   "metadata": {},
   "source": [
    "Здесь нас интересует столбец  \n",
    "•\tduration — длительность звонка в минутах, и дата звонка.\n",
    "\n",
    "Видим, что фиксируется длительность звонка с точностью до секунды, но при существующих условиях тарификации «Мегалайн»  требуется округлить секунды до минут. Т.е. необходимо округлить в большую сторону.\n",
    "\n",
    "**Столбец call_date необходимо ривести к формату даты, а не строки**. Ниже, в разделе Предобработка, сделаем это."
   ]
  },
  {
   "cell_type": "code",
   "execution_count": 6,
   "metadata": {
    "scrolled": true
   },
   "outputs": [
    {
     "name": "stdout",
     "output_type": "stream",
     "text": [
      "<class 'pandas.core.frame.DataFrame'>\n",
      "RangeIndex: 202607 entries, 0 to 202606\n",
      "Data columns (total 4 columns):\n",
      " #   Column     Non-Null Count   Dtype  \n",
      "---  ------     --------------   -----  \n",
      " 0   id         202607 non-null  object \n",
      " 1   call_date  202607 non-null  object \n",
      " 2   duration   202607 non-null  float64\n",
      " 3   user_id    202607 non-null  int64  \n",
      "dtypes: float64(1), int64(1), object(2)\n",
      "memory usage: 6.2+ MB\n"
     ]
    }
   ],
   "source": [
    "df_calls.info()"
   ]
  },
  {
   "cell_type": "code",
   "execution_count": 7,
   "metadata": {},
   "outputs": [
    {
     "data": {
      "text/plain": [
       "id           0\n",
       "call_date    0\n",
       "duration     0\n",
       "user_id      0\n",
       "dtype: int64"
      ]
     },
     "execution_count": 7,
     "metadata": {},
     "output_type": "execute_result"
    }
   ],
   "source": [
    "df_calls.isna().sum()"
   ]
  },
  {
   "cell_type": "markdown",
   "metadata": {},
   "source": [
    "Отлично, пропусков нет.\n",
    "\n",
    "по аналогии отработаем датасет df_internet."
   ]
  },
  {
   "cell_type": "markdown",
   "metadata": {},
   "source": [
    "## Internet"
   ]
  },
  {
   "cell_type": "code",
   "execution_count": 8,
   "metadata": {},
   "outputs": [
    {
     "data": {
      "text/html": [
       "<div>\n",
       "<style scoped>\n",
       "    .dataframe tbody tr th:only-of-type {\n",
       "        vertical-align: middle;\n",
       "    }\n",
       "\n",
       "    .dataframe tbody tr th {\n",
       "        vertical-align: top;\n",
       "    }\n",
       "\n",
       "    .dataframe thead th {\n",
       "        text-align: right;\n",
       "    }\n",
       "</style>\n",
       "<table border=\"1\" class=\"dataframe\">\n",
       "  <thead>\n",
       "    <tr style=\"text-align: right;\">\n",
       "      <th></th>\n",
       "      <th>Unnamed: 0</th>\n",
       "      <th>id</th>\n",
       "      <th>mb_used</th>\n",
       "      <th>session_date</th>\n",
       "      <th>user_id</th>\n",
       "    </tr>\n",
       "  </thead>\n",
       "  <tbody>\n",
       "    <tr>\n",
       "      <th>0</th>\n",
       "      <td>0</td>\n",
       "      <td>1000_0</td>\n",
       "      <td>112.95</td>\n",
       "      <td>2018-11-25</td>\n",
       "      <td>1000</td>\n",
       "    </tr>\n",
       "    <tr>\n",
       "      <th>1</th>\n",
       "      <td>1</td>\n",
       "      <td>1000_1</td>\n",
       "      <td>1052.81</td>\n",
       "      <td>2018-09-07</td>\n",
       "      <td>1000</td>\n",
       "    </tr>\n",
       "    <tr>\n",
       "      <th>2</th>\n",
       "      <td>2</td>\n",
       "      <td>1000_2</td>\n",
       "      <td>1197.26</td>\n",
       "      <td>2018-06-25</td>\n",
       "      <td>1000</td>\n",
       "    </tr>\n",
       "    <tr>\n",
       "      <th>3</th>\n",
       "      <td>3</td>\n",
       "      <td>1000_3</td>\n",
       "      <td>550.27</td>\n",
       "      <td>2018-08-22</td>\n",
       "      <td>1000</td>\n",
       "    </tr>\n",
       "    <tr>\n",
       "      <th>4</th>\n",
       "      <td>4</td>\n",
       "      <td>1000_4</td>\n",
       "      <td>302.56</td>\n",
       "      <td>2018-09-24</td>\n",
       "      <td>1000</td>\n",
       "    </tr>\n",
       "  </tbody>\n",
       "</table>\n",
       "</div>"
      ],
      "text/plain": [
       "   Unnamed: 0      id  mb_used session_date  user_id\n",
       "0           0  1000_0   112.95   2018-11-25     1000\n",
       "1           1  1000_1  1052.81   2018-09-07     1000\n",
       "2           2  1000_2  1197.26   2018-06-25     1000\n",
       "3           3  1000_3   550.27   2018-08-22     1000\n",
       "4           4  1000_4   302.56   2018-09-24     1000"
      ]
     },
     "execution_count": 8,
     "metadata": {},
     "output_type": "execute_result"
    }
   ],
   "source": [
    "df_internet.head(5)"
   ]
  },
  {
   "cell_type": "code",
   "execution_count": 9,
   "metadata": {},
   "outputs": [
    {
     "data": {
      "image/png": "[encoded data removed]",
      "text/plain": [
       "<Figure size 432x288 with 1 Axes>"
      ]
     },
     "metadata": {
      "needs_background": "light"
     },
     "output_type": "display_data"
    }
   ],
   "source": [
    "df_internet['mb_used'].plot(kind='hist', ec='blue', bins=100,range = (0,1250));\n",
    "plt.title('Гистограмма распределения потребления итернет-трафика')\n",
    "plt.xlabel('Кол-во потребленных мегабайт, Мб')\n",
    "plt.legend().remove()\n",
    "plt.show()"
   ]
  },
  {
   "cell_type": "markdown",
   "metadata": {},
   "source": [
    " по аналогии с датасетом звонков... выбивающихся значений не наблюдаются... с 0-м мегабайтом, ситуация возможно\n",
    " похожа со \"Звонком\", в дни когда была любая другая активность кроме \"Интернет\", это день фиксировался с 0-м траффиком"
   ]
  },
  {
   "cell_type": "code",
   "execution_count": 10,
   "metadata": {},
   "outputs": [
    {
     "name": "stdout",
     "output_type": "stream",
     "text": [
      "<class 'pandas.core.frame.DataFrame'>\n",
      "RangeIndex: 149396 entries, 0 to 149395\n",
      "Data columns (total 5 columns):\n",
      " #   Column        Non-Null Count   Dtype  \n",
      "---  ------        --------------   -----  \n",
      " 0   Unnamed: 0    149396 non-null  int64  \n",
      " 1   id            149396 non-null  object \n",
      " 2   mb_used       149396 non-null  float64\n",
      " 3   session_date  149396 non-null  object \n",
      " 4   user_id       149396 non-null  int64  \n",
      "dtypes: float64(1), int64(2), object(2)\n",
      "memory usage: 5.7+ MB\n"
     ]
    }
   ],
   "source": [
    "df_internet.info()"
   ]
  },
  {
   "cell_type": "code",
   "execution_count": 11,
   "metadata": {},
   "outputs": [
    {
     "data": {
      "text/plain": [
       "Unnamed: 0      0\n",
       "id              0\n",
       "mb_used         0\n",
       "session_date    0\n",
       "user_id         0\n",
       "dtype: int64"
      ]
     },
     "execution_count": 11,
     "metadata": {},
     "output_type": "execute_result"
    }
   ],
   "source": [
    "df_internet.isna().sum() # пропуски..."
   ]
  },
  {
   "cell_type": "markdown",
   "metadata": {},
   "source": [
    "## Message"
   ]
  },
  {
   "cell_type": "code",
   "execution_count": 12,
   "metadata": {},
   "outputs": [
    {
     "name": "stdout",
     "output_type": "stream",
     "text": [
      "<class 'pandas.core.frame.DataFrame'>\n",
      "RangeIndex: 123036 entries, 0 to 123035\n",
      "Data columns (total 3 columns):\n",
      " #   Column        Non-Null Count   Dtype \n",
      "---  ------        --------------   ----- \n",
      " 0   id            123036 non-null  object\n",
      " 1   message_date  123036 non-null  object\n",
      " 2   user_id       123036 non-null  int64 \n",
      "dtypes: int64(1), object(2)\n",
      "memory usage: 2.8+ MB\n"
     ]
    }
   ],
   "source": [
    "#df_mess[df_mess['user_id']==1001]\n",
    "df_mess.info()"
   ]
  },
  {
   "cell_type": "code",
   "execution_count": 13,
   "metadata": {},
   "outputs": [
    {
     "data": {
      "text/plain": [
       "id              0\n",
       "message_date    0\n",
       "user_id         0\n",
       "dtype: int64"
      ]
     },
     "execution_count": 13,
     "metadata": {},
     "output_type": "execute_result"
    }
   ],
   "source": [
    "df_mess.isna().sum()"
   ]
  },
  {
   "cell_type": "code",
   "execution_count": 14,
   "metadata": {},
   "outputs": [
    {
     "data": {
      "text/html": [
       "<div>\n",
       "<style scoped>\n",
       "    .dataframe tbody tr th:only-of-type {\n",
       "        vertical-align: middle;\n",
       "    }\n",
       "\n",
       "    .dataframe tbody tr th {\n",
       "        vertical-align: top;\n",
       "    }\n",
       "\n",
       "    .dataframe thead th {\n",
       "        text-align: right;\n",
       "    }\n",
       "</style>\n",
       "<table border=\"1\" class=\"dataframe\">\n",
       "  <thead>\n",
       "    <tr style=\"text-align: right;\">\n",
       "      <th></th>\n",
       "      <th>id</th>\n",
       "      <th>message_date</th>\n",
       "    </tr>\n",
       "  </thead>\n",
       "  <tbody>\n",
       "    <tr>\n",
       "      <th>count</th>\n",
       "      <td>426.000000</td>\n",
       "      <td>426.000000</td>\n",
       "    </tr>\n",
       "    <tr>\n",
       "      <th>mean</th>\n",
       "      <td>288.816901</td>\n",
       "      <td>288.816901</td>\n",
       "    </tr>\n",
       "    <tr>\n",
       "      <th>std</th>\n",
       "      <td>267.607552</td>\n",
       "      <td>267.607552</td>\n",
       "    </tr>\n",
       "    <tr>\n",
       "      <th>min</th>\n",
       "      <td>1.000000</td>\n",
       "      <td>1.000000</td>\n",
       "    </tr>\n",
       "    <tr>\n",
       "      <th>25%</th>\n",
       "      <td>85.750000</td>\n",
       "      <td>85.750000</td>\n",
       "    </tr>\n",
       "    <tr>\n",
       "      <th>50%</th>\n",
       "      <td>215.500000</td>\n",
       "      <td>215.500000</td>\n",
       "    </tr>\n",
       "    <tr>\n",
       "      <th>75%</th>\n",
       "      <td>414.000000</td>\n",
       "      <td>414.000000</td>\n",
       "    </tr>\n",
       "    <tr>\n",
       "      <th>max</th>\n",
       "      <td>1463.000000</td>\n",
       "      <td>1463.000000</td>\n",
       "    </tr>\n",
       "  </tbody>\n",
       "</table>\n",
       "</div>"
      ],
      "text/plain": [
       "                id  message_date\n",
       "count   426.000000    426.000000\n",
       "mean    288.816901    288.816901\n",
       "std     267.607552    267.607552\n",
       "min       1.000000      1.000000\n",
       "25%      85.750000     85.750000\n",
       "50%     215.500000    215.500000\n",
       "75%     414.000000    414.000000\n",
       "max    1463.000000   1463.000000"
      ]
     },
     "execution_count": 14,
     "metadata": {},
     "output_type": "execute_result"
    }
   ],
   "source": [
    "# посмотрим ситуацию по отправленным СМС-кам...\n",
    "# Видим, что не все пользователи пользовались отправкой СМС (426 против 500), есть \"спамеры\" с 1463 СМС-ми...\n",
    "SMS = df_mess.groupby('user_id').count()\n",
    "SMS.describe()"
   ]
  },
  {
   "cell_type": "code",
   "execution_count": 15,
   "metadata": {
    "scrolled": true
   },
   "outputs": [
    {
     "data": {
      "text/html": [
       "<div>\n",
       "<style scoped>\n",
       "    .dataframe tbody tr th:only-of-type {\n",
       "        vertical-align: middle;\n",
       "    }\n",
       "\n",
       "    .dataframe tbody tr th {\n",
       "        vertical-align: top;\n",
       "    }\n",
       "\n",
       "    .dataframe thead th {\n",
       "        text-align: right;\n",
       "    }\n",
       "</style>\n",
       "<table border=\"1\" class=\"dataframe\">\n",
       "  <thead>\n",
       "    <tr style=\"text-align: right;\">\n",
       "      <th></th>\n",
       "      <th>id</th>\n",
       "      <th>message_date</th>\n",
       "      <th>user_id</th>\n",
       "    </tr>\n",
       "  </thead>\n",
       "  <tbody>\n",
       "    <tr>\n",
       "      <th>0</th>\n",
       "      <td>1000_0</td>\n",
       "      <td>2018-06-27</td>\n",
       "      <td>1000</td>\n",
       "    </tr>\n",
       "    <tr>\n",
       "      <th>1</th>\n",
       "      <td>1000_1</td>\n",
       "      <td>2018-10-08</td>\n",
       "      <td>1000</td>\n",
       "    </tr>\n",
       "    <tr>\n",
       "      <th>2</th>\n",
       "      <td>1000_2</td>\n",
       "      <td>2018-08-04</td>\n",
       "      <td>1000</td>\n",
       "    </tr>\n",
       "    <tr>\n",
       "      <th>3</th>\n",
       "      <td>1000_3</td>\n",
       "      <td>2018-06-16</td>\n",
       "      <td>1000</td>\n",
       "    </tr>\n",
       "    <tr>\n",
       "      <th>4</th>\n",
       "      <td>1000_4</td>\n",
       "      <td>2018-12-05</td>\n",
       "      <td>1000</td>\n",
       "    </tr>\n",
       "  </tbody>\n",
       "</table>\n",
       "</div>"
      ],
      "text/plain": [
       "       id message_date  user_id\n",
       "0  1000_0   2018-06-27     1000\n",
       "1  1000_1   2018-10-08     1000\n",
       "2  1000_2   2018-08-04     1000\n",
       "3  1000_3   2018-06-16     1000\n",
       "4  1000_4   2018-12-05     1000"
      ]
     },
     "execution_count": 15,
     "metadata": {},
     "output_type": "execute_result"
    }
   ],
   "source": [
    "df_mess.head(5)"
   ]
  },
  {
   "cell_type": "markdown",
   "metadata": {},
   "source": [
    "## Tarif"
   ]
  },
  {
   "cell_type": "code",
   "execution_count": 16,
   "metadata": {
    "scrolled": true
   },
   "outputs": [
    {
     "data": {
      "text/html": [
       "<div>\n",
       "<style scoped>\n",
       "    .dataframe tbody tr th:only-of-type {\n",
       "        vertical-align: middle;\n",
       "    }\n",
       "\n",
       "    .dataframe tbody tr th {\n",
       "        vertical-align: top;\n",
       "    }\n",
       "\n",
       "    .dataframe thead th {\n",
       "        text-align: right;\n",
       "    }\n",
       "</style>\n",
       "<table border=\"1\" class=\"dataframe\">\n",
       "  <thead>\n",
       "    <tr style=\"text-align: right;\">\n",
       "      <th></th>\n",
       "      <th>messages_included</th>\n",
       "      <th>mb_per_month_included</th>\n",
       "      <th>minutes_included</th>\n",
       "      <th>rub_monthly_fee</th>\n",
       "      <th>rub_per_gb</th>\n",
       "      <th>rub_per_message</th>\n",
       "      <th>rub_per_minute</th>\n",
       "      <th>tariff_name</th>\n",
       "    </tr>\n",
       "  </thead>\n",
       "  <tbody>\n",
       "    <tr>\n",
       "      <th>0</th>\n",
       "      <td>50</td>\n",
       "      <td>15360</td>\n",
       "      <td>500</td>\n",
       "      <td>550</td>\n",
       "      <td>200</td>\n",
       "      <td>3</td>\n",
       "      <td>3</td>\n",
       "      <td>smart</td>\n",
       "    </tr>\n",
       "    <tr>\n",
       "      <th>1</th>\n",
       "      <td>1000</td>\n",
       "      <td>30720</td>\n",
       "      <td>3000</td>\n",
       "      <td>1950</td>\n",
       "      <td>150</td>\n",
       "      <td>1</td>\n",
       "      <td>1</td>\n",
       "      <td>ultra</td>\n",
       "    </tr>\n",
       "  </tbody>\n",
       "</table>\n",
       "</div>"
      ],
      "text/plain": [
       "   messages_included  mb_per_month_included  minutes_included  \\\n",
       "0                 50                  15360               500   \n",
       "1               1000                  30720              3000   \n",
       "\n",
       "   rub_monthly_fee  rub_per_gb  rub_per_message  rub_per_minute tariff_name  \n",
       "0              550         200                3               3       smart  \n",
       "1             1950         150                1               1       ultra  "
      ]
     },
     "execution_count": 16,
     "metadata": {},
     "output_type": "execute_result"
    }
   ],
   "source": [
    "df_tarif.head(5) # видим назание тарифа и его тарификация услуг..."
   ]
  },
  {
   "cell_type": "markdown",
   "metadata": {},
   "source": [
    "## Users"
   ]
  },
  {
   "cell_type": "code",
   "execution_count": 17,
   "metadata": {},
   "outputs": [
    {
     "data": {
      "text/html": [
       "<div>\n",
       "<style scoped>\n",
       "    .dataframe tbody tr th:only-of-type {\n",
       "        vertical-align: middle;\n",
       "    }\n",
       "\n",
       "    .dataframe tbody tr th {\n",
       "        vertical-align: top;\n",
       "    }\n",
       "\n",
       "    .dataframe thead th {\n",
       "        text-align: right;\n",
       "    }\n",
       "</style>\n",
       "<table border=\"1\" class=\"dataframe\">\n",
       "  <thead>\n",
       "    <tr style=\"text-align: right;\">\n",
       "      <th></th>\n",
       "      <th>user_id</th>\n",
       "      <th>age</th>\n",
       "      <th>churn_date</th>\n",
       "      <th>city</th>\n",
       "      <th>first_name</th>\n",
       "      <th>last_name</th>\n",
       "      <th>reg_date</th>\n",
       "      <th>tariff</th>\n",
       "    </tr>\n",
       "  </thead>\n",
       "  <tbody>\n",
       "    <tr>\n",
       "      <th>0</th>\n",
       "      <td>1000</td>\n",
       "      <td>52</td>\n",
       "      <td>NaN</td>\n",
       "      <td>Краснодар</td>\n",
       "      <td>Рафаил</td>\n",
       "      <td>Верещагин</td>\n",
       "      <td>2018-05-25</td>\n",
       "      <td>ultra</td>\n",
       "    </tr>\n",
       "    <tr>\n",
       "      <th>1</th>\n",
       "      <td>1001</td>\n",
       "      <td>41</td>\n",
       "      <td>NaN</td>\n",
       "      <td>Москва</td>\n",
       "      <td>Иван</td>\n",
       "      <td>Ежов</td>\n",
       "      <td>2018-11-01</td>\n",
       "      <td>smart</td>\n",
       "    </tr>\n",
       "    <tr>\n",
       "      <th>2</th>\n",
       "      <td>1002</td>\n",
       "      <td>59</td>\n",
       "      <td>NaN</td>\n",
       "      <td>Стерлитамак</td>\n",
       "      <td>Евгений</td>\n",
       "      <td>Абрамович</td>\n",
       "      <td>2018-06-17</td>\n",
       "      <td>smart</td>\n",
       "    </tr>\n",
       "    <tr>\n",
       "      <th>3</th>\n",
       "      <td>1003</td>\n",
       "      <td>23</td>\n",
       "      <td>NaN</td>\n",
       "      <td>Москва</td>\n",
       "      <td>Белла</td>\n",
       "      <td>Белякова</td>\n",
       "      <td>2018-08-17</td>\n",
       "      <td>ultra</td>\n",
       "    </tr>\n",
       "    <tr>\n",
       "      <th>4</th>\n",
       "      <td>1004</td>\n",
       "      <td>68</td>\n",
       "      <td>NaN</td>\n",
       "      <td>Новокузнецк</td>\n",
       "      <td>Татьяна</td>\n",
       "      <td>Авдеенко</td>\n",
       "      <td>2018-05-14</td>\n",
       "      <td>ultra</td>\n",
       "    </tr>\n",
       "  </tbody>\n",
       "</table>\n",
       "</div>"
      ],
      "text/plain": [
       "   user_id  age churn_date         city first_name  last_name    reg_date  \\\n",
       "0     1000   52        NaN    Краснодар     Рафаил  Верещагин  2018-05-25   \n",
       "1     1001   41        NaN       Москва       Иван       Ежов  2018-11-01   \n",
       "2     1002   59        NaN  Стерлитамак    Евгений  Абрамович  2018-06-17   \n",
       "3     1003   23        NaN       Москва      Белла   Белякова  2018-08-17   \n",
       "4     1004   68        NaN  Новокузнецк    Татьяна   Авдеенко  2018-05-14   \n",
       "\n",
       "  tariff  \n",
       "0  ultra  \n",
       "1  smart  \n",
       "2  smart  \n",
       "3  ultra  \n",
       "4  ultra  "
      ]
     },
     "execution_count": 17,
     "metadata": {},
     "output_type": "execute_result"
    }
   ],
   "source": [
    "df_users.head(5)\n",
    "# 500 пользователей (38 юзеров на момент выборки расторгли контракты, в дальнейшем, избавимся от них) "
   ]
  },
  {
   "cell_type": "code",
   "execution_count": 18,
   "metadata": {},
   "outputs": [
    {
     "data": {
      "text/plain": [
       "user_id         0\n",
       "age             0\n",
       "churn_date    462\n",
       "city            0\n",
       "first_name      0\n",
       "last_name       0\n",
       "reg_date        0\n",
       "tariff          0\n",
       "dtype: int64"
      ]
     },
     "execution_count": 18,
     "metadata": {},
     "output_type": "execute_result"
    }
   ],
   "source": [
    "df_users.isna().sum()"
   ]
  },
  {
   "cell_type": "code",
   "execution_count": 19,
   "metadata": {
    "scrolled": true
   },
   "outputs": [],
   "source": [
    "# заполним пока пропуски нулем (т.е. примем, что 0 - это контракт действовал на момент выборки)\n",
    "df_users['churn_date'] = df_users['churn_date'].fillna(0)\n",
    "# df_users = df_users[df_users['churn_date']==0] "
   ]
  },
  {
   "cell_type": "code",
   "execution_count": 20,
   "metadata": {},
   "outputs": [
    {
     "data": {
      "text/plain": [
       "user_id       0\n",
       "age           0\n",
       "churn_date    0\n",
       "city          0\n",
       "first_name    0\n",
       "last_name     0\n",
       "reg_date      0\n",
       "tariff        0\n",
       "dtype: int64"
      ]
     },
     "execution_count": 20,
     "metadata": {},
     "output_type": "execute_result"
    }
   ],
   "source": [
    "df_users.isna().sum()"
   ]
  },
  {
   "cell_type": "markdown",
   "metadata": {},
   "source": [
    "## Предобработка"
   ]
  },
  {
   "cell_type": "code",
   "execution_count": 21,
   "metadata": {},
   "outputs": [],
   "source": [
    "df_calls['duration']=df_calls['duration'].apply(math.ceil) # округляем в большую сторону\n",
    "df_calls['call_date'] = pd.to_datetime(df_calls['call_date'], format='%Y-%m-%d') # приводим к формату времени\n",
    "df_calls['month'] = df_calls['call_date'].dt.month # создаем столбец \"месяц\"\n",
    "\n",
    "\n",
    "#df_internet['mb_used']=df_internet['mb_used'].apply(math.ceil)\n",
    "df_internet['session_date'] = pd.to_datetime(df_internet['session_date'], format='%Y-%m-%d')\n",
    "df_internet['month'] = df_internet['session_date'].dt.month\n",
    "\n",
    "\n",
    "df_mess['message_date'] = pd.to_datetime(df_mess['message_date'], format='%Y-%m-%d')\n",
    "df_mess['month']= df_mess['message_date'].dt.month\n",
    "\n",
    "df_users['reg_date'] = pd.to_datetime(df_users['reg_date'], format='%Y-%m-%d')\n",
    "df_users['reg_month']= df_users['reg_date'].dt.month"
   ]
  },
  {
   "cell_type": "code",
   "execution_count": 22,
   "metadata": {},
   "outputs": [
    {
     "data": {
      "text/html": [
       "<div>\n",
       "<style scoped>\n",
       "    .dataframe tbody tr th:only-of-type {\n",
       "        vertical-align: middle;\n",
       "    }\n",
       "\n",
       "    .dataframe tbody tr th {\n",
       "        vertical-align: top;\n",
       "    }\n",
       "\n",
       "    .dataframe thead th {\n",
       "        text-align: right;\n",
       "    }\n",
       "</style>\n",
       "<table border=\"1\" class=\"dataframe\">\n",
       "  <thead>\n",
       "    <tr style=\"text-align: right;\">\n",
       "      <th></th>\n",
       "      <th>id</th>\n",
       "      <th>call_date</th>\n",
       "      <th>duration</th>\n",
       "      <th>user_id</th>\n",
       "      <th>month</th>\n",
       "    </tr>\n",
       "  </thead>\n",
       "  <tbody>\n",
       "    <tr>\n",
       "      <th>0</th>\n",
       "      <td>1000_0</td>\n",
       "      <td>2018-07-25</td>\n",
       "      <td>0</td>\n",
       "      <td>1000</td>\n",
       "      <td>7</td>\n",
       "    </tr>\n",
       "    <tr>\n",
       "      <th>1</th>\n",
       "      <td>1000_1</td>\n",
       "      <td>2018-08-17</td>\n",
       "      <td>0</td>\n",
       "      <td>1000</td>\n",
       "      <td>8</td>\n",
       "    </tr>\n",
       "    <tr>\n",
       "      <th>2</th>\n",
       "      <td>1000_2</td>\n",
       "      <td>2018-06-11</td>\n",
       "      <td>3</td>\n",
       "      <td>1000</td>\n",
       "      <td>6</td>\n",
       "    </tr>\n",
       "    <tr>\n",
       "      <th>3</th>\n",
       "      <td>1000_3</td>\n",
       "      <td>2018-09-21</td>\n",
       "      <td>14</td>\n",
       "      <td>1000</td>\n",
       "      <td>9</td>\n",
       "    </tr>\n",
       "    <tr>\n",
       "      <th>4</th>\n",
       "      <td>1000_4</td>\n",
       "      <td>2018-12-15</td>\n",
       "      <td>6</td>\n",
       "      <td>1000</td>\n",
       "      <td>12</td>\n",
       "    </tr>\n",
       "  </tbody>\n",
       "</table>\n",
       "</div>"
      ],
      "text/plain": [
       "       id  call_date  duration  user_id  month\n",
       "0  1000_0 2018-07-25         0     1000      7\n",
       "1  1000_1 2018-08-17         0     1000      8\n",
       "2  1000_2 2018-06-11         3     1000      6\n",
       "3  1000_3 2018-09-21        14     1000      9\n",
       "4  1000_4 2018-12-15         6     1000     12"
      ]
     },
     "metadata": {},
     "output_type": "display_data"
    },
    {
     "data": {
      "text/html": [
       "<div>\n",
       "<style scoped>\n",
       "    .dataframe tbody tr th:only-of-type {\n",
       "        vertical-align: middle;\n",
       "    }\n",
       "\n",
       "    .dataframe tbody tr th {\n",
       "        vertical-align: top;\n",
       "    }\n",
       "\n",
       "    .dataframe thead th {\n",
       "        text-align: right;\n",
       "    }\n",
       "</style>\n",
       "<table border=\"1\" class=\"dataframe\">\n",
       "  <thead>\n",
       "    <tr style=\"text-align: right;\">\n",
       "      <th></th>\n",
       "      <th>id</th>\n",
       "      <th>message_date</th>\n",
       "      <th>user_id</th>\n",
       "      <th>month</th>\n",
       "    </tr>\n",
       "  </thead>\n",
       "  <tbody>\n",
       "    <tr>\n",
       "      <th>0</th>\n",
       "      <td>1000_0</td>\n",
       "      <td>2018-06-27</td>\n",
       "      <td>1000</td>\n",
       "      <td>6</td>\n",
       "    </tr>\n",
       "    <tr>\n",
       "      <th>1</th>\n",
       "      <td>1000_1</td>\n",
       "      <td>2018-10-08</td>\n",
       "      <td>1000</td>\n",
       "      <td>10</td>\n",
       "    </tr>\n",
       "    <tr>\n",
       "      <th>2</th>\n",
       "      <td>1000_2</td>\n",
       "      <td>2018-08-04</td>\n",
       "      <td>1000</td>\n",
       "      <td>8</td>\n",
       "    </tr>\n",
       "    <tr>\n",
       "      <th>3</th>\n",
       "      <td>1000_3</td>\n",
       "      <td>2018-06-16</td>\n",
       "      <td>1000</td>\n",
       "      <td>6</td>\n",
       "    </tr>\n",
       "    <tr>\n",
       "      <th>4</th>\n",
       "      <td>1000_4</td>\n",
       "      <td>2018-12-05</td>\n",
       "      <td>1000</td>\n",
       "      <td>12</td>\n",
       "    </tr>\n",
       "  </tbody>\n",
       "</table>\n",
       "</div>"
      ],
      "text/plain": [
       "       id message_date  user_id  month\n",
       "0  1000_0   2018-06-27     1000      6\n",
       "1  1000_1   2018-10-08     1000     10\n",
       "2  1000_2   2018-08-04     1000      8\n",
       "3  1000_3   2018-06-16     1000      6\n",
       "4  1000_4   2018-12-05     1000     12"
      ]
     },
     "metadata": {},
     "output_type": "display_data"
    },
    {
     "data": {
      "text/html": [
       "<div>\n",
       "<style scoped>\n",
       "    .dataframe tbody tr th:only-of-type {\n",
       "        vertical-align: middle;\n",
       "    }\n",
       "\n",
       "    .dataframe tbody tr th {\n",
       "        vertical-align: top;\n",
       "    }\n",
       "\n",
       "    .dataframe thead th {\n",
       "        text-align: right;\n",
       "    }\n",
       "</style>\n",
       "<table border=\"1\" class=\"dataframe\">\n",
       "  <thead>\n",
       "    <tr style=\"text-align: right;\">\n",
       "      <th></th>\n",
       "      <th>Unnamed: 0</th>\n",
       "      <th>id</th>\n",
       "      <th>mb_used</th>\n",
       "      <th>session_date</th>\n",
       "      <th>user_id</th>\n",
       "      <th>month</th>\n",
       "    </tr>\n",
       "  </thead>\n",
       "  <tbody>\n",
       "    <tr>\n",
       "      <th>0</th>\n",
       "      <td>0</td>\n",
       "      <td>1000_0</td>\n",
       "      <td>112.95</td>\n",
       "      <td>2018-11-25</td>\n",
       "      <td>1000</td>\n",
       "      <td>11</td>\n",
       "    </tr>\n",
       "    <tr>\n",
       "      <th>1</th>\n",
       "      <td>1</td>\n",
       "      <td>1000_1</td>\n",
       "      <td>1052.81</td>\n",
       "      <td>2018-09-07</td>\n",
       "      <td>1000</td>\n",
       "      <td>9</td>\n",
       "    </tr>\n",
       "    <tr>\n",
       "      <th>2</th>\n",
       "      <td>2</td>\n",
       "      <td>1000_2</td>\n",
       "      <td>1197.26</td>\n",
       "      <td>2018-06-25</td>\n",
       "      <td>1000</td>\n",
       "      <td>6</td>\n",
       "    </tr>\n",
       "    <tr>\n",
       "      <th>3</th>\n",
       "      <td>3</td>\n",
       "      <td>1000_3</td>\n",
       "      <td>550.27</td>\n",
       "      <td>2018-08-22</td>\n",
       "      <td>1000</td>\n",
       "      <td>8</td>\n",
       "    </tr>\n",
       "    <tr>\n",
       "      <th>4</th>\n",
       "      <td>4</td>\n",
       "      <td>1000_4</td>\n",
       "      <td>302.56</td>\n",
       "      <td>2018-09-24</td>\n",
       "      <td>1000</td>\n",
       "      <td>9</td>\n",
       "    </tr>\n",
       "  </tbody>\n",
       "</table>\n",
       "</div>"
      ],
      "text/plain": [
       "   Unnamed: 0      id  mb_used session_date  user_id  month\n",
       "0           0  1000_0   112.95   2018-11-25     1000     11\n",
       "1           1  1000_1  1052.81   2018-09-07     1000      9\n",
       "2           2  1000_2  1197.26   2018-06-25     1000      6\n",
       "3           3  1000_3   550.27   2018-08-22     1000      8\n",
       "4           4  1000_4   302.56   2018-09-24     1000      9"
      ]
     },
     "metadata": {},
     "output_type": "display_data"
    }
   ],
   "source": [
    "for df in [df_calls, df_mess,df_internet ]: display(df.head(5)) "
   ]
  },
  {
   "cell_type": "markdown",
   "metadata": {},
   "source": [
    "Отдельно хотел проверить, как распределяется время разговоров пользователей по месяцам\n",
    "это распределение стало для меня неожиданным.   \n",
    "Наблюдается стабильный, резкий рост, никаких вариантов:\n",
    "\"в марте пользователи общаются больше чем в июне...\" Ниже сформировал график подключения новых пользователей.\n",
    " Предположу , что такой рост длительности разговоров связан с эффетом увеличения базы клиентов и стремлением клиентов выбрать уже проплаченные минуты. Похоже, что выгрузка сформирована в период становления-запуска новых тарифов..."
   ]
  },
  {
   "cell_type": "code",
   "execution_count": 23,
   "metadata": {},
   "outputs": [],
   "source": [
    "pivot_calls = df_calls.pivot_table(index='month', values=['duration'], aggfunc='sum')"
   ]
  },
  {
   "cell_type": "code",
   "execution_count": 24,
   "metadata": {},
   "outputs": [
    {
     "data": {
      "image/png": "[encoded data removed]",
      "text/plain": [
       "<Figure size 720x360 with 1 Axes>"
      ]
     },
     "metadata": {
      "needs_background": "light"
     },
     "output_type": "display_data"
    }
   ],
   "source": [
    "sns.relplot(x=pivot_calls.index, y='duration', data=pivot_calls, height=5, aspect=2);\n",
    "plt.title('График времени телефонных разговоров по месяцам')\n",
    "plt.ylabel('Время разговора,секунд')\n",
    "plt.xlabel('Месяц')\n",
    "plt.show()"
   ]
  },
  {
   "cell_type": "code",
   "execution_count": 25,
   "metadata": {},
   "outputs": [],
   "source": [
    "pivot_reg_users = df_users.pivot_table(index='reg_month', values=['user_id'], aggfunc='count')"
   ]
  },
  {
   "cell_type": "code",
   "execution_count": 26,
   "metadata": {},
   "outputs": [
    {
     "data": {
      "image/png": "[encoded data removed]",
      "text/plain": [
       "<Figure size 432x288 with 1 Axes>"
      ]
     },
     "metadata": {
      "needs_background": "light"
     },
     "output_type": "display_data"
    }
   ],
   "source": [
    "fig, ax = plt.subplots(1,1)\n",
    "pivot_reg_users.plot(ax=ax, grid=True);\n",
    "plt.title('График подключение новых пользователей')\n",
    "plt.ylabel('Число новых пользователей в месяц')\n",
    "plt.xlabel('Месяц');"
   ]
  },
  {
   "cell_type": "code",
   "execution_count": 27,
   "metadata": {
    "scrolled": true
   },
   "outputs": [
    {
     "data": {
      "text/html": [
       "<div>\n",
       "<style scoped>\n",
       "    .dataframe tbody tr th:only-of-type {\n",
       "        vertical-align: middle;\n",
       "    }\n",
       "\n",
       "    .dataframe tbody tr th {\n",
       "        vertical-align: top;\n",
       "    }\n",
       "\n",
       "    .dataframe thead th {\n",
       "        text-align: right;\n",
       "    }\n",
       "</style>\n",
       "<table border=\"1\" class=\"dataframe\">\n",
       "  <thead>\n",
       "    <tr style=\"text-align: right;\">\n",
       "      <th></th>\n",
       "      <th>user_id</th>\n",
       "    </tr>\n",
       "  </thead>\n",
       "  <tbody>\n",
       "    <tr>\n",
       "      <th>count</th>\n",
       "      <td>12.000000</td>\n",
       "    </tr>\n",
       "    <tr>\n",
       "      <th>mean</th>\n",
       "      <td>41.666667</td>\n",
       "    </tr>\n",
       "    <tr>\n",
       "      <th>std</th>\n",
       "      <td>6.005048</td>\n",
       "    </tr>\n",
       "    <tr>\n",
       "      <th>min</th>\n",
       "      <td>32.000000</td>\n",
       "    </tr>\n",
       "    <tr>\n",
       "      <th>25%</th>\n",
       "      <td>38.250000</td>\n",
       "    </tr>\n",
       "    <tr>\n",
       "      <th>50%</th>\n",
       "      <td>41.500000</td>\n",
       "    </tr>\n",
       "    <tr>\n",
       "      <th>75%</th>\n",
       "      <td>44.250000</td>\n",
       "    </tr>\n",
       "    <tr>\n",
       "      <th>max</th>\n",
       "      <td>53.000000</td>\n",
       "    </tr>\n",
       "  </tbody>\n",
       "</table>\n",
       "</div>"
      ],
      "text/plain": [
       "         user_id\n",
       "count  12.000000\n",
       "mean   41.666667\n",
       "std     6.005048\n",
       "min    32.000000\n",
       "25%    38.250000\n",
       "50%    41.500000\n",
       "75%    44.250000\n",
       "max    53.000000"
      ]
     },
     "execution_count": 27,
     "metadata": {},
     "output_type": "execute_result"
    }
   ],
   "source": [
    "pivot_reg_users.describe()"
   ]
  },
  {
   "cell_type": "markdown",
   "metadata": {},
   "source": [
    "Проведем следующие расчеты для каждого пользователя:\n",
    "\n",
    "•\tколичество сделанных звонков и израсходованных минут разговора по месяцам;\n",
    "\n",
    "•\tколичество отправленных сообщений по месяцам;\n",
    "\n",
    "•\tобъем израсходованного интернет-трафика по месяцам;\n",
    "\n",
    "•\tпомесячную выручку с каждого пользователя\n",
    "\n"
   ]
  },
  {
   "cell_type": "markdown",
   "metadata": {},
   "source": [
    "**Создадим таблицу включающую данные по звонкам и пользователям. Объединим.**"
   ]
  },
  {
   "cell_type": "code",
   "execution_count": 28,
   "metadata": {},
   "outputs": [
    {
     "data": {
      "text/html": [
       "<div>\n",
       "<style scoped>\n",
       "    .dataframe tbody tr th:only-of-type {\n",
       "        vertical-align: middle;\n",
       "    }\n",
       "\n",
       "    .dataframe tbody tr th {\n",
       "        vertical-align: top;\n",
       "    }\n",
       "\n",
       "    .dataframe thead th {\n",
       "        text-align: right;\n",
       "    }\n",
       "</style>\n",
       "<table border=\"1\" class=\"dataframe\">\n",
       "  <thead>\n",
       "    <tr style=\"text-align: right;\">\n",
       "      <th></th>\n",
       "      <th>id</th>\n",
       "      <th>call_date</th>\n",
       "      <th>duration</th>\n",
       "      <th>user_id</th>\n",
       "      <th>month</th>\n",
       "      <th>age</th>\n",
       "      <th>churn_date</th>\n",
       "      <th>city</th>\n",
       "      <th>first_name</th>\n",
       "      <th>last_name</th>\n",
       "      <th>reg_date</th>\n",
       "      <th>tariff</th>\n",
       "      <th>reg_month</th>\n",
       "    </tr>\n",
       "  </thead>\n",
       "  <tbody>\n",
       "    <tr>\n",
       "      <th>0</th>\n",
       "      <td>1000_0</td>\n",
       "      <td>2018-07-25</td>\n",
       "      <td>0</td>\n",
       "      <td>1000</td>\n",
       "      <td>7</td>\n",
       "      <td>52</td>\n",
       "      <td>0</td>\n",
       "      <td>Краснодар</td>\n",
       "      <td>Рафаил</td>\n",
       "      <td>Верещагин</td>\n",
       "      <td>2018-05-25</td>\n",
       "      <td>ultra</td>\n",
       "      <td>5</td>\n",
       "    </tr>\n",
       "    <tr>\n",
       "      <th>1</th>\n",
       "      <td>1000_1</td>\n",
       "      <td>2018-08-17</td>\n",
       "      <td>0</td>\n",
       "      <td>1000</td>\n",
       "      <td>8</td>\n",
       "      <td>52</td>\n",
       "      <td>0</td>\n",
       "      <td>Краснодар</td>\n",
       "      <td>Рафаил</td>\n",
       "      <td>Верещагин</td>\n",
       "      <td>2018-05-25</td>\n",
       "      <td>ultra</td>\n",
       "      <td>5</td>\n",
       "    </tr>\n",
       "    <tr>\n",
       "      <th>2</th>\n",
       "      <td>1000_2</td>\n",
       "      <td>2018-06-11</td>\n",
       "      <td>3</td>\n",
       "      <td>1000</td>\n",
       "      <td>6</td>\n",
       "      <td>52</td>\n",
       "      <td>0</td>\n",
       "      <td>Краснодар</td>\n",
       "      <td>Рафаил</td>\n",
       "      <td>Верещагин</td>\n",
       "      <td>2018-05-25</td>\n",
       "      <td>ultra</td>\n",
       "      <td>5</td>\n",
       "    </tr>\n",
       "    <tr>\n",
       "      <th>3</th>\n",
       "      <td>1000_3</td>\n",
       "      <td>2018-09-21</td>\n",
       "      <td>14</td>\n",
       "      <td>1000</td>\n",
       "      <td>9</td>\n",
       "      <td>52</td>\n",
       "      <td>0</td>\n",
       "      <td>Краснодар</td>\n",
       "      <td>Рафаил</td>\n",
       "      <td>Верещагин</td>\n",
       "      <td>2018-05-25</td>\n",
       "      <td>ultra</td>\n",
       "      <td>5</td>\n",
       "    </tr>\n",
       "    <tr>\n",
       "      <th>4</th>\n",
       "      <td>1000_4</td>\n",
       "      <td>2018-12-15</td>\n",
       "      <td>6</td>\n",
       "      <td>1000</td>\n",
       "      <td>12</td>\n",
       "      <td>52</td>\n",
       "      <td>0</td>\n",
       "      <td>Краснодар</td>\n",
       "      <td>Рафаил</td>\n",
       "      <td>Верещагин</td>\n",
       "      <td>2018-05-25</td>\n",
       "      <td>ultra</td>\n",
       "      <td>5</td>\n",
       "    </tr>\n",
       "    <tr>\n",
       "      <th>...</th>\n",
       "      <td>...</td>\n",
       "      <td>...</td>\n",
       "      <td>...</td>\n",
       "      <td>...</td>\n",
       "      <td>...</td>\n",
       "      <td>...</td>\n",
       "      <td>...</td>\n",
       "      <td>...</td>\n",
       "      <td>...</td>\n",
       "      <td>...</td>\n",
       "      <td>...</td>\n",
       "      <td>...</td>\n",
       "      <td>...</td>\n",
       "    </tr>\n",
       "    <tr>\n",
       "      <th>202602</th>\n",
       "      <td>1499_215</td>\n",
       "      <td>2018-12-26</td>\n",
       "      <td>1</td>\n",
       "      <td>1499</td>\n",
       "      <td>12</td>\n",
       "      <td>35</td>\n",
       "      <td>0</td>\n",
       "      <td>Пермь</td>\n",
       "      <td>Гектор</td>\n",
       "      <td>Корнилов</td>\n",
       "      <td>2018-09-27</td>\n",
       "      <td>smart</td>\n",
       "      <td>9</td>\n",
       "    </tr>\n",
       "    <tr>\n",
       "      <th>202603</th>\n",
       "      <td>1499_216</td>\n",
       "      <td>2018-10-18</td>\n",
       "      <td>19</td>\n",
       "      <td>1499</td>\n",
       "      <td>10</td>\n",
       "      <td>35</td>\n",
       "      <td>0</td>\n",
       "      <td>Пермь</td>\n",
       "      <td>Гектор</td>\n",
       "      <td>Корнилов</td>\n",
       "      <td>2018-09-27</td>\n",
       "      <td>smart</td>\n",
       "      <td>9</td>\n",
       "    </tr>\n",
       "    <tr>\n",
       "      <th>202604</th>\n",
       "      <td>1499_217</td>\n",
       "      <td>2018-11-10</td>\n",
       "      <td>11</td>\n",
       "      <td>1499</td>\n",
       "      <td>11</td>\n",
       "      <td>35</td>\n",
       "      <td>0</td>\n",
       "      <td>Пермь</td>\n",
       "      <td>Гектор</td>\n",
       "      <td>Корнилов</td>\n",
       "      <td>2018-09-27</td>\n",
       "      <td>smart</td>\n",
       "      <td>9</td>\n",
       "    </tr>\n",
       "    <tr>\n",
       "      <th>202605</th>\n",
       "      <td>1499_218</td>\n",
       "      <td>2018-10-06</td>\n",
       "      <td>5</td>\n",
       "      <td>1499</td>\n",
       "      <td>10</td>\n",
       "      <td>35</td>\n",
       "      <td>0</td>\n",
       "      <td>Пермь</td>\n",
       "      <td>Гектор</td>\n",
       "      <td>Корнилов</td>\n",
       "      <td>2018-09-27</td>\n",
       "      <td>smart</td>\n",
       "      <td>9</td>\n",
       "    </tr>\n",
       "    <tr>\n",
       "      <th>202606</th>\n",
       "      <td>1499_219</td>\n",
       "      <td>2018-12-14</td>\n",
       "      <td>20</td>\n",
       "      <td>1499</td>\n",
       "      <td>12</td>\n",
       "      <td>35</td>\n",
       "      <td>0</td>\n",
       "      <td>Пермь</td>\n",
       "      <td>Гектор</td>\n",
       "      <td>Корнилов</td>\n",
       "      <td>2018-09-27</td>\n",
       "      <td>smart</td>\n",
       "      <td>9</td>\n",
       "    </tr>\n",
       "  </tbody>\n",
       "</table>\n",
       "<p>202607 rows × 13 columns</p>\n",
       "</div>"
      ],
      "text/plain": [
       "              id  call_date  duration  user_id  month  age churn_date  \\\n",
       "0         1000_0 2018-07-25         0     1000      7   52          0   \n",
       "1         1000_1 2018-08-17         0     1000      8   52          0   \n",
       "2         1000_2 2018-06-11         3     1000      6   52          0   \n",
       "3         1000_3 2018-09-21        14     1000      9   52          0   \n",
       "4         1000_4 2018-12-15         6     1000     12   52          0   \n",
       "...          ...        ...       ...      ...    ...  ...        ...   \n",
       "202602  1499_215 2018-12-26         1     1499     12   35          0   \n",
       "202603  1499_216 2018-10-18        19     1499     10   35          0   \n",
       "202604  1499_217 2018-11-10        11     1499     11   35          0   \n",
       "202605  1499_218 2018-10-06         5     1499     10   35          0   \n",
       "202606  1499_219 2018-12-14        20     1499     12   35          0   \n",
       "\n",
       "             city first_name  last_name   reg_date tariff  reg_month  \n",
       "0       Краснодар     Рафаил  Верещагин 2018-05-25  ultra          5  \n",
       "1       Краснодар     Рафаил  Верещагин 2018-05-25  ultra          5  \n",
       "2       Краснодар     Рафаил  Верещагин 2018-05-25  ultra          5  \n",
       "3       Краснодар     Рафаил  Верещагин 2018-05-25  ultra          5  \n",
       "4       Краснодар     Рафаил  Верещагин 2018-05-25  ultra          5  \n",
       "...           ...        ...        ...        ...    ...        ...  \n",
       "202602      Пермь     Гектор   Корнилов 2018-09-27  smart          9  \n",
       "202603      Пермь     Гектор   Корнилов 2018-09-27  smart          9  \n",
       "202604      Пермь     Гектор   Корнилов 2018-09-27  smart          9  \n",
       "202605      Пермь     Гектор   Корнилов 2018-09-27  smart          9  \n",
       "202606      Пермь     Гектор   Корнилов 2018-09-27  smart          9  \n",
       "\n",
       "[202607 rows x 13 columns]"
      ]
     },
     "execution_count": 28,
     "metadata": {},
     "output_type": "execute_result"
    }
   ],
   "source": [
    "merge_calls_users = df_calls.merge(df_users, on='user_id', how='inner')\n",
    "merge_calls_users"
   ]
  },
  {
   "cell_type": "markdown",
   "metadata": {},
   "source": [
    "**Создадим сводную таблицу с мультиндексом, в которой соберем инфу о пользователе, тарифе, кол-ве звоноков и  их длительности**"
   ]
  },
  {
   "cell_type": "code",
   "execution_count": 29,
   "metadata": {},
   "outputs": [
    {
     "data": {
      "text/html": [
       "<div>\n",
       "<style scoped>\n",
       "    .dataframe tbody tr th:only-of-type {\n",
       "        vertical-align: middle;\n",
       "    }\n",
       "\n",
       "    .dataframe tbody tr th {\n",
       "        vertical-align: top;\n",
       "    }\n",
       "\n",
       "    .dataframe thead th {\n",
       "        text-align: right;\n",
       "    }\n",
       "</style>\n",
       "<table border=\"1\" class=\"dataframe\">\n",
       "  <thead>\n",
       "    <tr style=\"text-align: right;\">\n",
       "      <th></th>\n",
       "      <th></th>\n",
       "      <th></th>\n",
       "      <th>count_calls</th>\n",
       "      <th>duration</th>\n",
       "    </tr>\n",
       "    <tr>\n",
       "      <th>user_id</th>\n",
       "      <th>month</th>\n",
       "      <th>tariff</th>\n",
       "      <th></th>\n",
       "      <th></th>\n",
       "    </tr>\n",
       "  </thead>\n",
       "  <tbody>\n",
       "    <tr>\n",
       "      <th rowspan=\"5\" valign=\"top\">1000</th>\n",
       "      <th>5</th>\n",
       "      <th>ultra</th>\n",
       "      <td>22</td>\n",
       "      <td>159</td>\n",
       "    </tr>\n",
       "    <tr>\n",
       "      <th>6</th>\n",
       "      <th>ultra</th>\n",
       "      <td>43</td>\n",
       "      <td>172</td>\n",
       "    </tr>\n",
       "    <tr>\n",
       "      <th>7</th>\n",
       "      <th>ultra</th>\n",
       "      <td>47</td>\n",
       "      <td>340</td>\n",
       "    </tr>\n",
       "    <tr>\n",
       "      <th>8</th>\n",
       "      <th>ultra</th>\n",
       "      <td>52</td>\n",
       "      <td>408</td>\n",
       "    </tr>\n",
       "    <tr>\n",
       "      <th>9</th>\n",
       "      <th>ultra</th>\n",
       "      <td>58</td>\n",
       "      <td>466</td>\n",
       "    </tr>\n",
       "    <tr>\n",
       "      <th>...</th>\n",
       "      <th>...</th>\n",
       "      <th>...</th>\n",
       "      <td>...</td>\n",
       "      <td>...</td>\n",
       "    </tr>\n",
       "    <tr>\n",
       "      <th>1498</th>\n",
       "      <th>10</th>\n",
       "      <th>smart</th>\n",
       "      <td>41</td>\n",
       "      <td>247</td>\n",
       "    </tr>\n",
       "    <tr>\n",
       "      <th rowspan=\"4\" valign=\"top\">1499</th>\n",
       "      <th>9</th>\n",
       "      <th>smart</th>\n",
       "      <td>9</td>\n",
       "      <td>70</td>\n",
       "    </tr>\n",
       "    <tr>\n",
       "      <th>10</th>\n",
       "      <th>smart</th>\n",
       "      <td>68</td>\n",
       "      <td>449</td>\n",
       "    </tr>\n",
       "    <tr>\n",
       "      <th>11</th>\n",
       "      <th>smart</th>\n",
       "      <td>74</td>\n",
       "      <td>612</td>\n",
       "    </tr>\n",
       "    <tr>\n",
       "      <th>12</th>\n",
       "      <th>smart</th>\n",
       "      <td>69</td>\n",
       "      <td>492</td>\n",
       "    </tr>\n",
       "  </tbody>\n",
       "</table>\n",
       "<p>3174 rows × 2 columns</p>\n",
       "</div>"
      ],
      "text/plain": [
       "                      count_calls  duration\n",
       "user_id month tariff                       \n",
       "1000    5     ultra            22       159\n",
       "        6     ultra            43       172\n",
       "        7     ultra            47       340\n",
       "        8     ultra            52       408\n",
       "        9     ultra            58       466\n",
       "...                           ...       ...\n",
       "1498    10    smart            41       247\n",
       "1499    9     smart             9        70\n",
       "        10    smart            68       449\n",
       "        11    smart            74       612\n",
       "        12    smart            69       492\n",
       "\n",
       "[3174 rows x 2 columns]"
      ]
     },
     "execution_count": 29,
     "metadata": {},
     "output_type": "execute_result"
    }
   ],
   "source": [
    "calls_pivot = merge_calls_users.pivot_table(index=['user_id','month','tariff'],\n",
    "                                            values='duration', aggfunc=['count', 'sum'])\n",
    "calls_pivot.columns = ['count_calls','duration']\n",
    "calls_pivot"
   ]
  },
  {
   "cell_type": "markdown",
   "metadata": {},
   "source": [
    "**аналогично, \"вытащим\" инфу по потребленным мегабайтам**"
   ]
  },
  {
   "cell_type": "code",
   "execution_count": 30,
   "metadata": {},
   "outputs": [
    {
     "data": {
      "text/html": [
       "<div>\n",
       "<style scoped>\n",
       "    .dataframe tbody tr th:only-of-type {\n",
       "        vertical-align: middle;\n",
       "    }\n",
       "\n",
       "    .dataframe tbody tr th {\n",
       "        vertical-align: top;\n",
       "    }\n",
       "\n",
       "    .dataframe thead th {\n",
       "        text-align: right;\n",
       "    }\n",
       "</style>\n",
       "<table border=\"1\" class=\"dataframe\">\n",
       "  <thead>\n",
       "    <tr style=\"text-align: right;\">\n",
       "      <th></th>\n",
       "      <th></th>\n",
       "      <th></th>\n",
       "      <th>mb_used</th>\n",
       "    </tr>\n",
       "    <tr>\n",
       "      <th>user_id</th>\n",
       "      <th>month</th>\n",
       "      <th>tariff</th>\n",
       "      <th></th>\n",
       "    </tr>\n",
       "  </thead>\n",
       "  <tbody>\n",
       "    <tr>\n",
       "      <th rowspan=\"8\" valign=\"top\">1000</th>\n",
       "      <th>5</th>\n",
       "      <th>ultra</th>\n",
       "      <td>2253.49</td>\n",
       "    </tr>\n",
       "    <tr>\n",
       "      <th>6</th>\n",
       "      <th>ultra</th>\n",
       "      <td>23233.77</td>\n",
       "    </tr>\n",
       "    <tr>\n",
       "      <th>7</th>\n",
       "      <th>ultra</th>\n",
       "      <td>14003.64</td>\n",
       "    </tr>\n",
       "    <tr>\n",
       "      <th>8</th>\n",
       "      <th>ultra</th>\n",
       "      <td>14055.93</td>\n",
       "    </tr>\n",
       "    <tr>\n",
       "      <th>9</th>\n",
       "      <th>ultra</th>\n",
       "      <td>14568.91</td>\n",
       "    </tr>\n",
       "    <tr>\n",
       "      <th>10</th>\n",
       "      <th>ultra</th>\n",
       "      <td>14702.49</td>\n",
       "    </tr>\n",
       "    <tr>\n",
       "      <th>11</th>\n",
       "      <th>ultra</th>\n",
       "      <td>14756.47</td>\n",
       "    </tr>\n",
       "    <tr>\n",
       "      <th>12</th>\n",
       "      <th>ultra</th>\n",
       "      <td>9817.61</td>\n",
       "    </tr>\n",
       "    <tr>\n",
       "      <th rowspan=\"2\" valign=\"top\">1001</th>\n",
       "      <th>11</th>\n",
       "      <th>smart</th>\n",
       "      <td>18429.34</td>\n",
       "    </tr>\n",
       "    <tr>\n",
       "      <th>12</th>\n",
       "      <th>smart</th>\n",
       "      <td>14036.66</td>\n",
       "    </tr>\n",
       "  </tbody>\n",
       "</table>\n",
       "</div>"
      ],
      "text/plain": [
       "                       mb_used\n",
       "user_id month tariff          \n",
       "1000    5     ultra    2253.49\n",
       "        6     ultra   23233.77\n",
       "        7     ultra   14003.64\n",
       "        8     ultra   14055.93\n",
       "        9     ultra   14568.91\n",
       "        10    ultra   14702.49\n",
       "        11    ultra   14756.47\n",
       "        12    ultra    9817.61\n",
       "1001    11    smart   18429.34\n",
       "        12    smart   14036.66"
      ]
     },
     "execution_count": 30,
     "metadata": {},
     "output_type": "execute_result"
    }
   ],
   "source": [
    "merge_internet_users = df_internet.merge(df_users, on='user_id', how='inner')\n",
    "internet_pivot = merge_internet_users.pivot_table(index=['user_id', 'month','tariff'], \n",
    "                                                  values='mb_used',aggfunc='sum')\n",
    "internet_pivot.head(10)"
   ]
  },
  {
   "cell_type": "markdown",
   "metadata": {},
   "source": [
    "**SMS-кам**"
   ]
  },
  {
   "cell_type": "code",
   "execution_count": 31,
   "metadata": {
    "scrolled": true
   },
   "outputs": [
    {
     "data": {
      "text/html": [
       "<div>\n",
       "<style scoped>\n",
       "    .dataframe tbody tr th:only-of-type {\n",
       "        vertical-align: middle;\n",
       "    }\n",
       "\n",
       "    .dataframe tbody tr th {\n",
       "        vertical-align: top;\n",
       "    }\n",
       "\n",
       "    .dataframe thead th {\n",
       "        text-align: right;\n",
       "    }\n",
       "</style>\n",
       "<table border=\"1\" class=\"dataframe\">\n",
       "  <thead>\n",
       "    <tr style=\"text-align: right;\">\n",
       "      <th></th>\n",
       "      <th></th>\n",
       "      <th></th>\n",
       "      <th>count_sms</th>\n",
       "    </tr>\n",
       "    <tr>\n",
       "      <th>user_id</th>\n",
       "      <th>month</th>\n",
       "      <th>tariff</th>\n",
       "      <th></th>\n",
       "    </tr>\n",
       "  </thead>\n",
       "  <tbody>\n",
       "    <tr>\n",
       "      <th rowspan=\"5\" valign=\"top\">1000</th>\n",
       "      <th>5</th>\n",
       "      <th>ultra</th>\n",
       "      <td>22</td>\n",
       "    </tr>\n",
       "    <tr>\n",
       "      <th>6</th>\n",
       "      <th>ultra</th>\n",
       "      <td>60</td>\n",
       "    </tr>\n",
       "    <tr>\n",
       "      <th>7</th>\n",
       "      <th>ultra</th>\n",
       "      <td>75</td>\n",
       "    </tr>\n",
       "    <tr>\n",
       "      <th>8</th>\n",
       "      <th>ultra</th>\n",
       "      <td>81</td>\n",
       "    </tr>\n",
       "    <tr>\n",
       "      <th>9</th>\n",
       "      <th>ultra</th>\n",
       "      <td>57</td>\n",
       "    </tr>\n",
       "  </tbody>\n",
       "</table>\n",
       "</div>"
      ],
      "text/plain": [
       "                      count_sms\n",
       "user_id month tariff           \n",
       "1000    5     ultra          22\n",
       "        6     ultra          60\n",
       "        7     ultra          75\n",
       "        8     ultra          81\n",
       "        9     ultra          57"
      ]
     },
     "execution_count": 31,
     "metadata": {},
     "output_type": "execute_result"
    }
   ],
   "source": [
    "merge_mess_users = df_mess.merge(df_users, on='user_id', how='inner')\n",
    "mess_pivot = merge_mess_users.pivot_table(index=['user_id', 'month','tariff'], \n",
    "                                          values='message_date',aggfunc='count')\n",
    "mess_pivot.columns = ['count_sms']\n",
    "mess_pivot.head()"
   ]
  },
  {
   "cell_type": "markdown",
   "metadata": {},
   "source": [
    "**Объединим все сводные таблицы**"
   ]
  },
  {
   "cell_type": "code",
   "execution_count": 32,
   "metadata": {},
   "outputs": [],
   "source": [
    "pivot2 = pd.merge(calls_pivot, internet_pivot,on = ['user_id','month','tariff'],how='outer')"
   ]
  },
  {
   "cell_type": "code",
   "execution_count": 33,
   "metadata": {},
   "outputs": [],
   "source": [
    "all_pivot = pd.merge(pivot2, mess_pivot,on = ['user_id','month','tariff'],how='outer')"
   ]
  },
  {
   "cell_type": "code",
   "execution_count": 34,
   "metadata": {},
   "outputs": [
    {
     "name": "stderr",
     "output_type": "stream",
     "text": [
      "/opt/conda/lib/python3.9/site-packages/IPython/core/interactiveshell.py:2898: PerformanceWarning: indexing past lexsort depth may impact performance.\n",
      "  result = self._run_cell(\n"
     ]
    }
   ],
   "source": [
    "for _ in df_users['user_id']:\n",
    "    all_pivot.loc[_, 'tariff'] = df_users.loc[_-1000, 'tariff']"
   ]
  },
  {
   "cell_type": "code",
   "execution_count": 35,
   "metadata": {
    "scrolled": true
   },
   "outputs": [
    {
     "data": {
      "text/plain": [
       "count_calls     42\n",
       "duration        42\n",
       "mb_used         13\n",
       "count_sms      499\n",
       "tariff           0\n",
       "dtype: int64"
      ]
     },
     "execution_count": 35,
     "metadata": {},
     "output_type": "execute_result"
    }
   ],
   "source": [
    "all_pivot.isna().sum()"
   ]
  },
  {
   "cell_type": "code",
   "execution_count": 36,
   "metadata": {},
   "outputs": [
    {
     "data": {
      "text/html": [
       "<div>\n",
       "<style scoped>\n",
       "    .dataframe tbody tr th:only-of-type {\n",
       "        vertical-align: middle;\n",
       "    }\n",
       "\n",
       "    .dataframe tbody tr th {\n",
       "        vertical-align: top;\n",
       "    }\n",
       "\n",
       "    .dataframe thead th {\n",
       "        text-align: right;\n",
       "    }\n",
       "</style>\n",
       "<table border=\"1\" class=\"dataframe\">\n",
       "  <thead>\n",
       "    <tr style=\"text-align: right;\">\n",
       "      <th></th>\n",
       "      <th></th>\n",
       "      <th></th>\n",
       "      <th>count_calls</th>\n",
       "      <th>duration</th>\n",
       "      <th>mb_used</th>\n",
       "      <th>count_sms</th>\n",
       "      <th>tariff</th>\n",
       "    </tr>\n",
       "    <tr>\n",
       "      <th>user_id</th>\n",
       "      <th>month</th>\n",
       "      <th>tariff</th>\n",
       "      <th></th>\n",
       "      <th></th>\n",
       "      <th></th>\n",
       "      <th></th>\n",
       "      <th></th>\n",
       "    </tr>\n",
       "  </thead>\n",
       "  <tbody>\n",
       "    <tr>\n",
       "      <th rowspan=\"8\" valign=\"top\">1000</th>\n",
       "      <th>5</th>\n",
       "      <th>ultra</th>\n",
       "      <td>22.0</td>\n",
       "      <td>159.0</td>\n",
       "      <td>2253.49</td>\n",
       "      <td>22.0</td>\n",
       "      <td>ultra</td>\n",
       "    </tr>\n",
       "    <tr>\n",
       "      <th>6</th>\n",
       "      <th>ultra</th>\n",
       "      <td>43.0</td>\n",
       "      <td>172.0</td>\n",
       "      <td>23233.77</td>\n",
       "      <td>60.0</td>\n",
       "      <td>ultra</td>\n",
       "    </tr>\n",
       "    <tr>\n",
       "      <th>7</th>\n",
       "      <th>ultra</th>\n",
       "      <td>47.0</td>\n",
       "      <td>340.0</td>\n",
       "      <td>14003.64</td>\n",
       "      <td>75.0</td>\n",
       "      <td>ultra</td>\n",
       "    </tr>\n",
       "    <tr>\n",
       "      <th>8</th>\n",
       "      <th>ultra</th>\n",
       "      <td>52.0</td>\n",
       "      <td>408.0</td>\n",
       "      <td>14055.93</td>\n",
       "      <td>81.0</td>\n",
       "      <td>ultra</td>\n",
       "    </tr>\n",
       "    <tr>\n",
       "      <th>9</th>\n",
       "      <th>ultra</th>\n",
       "      <td>58.0</td>\n",
       "      <td>466.0</td>\n",
       "      <td>14568.91</td>\n",
       "      <td>57.0</td>\n",
       "      <td>ultra</td>\n",
       "    </tr>\n",
       "    <tr>\n",
       "      <th>10</th>\n",
       "      <th>ultra</th>\n",
       "      <td>57.0</td>\n",
       "      <td>350.0</td>\n",
       "      <td>14702.49</td>\n",
       "      <td>73.0</td>\n",
       "      <td>ultra</td>\n",
       "    </tr>\n",
       "    <tr>\n",
       "      <th>11</th>\n",
       "      <th>ultra</th>\n",
       "      <td>43.0</td>\n",
       "      <td>338.0</td>\n",
       "      <td>14756.47</td>\n",
       "      <td>58.0</td>\n",
       "      <td>ultra</td>\n",
       "    </tr>\n",
       "    <tr>\n",
       "      <th>12</th>\n",
       "      <th>ultra</th>\n",
       "      <td>46.0</td>\n",
       "      <td>333.0</td>\n",
       "      <td>9817.61</td>\n",
       "      <td>70.0</td>\n",
       "      <td>ultra</td>\n",
       "    </tr>\n",
       "    <tr>\n",
       "      <th rowspan=\"2\" valign=\"top\">1001</th>\n",
       "      <th>11</th>\n",
       "      <th>smart</th>\n",
       "      <td>59.0</td>\n",
       "      <td>430.0</td>\n",
       "      <td>18429.34</td>\n",
       "      <td>NaN</td>\n",
       "      <td>smart</td>\n",
       "    </tr>\n",
       "    <tr>\n",
       "      <th>12</th>\n",
       "      <th>smart</th>\n",
       "      <td>63.0</td>\n",
       "      <td>414.0</td>\n",
       "      <td>14036.66</td>\n",
       "      <td>NaN</td>\n",
       "      <td>smart</td>\n",
       "    </tr>\n",
       "    <tr>\n",
       "      <th>1002</th>\n",
       "      <th>6</th>\n",
       "      <th>smart</th>\n",
       "      <td>15.0</td>\n",
       "      <td>117.0</td>\n",
       "      <td>10856.82</td>\n",
       "      <td>4.0</td>\n",
       "      <td>smart</td>\n",
       "    </tr>\n",
       "  </tbody>\n",
       "</table>\n",
       "</div>"
      ],
      "text/plain": [
       "                      count_calls  duration   mb_used  count_sms tariff\n",
       "user_id month tariff                                                   \n",
       "1000    5     ultra          22.0     159.0   2253.49       22.0  ultra\n",
       "        6     ultra          43.0     172.0  23233.77       60.0  ultra\n",
       "        7     ultra          47.0     340.0  14003.64       75.0  ultra\n",
       "        8     ultra          52.0     408.0  14055.93       81.0  ultra\n",
       "        9     ultra          58.0     466.0  14568.91       57.0  ultra\n",
       "        10    ultra          57.0     350.0  14702.49       73.0  ultra\n",
       "        11    ultra          43.0     338.0  14756.47       58.0  ultra\n",
       "        12    ultra          46.0     333.0   9817.61       70.0  ultra\n",
       "1001    11    smart          59.0     430.0  18429.34        NaN  smart\n",
       "        12    smart          63.0     414.0  14036.66        NaN  smart\n",
       "1002    6     smart          15.0     117.0  10856.82        4.0  smart"
      ]
     },
     "execution_count": 36,
     "metadata": {},
     "output_type": "execute_result"
    }
   ],
   "source": [
    "# в объединенной таблице видим новый столбец count_sms (которого не было в \"1-й\" таблице)\n",
    "# и он заполнился Nanами для тех абонентов, адишников которых не было во второй таблице -  mess_pivot\n",
    "all_pivot.head(11)"
   ]
  },
  {
   "cell_type": "code",
   "execution_count": 37,
   "metadata": {},
   "outputs": [],
   "source": [
    "for _ in ['count_calls', 'duration', 'mb_used', 'count_sms']:\n",
    "    all_pivot.loc[all_pivot[_].isna(),_]=0"
   ]
  },
  {
   "cell_type": "code",
   "execution_count": 38,
   "metadata": {
    "scrolled": true
   },
   "outputs": [
    {
     "data": {
      "text/plain": [
       "count_calls    0\n",
       "duration       0\n",
       "mb_used        0\n",
       "count_sms      0\n",
       "tariff         0\n",
       "dtype: int64"
      ]
     },
     "execution_count": 38,
     "metadata": {},
     "output_type": "execute_result"
    }
   ],
   "source": [
    "all_pivot.isna().sum()"
   ]
  },
  {
   "cell_type": "code",
   "execution_count": 39,
   "metadata": {
    "scrolled": true
   },
   "outputs": [
    {
     "name": "stdout",
     "output_type": "stream",
     "text": [
      "           id  call_date  duration  user_id  month  age churn_date    city  \\\n",
      "368    1001_0 2018-11-13        11     1001     11   41          0  Москва   \n",
      "369    1001_1 2018-12-14        16     1001     12   41          0  Москва   \n",
      "370    1001_2 2018-11-20         3     1001     11   41          0  Москва   \n",
      "371    1001_3 2018-12-27         8     1001     12   41          0  Москва   \n",
      "372    1001_4 2018-11-19        20     1001     11   41          0  Москва   \n",
      "..        ...        ...       ...      ...    ...  ...        ...     ...   \n",
      "485  1001_117 2018-12-10         0     1001     12   41          0  Москва   \n",
      "486  1001_118 2018-12-16        21     1001     12   41          0  Москва   \n",
      "487  1001_119 2018-11-15         4     1001     11   41          0  Москва   \n",
      "488  1001_120 2018-11-17        16     1001     11   41          0  Москва   \n",
      "489  1001_121 2018-12-16         4     1001     12   41          0  Москва   \n",
      "\n",
      "    first_name last_name   reg_date tariff  reg_month  \n",
      "368       Иван      Ежов 2018-11-01  smart         11  \n",
      "369       Иван      Ежов 2018-11-01  smart         11  \n",
      "370       Иван      Ежов 2018-11-01  smart         11  \n",
      "371       Иван      Ежов 2018-11-01  smart         11  \n",
      "372       Иван      Ежов 2018-11-01  smart         11  \n",
      "..         ...       ...        ...    ...        ...  \n",
      "485       Иван      Ежов 2018-11-01  smart         11  \n",
      "486       Иван      Ежов 2018-11-01  smart         11  \n",
      "487       Иван      Ежов 2018-11-01  smart         11  \n",
      "488       Иван      Ежов 2018-11-01  smart         11  \n",
      "489       Иван      Ежов 2018-11-01  smart         11  \n",
      "\n",
      "[122 rows x 13 columns]\n"
     ]
    }
   ],
   "source": [
    "print (merge_calls_users[merge_calls_users['user_id']==1001])"
   ]
  },
  {
   "cell_type": "code",
   "execution_count": 40,
   "metadata": {},
   "outputs": [
    {
     "name": "stdout",
     "output_type": "stream",
     "text": [
      "Empty DataFrame\n",
      "Columns: [id, message_date, user_id, month]\n",
      "Index: []\n"
     ]
    }
   ],
   "source": [
    "# в датафрейме СМС, нет юзера с айди = 1001\n",
    "print (df_mess[df_mess['user_id']==1001])"
   ]
  },
  {
   "cell_type": "markdown",
   "metadata": {},
   "source": [
    "<div class=\"alert alert-info\"> **************************************</div>"
   ]
  },
  {
   "cell_type": "code",
   "execution_count": 41,
   "metadata": {
    "scrolled": true
   },
   "outputs": [
    {
     "data": {
      "text/html": [
       "<div>\n",
       "<style scoped>\n",
       "    .dataframe tbody tr th:only-of-type {\n",
       "        vertical-align: middle;\n",
       "    }\n",
       "\n",
       "    .dataframe tbody tr th {\n",
       "        vertical-align: top;\n",
       "    }\n",
       "\n",
       "    .dataframe thead th {\n",
       "        text-align: right;\n",
       "    }\n",
       "</style>\n",
       "<table border=\"1\" class=\"dataframe\">\n",
       "  <thead>\n",
       "    <tr style=\"text-align: right;\">\n",
       "      <th></th>\n",
       "      <th></th>\n",
       "      <th></th>\n",
       "      <th>count_calls</th>\n",
       "      <th>duration</th>\n",
       "      <th>mb_used</th>\n",
       "      <th>count_sms</th>\n",
       "      <th>tariff</th>\n",
       "    </tr>\n",
       "    <tr>\n",
       "      <th>user_id</th>\n",
       "      <th>month</th>\n",
       "      <th>tariff</th>\n",
       "      <th></th>\n",
       "      <th></th>\n",
       "      <th></th>\n",
       "      <th></th>\n",
       "      <th></th>\n",
       "    </tr>\n",
       "  </thead>\n",
       "  <tbody>\n",
       "    <tr>\n",
       "      <th rowspan=\"8\" valign=\"top\">1000</th>\n",
       "      <th>5</th>\n",
       "      <th>ultra</th>\n",
       "      <td>22.0</td>\n",
       "      <td>159.0</td>\n",
       "      <td>2253.49</td>\n",
       "      <td>22.0</td>\n",
       "      <td>ultra</td>\n",
       "    </tr>\n",
       "    <tr>\n",
       "      <th>6</th>\n",
       "      <th>ultra</th>\n",
       "      <td>43.0</td>\n",
       "      <td>172.0</td>\n",
       "      <td>23233.77</td>\n",
       "      <td>60.0</td>\n",
       "      <td>ultra</td>\n",
       "    </tr>\n",
       "    <tr>\n",
       "      <th>7</th>\n",
       "      <th>ultra</th>\n",
       "      <td>47.0</td>\n",
       "      <td>340.0</td>\n",
       "      <td>14003.64</td>\n",
       "      <td>75.0</td>\n",
       "      <td>ultra</td>\n",
       "    </tr>\n",
       "    <tr>\n",
       "      <th>8</th>\n",
       "      <th>ultra</th>\n",
       "      <td>52.0</td>\n",
       "      <td>408.0</td>\n",
       "      <td>14055.93</td>\n",
       "      <td>81.0</td>\n",
       "      <td>ultra</td>\n",
       "    </tr>\n",
       "    <tr>\n",
       "      <th>9</th>\n",
       "      <th>ultra</th>\n",
       "      <td>58.0</td>\n",
       "      <td>466.0</td>\n",
       "      <td>14568.91</td>\n",
       "      <td>57.0</td>\n",
       "      <td>ultra</td>\n",
       "    </tr>\n",
       "    <tr>\n",
       "      <th>10</th>\n",
       "      <th>ultra</th>\n",
       "      <td>57.0</td>\n",
       "      <td>350.0</td>\n",
       "      <td>14702.49</td>\n",
       "      <td>73.0</td>\n",
       "      <td>ultra</td>\n",
       "    </tr>\n",
       "    <tr>\n",
       "      <th>11</th>\n",
       "      <th>ultra</th>\n",
       "      <td>43.0</td>\n",
       "      <td>338.0</td>\n",
       "      <td>14756.47</td>\n",
       "      <td>58.0</td>\n",
       "      <td>ultra</td>\n",
       "    </tr>\n",
       "    <tr>\n",
       "      <th>12</th>\n",
       "      <th>ultra</th>\n",
       "      <td>46.0</td>\n",
       "      <td>333.0</td>\n",
       "      <td>9817.61</td>\n",
       "      <td>70.0</td>\n",
       "      <td>ultra</td>\n",
       "    </tr>\n",
       "    <tr>\n",
       "      <th rowspan=\"2\" valign=\"top\">1001</th>\n",
       "      <th>11</th>\n",
       "      <th>smart</th>\n",
       "      <td>59.0</td>\n",
       "      <td>430.0</td>\n",
       "      <td>18429.34</td>\n",
       "      <td>0.0</td>\n",
       "      <td>smart</td>\n",
       "    </tr>\n",
       "    <tr>\n",
       "      <th>12</th>\n",
       "      <th>smart</th>\n",
       "      <td>63.0</td>\n",
       "      <td>414.0</td>\n",
       "      <td>14036.66</td>\n",
       "      <td>0.0</td>\n",
       "      <td>smart</td>\n",
       "    </tr>\n",
       "  </tbody>\n",
       "</table>\n",
       "</div>"
      ],
      "text/plain": [
       "                      count_calls  duration   mb_used  count_sms tariff\n",
       "user_id month tariff                                                   \n",
       "1000    5     ultra          22.0     159.0   2253.49       22.0  ultra\n",
       "        6     ultra          43.0     172.0  23233.77       60.0  ultra\n",
       "        7     ultra          47.0     340.0  14003.64       75.0  ultra\n",
       "        8     ultra          52.0     408.0  14055.93       81.0  ultra\n",
       "        9     ultra          58.0     466.0  14568.91       57.0  ultra\n",
       "        10    ultra          57.0     350.0  14702.49       73.0  ultra\n",
       "        11    ultra          43.0     338.0  14756.47       58.0  ultra\n",
       "        12    ultra          46.0     333.0   9817.61       70.0  ultra\n",
       "1001    11    smart          59.0     430.0  18429.34        0.0  smart\n",
       "        12    smart          63.0     414.0  14036.66        0.0  smart"
      ]
     },
     "execution_count": 41,
     "metadata": {},
     "output_type": "execute_result"
    }
   ],
   "source": [
    "all_pivot.head(10)"
   ]
  },
  {
   "cell_type": "code",
   "execution_count": 42,
   "metadata": {},
   "outputs": [
    {
     "data": {
      "text/html": [
       "<div>\n",
       "<style scoped>\n",
       "    .dataframe tbody tr th:only-of-type {\n",
       "        vertical-align: middle;\n",
       "    }\n",
       "\n",
       "    .dataframe tbody tr th {\n",
       "        vertical-align: top;\n",
       "    }\n",
       "\n",
       "    .dataframe thead th {\n",
       "        text-align: right;\n",
       "    }\n",
       "</style>\n",
       "<table border=\"1\" class=\"dataframe\">\n",
       "  <thead>\n",
       "    <tr style=\"text-align: right;\">\n",
       "      <th></th>\n",
       "      <th>user_id</th>\n",
       "      <th>age</th>\n",
       "      <th>churn_date</th>\n",
       "      <th>city</th>\n",
       "      <th>first_name</th>\n",
       "      <th>last_name</th>\n",
       "      <th>reg_date</th>\n",
       "      <th>tariff</th>\n",
       "      <th>reg_month</th>\n",
       "    </tr>\n",
       "  </thead>\n",
       "  <tbody>\n",
       "    <tr>\n",
       "      <th>0</th>\n",
       "      <td>1000</td>\n",
       "      <td>52</td>\n",
       "      <td>0</td>\n",
       "      <td>Краснодар</td>\n",
       "      <td>Рафаил</td>\n",
       "      <td>Верещагин</td>\n",
       "      <td>2018-05-25</td>\n",
       "      <td>ultra</td>\n",
       "      <td>5</td>\n",
       "    </tr>\n",
       "    <tr>\n",
       "      <th>1</th>\n",
       "      <td>1001</td>\n",
       "      <td>41</td>\n",
       "      <td>0</td>\n",
       "      <td>Москва</td>\n",
       "      <td>Иван</td>\n",
       "      <td>Ежов</td>\n",
       "      <td>2018-11-01</td>\n",
       "      <td>smart</td>\n",
       "      <td>11</td>\n",
       "    </tr>\n",
       "    <tr>\n",
       "      <th>2</th>\n",
       "      <td>1002</td>\n",
       "      <td>59</td>\n",
       "      <td>0</td>\n",
       "      <td>Стерлитамак</td>\n",
       "      <td>Евгений</td>\n",
       "      <td>Абрамович</td>\n",
       "      <td>2018-06-17</td>\n",
       "      <td>smart</td>\n",
       "      <td>6</td>\n",
       "    </tr>\n",
       "    <tr>\n",
       "      <th>3</th>\n",
       "      <td>1003</td>\n",
       "      <td>23</td>\n",
       "      <td>0</td>\n",
       "      <td>Москва</td>\n",
       "      <td>Белла</td>\n",
       "      <td>Белякова</td>\n",
       "      <td>2018-08-17</td>\n",
       "      <td>ultra</td>\n",
       "      <td>8</td>\n",
       "    </tr>\n",
       "    <tr>\n",
       "      <th>4</th>\n",
       "      <td>1004</td>\n",
       "      <td>68</td>\n",
       "      <td>0</td>\n",
       "      <td>Новокузнецк</td>\n",
       "      <td>Татьяна</td>\n",
       "      <td>Авдеенко</td>\n",
       "      <td>2018-05-14</td>\n",
       "      <td>ultra</td>\n",
       "      <td>5</td>\n",
       "    </tr>\n",
       "    <tr>\n",
       "      <th>5</th>\n",
       "      <td>1005</td>\n",
       "      <td>67</td>\n",
       "      <td>0</td>\n",
       "      <td>Набережные Челны</td>\n",
       "      <td>Афанасий</td>\n",
       "      <td>Горлов</td>\n",
       "      <td>2018-01-25</td>\n",
       "      <td>smart</td>\n",
       "      <td>1</td>\n",
       "    </tr>\n",
       "    <tr>\n",
       "      <th>6</th>\n",
       "      <td>1006</td>\n",
       "      <td>21</td>\n",
       "      <td>0</td>\n",
       "      <td>Ульяновск</td>\n",
       "      <td>Леонид</td>\n",
       "      <td>Ермолаев</td>\n",
       "      <td>2018-02-26</td>\n",
       "      <td>smart</td>\n",
       "      <td>2</td>\n",
       "    </tr>\n",
       "    <tr>\n",
       "      <th>7</th>\n",
       "      <td>1007</td>\n",
       "      <td>65</td>\n",
       "      <td>0</td>\n",
       "      <td>Москва</td>\n",
       "      <td>Юна</td>\n",
       "      <td>Березина</td>\n",
       "      <td>2018-04-19</td>\n",
       "      <td>smart</td>\n",
       "      <td>4</td>\n",
       "    </tr>\n",
       "    <tr>\n",
       "      <th>8</th>\n",
       "      <td>1008</td>\n",
       "      <td>63</td>\n",
       "      <td>0</td>\n",
       "      <td>Челябинск</td>\n",
       "      <td>Рустэм</td>\n",
       "      <td>Пономарёв</td>\n",
       "      <td>2018-12-19</td>\n",
       "      <td>smart</td>\n",
       "      <td>12</td>\n",
       "    </tr>\n",
       "    <tr>\n",
       "      <th>9</th>\n",
       "      <td>1009</td>\n",
       "      <td>24</td>\n",
       "      <td>0</td>\n",
       "      <td>Пермь</td>\n",
       "      <td>Василиса</td>\n",
       "      <td>Блинова</td>\n",
       "      <td>2018-03-22</td>\n",
       "      <td>smart</td>\n",
       "      <td>3</td>\n",
       "    </tr>\n",
       "  </tbody>\n",
       "</table>\n",
       "</div>"
      ],
      "text/plain": [
       "   user_id  age churn_date              city first_name  last_name   reg_date  \\\n",
       "0     1000   52          0         Краснодар     Рафаил  Верещагин 2018-05-25   \n",
       "1     1001   41          0            Москва       Иван       Ежов 2018-11-01   \n",
       "2     1002   59          0       Стерлитамак    Евгений  Абрамович 2018-06-17   \n",
       "3     1003   23          0            Москва      Белла   Белякова 2018-08-17   \n",
       "4     1004   68          0       Новокузнецк    Татьяна   Авдеенко 2018-05-14   \n",
       "5     1005   67          0  Набережные Челны   Афанасий     Горлов 2018-01-25   \n",
       "6     1006   21          0         Ульяновск     Леонид   Ермолаев 2018-02-26   \n",
       "7     1007   65          0            Москва        Юна   Березина 2018-04-19   \n",
       "8     1008   63          0         Челябинск     Рустэм  Пономарёв 2018-12-19   \n",
       "9     1009   24          0             Пермь   Василиса    Блинова 2018-03-22   \n",
       "\n",
       "  tariff  reg_month  \n",
       "0  ultra          5  \n",
       "1  smart         11  \n",
       "2  smart          6  \n",
       "3  ultra          8  \n",
       "4  ultra          5  \n",
       "5  smart          1  \n",
       "6  smart          2  \n",
       "7  smart          4  \n",
       "8  smart         12  \n",
       "9  smart          3  "
      ]
     },
     "execution_count": 42,
     "metadata": {},
     "output_type": "execute_result"
    }
   ],
   "source": [
    "df_users.head(10)"
   ]
  },
  {
   "cell_type": "code",
   "execution_count": 43,
   "metadata": {},
   "outputs": [],
   "source": [
    "# вытащим один раз параметры тарифов, чтобы в дальнейшем работать с извеcтными значениями\n",
    "limit_sms_smart = df_tarif.loc[0,'messages_included']\n",
    "limit_sms_ultra = df_tarif.loc[1,'messages_included']\n",
    "\n",
    "limit_mb_smart = df_tarif.loc[0,'mb_per_month_included']/1024 # приведем к Гб\n",
    "limit_mb_ultra = df_tarif.loc[1,'mb_per_month_included']/1024\n",
    "\n",
    "limit_minutes_smart = df_tarif.loc[0,'minutes_included']\n",
    "limit_minutes_ultra = df_tarif.loc[1,'minutes_included']\n",
    "\n",
    "\n",
    "tariff_smart = df_tarif.loc[0,'rub_monthly_fee']\n",
    "tariff_ultra = df_tarif.loc[1,'rub_monthly_fee']\n",
    "\n",
    "cost_mb_smart = df_tarif.loc[0,'rub_per_gb']\n",
    "cost_mb_ultra = df_tarif.loc[1,'rub_per_gb']\n",
    "\n",
    "cost_sms_smart = df_tarif.loc[0,'rub_per_message']\n",
    "cost_sms_ultra = df_tarif.loc[1,'rub_per_message']\n",
    "\n",
    "cost_minute_smart = df_tarif.loc[0,'rub_per_minute']\n",
    "cost_minute_ultra = df_tarif.loc[1,'rub_per_minute']"
   ]
  },
  {
   "cell_type": "markdown",
   "metadata": {},
   "source": [
    " **Посчитаем помесячную выручку с каждого пользователя**"
   ]
  },
  {
   "cell_type": "code",
   "execution_count": 44,
   "metadata": {},
   "outputs": [],
   "source": [
    "\"\"\"\n",
    "%%time \n",
    "for indx in all_pivot.index:\n",
    "    delta_minuts= 0\n",
    "    delta_mb = 0\n",
    "    delta_sms = 0\n",
    "    \n",
    "    count_minuts = (all_pivot.loc[indx,'duration']).astype('int')\n",
    "    count_mb = math.ceil(all_pivot.loc[indx,'mb_used']/1024)\n",
    "    count_sms = (all_pivot.loc[indx,'count_sms']).astype('int')\n",
    "\n",
    "    \n",
    "    if indx[2] == 'smart':\n",
    "        if count_minuts > limit_minutes_smart:\n",
    "            delta_minuts = count_minuts - limit_minutes_smart            \n",
    "        if count_mb > limit_mb_smart:\n",
    "            delta_mb = count_mb - limit_mb_smart\n",
    "        if count_sms > limit_sms_smart:\n",
    "            delta_sms = count_sms - limit_sms_smart    \n",
    "        \n",
    "        total_cost = (tariff_smart + \n",
    "                      delta_minuts*cost_minute_smart + \n",
    "                      delta_mb*cost_mb_smart + \n",
    "                      delta_sms*cost_sms_smart)\n",
    "        all_pivot.loc[indx, 'total_cost'] = total_cost \n",
    "        \n",
    "    else:\n",
    "        if count_minuts > limit_minutes_ultra:\n",
    "            delta_minuts = count_minuts - limit_minutes_ultra\n",
    "        if count_mb > limit_mb_ultra:\n",
    "            delta_mb = count_mb - limit_mb_ultra\n",
    "        if count_sms > limit_sms_ultra:\n",
    "            delta_sms = count_sms - limit_sms_ultra\n",
    "        \n",
    "        total_cost = (tariff_ultra + \n",
    "                      delta_minuts*cost_minute_smart + \n",
    "                      delta_mb*cost_mb_smart + \n",
    "                      delta_sms*cost_sms_smart)\n",
    "        all_pivot.loc[indx, 'total_cost'] = total_cost\n",
    "\"\"\";\n"
   ]
  },
  {
   "cell_type": "code",
   "execution_count": 45,
   "metadata": {},
   "outputs": [],
   "source": [
    "def def_total_cost(row):\n",
    "    \n",
    "    delta_minuts= 0\n",
    "    delta_mb = 0\n",
    "    delta_sms = 0\n",
    "    count_minuts = row['duration']\n",
    "    count_mb = math.ceil(row['mb_used']/1024)\n",
    "    count_sms = row['count_sms']\n",
    "\n",
    "    \n",
    "    if row['tariff'] == 'smart':\n",
    "        if count_minuts > limit_minutes_smart:\n",
    "            delta_minuts = count_minuts - limit_minutes_smart            \n",
    "        if count_mb > limit_mb_smart:\n",
    "            delta_mb = count_mb - limit_mb_smart\n",
    "        if count_sms > limit_sms_smart:\n",
    "            delta_sms = count_sms - limit_sms_smart    \n",
    "        \n",
    "        total_cost = (tariff_smart + \n",
    "                      delta_minuts*cost_minute_smart + \n",
    "                      delta_mb*cost_mb_smart + \n",
    "                      delta_sms*cost_sms_smart)\n",
    "    else:\n",
    "        if count_minuts > limit_minutes_ultra:\n",
    "            delta_minuts = count_minuts - limit_minutes_ultra\n",
    "        if count_mb > limit_mb_ultra:\n",
    "            delta_mb = count_mb - limit_mb_ultra\n",
    "        if count_sms > limit_sms_ultra:\n",
    "            delta_sms = count_sms - limit_sms_ultra\n",
    "        \n",
    "        total_cost = (tariff_ultra + \n",
    "                      delta_minuts*cost_minute_smart + \n",
    "                      delta_mb*cost_mb_smart + \n",
    "                      delta_sms*cost_sms_smart)\n",
    "    return total_cost "
   ]
  },
  {
   "cell_type": "code",
   "execution_count": 46,
   "metadata": {
    "scrolled": true
   },
   "outputs": [],
   "source": [
    "#%%time\n",
    "all_pivot['total_cost'] = all_pivot.apply(def_total_cost,axis=1)"
   ]
  },
  {
   "cell_type": "markdown",
   "metadata": {},
   "source": [
    "**Здесь, покажем эти цифры**"
   ]
  },
  {
   "cell_type": "code",
   "execution_count": 47,
   "metadata": {},
   "outputs": [
    {
     "data": {
      "text/html": [
       "<div>\n",
       "<style scoped>\n",
       "    .dataframe tbody tr th:only-of-type {\n",
       "        vertical-align: middle;\n",
       "    }\n",
       "\n",
       "    .dataframe tbody tr th {\n",
       "        vertical-align: top;\n",
       "    }\n",
       "\n",
       "    .dataframe thead th {\n",
       "        text-align: right;\n",
       "    }\n",
       "</style>\n",
       "<table border=\"1\" class=\"dataframe\">\n",
       "  <thead>\n",
       "    <tr style=\"text-align: right;\">\n",
       "      <th></th>\n",
       "      <th></th>\n",
       "      <th></th>\n",
       "      <th>count_calls</th>\n",
       "      <th>duration</th>\n",
       "      <th>mb_used</th>\n",
       "      <th>count_sms</th>\n",
       "      <th>tariff</th>\n",
       "      <th>total_cost</th>\n",
       "    </tr>\n",
       "    <tr>\n",
       "      <th>user_id</th>\n",
       "      <th>month</th>\n",
       "      <th>tariff</th>\n",
       "      <th></th>\n",
       "      <th></th>\n",
       "      <th></th>\n",
       "      <th></th>\n",
       "      <th></th>\n",
       "      <th></th>\n",
       "    </tr>\n",
       "  </thead>\n",
       "  <tbody>\n",
       "    <tr>\n",
       "      <th rowspan=\"8\" valign=\"top\">1000</th>\n",
       "      <th>5</th>\n",
       "      <th>ultra</th>\n",
       "      <td>22.0</td>\n",
       "      <td>159.0</td>\n",
       "      <td>2253.49</td>\n",
       "      <td>22.0</td>\n",
       "      <td>ultra</td>\n",
       "      <td>1950.0</td>\n",
       "    </tr>\n",
       "    <tr>\n",
       "      <th>6</th>\n",
       "      <th>ultra</th>\n",
       "      <td>43.0</td>\n",
       "      <td>172.0</td>\n",
       "      <td>23233.77</td>\n",
       "      <td>60.0</td>\n",
       "      <td>ultra</td>\n",
       "      <td>1950.0</td>\n",
       "    </tr>\n",
       "    <tr>\n",
       "      <th>7</th>\n",
       "      <th>ultra</th>\n",
       "      <td>47.0</td>\n",
       "      <td>340.0</td>\n",
       "      <td>14003.64</td>\n",
       "      <td>75.0</td>\n",
       "      <td>ultra</td>\n",
       "      <td>1950.0</td>\n",
       "    </tr>\n",
       "    <tr>\n",
       "      <th>8</th>\n",
       "      <th>ultra</th>\n",
       "      <td>52.0</td>\n",
       "      <td>408.0</td>\n",
       "      <td>14055.93</td>\n",
       "      <td>81.0</td>\n",
       "      <td>ultra</td>\n",
       "      <td>1950.0</td>\n",
       "    </tr>\n",
       "    <tr>\n",
       "      <th>9</th>\n",
       "      <th>ultra</th>\n",
       "      <td>58.0</td>\n",
       "      <td>466.0</td>\n",
       "      <td>14568.91</td>\n",
       "      <td>57.0</td>\n",
       "      <td>ultra</td>\n",
       "      <td>1950.0</td>\n",
       "    </tr>\n",
       "    <tr>\n",
       "      <th>10</th>\n",
       "      <th>ultra</th>\n",
       "      <td>57.0</td>\n",
       "      <td>350.0</td>\n",
       "      <td>14702.49</td>\n",
       "      <td>73.0</td>\n",
       "      <td>ultra</td>\n",
       "      <td>1950.0</td>\n",
       "    </tr>\n",
       "    <tr>\n",
       "      <th>11</th>\n",
       "      <th>ultra</th>\n",
       "      <td>43.0</td>\n",
       "      <td>338.0</td>\n",
       "      <td>14756.47</td>\n",
       "      <td>58.0</td>\n",
       "      <td>ultra</td>\n",
       "      <td>1950.0</td>\n",
       "    </tr>\n",
       "    <tr>\n",
       "      <th>12</th>\n",
       "      <th>ultra</th>\n",
       "      <td>46.0</td>\n",
       "      <td>333.0</td>\n",
       "      <td>9817.61</td>\n",
       "      <td>70.0</td>\n",
       "      <td>ultra</td>\n",
       "      <td>1950.0</td>\n",
       "    </tr>\n",
       "    <tr>\n",
       "      <th rowspan=\"2\" valign=\"top\">1001</th>\n",
       "      <th>11</th>\n",
       "      <th>smart</th>\n",
       "      <td>59.0</td>\n",
       "      <td>430.0</td>\n",
       "      <td>18429.34</td>\n",
       "      <td>0.0</td>\n",
       "      <td>smart</td>\n",
       "      <td>1150.0</td>\n",
       "    </tr>\n",
       "    <tr>\n",
       "      <th>12</th>\n",
       "      <th>smart</th>\n",
       "      <td>63.0</td>\n",
       "      <td>414.0</td>\n",
       "      <td>14036.66</td>\n",
       "      <td>0.0</td>\n",
       "      <td>smart</td>\n",
       "      <td>550.0</td>\n",
       "    </tr>\n",
       "    <tr>\n",
       "      <th rowspan=\"5\" valign=\"top\">1002</th>\n",
       "      <th>6</th>\n",
       "      <th>smart</th>\n",
       "      <td>15.0</td>\n",
       "      <td>117.0</td>\n",
       "      <td>10856.82</td>\n",
       "      <td>4.0</td>\n",
       "      <td>smart</td>\n",
       "      <td>550.0</td>\n",
       "    </tr>\n",
       "    <tr>\n",
       "      <th>7</th>\n",
       "      <th>smart</th>\n",
       "      <td>26.0</td>\n",
       "      <td>214.0</td>\n",
       "      <td>17580.10</td>\n",
       "      <td>11.0</td>\n",
       "      <td>smart</td>\n",
       "      <td>1150.0</td>\n",
       "    </tr>\n",
       "    <tr>\n",
       "      <th>8</th>\n",
       "      <th>smart</th>\n",
       "      <td>42.0</td>\n",
       "      <td>289.0</td>\n",
       "      <td>20319.26</td>\n",
       "      <td>13.0</td>\n",
       "      <td>smart</td>\n",
       "      <td>1550.0</td>\n",
       "    </tr>\n",
       "    <tr>\n",
       "      <th>9</th>\n",
       "      <th>smart</th>\n",
       "      <td>36.0</td>\n",
       "      <td>206.0</td>\n",
       "      <td>16691.08</td>\n",
       "      <td>4.0</td>\n",
       "      <td>smart</td>\n",
       "      <td>950.0</td>\n",
       "    </tr>\n",
       "    <tr>\n",
       "      <th>10</th>\n",
       "      <th>smart</th>\n",
       "      <td>33.0</td>\n",
       "      <td>212.0</td>\n",
       "      <td>13888.25</td>\n",
       "      <td>10.0</td>\n",
       "      <td>smart</td>\n",
       "      <td>550.0</td>\n",
       "    </tr>\n",
       "  </tbody>\n",
       "</table>\n",
       "</div>"
      ],
      "text/plain": [
       "                      count_calls  duration   mb_used  count_sms tariff  \\\n",
       "user_id month tariff                                                      \n",
       "1000    5     ultra          22.0     159.0   2253.49       22.0  ultra   \n",
       "        6     ultra          43.0     172.0  23233.77       60.0  ultra   \n",
       "        7     ultra          47.0     340.0  14003.64       75.0  ultra   \n",
       "        8     ultra          52.0     408.0  14055.93       81.0  ultra   \n",
       "        9     ultra          58.0     466.0  14568.91       57.0  ultra   \n",
       "        10    ultra          57.0     350.0  14702.49       73.0  ultra   \n",
       "        11    ultra          43.0     338.0  14756.47       58.0  ultra   \n",
       "        12    ultra          46.0     333.0   9817.61       70.0  ultra   \n",
       "1001    11    smart          59.0     430.0  18429.34        0.0  smart   \n",
       "        12    smart          63.0     414.0  14036.66        0.0  smart   \n",
       "1002    6     smart          15.0     117.0  10856.82        4.0  smart   \n",
       "        7     smart          26.0     214.0  17580.10       11.0  smart   \n",
       "        8     smart          42.0     289.0  20319.26       13.0  smart   \n",
       "        9     smart          36.0     206.0  16691.08        4.0  smart   \n",
       "        10    smart          33.0     212.0  13888.25       10.0  smart   \n",
       "\n",
       "                      total_cost  \n",
       "user_id month tariff              \n",
       "1000    5     ultra       1950.0  \n",
       "        6     ultra       1950.0  \n",
       "        7     ultra       1950.0  \n",
       "        8     ultra       1950.0  \n",
       "        9     ultra       1950.0  \n",
       "        10    ultra       1950.0  \n",
       "        11    ultra       1950.0  \n",
       "        12    ultra       1950.0  \n",
       "1001    11    smart       1150.0  \n",
       "        12    smart        550.0  \n",
       "1002    6     smart        550.0  \n",
       "        7     smart       1150.0  \n",
       "        8     smart       1550.0  \n",
       "        9     smart        950.0  \n",
       "        10    smart        550.0  "
      ]
     },
     "execution_count": 47,
     "metadata": {},
     "output_type": "execute_result"
    }
   ],
   "source": [
    "all_pivot.head(15)"
   ]
  },
  {
   "cell_type": "markdown",
   "metadata": {},
   "source": [
    "**Проанализируем географию пользователей.**"
   ]
  },
  {
   "cell_type": "code",
   "execution_count": 48,
   "metadata": {},
   "outputs": [
    {
     "data": {
      "text/plain": [
       "66"
      ]
     },
     "execution_count": 48,
     "metadata": {},
     "output_type": "execute_result"
    }
   ],
   "source": [
    "count_users = len(df_users)# определяем кол-во пользователей\n",
    "\n",
    "#группируем по городам, далее берем размер группы (.size() и делим на кол-во всех пользователей, тем самым получаем соотношение\n",
    "city_users = df_users.groupby('city').size()/count_users \n",
    "city_users_base =  city_users[city_users >= 0.02].sort_values()\n",
    "sum_other =  city_users[city_users < 0.02].sum()\n",
    "city_users_base.loc['Все остальные'] = sum_other\n",
    "count_other =  city_users[city_users < 0.02].count()\n",
    "count_other"
   ]
  },
  {
   "cell_type": "code",
   "execution_count": 49,
   "metadata": {
    "scrolled": true
   },
   "outputs": [
    {
     "data": {
      "image/png": "[encoded data removed]",
      "text/plain": [
       "<Figure size 1080x360 with 1 Axes>"
      ]
     },
     "metadata": {
      "needs_background": "light"
     },
     "output_type": "display_data"
    }
   ],
   "source": [
    "ax = city_users_base.plot(kind='barh', color='green', figsize=(15,5))\n",
    "citys = dict(city_users_base)\n",
    "i = 0\n",
    "for city in citys:\n",
    "    ax.text(citys[city]+0.001, i + 0.05,str(round(citys[city]*100, 1)) + ' %')\n",
    "    if i < 10:\n",
    "        i += 0.98\n",
    "    else:\n",
    "        i += 1.01\n",
    "plt.title('График распределения абонентов по городам')\n",
    "plt.ylabel('Город')\n",
    "plt.xlabel('Доля в десятых долях');"
   ]
  },
  {
   "cell_type": "markdown",
   "metadata": {},
   "source": [
    "Видим, что почти 30% базы абонентов сосредоточено в Москве и Спб. \n",
    "\n",
    "Всего 8 городов в базе абоннетов имеют долю больше 2,0%, все остальные абоненты, \"размазаны\" по 66-ти городам, их общая доля в базе свыше 50%."
   ]
  },
  {
   "cell_type": "code",
   "execution_count": 50,
   "metadata": {},
   "outputs": [
    {
     "data": {
      "text/html": [
       "<div>\n",
       "<style scoped>\n",
       "    .dataframe tbody tr th:only-of-type {\n",
       "        vertical-align: middle;\n",
       "    }\n",
       "\n",
       "    .dataframe tbody tr th {\n",
       "        vertical-align: top;\n",
       "    }\n",
       "\n",
       "    .dataframe thead th {\n",
       "        text-align: right;\n",
       "    }\n",
       "</style>\n",
       "<table border=\"1\" class=\"dataframe\">\n",
       "  <thead>\n",
       "    <tr style=\"text-align: right;\">\n",
       "      <th></th>\n",
       "      <th></th>\n",
       "      <th></th>\n",
       "      <th>mb_used</th>\n",
       "    </tr>\n",
       "    <tr>\n",
       "      <th>user_id</th>\n",
       "      <th>month</th>\n",
       "      <th>tariff</th>\n",
       "      <th></th>\n",
       "    </tr>\n",
       "  </thead>\n",
       "  <tbody>\n",
       "    <tr>\n",
       "      <th rowspan=\"8\" valign=\"top\">1000</th>\n",
       "      <th>5</th>\n",
       "      <th>ultra</th>\n",
       "      <td>2253.49</td>\n",
       "    </tr>\n",
       "    <tr>\n",
       "      <th>6</th>\n",
       "      <th>ultra</th>\n",
       "      <td>23233.77</td>\n",
       "    </tr>\n",
       "    <tr>\n",
       "      <th>7</th>\n",
       "      <th>ultra</th>\n",
       "      <td>14003.64</td>\n",
       "    </tr>\n",
       "    <tr>\n",
       "      <th>8</th>\n",
       "      <th>ultra</th>\n",
       "      <td>14055.93</td>\n",
       "    </tr>\n",
       "    <tr>\n",
       "      <th>9</th>\n",
       "      <th>ultra</th>\n",
       "      <td>14568.91</td>\n",
       "    </tr>\n",
       "    <tr>\n",
       "      <th>10</th>\n",
       "      <th>ultra</th>\n",
       "      <td>14702.49</td>\n",
       "    </tr>\n",
       "    <tr>\n",
       "      <th>11</th>\n",
       "      <th>ultra</th>\n",
       "      <td>14756.47</td>\n",
       "    </tr>\n",
       "    <tr>\n",
       "      <th>12</th>\n",
       "      <th>ultra</th>\n",
       "      <td>9817.61</td>\n",
       "    </tr>\n",
       "    <tr>\n",
       "      <th rowspan=\"2\" valign=\"top\">1001</th>\n",
       "      <th>11</th>\n",
       "      <th>smart</th>\n",
       "      <td>18429.34</td>\n",
       "    </tr>\n",
       "    <tr>\n",
       "      <th>12</th>\n",
       "      <th>smart</th>\n",
       "      <td>14036.66</td>\n",
       "    </tr>\n",
       "  </tbody>\n",
       "</table>\n",
       "</div>"
      ],
      "text/plain": [
       "                       mb_used\n",
       "user_id month tariff          \n",
       "1000    5     ultra    2253.49\n",
       "        6     ultra   23233.77\n",
       "        7     ultra   14003.64\n",
       "        8     ultra   14055.93\n",
       "        9     ultra   14568.91\n",
       "        10    ultra   14702.49\n",
       "        11    ultra   14756.47\n",
       "        12    ultra    9817.61\n",
       "1001    11    smart   18429.34\n",
       "        12    smart   14036.66"
      ]
     },
     "execution_count": 50,
     "metadata": {},
     "output_type": "execute_result"
    }
   ],
   "source": [
    "# сводная таблица по интернет-трафику\n",
    "city_m = df_users.merge(df_users, on='user_id', how='inner')\n",
    "internet_pivot = merge_internet_users.pivot_table(index=['user_id', 'month','tariff'], values='mb_used',aggfunc='sum')\n",
    "internet_pivot.head(10)"
   ]
  },
  {
   "cell_type": "code",
   "execution_count": 51,
   "metadata": {},
   "outputs": [
    {
     "data": {
      "text/html": [
       "<div>\n",
       "<style scoped>\n",
       "    .dataframe tbody tr th:only-of-type {\n",
       "        vertical-align: middle;\n",
       "    }\n",
       "\n",
       "    .dataframe tbody tr th {\n",
       "        vertical-align: top;\n",
       "    }\n",
       "\n",
       "    .dataframe thead th {\n",
       "        text-align: right;\n",
       "    }\n",
       "</style>\n",
       "<table border=\"1\" class=\"dataframe\">\n",
       "  <thead>\n",
       "    <tr style=\"text-align: right;\">\n",
       "      <th></th>\n",
       "      <th>count_calls</th>\n",
       "      <th>count_sms</th>\n",
       "      <th>duration</th>\n",
       "      <th>mb_used</th>\n",
       "      <th>total_cost</th>\n",
       "    </tr>\n",
       "    <tr>\n",
       "      <th>user_id</th>\n",
       "      <th></th>\n",
       "      <th></th>\n",
       "      <th></th>\n",
       "      <th></th>\n",
       "      <th></th>\n",
       "    </tr>\n",
       "  </thead>\n",
       "  <tbody>\n",
       "    <tr>\n",
       "      <th>1000</th>\n",
       "      <td>46.0</td>\n",
       "      <td>62.0</td>\n",
       "      <td>320.750000</td>\n",
       "      <td>13424.038750</td>\n",
       "      <td>1950.000000</td>\n",
       "    </tr>\n",
       "    <tr>\n",
       "      <th>1001</th>\n",
       "      <td>61.0</td>\n",
       "      <td>0.0</td>\n",
       "      <td>422.000000</td>\n",
       "      <td>16233.000000</td>\n",
       "      <td>850.000000</td>\n",
       "    </tr>\n",
       "    <tr>\n",
       "      <th>1002</th>\n",
       "      <td>31.0</td>\n",
       "      <td>10.0</td>\n",
       "      <td>216.714286</td>\n",
       "      <td>16576.645714</td>\n",
       "      <td>1035.714286</td>\n",
       "    </tr>\n",
       "    <tr>\n",
       "      <th>1003</th>\n",
       "      <td>104.0</td>\n",
       "      <td>76.0</td>\n",
       "      <td>764.400000</td>\n",
       "      <td>11456.128000</td>\n",
       "      <td>1950.000000</td>\n",
       "    </tr>\n",
       "    <tr>\n",
       "      <th>1004</th>\n",
       "      <td>22.0</td>\n",
       "      <td>149.0</td>\n",
       "      <td>123.375000</td>\n",
       "      <td>18629.935000</td>\n",
       "      <td>1950.000000</td>\n",
       "    </tr>\n",
       "    <tr>\n",
       "      <th>1005</th>\n",
       "      <td>74.0</td>\n",
       "      <td>46.0</td>\n",
       "      <td>550.416667</td>\n",
       "      <td>8307.275833</td>\n",
       "      <td>827.000000</td>\n",
       "    </tr>\n",
       "    <tr>\n",
       "      <th>1006</th>\n",
       "      <td>46.0</td>\n",
       "      <td>0.0</td>\n",
       "      <td>318.272727</td>\n",
       "      <td>14926.255455</td>\n",
       "      <td>931.818182</td>\n",
       "    </tr>\n",
       "    <tr>\n",
       "      <th>1007</th>\n",
       "      <td>68.0</td>\n",
       "      <td>25.0</td>\n",
       "      <td>486.555556</td>\n",
       "      <td>14625.074444</td>\n",
       "      <td>913.444444</td>\n",
       "    </tr>\n",
       "    <tr>\n",
       "      <th>1008</th>\n",
       "      <td>52.0</td>\n",
       "      <td>56.0</td>\n",
       "      <td>339.000000</td>\n",
       "      <td>13217.140000</td>\n",
       "      <td>568.000000</td>\n",
       "    </tr>\n",
       "    <tr>\n",
       "      <th>1009</th>\n",
       "      <td>29.0</td>\n",
       "      <td>11.0</td>\n",
       "      <td>218.900000</td>\n",
       "      <td>17741.121000</td>\n",
       "      <td>1310.000000</td>\n",
       "    </tr>\n",
       "  </tbody>\n",
       "</table>\n",
       "</div>"
      ],
      "text/plain": [
       "         count_calls  count_sms    duration       mb_used   total_cost\n",
       "user_id                                                               \n",
       "1000            46.0       62.0  320.750000  13424.038750  1950.000000\n",
       "1001            61.0        0.0  422.000000  16233.000000   850.000000\n",
       "1002            31.0       10.0  216.714286  16576.645714  1035.714286\n",
       "1003           104.0       76.0  764.400000  11456.128000  1950.000000\n",
       "1004            22.0      149.0  123.375000  18629.935000  1950.000000\n",
       "1005            74.0       46.0  550.416667   8307.275833   827.000000\n",
       "1006            46.0        0.0  318.272727  14926.255455   931.818182\n",
       "1007            68.0       25.0  486.555556  14625.074444   913.444444\n",
       "1008            52.0       56.0  339.000000  13217.140000   568.000000\n",
       "1009            29.0       11.0  218.900000  17741.121000  1310.000000"
      ]
     },
     "execution_count": 51,
     "metadata": {},
     "output_type": "execute_result"
    }
   ],
   "source": [
    "means_pivot = all_pivot.pivot_table(index=['user_id'], \n",
    "                                    values=['count_calls','duration','mb_used','count_sms','total_cost',],                                 \n",
    "                                    aggfunc='mean')\n",
    "                                   \n",
    "means_pivot.head(10)"
   ]
  },
  {
   "cell_type": "code",
   "execution_count": 52,
   "metadata": {},
   "outputs": [
    {
     "data": {
      "text/html": [
       "<div>\n",
       "<style scoped>\n",
       "    .dataframe tbody tr th:only-of-type {\n",
       "        vertical-align: middle;\n",
       "    }\n",
       "\n",
       "    .dataframe tbody tr th {\n",
       "        vertical-align: top;\n",
       "    }\n",
       "\n",
       "    .dataframe thead th {\n",
       "        text-align: right;\n",
       "    }\n",
       "</style>\n",
       "<table border=\"1\" class=\"dataframe\">\n",
       "  <thead>\n",
       "    <tr style=\"text-align: right;\">\n",
       "      <th></th>\n",
       "      <th>count_calls</th>\n",
       "      <th>count_sms</th>\n",
       "      <th>duration</th>\n",
       "      <th>mb_used</th>\n",
       "      <th>total_cost</th>\n",
       "      <th>tariff</th>\n",
       "      <th>city</th>\n",
       "    </tr>\n",
       "    <tr>\n",
       "      <th>user_id</th>\n",
       "      <th></th>\n",
       "      <th></th>\n",
       "      <th></th>\n",
       "      <th></th>\n",
       "      <th></th>\n",
       "      <th></th>\n",
       "      <th></th>\n",
       "    </tr>\n",
       "  </thead>\n",
       "  <tbody>\n",
       "    <tr>\n",
       "      <th>1000</th>\n",
       "      <td>46.0</td>\n",
       "      <td>62.0</td>\n",
       "      <td>320</td>\n",
       "      <td>13</td>\n",
       "      <td>1950</td>\n",
       "      <td>ultra</td>\n",
       "      <td>Другой</td>\n",
       "    </tr>\n",
       "    <tr>\n",
       "      <th>1001</th>\n",
       "      <td>61.0</td>\n",
       "      <td>0.0</td>\n",
       "      <td>422</td>\n",
       "      <td>15</td>\n",
       "      <td>850</td>\n",
       "      <td>smart</td>\n",
       "      <td>Москва</td>\n",
       "    </tr>\n",
       "    <tr>\n",
       "      <th>1002</th>\n",
       "      <td>31.0</td>\n",
       "      <td>10.0</td>\n",
       "      <td>216</td>\n",
       "      <td>16</td>\n",
       "      <td>1035</td>\n",
       "      <td>smart</td>\n",
       "      <td>Другой</td>\n",
       "    </tr>\n",
       "    <tr>\n",
       "      <th>1003</th>\n",
       "      <td>104.0</td>\n",
       "      <td>76.0</td>\n",
       "      <td>764</td>\n",
       "      <td>11</td>\n",
       "      <td>1950</td>\n",
       "      <td>ultra</td>\n",
       "      <td>Москва</td>\n",
       "    </tr>\n",
       "    <tr>\n",
       "      <th>1004</th>\n",
       "      <td>22.0</td>\n",
       "      <td>149.0</td>\n",
       "      <td>123</td>\n",
       "      <td>18</td>\n",
       "      <td>1950</td>\n",
       "      <td>ultra</td>\n",
       "      <td>Другой</td>\n",
       "    </tr>\n",
       "    <tr>\n",
       "      <th>...</th>\n",
       "      <td>...</td>\n",
       "      <td>...</td>\n",
       "      <td>...</td>\n",
       "      <td>...</td>\n",
       "      <td>...</td>\n",
       "      <td>...</td>\n",
       "      <td>...</td>\n",
       "    </tr>\n",
       "    <tr>\n",
       "      <th>1497</th>\n",
       "      <td>67.0</td>\n",
       "      <td>17.0</td>\n",
       "      <td>468</td>\n",
       "      <td>14</td>\n",
       "      <td>928</td>\n",
       "      <td>smart</td>\n",
       "      <td>Другой</td>\n",
       "    </tr>\n",
       "    <tr>\n",
       "      <th>1498</th>\n",
       "      <td>45.0</td>\n",
       "      <td>42.0</td>\n",
       "      <td>323</td>\n",
       "      <td>18</td>\n",
       "      <td>1659</td>\n",
       "      <td>smart</td>\n",
       "      <td>Другой</td>\n",
       "    </tr>\n",
       "    <tr>\n",
       "      <th>1499</th>\n",
       "      <td>55.0</td>\n",
       "      <td>46.0</td>\n",
       "      <td>405</td>\n",
       "      <td>12</td>\n",
       "      <td>952</td>\n",
       "      <td>smart</td>\n",
       "      <td>Другой</td>\n",
       "    </tr>\n",
       "    <tr>\n",
       "      <th>1128</th>\n",
       "      <td>0.0</td>\n",
       "      <td>0.0</td>\n",
       "      <td>0</td>\n",
       "      <td>0</td>\n",
       "      <td>1950</td>\n",
       "      <td>ultra</td>\n",
       "      <td>Другой</td>\n",
       "    </tr>\n",
       "    <tr>\n",
       "      <th>1371</th>\n",
       "      <td>0.0</td>\n",
       "      <td>0.0</td>\n",
       "      <td>0</td>\n",
       "      <td>0</td>\n",
       "      <td>550</td>\n",
       "      <td>smart</td>\n",
       "      <td>Другой</td>\n",
       "    </tr>\n",
       "  </tbody>\n",
       "</table>\n",
       "<p>500 rows × 7 columns</p>\n",
       "</div>"
      ],
      "text/plain": [
       "         count_calls  count_sms  duration  mb_used  total_cost tariff    city\n",
       "user_id                                                                      \n",
       "1000            46.0       62.0       320       13        1950  ultra  Другой\n",
       "1001            61.0        0.0       422       15         850  smart  Москва\n",
       "1002            31.0       10.0       216       16        1035  smart  Другой\n",
       "1003           104.0       76.0       764       11        1950  ultra  Москва\n",
       "1004            22.0      149.0       123       18        1950  ultra  Другой\n",
       "...              ...        ...       ...      ...         ...    ...     ...\n",
       "1497            67.0       17.0       468       14         928  smart  Другой\n",
       "1498            45.0       42.0       323       18        1659  smart  Другой\n",
       "1499            55.0       46.0       405       12         952  smart  Другой\n",
       "1128             0.0        0.0         0        0        1950  ultra  Другой\n",
       "1371             0.0        0.0         0        0         550  smart  Другой\n",
       "\n",
       "[500 rows x 7 columns]"
      ]
     },
     "execution_count": 52,
     "metadata": {},
     "output_type": "execute_result"
    }
   ],
   "source": [
    "means_pivot.loc[:,'total_cost']=means_pivot.loc[:,'total_cost'].astype(int)\n",
    "means_pivot.loc[:,'mb_used']=(means_pivot.loc[:,'mb_used']/1024).astype(int)\n",
    "means_pivot.loc[:,'duration']=means_pivot.loc[:,'duration'].astype(int)\n",
    "for _ in df_users['user_id']:\n",
    "    means_pivot.loc[_, 'tariff'] = df_users.loc[_-1000, 'tariff']\n",
    "    means_pivot.loc[_, 'city'] = df_users.loc[_-1000, 'city']\n",
    "means_pivot.loc[means_pivot.city !='Москва','city'] = 'Другой'\n",
    "means_pivot"
   ]
  },
  {
   "cell_type": "code",
   "execution_count": 53,
   "metadata": {},
   "outputs": [],
   "source": [
    "means_pivot = means_pivot.dropna(subset=['count_calls'])"
   ]
  },
  {
   "cell_type": "markdown",
   "metadata": {},
   "source": [
    "**Проанализируем, какая часть абонентов использует тариф Смарт, а какая - Ультра**"
   ]
  },
  {
   "cell_type": "code",
   "execution_count": 54,
   "metadata": {},
   "outputs": [
    {
     "data": {
      "image/png": "[encoded data removed]",
      "text/plain": [
       "<Figure size 1080x360 with 1 Axes>"
      ]
     },
     "metadata": {},
     "output_type": "display_data"
    }
   ],
   "source": [
    "count_users = means_pivot['tariff'].count()\n",
    "def date_tariff(date):\n",
    "    count = date/100*count_users\n",
    "    return \"{:.0f}%\\n({:.0f} чел.)\".format(date, count)\n",
    "\n",
    "axes = means_pivot.groupby('tariff')['tariff'].count().plot(kind='pie',subplots=True, fontsize=14,\n",
    "                                                            shadow=True, explode=(0.05, 0),\n",
    "                                                            title = 'Распределение Тарифов по клиентам', \n",
    "                                                            figsize=(15,5),autopct=lambda date: date_tariff(date))\n",
    "for ax in axes:\n",
    "    ax.legend(['Тариф Смарт', 'Тариф Ультра'], bbox_to_anchor=(1,1))\n",
    "    ax.set_ylabel('')"
   ]
  },
  {
   "cell_type": "markdown",
   "metadata": {},
   "source": [
    "70% абонентов пользуются пакетом с тарифом \"Смарт\", 30% тарифом \"Ультра\", а что по доходности, какой тариф больше приносит денег Оператору?"
   ]
  },
  {
   "cell_type": "markdown",
   "metadata": {},
   "source": [
    "**Проанализируем, доходность и его долю в доходе от тарифа Смарт и Ультра**"
   ]
  },
  {
   "cell_type": "code",
   "execution_count": 55,
   "metadata": {
    "scrolled": true
   },
   "outputs": [
    {
     "data": {
      "image/png": "[encoded data removed]",
      "text/plain": [
       "<Figure size 1080x360 with 1 Axes>"
      ]
     },
     "metadata": {},
     "output_type": "display_data"
    }
   ],
   "source": [
    "sum_tariff = means_pivot['total_cost'].sum()\n",
    "def date_tariff(dt):\n",
    "    val = dt/100*sum_tariff\n",
    "    return \"{:.0f}%\\n({:_.0f} руб.)\".format(dt, val)\n",
    "\n",
    "axes = means_pivot.groupby('tariff')['total_cost'].sum().plot(kind='pie',subplots=True, fontsize=15,\n",
    "                                                            shadow=True,explode = (0.10,0), \n",
    "                                                            title = 'Распределение доходов Оператора по тарифам', \n",
    "                                                            figsize=(15,5),autopct=lambda dt: date_tariff(dt))\n",
    "\n",
    "for ax in axes:\n",
    "    ax.legend(['Доля дохода и доход от тарифа Смарт', 'Доля дохода и доход от тарифа  Ультра'], bbox_to_anchor=(1,1))\n",
    "    ax.set_ylabel('')"
   ]
  },
  {
   "cell_type": "markdown",
   "metadata": {},
   "source": [
    "\"Дешевый\" пакет Смарт приносит почти 60% выручки. \n",
    "Можно предположить, что это происходит за счет оплачиваемых услуг сверх лимита пакета. \n",
    "Видим, что выручка 424 тыс.руб. Число абонентов 350 х 550(цена пакета смарт) = 193тыс.руб, т.е. абоненты Смарт не укладываются в пакет услуг и фактически оплачивают тариф Смарт - \"дважды\". \n",
    "\n",
    "Проверим это:"
   ]
  },
  {
   "cell_type": "markdown",
   "metadata": {},
   "source": [
    "**Проанализируем длительность разговоров у абонентов с разными тарифными планами**"
   ]
  },
  {
   "cell_type": "code",
   "execution_count": 56,
   "metadata": {
    "scrolled": false
   },
   "outputs": [
    {
     "data": {
      "image/png": "[encoded data removed]",
      "text/plain": [
       "<Figure size 864x432 with 1 Axes>"
      ]
     },
     "metadata": {
      "needs_background": "light"
     },
     "output_type": "display_data"
    }
   ],
   "source": [
    "mpds = means_pivot[means_pivot['tariff'] == 'smart']['duration']\n",
    "mpdu = means_pivot[means_pivot['tariff'] == 'ultra']['duration']\n",
    "\n",
    "ax = plt.gca()\n",
    "\n",
    "mpds.plot(kind='hist', bins=50, figsize=(12,6), ec='black', ax=ax, color='green')\n",
    "mpdu.plot(kind='hist', bins=50, figsize=(12,6), ec='black', ax=ax, color='lightblue',alpha = 0.6)\n",
    "\n",
    "plt.axvline(x=mpds.median(),linewidth=3, color='black', linestyle=':')\n",
    "ax.text(mpds.median()-50, 20, '{0:.0f}'.format(mpds.median()),fontsize='large')\n",
    "plt.axvline(x=mpdu.median(),linewidth=2, color='black', linestyle='--')\n",
    "ax.text(mpdu.median()+10, 20, '{0:.0f}'.format(mpdu.median()), fontsize='large')\n",
    "    \n",
    "plt.legend(['Медиана тарифа Смарт', 'Медиана тарифа Ультра', 'Смарт', 'Ультра'], prop={'size':12});\n",
    "plt.title('Гистограмма распределения длительности звонков в тарифе Смарт и Ультра.')\n",
    "ax.set_xlabel('Длительность разговора')\n",
    "ax.set_ylabel('Частота');"
   ]
  },
  {
   "cell_type": "markdown",
   "metadata": {},
   "source": [
    "Предположение оказалось верным. \n",
    "Большая часть абонентов с тарифным планом Смарт не укладывабтся лимит пакета минут, и вынуждены нести дополнительные расходы.\n",
    "Абоненты с тарифным планом Ультра, напротив, в среднем выбирают свой пакет минут всего на 15-20%.\n",
    "\n",
    "Похожая картина и с потреблением интренет траффика.\n",
    "Абоненты тарифа Смарт, выбирают лимит пакета практически полностью, и вынуждены оплачивать каждый дополнительный Гб\n",
    "(медиана потребления траффика 15 Гб при лимите 15 Гб), абоненты Ульта в среднем \"выбирают\" 18 Гб, при лимите 30Гб.\n"
   ]
  },
  {
   "cell_type": "markdown",
   "metadata": {},
   "source": [
    "**Проанализируем потребление интернет трафика у абонентов с разными тарифными планами**"
   ]
  },
  {
   "cell_type": "code",
   "execution_count": 57,
   "metadata": {},
   "outputs": [
    {
     "data": {
      "image/png": "[encoded data removed]",
      "text/plain": [
       "<Figure size 864x432 with 1 Axes>"
      ]
     },
     "metadata": {
      "needs_background": "light"
     },
     "output_type": "display_data"
    }
   ],
   "source": [
    "mpis = means_pivot[means_pivot['tariff'] == 'smart']['mb_used']\n",
    "mpiu = means_pivot[means_pivot['tariff'] == 'ultra']['mb_used']\n",
    "\n",
    "ax = plt.gca()\n",
    "\n",
    "mpis.plot(kind='hist', bins=50, figsize=(12,6), ec='black', ax=ax, color='green')\n",
    "mpiu.plot(kind='hist', bins=50, figsize=(12,6), ec='black', ax=ax, color='lightblue',alpha = 0.7)\n",
    "\n",
    "plt.axvline(x=mpis.median(),linewidth=3, color='black', linestyle=':')\n",
    "ax.text(mpis.median()-2, 40, '{0:.0f}'.format(mpis.median()),fontsize='large')\n",
    "plt.axvline(x=mpiu.median(),linewidth=2, color='black', linestyle='--')\n",
    "ax.text(mpiu.median()+1, 40, '{0:.0f}'.format(mpiu.median()), fontsize='large')\n",
    "    \n",
    "plt.legend(['Медиана тарифа Смарт', 'Медиана тарифа Ультра', 'Смарт', 'Ультра'], prop={'size':12});\n",
    "plt.title('Гистограмма потребление интернет-трафика в тарифе Смарт и Ультра.')\n",
    "ax.set_xlabel('Объем потребленного интернет-трафика, Гб')\n",
    "ax.set_ylabel('Частота');"
   ]
  },
  {
   "cell_type": "markdown",
   "metadata": {},
   "source": [
    "Ситуация по СМС фактически повторяется, абонентами с тарифом Смарт лимит СМС-ок выбирается практически полность (в среднем 33 СМС-ки из лимита 50), тогда как абоненты с тарифом Ультра СМС-ми практически не пользуются ими если сравнивать с лимитом  в 1000 СМС."
   ]
  },
  {
   "cell_type": "code",
   "execution_count": 58,
   "metadata": {},
   "outputs": [
    {
     "name": "stdout",
     "output_type": "stream",
     "text": [
      "Среднее кол-во отправленных СМС абонентами Смарт = 32 шт.\n"
     ]
    },
    {
     "data": {
      "image/png": "[encoded data removed]",
      "text/plain": [
       "<Figure size 432x288 with 1 Axes>"
      ]
     },
     "metadata": {
      "needs_background": "light"
     },
     "output_type": "display_data"
    }
   ],
   "source": [
    "# посмотрим СМС-ки, через диаграмму размаха\n",
    "sns.boxplot(x='tariff', y='count_sms', data=means_pivot);\n",
    "plt.title('Сравнение кол-ва отправленных СМС-ок')\n",
    "plt.ylabel('Кол-во СМС')\n",
    "plt.xlabel('Тариф');\n",
    "print ('Среднее кол-во отправленных СМС абонентами Смарт = {0:.0f} шт.'.format(means_pivot[means_pivot['tariff']=='smart']['count_sms'].mean()))\n"
   ]
  },
  {
   "cell_type": "code",
   "execution_count": 59,
   "metadata": {},
   "outputs": [],
   "source": [
    "# планировал как в пред. проекте, удалить выбивающиеся значения, но отказался от этой идеи\n",
    "\"\"\"\n",
    "# Сначала создадим функцию, которая будут отбрасывать выбивающиеся значения, т.е. значения которые будут выше или ниже\n",
    "# межквартильного интервала. (метод describe выше очень наглядно демонстрирует это)\n",
    "def deleted_trash(column,df,k1=0.01,k2=2):\n",
    "    qvarta = means_pivot[column].describe()\n",
    "    data_25=qvarta[4]# вытаскиваем значение равное 25%\n",
    "    data_75=qvarta[6]# вытаскиваем значение равное 75%\n",
    "    low_25=k1*data_25 # k1 -должно быть меньше 0 т.к. задает допустимые значения до 25%, это чтобы совсем все лишнее не отсекать\n",
    "    higth_75=k2* data_75 # к2 д.б. >1  т.к. задает допустимые значения свыше 75%, чтобы совсем все лишнее не отсекать\n",
    "    length = 1\n",
    "    index_del= []\n",
    "    for index, el in enumerate(df[column]): # перебираем индексы столбца и его значения\n",
    "        if low_25 > el or higth_75 < el: # все что меньше/больше межквартильго размаха - это выбросы, мусор, который уберем\n",
    "            index_del.extend(df[df[column] == el].index) # формируем индексы на удаление \n",
    "    index_del= set(index_del)\n",
    "    length = len(index_del)\n",
    "    print('Удалено строк: {}.'.format(length))\n",
    "    df.drop(index_del,axis=0,inplace=True)\n",
    "deleted_trash('count_calls',means_pivot,0.3,1.5)\n",
    "deleted_trash('count_sms',means_pivot,0.3,1.5)\n",
    "deleted_trash('duration',means_pivot,0.3,1.5)\n",
    "deleted_trash('mb_used',means_pivot,0.3,1.5)\n",
    "\"\"\";"
   ]
  },
  {
   "cell_type": "markdown",
   "metadata": {},
   "source": [
    "**Расчет дисперсии, стандартного отклонения**"
   ]
  },
  {
   "cell_type": "code",
   "execution_count": 60,
   "metadata": {},
   "outputs": [
    {
     "name": "stdout",
     "output_type": "stream",
     "text": [
      "Дисперсия smart_count_sms: 703.8835242898488\n",
      "Дисперсия ultra_count_sms: 2154.8956829312533\n"
     ]
    }
   ],
   "source": [
    "x = means_pivot.loc[means_pivot['tariff']=='smart']['count_sms'] \n",
    "variance_smart_count_sms = np.var(x, ddof=1)\n",
    "x = means_pivot.loc[means_pivot['tariff']=='ultra']['count_sms'] \n",
    "variance_ultra_count_sms = np.var(x, ddof=1)\n",
    "print('Дисперсия smart_count_sms:',variance_smart_count_sms)\n",
    "print('Дисперсия ultra_count_sms:',variance_ultra_count_sms)\n"
   ]
  },
  {
   "cell_type": "code",
   "execution_count": 61,
   "metadata": {},
   "outputs": [
    {
     "data": {
      "text/html": [
       "<div>\n",
       "<style scoped>\n",
       "    .dataframe tbody tr th:only-of-type {\n",
       "        vertical-align: middle;\n",
       "    }\n",
       "\n",
       "    .dataframe tbody tr th {\n",
       "        vertical-align: top;\n",
       "    }\n",
       "\n",
       "    .dataframe thead tr th {\n",
       "        text-align: left;\n",
       "    }\n",
       "\n",
       "    .dataframe thead tr:last-of-type th {\n",
       "        text-align: right;\n",
       "    }\n",
       "</style>\n",
       "<table border=\"1\" class=\"dataframe\">\n",
       "  <thead>\n",
       "    <tr>\n",
       "      <th></th>\n",
       "      <th colspan=\"3\" halign=\"left\">count_sms</th>\n",
       "      <th colspan=\"3\" halign=\"left\">duration</th>\n",
       "      <th colspan=\"3\" halign=\"left\">mb_used</th>\n",
       "      <th colspan=\"3\" halign=\"left\">total_cost</th>\n",
       "    </tr>\n",
       "    <tr>\n",
       "      <th></th>\n",
       "      <th>median</th>\n",
       "      <th>std</th>\n",
       "      <th>var</th>\n",
       "      <th>median</th>\n",
       "      <th>std</th>\n",
       "      <th>var</th>\n",
       "      <th>median</th>\n",
       "      <th>std</th>\n",
       "      <th>var</th>\n",
       "      <th>mean</th>\n",
       "      <th>std</th>\n",
       "      <th>var</th>\n",
       "    </tr>\n",
       "    <tr>\n",
       "      <th>tariff</th>\n",
       "      <th></th>\n",
       "      <th></th>\n",
       "      <th></th>\n",
       "      <th></th>\n",
       "      <th></th>\n",
       "      <th></th>\n",
       "      <th></th>\n",
       "      <th></th>\n",
       "      <th></th>\n",
       "      <th></th>\n",
       "      <th></th>\n",
       "      <th></th>\n",
       "    </tr>\n",
       "  </thead>\n",
       "  <tbody>\n",
       "    <tr>\n",
       "      <th>smart</th>\n",
       "      <td>27.5</td>\n",
       "      <td>26.530803</td>\n",
       "      <td>703.883524</td>\n",
       "      <td>424.0</td>\n",
       "      <td>146.538708</td>\n",
       "      <td>21473.592837</td>\n",
       "      <td>15.0</td>\n",
       "      <td>3.595835</td>\n",
       "      <td>12.930028</td>\n",
       "      <td>1321.897436</td>\n",
       "      <td>606.568871</td>\n",
       "      <td>367925.795165</td>\n",
       "    </tr>\n",
       "    <tr>\n",
       "      <th>ultra</th>\n",
       "      <td>45.0</td>\n",
       "      <td>46.420854</td>\n",
       "      <td>2154.895683</td>\n",
       "      <td>513.0</td>\n",
       "      <td>284.101089</td>\n",
       "      <td>80713.428986</td>\n",
       "      <td>18.0</td>\n",
       "      <td>8.221202</td>\n",
       "      <td>67.588155</td>\n",
       "      <td>2130.664430</td>\n",
       "      <td>396.909626</td>\n",
       "      <td>157537.251496</td>\n",
       "    </tr>\n",
       "  </tbody>\n",
       "</table>\n",
       "</div>"
      ],
      "text/plain": [
       "       count_sms                         duration                            \\\n",
       "          median        std          var   median         std           var   \n",
       "tariff                                                                        \n",
       "smart       27.5  26.530803   703.883524    424.0  146.538708  21473.592837   \n",
       "ultra       45.0  46.420854  2154.895683    513.0  284.101089  80713.428986   \n",
       "\n",
       "       mb_used                        total_cost                             \n",
       "        median       std        var         mean         std            var  \n",
       "tariff                                                                       \n",
       "smart     15.0  3.595835  12.930028  1321.897436  606.568871  367925.795165  \n",
       "ultra     18.0  8.221202  67.588155  2130.664430  396.909626  157537.251496  "
      ]
     },
     "execution_count": 61,
     "metadata": {},
     "output_type": "execute_result"
    }
   ],
   "source": [
    "tariff_stat = means_pivot.pivot_table(index = 'tariff', \n",
    "                    values = ['count_sms','duration', 'mb_used','total_cost'], \n",
    "                    aggfunc={'count_sms': [np.median, np.var, np.std],\n",
    "                             'duration': [np.median, np.var, np.std],\n",
    "                             'total_cost': [np.mean, np.var, np.std],\n",
    "                             'mb_used': [np.median, np.var, np.std]})\n",
    "tariff_stat"
   ]
  },
  {
   "cell_type": "markdown",
   "metadata": {},
   "source": [
    "<div class=\"alert alert-success\">\n",
    "    \n",
    "<b> Комментарий от ревьюера ✔️</b>\n",
    "    \n",
    "Хорошее решение\n",
    "</div>"
   ]
  },
  {
   "cell_type": "code",
   "execution_count": 62,
   "metadata": {},
   "outputs": [
    {
     "data": {
      "image/png": "[encoded data removed]",
      "text/plain": [
       "<Figure size 432x288 with 2 Axes>"
      ]
     },
     "metadata": {
      "needs_background": "light"
     },
     "output_type": "display_data"
    }
   ],
   "source": [
    "heatmap = sns.heatmap(means_pivot.corr(),vmin=0, vmax=1, annot=True, cmap='BrBG');\n",
    "heatmap.set_title('Тепловая карта корреляции', fontdict={'fontsize':18}, pad=12);\n",
    "plt.xticks(rotation=45, ha='right');"
   ]
  },
  {
   "cell_type": "markdown",
   "metadata": {},
   "source": [
    "## Подведем итоги по анализу абонентов.\n",
    "Каждый пятый абонент компании \"Мегалайн\" находиться в Москве.\n",
    "70% абонентов подключены на тарифный план Смарт, с ежемесячным фиксированным платежом 550руб.\n",
    "Между тем, данная категория, генерит для Оператора бОльшую часть выручки - 60%, столь существенная доля в выручке Оператора обусловлена тем, что:\n",
    "1. Абонентов Смарт большинство (70% от общей базы);\n",
    "2. Абоненты на тарифе Смарт не укладываются в пакет услуг предлагаемым данным тарифом и вынуждены дополнительно оплачивать услуги сверх лимита пакета. Дополнительная оплата зачастую составляет 100% от стоимости самого тарифа. \n",
    "Абоненты тарифа Ультра с фиксированной платой в 1950 руб./мес, наоборот, зачастую даже не выбирают и четверть предоставленным тарифом услуг (пожалуй кроме интернет-трафика который стабильно  пользуется спросом).\n",
    "Собранные в рамках 2-х тарифов данные о кол-ве/длительности звонков, кол-ва отправленных СМС, объема потребленного интернет-трафика говорят о сильном разбросе данных параметров от абонента к абоненту, причем для данных в рамках тарифа Ультра, этот разброс еще больше. Данный факт подтверждает вычисленная дисперсия по данным параметрам.\n",
    "Так например дисперсия, для выборки duration тарифа Ультра, составила почти 83000 (!), столь существенный разброс обусловлен спецификой тарифа - 3000 минут включенных в пакет. Т.е. кто то из абонентов \"выговаривает\" условно 50-100 минут, а кто то и более 1000 минут.Тариф Смарт, столь большим лимитом минут не обладает (включено 500 минут), в связи с этим и разброс (дисперсия) значительно меньше-21000 по сравнению с дисперсией по тарифу Ультра.\n",
    "\n",
    "Тепловая карта визуально продемонстрировала, что на окончательную стоимость обслуживания влияет в первую очередь потребленные Гб, далее длительность разговоров и в последнюю очередь СМС.\n"
   ]
  },
  {
   "cell_type": "markdown",
   "metadata": {},
   "source": [
    "## Проверка гипотез"
   ]
  },
  {
   "cell_type": "markdown",
   "metadata": {},
   "source": [
    "**Проверка гипотезы №1**  \n",
    "•\tсредняя выручка пользователей тарифов «Ультра» и «Смарт» различаются.  \n",
    "Определим нулевую и альтернативную гипотезу.  \n",
    "H₀ - \"среднее генеральной совокупности (выручка) тарифа Смарт\" ** РАВНО ** \"средней генеральной совокупности (выручка) тарифа Ультра\"  \n",
    "H₁ - \"среднее генеральной совокупности (выручка) тарифа Смарт\" ** НЕ РАВНО ** \"средней генеральной совокупности (выручка) тарифа Ультра\"\n",
    "\n",
    "Для проверки вышеозвученных допущений, воспользуемся методом для проверки гипотезы о равенстве среднего двух генеральных совокупностей по взятым из них выборкам: scipy.stats.ttest_ind с параметром equal_var раным False т.к. выше мы исследовали и знаем, что дисперсии у совокупностей различаются."
   ]
  },
  {
   "cell_type": "code",
   "execution_count": 63,
   "metadata": {},
   "outputs": [
    {
     "data": {
      "text/plain": [
       "'Средняя выручка по тарифу Ультра = 2131 руб.'"
      ]
     },
     "execution_count": 63,
     "metadata": {},
     "output_type": "execute_result"
    }
   ],
   "source": [
    "mean_margin_ultra = means_pivot.loc[means_pivot['tariff']=='ultra']['total_cost'].mean() \n",
    "mean_margin_smart = means_pivot.loc[means_pivot['tariff']=='smart']['total_cost'].mean() \n",
    "'Средняя выручка по тарифу Ультра = {0:.0f} руб.'.format(mean_margin_ultra)"
   ]
  },
  {
   "cell_type": "code",
   "execution_count": 64,
   "metadata": {},
   "outputs": [
    {
     "data": {
      "text/plain": [
       "'Средняя выручка по тарифу Смарт = 1322 руб.'"
      ]
     },
     "execution_count": 64,
     "metadata": {},
     "output_type": "execute_result"
    }
   ],
   "source": [
    "'Средняя выручка по тарифу Смарт = {0:.0f} руб.'.format(mean_margin_smart)"
   ]
  },
  {
   "cell_type": "code",
   "execution_count": 65,
   "metadata": {},
   "outputs": [
    {
     "name": "stdout",
     "output_type": "stream",
     "text": [
      "p-значение: 2.687705603639518e-52\n",
      "Отвергаем нулевую гипотезу\n"
     ]
    }
   ],
   "source": [
    "margin_smart = means_pivot.loc[means_pivot['tariff']=='smart']['total_cost']\n",
    "interested_value = means_pivot.loc[means_pivot['tariff']=='ultra']['total_cost']\n",
    "\n",
    "alpha = .001 # критический уровень статистической значимости (0.1%).\n",
    "results = st.ttest_ind (margin_smart,interested_value, equal_var = False)\n",
    "print ('p-значение:',results.pvalue)\n",
    "if results.pvalue < alpha:\n",
    "    print(\"Отвергаем нулевую гипотезу\")\n",
    "else:\n",
    "    print(\"Не получилось отвергнуть нулевую гипотезу\") \n"
   ]
  },
  {
   "cell_type": "markdown",
   "metadata": {},
   "source": [
    "Видим, что для нулевой гипотезы: средняя выручка у тарифов равна, нет места.\n",
    "\n",
    "В среднем, выручка по тарифу Ультра выше выручки по тарифу Смарт 1,75 раза. Но не нужно забывать, что пользователей с тарифом Смарт гораздо больше и в целом **Основную** выручку генерят именно пользователи Смарт."
   ]
  },
  {
   "cell_type": "code",
   "execution_count": 66,
   "metadata": {},
   "outputs": [
    {
     "data": {
      "image/png": "[encoded data removed]",
      "text/plain": [
       "<Figure size 432x288 with 1 Axes>"
      ]
     },
     "metadata": {
      "needs_background": "light"
     },
     "output_type": "display_data"
    }
   ],
   "source": [
    "means_pivot.pivot_table(index='tariff', values='total_cost', aggfunc='mean').plot( kind = 'barh');\n",
    "plt.title('Средняя выручка с тарифа, руб.')\n",
    "plt.xlabel('рубли')\n",
    "plt.ylabel('Тариф')\n",
    "plt.legend().remove()\n",
    "plt.show()"
   ]
  },
  {
   "cell_type": "markdown",
   "metadata": {},
   "source": [
    "**Проверка гипотезы №2:**\n",
    "\n",
    "•\tсредняя выручка пользователей из Москвы отличается от выручки пользователей из других регионов.\n",
    "\n",
    "H₀ - средняя выручка абонентов из Москвы **РАВНА** \"средней выручке из других городов.\n",
    "\n",
    "H₁ - средняя выручка абонентов из Москвы **НЕ РАВНА** \"средней выручке из других городов.\n",
    "\n",
    "Для проверки вышеозвученных допущений, воспользуемся методом для проверки гипотезы о равенстве среднего двух генеральных совокупностей по взятым из них выборкам: scipy.stats.ttest_ind с параметром equal_var раным False т.к. выше мы ислледовали и знаем, что дисперсии у совокупностей различаются."
   ]
  },
  {
   "cell_type": "code",
   "execution_count": 67,
   "metadata": {},
   "outputs": [
    {
     "name": "stdout",
     "output_type": "stream",
     "text": [
      "p-значение: 0.448105252745308\n",
      "Не получилось отвергнуть нулевую гипотезу\n"
     ]
    }
   ],
   "source": [
    "margin_msk= means_pivot.loc[means_pivot['city']=='Москва']['total_cost']\n",
    "interested_value = means_pivot.loc[means_pivot['tariff']!='Москва']['total_cost']\n",
    "\n",
    "alpha = .01 # критический уровень статистической значимости (0.1%).\n",
    "results = st.ttest_ind (margin_msk,interested_value, equal_var = False)\n",
    "print ('p-значение:',results.pvalue)\n",
    "if results.pvalue < alpha:\n",
    "    print(\"Отвергаем нулевую гипотезу\")\n",
    "else:\n",
    "    print(\"Не получилось отвергнуть нулевую гипотезу\") "
   ]
  },
  {
   "cell_type": "code",
   "execution_count": 68,
   "metadata": {},
   "outputs": [
    {
     "data": {
      "image/png": "[encoded data removed]",
      "text/plain": [
       "<Figure size 432x288 with 1 Axes>"
      ]
     },
     "metadata": {
      "needs_background": "light"
     },
     "output_type": "display_data"
    },
    {
     "name": "stdout",
     "output_type": "stream",
     "text": [
      "Средняя выручка от абонента г.Москва = 1510 руб.\n",
      "Средняя выручка от абонета города \"Другой\" = 1576 руб.\n"
     ]
    }
   ],
   "source": [
    "means_pivot.pivot_table(index='city', values='total_cost', aggfunc='mean').plot( kind = 'barh');\n",
    "plt.title('Средняя выручка с абонента')\n",
    "plt.xlabel('рубли')\n",
    "plt.ylabel('Город')\n",
    "plt.legend().remove()\n",
    "plt.show()\n",
    "mean_margin_msk = means_pivot.loc[means_pivot['city']=='Москва']['total_cost'].mean() \n",
    "mean_margin_oth = means_pivot.loc[means_pivot['city']=='Другой']['total_cost'].mean() \n",
    "print ('Средняя выручка от абонента г.Москва = {0:.0f} руб.'.format(mean_margin_msk))\n",
    "print ('Средняя выручка от абонета города \"Другой\" = {0:.0f} руб.'.format(mean_margin_oth))"
   ]
  },
  {
   "cell_type": "markdown",
   "metadata": {},
   "source": [
    "Видим, что нулевая гипотеза имеет право на существование, действительно, между выручкой от абонента в Мосвке и в доугом городе, практически нет разницы. Это хороший повод расширить свое присутствие в регионах."
   ]
  },
  {
   "cell_type": "markdown",
   "metadata": {},
   "source": [
    "## Общий вывод"
   ]
  },
  {
   "cell_type": "markdown",
   "metadata": {},
   "source": [
    "**По результату исследования, можно сформировать следующие выводы (и рекомендации для развития бизнеса):**\n",
    "1. Абоненты в 30% случаях находяться в г. Москва и СПб (20 и7 %% соответственно), средняя выручка полученная от абонента г. Москвы практически равна(!) средней выручки из другого города (1495 и 1454 руб. соответсвенно), таким образом имеет смысл провести доп. исследование об экономической целесообразности расширения абонентской базы в других городах, возможно цена привлечения абонента в регионах будет ниже чем в Москве и тогда рекламную компанию есть смысл усилить по регионам.\n",
    "2. Средняя выручка от тарифного плана Ультра, практически в 2 раза выше чем выручка от тарифного плана Смарт (2106 и 1234 руб. соответственно), между тем основной поток выручки генерят абоненты Смарт. Доля выручки от абонентов Смарт достигиает 60%, это связано с тем, что распределение абонентов следующее: 70% это абоненты Смарт, 30% абоненты Ультра.\n",
    "3. Абонентам Смарт, существующего объема услуг предоставляемым тарифом, существенно не з\n",
    "хватает. Абоненты постоянно \"докупают\" минуты разговора (100-150 минут в месяц) и 1-3 Гб интернет-трафика. Затраты абонентов на доп. услуги сопоставимы со стоимостью самого тарифа Смарт равного 550руб и достигают в среднем 1 234руб (550 руб тариф + доп.услуги). Абоненты Ультра напротив,в большинстве своем не используют в полной мере объем предоставляемых пакетом услуг: \"минуты\", \"СМС-ки\" просто \"сгорают\", а в месте с ними и проплаченные деньги за пакет в размере 1 950 руб..   \n",
    "В данной ситуации, для Оператора целесообразно разработать дополнительный тариф (или взамен существующего), который с учетом данного исследования смог бы предложить как действующим абонентам так и новым клиентам более привлекательное наполнение пакета услуг причем с более экономической выгодой для самого Оператора.**\n",
    "\n"
   ]
  }
 ],
 "metadata": {
  "ExecuteTimeLog": [
   {
    "duration": 348,
    "start_time": "2022-01-11T17:21:04.826Z"
   },
   {
    "duration": 1407,
    "start_time": "2022-01-11T17:21:18.235Z"
   },
   {
    "duration": 335,
    "start_time": "2022-01-11T17:22:24.828Z"
   },
   {
    "duration": 23,
    "start_time": "2022-01-11T17:22:30.676Z"
   },
   {
    "duration": 15,
    "start_time": "2022-01-11T17:22:31.925Z"
   },
   {
    "duration": 11,
    "start_time": "2022-01-11T17:22:32.674Z"
   },
   {
    "duration": 17,
    "start_time": "2022-01-11T17:22:33.708Z"
   },
   {
    "duration": 20,
    "start_time": "2022-01-11T17:22:34.220Z"
   },
   {
    "duration": 593,
    "start_time": "2022-01-12T08:52:35.855Z"
   },
   {
    "duration": 1167,
    "start_time": "2022-01-12T08:52:42.146Z"
   },
   {
    "duration": 17,
    "start_time": "2022-01-12T08:52:43.954Z"
   },
   {
    "duration": 28,
    "start_time": "2022-01-12T08:52:45.675Z"
   },
   {
    "duration": 21,
    "start_time": "2022-01-12T08:59:40.227Z"
   },
   {
    "duration": 18,
    "start_time": "2022-01-12T09:16:57.658Z"
   },
   {
    "duration": 16,
    "start_time": "2022-01-12T09:18:27.793Z"
   },
   {
    "duration": 15,
    "start_time": "2022-01-12T09:19:34.836Z"
   },
   {
    "duration": 5,
    "start_time": "2022-01-12T09:19:58.836Z"
   },
   {
    "duration": 6,
    "start_time": "2022-01-12T09:34:53.832Z"
   },
   {
    "duration": 17,
    "start_time": "2022-01-12T09:35:12.130Z"
   },
   {
    "duration": 265,
    "start_time": "2022-01-12T09:44:46.372Z"
   },
   {
    "duration": 400,
    "start_time": "2022-01-12T09:44:50.443Z"
   },
   {
    "duration": 248,
    "start_time": "2022-01-12T09:44:53.559Z"
   },
   {
    "duration": 6,
    "start_time": "2022-01-12T11:41:00.497Z"
   },
   {
    "duration": 8,
    "start_time": "2022-01-12T11:41:27.885Z"
   },
   {
    "duration": 87,
    "start_time": "2022-01-12T11:42:37.610Z"
   },
   {
    "duration": 68,
    "start_time": "2022-01-12T11:42:43.603Z"
   },
   {
    "duration": 8,
    "start_time": "2022-01-12T11:42:44.871Z"
   },
   {
    "duration": 262,
    "start_time": "2022-01-12T11:44:28.663Z"
   },
   {
    "duration": 566,
    "start_time": "2022-01-12T11:45:08.147Z"
   },
   {
    "duration": 5,
    "start_time": "2022-01-12T11:45:16.773Z"
   },
   {
    "duration": 8,
    "start_time": "2022-01-12T11:45:22.606Z"
   },
   {
    "duration": 387,
    "start_time": "2022-01-12T11:45:41.116Z"
   },
   {
    "duration": 10,
    "start_time": "2022-01-12T11:45:42.382Z"
   },
   {
    "duration": 37,
    "start_time": "2022-01-12T11:45:45.599Z"
   },
   {
    "duration": 118,
    "start_time": "2022-01-12T11:45:46.524Z"
   },
   {
    "duration": 9,
    "start_time": "2022-01-12T11:45:48.158Z"
   },
   {
    "duration": 24,
    "start_time": "2022-01-12T11:47:12.001Z"
   },
   {
    "duration": 89,
    "start_time": "2022-01-12T11:52:50.620Z"
   },
   {
    "duration": 49,
    "start_time": "2022-01-12T11:59:26.026Z"
   },
   {
    "duration": 10,
    "start_time": "2022-01-12T11:59:26.696Z"
   },
   {
    "duration": 21,
    "start_time": "2022-01-12T11:59:27.886Z"
   },
   {
    "duration": 20,
    "start_time": "2022-01-12T11:59:31.016Z"
   },
   {
    "duration": 8,
    "start_time": "2022-01-12T12:01:05.691Z"
   },
   {
    "duration": 47,
    "start_time": "2022-01-12T12:01:45.612Z"
   },
   {
    "duration": 9,
    "start_time": "2022-01-12T12:01:54.202Z"
   },
   {
    "duration": 20,
    "start_time": "2022-01-12T12:02:03.848Z"
   },
   {
    "duration": 17,
    "start_time": "2022-01-12T12:02:09.632Z"
   },
   {
    "duration": 13,
    "start_time": "2022-01-12T12:04:20.328Z"
   },
   {
    "duration": 4,
    "start_time": "2022-01-12T12:07:20.051Z"
   },
   {
    "duration": 12,
    "start_time": "2022-01-12T12:07:30.317Z"
   },
   {
    "duration": 6,
    "start_time": "2022-01-12T12:07:40.535Z"
   },
   {
    "duration": 26,
    "start_time": "2022-01-12T12:09:33.677Z"
   },
   {
    "duration": 25,
    "start_time": "2022-01-12T12:16:19.226Z"
   },
   {
    "duration": 5,
    "start_time": "2022-01-12T12:20:22.106Z"
   },
   {
    "duration": 26,
    "start_time": "2022-01-12T12:20:29.960Z"
   },
   {
    "duration": 31,
    "start_time": "2022-01-12T12:20:55.158Z"
   },
   {
    "duration": 17,
    "start_time": "2022-01-12T12:21:50.351Z"
   },
   {
    "duration": 73,
    "start_time": "2022-01-12T12:23:13.374Z"
   },
   {
    "duration": 493,
    "start_time": "2022-01-12T12:23:17.329Z"
   },
   {
    "duration": 1740,
    "start_time": "2022-01-12T12:23:19.447Z"
   },
   {
    "duration": 2308,
    "start_time": "2022-01-12T12:23:21.189Z"
   },
   {
    "duration": 8,
    "start_time": "2022-01-12T12:28:10.004Z"
   },
   {
    "duration": 8,
    "start_time": "2022-01-12T12:30:04.405Z"
   },
   {
    "duration": 368,
    "start_time": "2022-01-12T12:53:46.387Z"
   },
   {
    "duration": 7483,
    "start_time": "2022-01-12T12:58:04.793Z"
   },
   {
    "duration": 28,
    "start_time": "2022-01-12T12:58:43.267Z"
   },
   {
    "duration": 8,
    "start_time": "2022-01-12T12:58:45.604Z"
   },
   {
    "duration": 15,
    "start_time": "2022-01-12T12:58:49.690Z"
   },
   {
    "duration": 25,
    "start_time": "2022-01-12T12:59:01.204Z"
   },
   {
    "duration": 11,
    "start_time": "2022-01-12T12:59:02.540Z"
   },
   {
    "duration": 313,
    "start_time": "2022-01-12T13:02:12.862Z"
   },
   {
    "duration": 96,
    "start_time": "2022-01-12T13:03:03.938Z"
   },
   {
    "duration": 74,
    "start_time": "2022-01-12T13:03:10.504Z"
   },
   {
    "duration": 9,
    "start_time": "2022-01-12T13:03:12.684Z"
   },
   {
    "duration": 51,
    "start_time": "2022-01-12T13:03:28.521Z"
   },
   {
    "duration": 9,
    "start_time": "2022-01-12T13:03:29.520Z"
   },
   {
    "duration": 50,
    "start_time": "2022-01-12T13:03:49.678Z"
   },
   {
    "duration": 10,
    "start_time": "2022-01-12T13:03:51.115Z"
   },
   {
    "duration": 18,
    "start_time": "2022-01-12T13:04:02.651Z"
   },
   {
    "duration": 9,
    "start_time": "2022-01-12T13:04:13.900Z"
   },
   {
    "duration": 28,
    "start_time": "2022-01-12T13:06:14.796Z"
   },
   {
    "duration": 6485,
    "start_time": "2022-01-12T13:07:04.788Z"
   },
   {
    "duration": 995,
    "start_time": "2022-01-12T13:07:40.593Z"
   },
   {
    "duration": 16,
    "start_time": "2022-01-12T13:07:41.590Z"
   },
   {
    "duration": 58,
    "start_time": "2022-01-12T13:07:41.609Z"
   },
   {
    "duration": 105,
    "start_time": "2022-01-12T13:07:41.669Z"
   },
   {
    "duration": 41,
    "start_time": "2022-01-12T13:07:41.777Z"
   },
   {
    "duration": 9,
    "start_time": "2022-01-12T13:07:41.819Z"
   },
   {
    "duration": 42,
    "start_time": "2022-01-12T13:07:41.831Z"
   },
   {
    "duration": 13,
    "start_time": "2022-01-12T13:07:41.875Z"
   },
   {
    "duration": 21,
    "start_time": "2022-01-12T13:07:41.890Z"
   },
   {
    "duration": 79,
    "start_time": "2022-01-12T13:07:41.913Z"
   },
   {
    "duration": 9,
    "start_time": "2022-01-12T13:07:41.994Z"
   },
   {
    "duration": 43,
    "start_time": "2022-01-12T13:07:42.006Z"
   },
   {
    "duration": 17,
    "start_time": "2022-01-12T13:07:42.051Z"
   },
   {
    "duration": 22,
    "start_time": "2022-01-12T13:07:42.070Z"
   },
   {
    "duration": 13,
    "start_time": "2022-01-12T13:07:42.093Z"
   },
   {
    "duration": 23,
    "start_time": "2022-01-12T13:07:42.107Z"
   },
   {
    "duration": 42,
    "start_time": "2022-01-12T13:07:42.132Z"
   },
   {
    "duration": 25,
    "start_time": "2022-01-12T13:07:42.176Z"
   },
   {
    "duration": 8,
    "start_time": "2022-01-12T13:07:42.202Z"
   },
   {
    "duration": 29,
    "start_time": "2022-01-12T13:07:42.212Z"
   },
   {
    "duration": 31,
    "start_time": "2022-01-12T13:07:42.244Z"
   },
   {
    "duration": 30,
    "start_time": "2022-01-12T13:07:42.279Z"
   },
   {
    "duration": 37,
    "start_time": "2022-01-12T13:07:42.311Z"
   },
   {
    "duration": 56,
    "start_time": "2022-01-12T13:07:42.350Z"
   },
   {
    "duration": 9,
    "start_time": "2022-01-12T13:07:42.408Z"
   },
   {
    "duration": 42,
    "start_time": "2022-01-12T13:07:42.419Z"
   },
   {
    "duration": 21,
    "start_time": "2022-01-12T13:07:42.463Z"
   },
   {
    "duration": 6657,
    "start_time": "2022-01-12T13:07:42.485Z"
   },
   {
    "duration": 3625,
    "start_time": "2022-01-12T13:07:45.519Z"
   },
   {
    "duration": 3621,
    "start_time": "2022-01-12T13:07:45.524Z"
   },
   {
    "duration": 16,
    "start_time": "2022-01-12T13:08:33.788Z"
   },
   {
    "duration": 11,
    "start_time": "2022-01-12T13:08:34.467Z"
   },
   {
    "duration": 613,
    "start_time": "2022-01-12T13:41:09.506Z"
   },
   {
    "duration": 10,
    "start_time": "2022-01-12T13:41:17.946Z"
   },
   {
    "duration": 30,
    "start_time": "2022-01-12T13:42:16.377Z"
   },
   {
    "duration": 12,
    "start_time": "2022-01-12T13:42:17.106Z"
   },
   {
    "duration": 402,
    "start_time": "2022-01-12T13:52:55.820Z"
   },
   {
    "duration": 8,
    "start_time": "2022-01-12T13:52:57.576Z"
   },
   {
    "duration": 28,
    "start_time": "2022-01-12T13:52:58.055Z"
   },
   {
    "duration": 68,
    "start_time": "2022-01-12T13:52:58.536Z"
   },
   {
    "duration": 28,
    "start_time": "2022-01-12T13:52:58.709Z"
   },
   {
    "duration": 9,
    "start_time": "2022-01-12T13:52:58.894Z"
   },
   {
    "duration": 18,
    "start_time": "2022-01-12T13:52:59.068Z"
   },
   {
    "duration": 14,
    "start_time": "2022-01-12T13:52:59.218Z"
   },
   {
    "duration": 9,
    "start_time": "2022-01-12T13:52:59.556Z"
   },
   {
    "duration": 67,
    "start_time": "2022-01-12T13:52:59.732Z"
   },
   {
    "duration": 9,
    "start_time": "2022-01-12T13:52:59.924Z"
   },
   {
    "duration": 33,
    "start_time": "2022-01-12T13:53:00.100Z"
   },
   {
    "duration": 16,
    "start_time": "2022-01-12T13:53:00.221Z"
   },
   {
    "duration": 12,
    "start_time": "2022-01-12T13:53:00.891Z"
   },
   {
    "duration": 9,
    "start_time": "2022-01-12T13:53:01.245Z"
   },
   {
    "duration": 17,
    "start_time": "2022-01-12T13:53:01.964Z"
   },
   {
    "duration": 27,
    "start_time": "2022-01-12T13:53:02.414Z"
   },
   {
    "duration": 26,
    "start_time": "2022-01-12T13:53:03.349Z"
   },
   {
    "duration": 9,
    "start_time": "2022-01-12T13:53:03.825Z"
   },
   {
    "duration": 13,
    "start_time": "2022-01-12T13:53:04.475Z"
   },
   {
    "duration": 6,
    "start_time": "2022-01-12T13:53:04.989Z"
   },
   {
    "duration": 4,
    "start_time": "2022-01-12T13:53:05.508Z"
   },
   {
    "duration": 6,
    "start_time": "2022-01-12T13:53:05.955Z"
   },
   {
    "duration": 23,
    "start_time": "2022-01-12T13:53:07.159Z"
   },
   {
    "duration": 9,
    "start_time": "2022-01-12T13:53:07.776Z"
   },
   {
    "duration": 19,
    "start_time": "2022-01-12T13:53:08.145Z"
   },
   {
    "duration": 10,
    "start_time": "2022-01-12T13:53:08.568Z"
   },
   {
    "duration": 16,
    "start_time": "2022-01-12T13:53:09.048Z"
   },
   {
    "duration": 9,
    "start_time": "2022-01-12T13:53:09.595Z"
   },
   {
    "duration": 44,
    "start_time": "2022-01-12T13:53:10.112Z"
   },
   {
    "duration": 16,
    "start_time": "2022-01-12T13:53:10.690Z"
   },
   {
    "duration": 10,
    "start_time": "2022-01-12T13:54:27.741Z"
   },
   {
    "duration": 16,
    "start_time": "2022-01-12T13:54:37.773Z"
   },
   {
    "duration": 54,
    "start_time": "2022-01-12T13:55:59.000Z"
   },
   {
    "duration": 15,
    "start_time": "2022-01-12T13:55:59.692Z"
   },
   {
    "duration": 12,
    "start_time": "2022-01-12T13:57:37.000Z"
   },
   {
    "duration": 9,
    "start_time": "2022-01-12T13:57:44.604Z"
   },
   {
    "duration": 80,
    "start_time": "2022-01-12T14:04:14.173Z"
   },
   {
    "duration": 1082,
    "start_time": "2022-01-12T14:04:34.858Z"
   },
   {
    "duration": 15,
    "start_time": "2022-01-12T14:04:35.942Z"
   },
   {
    "duration": 45,
    "start_time": "2022-01-12T14:04:35.960Z"
   },
   {
    "duration": 108,
    "start_time": "2022-01-12T14:04:36.008Z"
   },
   {
    "duration": 42,
    "start_time": "2022-01-12T14:04:36.118Z"
   },
   {
    "duration": 19,
    "start_time": "2022-01-12T14:04:36.162Z"
   },
   {
    "duration": 53,
    "start_time": "2022-01-12T14:04:36.182Z"
   },
   {
    "duration": 25,
    "start_time": "2022-01-12T14:04:36.237Z"
   },
   {
    "duration": 33,
    "start_time": "2022-01-12T14:04:36.265Z"
   },
   {
    "duration": 89,
    "start_time": "2022-01-12T14:04:36.301Z"
   },
   {
    "duration": 10,
    "start_time": "2022-01-12T14:04:36.392Z"
   },
   {
    "duration": 54,
    "start_time": "2022-01-12T14:04:36.404Z"
   },
   {
    "duration": 14,
    "start_time": "2022-01-12T14:04:36.460Z"
   },
   {
    "duration": 28,
    "start_time": "2022-01-12T14:04:36.476Z"
   },
   {
    "duration": 36,
    "start_time": "2022-01-12T14:04:36.506Z"
   },
   {
    "duration": 45,
    "start_time": "2022-01-12T14:04:36.544Z"
   },
   {
    "duration": 56,
    "start_time": "2022-01-12T14:04:36.591Z"
   },
   {
    "duration": 35,
    "start_time": "2022-01-12T14:04:36.649Z"
   },
   {
    "duration": 25,
    "start_time": "2022-01-12T14:04:36.687Z"
   },
   {
    "duration": 50,
    "start_time": "2022-01-12T14:04:36.714Z"
   },
   {
    "duration": 36,
    "start_time": "2022-01-12T14:04:36.766Z"
   },
   {
    "duration": 32,
    "start_time": "2022-01-12T14:04:36.804Z"
   },
   {
    "duration": 30,
    "start_time": "2022-01-12T14:04:36.838Z"
   },
   {
    "duration": 54,
    "start_time": "2022-01-12T14:04:36.870Z"
   },
   {
    "duration": 10,
    "start_time": "2022-01-12T14:04:36.926Z"
   },
   {
    "duration": 46,
    "start_time": "2022-01-12T14:04:36.938Z"
   },
   {
    "duration": 23,
    "start_time": "2022-01-12T14:04:36.987Z"
   },
   {
    "duration": 45,
    "start_time": "2022-01-12T14:04:37.013Z"
   },
   {
    "duration": 23,
    "start_time": "2022-01-12T14:04:37.060Z"
   },
   {
    "duration": 135,
    "start_time": "2022-01-12T14:04:37.085Z"
   },
   {
    "duration": 10,
    "start_time": "2022-01-12T14:04:37.223Z"
   },
   {
    "duration": 284,
    "start_time": "2022-01-12T14:05:33.286Z"
   },
   {
    "duration": 248,
    "start_time": "2022-01-12T14:05:53.159Z"
   },
   {
    "duration": 281,
    "start_time": "2022-01-12T14:06:39.841Z"
   },
   {
    "duration": 1010,
    "start_time": "2022-01-12T14:07:10.304Z"
   },
   {
    "duration": 15,
    "start_time": "2022-01-12T14:07:11.316Z"
   },
   {
    "duration": 40,
    "start_time": "2022-01-12T14:07:11.333Z"
   },
   {
    "duration": 72,
    "start_time": "2022-01-12T14:07:11.375Z"
   },
   {
    "duration": 43,
    "start_time": "2022-01-12T14:07:11.449Z"
   },
   {
    "duration": 8,
    "start_time": "2022-01-12T14:07:11.494Z"
   },
   {
    "duration": 26,
    "start_time": "2022-01-12T14:07:11.503Z"
   },
   {
    "duration": 30,
    "start_time": "2022-01-12T14:07:11.531Z"
   },
   {
    "duration": 8,
    "start_time": "2022-01-12T14:07:11.563Z"
   },
   {
    "duration": 73,
    "start_time": "2022-01-12T14:07:11.573Z"
   },
   {
    "duration": 19,
    "start_time": "2022-01-12T14:07:11.648Z"
   },
   {
    "duration": 41,
    "start_time": "2022-01-12T14:07:11.669Z"
   },
   {
    "duration": 17,
    "start_time": "2022-01-12T14:07:11.712Z"
   },
   {
    "duration": 42,
    "start_time": "2022-01-12T14:07:11.731Z"
   },
   {
    "duration": 9,
    "start_time": "2022-01-12T14:07:11.775Z"
   },
   {
    "duration": 20,
    "start_time": "2022-01-12T14:07:11.786Z"
   },
   {
    "duration": 27,
    "start_time": "2022-01-12T14:07:11.808Z"
   },
   {
    "duration": 45,
    "start_time": "2022-01-12T14:07:11.837Z"
   },
   {
    "duration": 7,
    "start_time": "2022-01-12T14:07:11.884Z"
   },
   {
    "duration": 13,
    "start_time": "2022-01-12T14:07:11.893Z"
   },
   {
    "duration": 8,
    "start_time": "2022-01-12T14:07:11.908Z"
   },
   {
    "duration": 7,
    "start_time": "2022-01-12T14:07:11.918Z"
   },
   {
    "duration": 34,
    "start_time": "2022-01-12T14:07:11.928Z"
   },
   {
    "duration": 23,
    "start_time": "2022-01-12T14:07:11.964Z"
   },
   {
    "duration": 9,
    "start_time": "2022-01-12T14:07:11.989Z"
   },
   {
    "duration": 37,
    "start_time": "2022-01-12T14:07:11.999Z"
   },
   {
    "duration": 15,
    "start_time": "2022-01-12T14:07:12.038Z"
   },
   {
    "duration": 24,
    "start_time": "2022-01-12T14:07:12.055Z"
   },
   {
    "duration": 10,
    "start_time": "2022-01-12T14:07:12.081Z"
   },
   {
    "duration": 97,
    "start_time": "2022-01-12T14:07:12.093Z"
   },
   {
    "duration": 11,
    "start_time": "2022-01-12T14:07:12.191Z"
   },
   {
    "duration": 1054,
    "start_time": "2022-01-12T14:07:12.204Z"
   },
   {
    "duration": 3612,
    "start_time": "2022-01-12T14:07:09.648Z"
   },
   {
    "duration": 3599,
    "start_time": "2022-01-12T14:07:09.662Z"
   },
   {
    "duration": 276,
    "start_time": "2022-01-12T14:07:37.901Z"
   },
   {
    "duration": 10,
    "start_time": "2022-01-12T14:07:58.332Z"
   },
   {
    "duration": 9,
    "start_time": "2022-01-12T14:21:59.128Z"
   },
   {
    "duration": 264,
    "start_time": "2022-01-12T14:27:02.106Z"
   },
   {
    "duration": 434,
    "start_time": "2022-01-12T14:27:17.649Z"
   },
   {
    "duration": 12,
    "start_time": "2022-01-12T14:27:30.864Z"
   },
   {
    "duration": 21,
    "start_time": "2022-01-12T14:27:56.654Z"
   },
   {
    "duration": 12,
    "start_time": "2022-01-12T14:28:00.242Z"
   },
   {
    "duration": 12,
    "start_time": "2022-01-12T14:28:34.904Z"
   },
   {
    "duration": 85,
    "start_time": "2022-01-12T14:28:46.778Z"
   },
   {
    "duration": 13,
    "start_time": "2022-01-12T14:28:51.570Z"
   },
   {
    "duration": 11,
    "start_time": "2022-01-12T14:28:58.812Z"
   },
   {
    "duration": 11,
    "start_time": "2022-01-12T14:29:03.966Z"
   },
   {
    "duration": 143,
    "start_time": "2022-01-12T14:46:22.290Z"
   },
   {
    "duration": 11,
    "start_time": "2022-01-12T14:46:23.180Z"
   },
   {
    "duration": 277,
    "start_time": "2022-01-12T14:51:15.976Z"
   },
   {
    "duration": 29,
    "start_time": "2022-01-12T14:51:24.081Z"
   },
   {
    "duration": 7,
    "start_time": "2022-01-12T14:51:25.998Z"
   },
   {
    "duration": 7,
    "start_time": "2022-01-12T14:53:40.545Z"
   },
   {
    "duration": 531,
    "start_time": "2022-01-12T14:55:39.029Z"
   },
   {
    "duration": 949,
    "start_time": "2022-01-12T14:55:46.593Z"
   },
   {
    "duration": 202,
    "start_time": "2022-01-12T14:55:52.968Z"
   },
   {
    "duration": 1048,
    "start_time": "2022-01-12T14:55:58.719Z"
   },
   {
    "duration": 278,
    "start_time": "2022-01-12T14:56:08.917Z"
   },
   {
    "duration": 6374,
    "start_time": "2022-01-12T14:57:23.620Z"
   },
   {
    "duration": 443,
    "start_time": "2022-01-12T15:00:13.248Z"
   },
   {
    "duration": 323,
    "start_time": "2022-01-12T15:00:55.352Z"
   },
   {
    "duration": 143,
    "start_time": "2022-01-12T15:02:10.941Z"
   },
   {
    "duration": 265,
    "start_time": "2022-01-12T15:02:17.182Z"
   },
   {
    "duration": 266,
    "start_time": "2022-01-12T15:02:36.493Z"
   },
   {
    "duration": 270,
    "start_time": "2022-01-12T15:02:42.215Z"
   },
   {
    "duration": 1532,
    "start_time": "2022-01-12T15:03:17.178Z"
   },
   {
    "duration": 11,
    "start_time": "2022-01-12T15:03:18.712Z"
   },
   {
    "duration": 31,
    "start_time": "2022-01-12T15:03:18.725Z"
   },
   {
    "duration": 21,
    "start_time": "2022-01-12T15:03:18.758Z"
   },
   {
    "duration": 20,
    "start_time": "2022-01-12T15:03:18.781Z"
   },
   {
    "duration": 8,
    "start_time": "2022-01-12T15:03:18.803Z"
   },
   {
    "duration": 59,
    "start_time": "2022-01-12T15:03:18.813Z"
   },
   {
    "duration": 18,
    "start_time": "2022-01-12T15:03:18.875Z"
   },
   {
    "duration": 18,
    "start_time": "2022-01-12T15:03:18.896Z"
   },
   {
    "duration": 16,
    "start_time": "2022-01-12T15:03:18.916Z"
   },
   {
    "duration": 16,
    "start_time": "2022-01-12T15:03:18.961Z"
   },
   {
    "duration": 31,
    "start_time": "2022-01-12T15:03:18.979Z"
   },
   {
    "duration": 7,
    "start_time": "2022-01-12T15:03:19.012Z"
   },
   {
    "duration": 10,
    "start_time": "2022-01-12T15:03:19.021Z"
   },
   {
    "duration": 14,
    "start_time": "2022-01-12T15:03:19.060Z"
   },
   {
    "duration": 10,
    "start_time": "2022-01-12T15:03:19.076Z"
   },
   {
    "duration": 6,
    "start_time": "2022-01-12T15:03:19.088Z"
   },
   {
    "duration": 8,
    "start_time": "2022-01-12T15:03:19.095Z"
   },
   {
    "duration": 256,
    "start_time": "2022-01-12T15:03:19.105Z"
   },
   {
    "duration": 13,
    "start_time": "2022-01-12T15:03:19.362Z"
   },
   {
    "duration": 34,
    "start_time": "2022-01-12T15:03:19.377Z"
   },
   {
    "duration": 7,
    "start_time": "2022-01-12T15:03:19.413Z"
   },
   {
    "duration": 530,
    "start_time": "2022-01-12T15:03:19.424Z"
   },
   {
    "duration": 6511,
    "start_time": "2022-01-12T15:03:19.960Z"
   },
   {
    "duration": 3716,
    "start_time": "2022-01-12T15:03:22.757Z"
   },
   {
    "duration": 3711,
    "start_time": "2022-01-12T15:03:22.763Z"
   },
   {
    "duration": 3695,
    "start_time": "2022-01-12T15:03:22.780Z"
   },
   {
    "duration": 3683,
    "start_time": "2022-01-12T15:03:22.793Z"
   },
   {
    "duration": 3675,
    "start_time": "2022-01-12T15:03:22.802Z"
   },
   {
    "duration": 3672,
    "start_time": "2022-01-12T15:03:22.806Z"
   },
   {
    "duration": 32,
    "start_time": "2022-01-12T15:03:31.129Z"
   },
   {
    "duration": 804,
    "start_time": "2022-01-12T15:03:36.611Z"
   },
   {
    "duration": 11,
    "start_time": "2022-01-12T15:03:38.978Z"
   },
   {
    "duration": 35,
    "start_time": "2022-01-12T15:03:59.592Z"
   },
   {
    "duration": 8,
    "start_time": "2022-01-12T15:04:00.666Z"
   },
   {
    "duration": 248,
    "start_time": "2022-01-12T15:18:50.925Z"
   },
   {
    "duration": 21,
    "start_time": "2022-01-12T15:18:56.456Z"
   },
   {
    "duration": 6,
    "start_time": "2022-01-12T15:18:58.357Z"
   },
   {
    "duration": 250,
    "start_time": "2022-01-12T15:19:05.900Z"
   },
   {
    "duration": 480,
    "start_time": "2022-01-12T15:19:14.070Z"
   },
   {
    "duration": 437,
    "start_time": "2022-01-12T15:20:59.790Z"
   },
   {
    "duration": 6751,
    "start_time": "2022-01-12T15:21:57.660Z"
   },
   {
    "duration": 7161,
    "start_time": "2022-01-12T15:22:11.421Z"
   },
   {
    "duration": 256,
    "start_time": "2022-01-12T15:22:50.807Z"
   },
   {
    "duration": 316,
    "start_time": "2022-01-12T15:22:59.992Z"
   },
   {
    "duration": 6265,
    "start_time": "2022-01-12T15:23:05.525Z"
   },
   {
    "duration": 17,
    "start_time": "2022-01-12T15:23:20.303Z"
   },
   {
    "duration": 12,
    "start_time": "2022-01-12T15:24:00.287Z"
   },
   {
    "duration": 347,
    "start_time": "2022-01-12T15:24:21.086Z"
   },
   {
    "duration": 399,
    "start_time": "2022-01-12T15:24:28.325Z"
   },
   {
    "duration": 366,
    "start_time": "2022-01-12T15:24:33.196Z"
   },
   {
    "duration": 376,
    "start_time": "2022-01-12T15:24:37.797Z"
   },
   {
    "duration": 337,
    "start_time": "2022-01-12T15:24:43.138Z"
   },
   {
    "duration": 16,
    "start_time": "2022-01-12T15:26:02.614Z"
   },
   {
    "duration": 6,
    "start_time": "2022-01-12T15:26:03.423Z"
   },
   {
    "duration": 8,
    "start_time": "2022-01-12T15:26:10.127Z"
   },
   {
    "duration": 323,
    "start_time": "2022-01-12T15:26:12.473Z"
   },
   {
    "duration": 447,
    "start_time": "2022-01-12T15:26:51.901Z"
   },
   {
    "duration": 354,
    "start_time": "2022-01-12T15:28:44.136Z"
   },
   {
    "duration": 13,
    "start_time": "2022-01-12T15:42:47.360Z"
   },
   {
    "duration": 11,
    "start_time": "2022-01-12T15:43:03.303Z"
   },
   {
    "duration": 7,
    "start_time": "2022-01-12T15:43:10.993Z"
   },
   {
    "duration": 152,
    "start_time": "2022-01-12T15:44:58.290Z"
   },
   {
    "duration": 250,
    "start_time": "2022-01-12T15:48:42.559Z"
   },
   {
    "duration": 142,
    "start_time": "2022-01-12T15:48:50.110Z"
   },
   {
    "duration": 12,
    "start_time": "2022-01-12T15:48:50.764Z"
   },
   {
    "duration": 3,
    "start_time": "2022-01-12T15:48:51.278Z"
   },
   {
    "duration": 14,
    "start_time": "2022-01-12T15:48:51.993Z"
   },
   {
    "duration": 323,
    "start_time": "2022-01-12T15:48:52.661Z"
   },
   {
    "duration": 363,
    "start_time": "2022-01-12T15:48:53.915Z"
   },
   {
    "duration": 340,
    "start_time": "2022-01-12T15:50:07.810Z"
   },
   {
    "duration": 597,
    "start_time": "2022-01-12T15:52:07.581Z"
   },
   {
    "duration": 570,
    "start_time": "2022-01-12T15:52:50.386Z"
   },
   {
    "duration": 370,
    "start_time": "2022-01-12T15:52:57.314Z"
   },
   {
    "duration": 404,
    "start_time": "2022-01-12T15:53:04.678Z"
   },
   {
    "duration": 398,
    "start_time": "2022-01-12T15:53:47.692Z"
   },
   {
    "duration": 243,
    "start_time": "2022-01-12T15:54:33.613Z"
   },
   {
    "duration": 6,
    "start_time": "2022-01-12T15:55:03.739Z"
   },
   {
    "duration": 398,
    "start_time": "2022-01-12T15:59:03.590Z"
   },
   {
    "duration": 159,
    "start_time": "2022-01-12T15:59:21.238Z"
   },
   {
    "duration": 154,
    "start_time": "2022-01-12T15:59:29.078Z"
   },
   {
    "duration": 185,
    "start_time": "2022-01-12T15:59:55.986Z"
   },
   {
    "duration": 182,
    "start_time": "2022-01-12T16:00:10.394Z"
   },
   {
    "duration": 185,
    "start_time": "2022-01-12T16:00:14.085Z"
   },
   {
    "duration": 189,
    "start_time": "2022-01-12T16:00:17.459Z"
   },
   {
    "duration": 173,
    "start_time": "2022-01-12T16:00:20.268Z"
   },
   {
    "duration": 186,
    "start_time": "2022-01-12T16:00:30.959Z"
   },
   {
    "duration": 417,
    "start_time": "2022-01-12T16:00:44.343Z"
   },
   {
    "duration": 11,
    "start_time": "2022-01-12T16:01:12.106Z"
   },
   {
    "duration": 175,
    "start_time": "2022-01-12T16:01:12.949Z"
   },
   {
    "duration": 176,
    "start_time": "2022-01-12T16:02:57.000Z"
   },
   {
    "duration": 177,
    "start_time": "2022-01-12T16:03:04.844Z"
   },
   {
    "duration": 290,
    "start_time": "2022-01-12T16:03:11.390Z"
   },
   {
    "duration": 359,
    "start_time": "2022-01-12T16:07:27.082Z"
   },
   {
    "duration": 426,
    "start_time": "2022-01-12T16:07:58.400Z"
   },
   {
    "duration": 333,
    "start_time": "2022-01-12T16:08:05.042Z"
   },
   {
    "duration": 286,
    "start_time": "2022-01-12T16:10:36.216Z"
   },
   {
    "duration": 13,
    "start_time": "2022-01-12T16:10:41.035Z"
   },
   {
    "duration": 28,
    "start_time": "2022-01-12T16:15:53.676Z"
   },
   {
    "duration": 334,
    "start_time": "2022-01-12T16:17:09.285Z"
   },
   {
    "duration": 650,
    "start_time": "2022-01-12T16:17:28.363Z"
   },
   {
    "duration": 320,
    "start_time": "2022-01-12T16:18:13.261Z"
   },
   {
    "duration": 334,
    "start_time": "2022-01-12T16:18:22.302Z"
   },
   {
    "duration": 87,
    "start_time": "2022-01-12T16:50:26.936Z"
   },
   {
    "duration": 59,
    "start_time": "2022-01-12T16:51:01.330Z"
   },
   {
    "duration": 311,
    "start_time": "2022-01-12T16:52:53.097Z"
   },
   {
    "duration": 251,
    "start_time": "2022-01-12T16:53:24.749Z"
   },
   {
    "duration": 265,
    "start_time": "2022-01-12T16:53:42.373Z"
   },
   {
    "duration": 151,
    "start_time": "2022-01-12T16:55:21.004Z"
   },
   {
    "duration": 13,
    "start_time": "2022-01-12T16:55:23.604Z"
   },
   {
    "duration": 3,
    "start_time": "2022-01-12T16:55:25.660Z"
   },
   {
    "duration": 19,
    "start_time": "2022-01-12T16:55:27.093Z"
   },
   {
    "duration": 346,
    "start_time": "2022-01-12T16:55:27.852Z"
   },
   {
    "duration": 10,
    "start_time": "2022-01-12T16:55:28.915Z"
   },
   {
    "duration": 185,
    "start_time": "2022-01-12T16:55:29.675Z"
   },
   {
    "duration": 12,
    "start_time": "2022-01-12T16:55:32.875Z"
   },
   {
    "duration": 314,
    "start_time": "2022-01-12T16:55:33.860Z"
   },
   {
    "duration": 73,
    "start_time": "2022-01-12T16:55:36.355Z"
   },
   {
    "duration": 309,
    "start_time": "2022-01-12T16:55:38.165Z"
   },
   {
    "duration": 257,
    "start_time": "2022-01-12T16:55:44.549Z"
   },
   {
    "duration": 1533,
    "start_time": "2022-01-12T16:56:13.715Z"
   },
   {
    "duration": 12,
    "start_time": "2022-01-12T16:56:15.251Z"
   },
   {
    "duration": 36,
    "start_time": "2022-01-12T16:56:15.267Z"
   },
   {
    "duration": 21,
    "start_time": "2022-01-12T16:56:15.305Z"
   },
   {
    "duration": 45,
    "start_time": "2022-01-12T16:56:15.328Z"
   },
   {
    "duration": 8,
    "start_time": "2022-01-12T16:56:15.375Z"
   },
   {
    "duration": 38,
    "start_time": "2022-01-12T16:56:15.386Z"
   },
   {
    "duration": 18,
    "start_time": "2022-01-12T16:56:15.426Z"
   },
   {
    "duration": 19,
    "start_time": "2022-01-12T16:56:15.460Z"
   },
   {
    "duration": 18,
    "start_time": "2022-01-12T16:56:15.481Z"
   },
   {
    "duration": 18,
    "start_time": "2022-01-12T16:56:15.501Z"
   },
   {
    "duration": 55,
    "start_time": "2022-01-12T16:56:15.520Z"
   },
   {
    "duration": 6,
    "start_time": "2022-01-12T16:56:15.577Z"
   },
   {
    "duration": 10,
    "start_time": "2022-01-12T16:56:15.585Z"
   },
   {
    "duration": 15,
    "start_time": "2022-01-12T16:56:15.597Z"
   },
   {
    "duration": 13,
    "start_time": "2022-01-12T16:56:15.614Z"
   },
   {
    "duration": 17,
    "start_time": "2022-01-12T16:56:15.629Z"
   },
   {
    "duration": 15,
    "start_time": "2022-01-12T16:56:15.648Z"
   },
   {
    "duration": 239,
    "start_time": "2022-01-12T16:56:15.665Z"
   },
   {
    "duration": 12,
    "start_time": "2022-01-12T16:56:15.906Z"
   },
   {
    "duration": 11,
    "start_time": "2022-01-12T16:56:15.920Z"
   },
   {
    "duration": 364,
    "start_time": "2022-01-12T16:56:15.935Z"
   },
   {
    "duration": 3782,
    "start_time": "2022-01-12T16:56:12.520Z"
   },
   {
    "duration": 3777,
    "start_time": "2022-01-12T16:56:12.526Z"
   },
   {
    "duration": 3772,
    "start_time": "2022-01-12T16:56:12.532Z"
   },
   {
    "duration": 3767,
    "start_time": "2022-01-12T16:56:12.538Z"
   },
   {
    "duration": 3763,
    "start_time": "2022-01-12T16:56:12.543Z"
   },
   {
    "duration": 3755,
    "start_time": "2022-01-12T16:56:12.552Z"
   },
   {
    "duration": 3753,
    "start_time": "2022-01-12T16:56:12.555Z"
   },
   {
    "duration": 3749,
    "start_time": "2022-01-12T16:56:12.559Z"
   },
   {
    "duration": 3740,
    "start_time": "2022-01-12T16:56:12.569Z"
   },
   {
    "duration": 3735,
    "start_time": "2022-01-12T16:56:12.575Z"
   },
   {
    "duration": 3722,
    "start_time": "2022-01-12T16:56:12.589Z"
   },
   {
    "duration": 3717,
    "start_time": "2022-01-12T16:56:12.595Z"
   },
   {
    "duration": 18,
    "start_time": "2022-01-12T16:56:38.538Z"
   },
   {
    "duration": 357,
    "start_time": "2022-01-12T16:56:43.493Z"
   },
   {
    "duration": 384,
    "start_time": "2022-01-12T16:56:55.009Z"
   },
   {
    "duration": 9,
    "start_time": "2022-01-12T16:57:08.831Z"
   },
   {
    "duration": 190,
    "start_time": "2022-01-12T16:57:10.222Z"
   },
   {
    "duration": 14,
    "start_time": "2022-01-12T16:57:15.028Z"
   },
   {
    "duration": 260,
    "start_time": "2022-01-12T16:57:22.738Z"
   },
   {
    "duration": 82,
    "start_time": "2022-01-12T16:57:45.973Z"
   },
   {
    "duration": 153,
    "start_time": "2022-01-12T16:58:26.668Z"
   },
   {
    "duration": 11,
    "start_time": "2022-01-12T16:58:28.469Z"
   },
   {
    "duration": 3,
    "start_time": "2022-01-12T16:58:29.294Z"
   },
   {
    "duration": 16,
    "start_time": "2022-01-12T16:58:29.884Z"
   },
   {
    "duration": 371,
    "start_time": "2022-01-12T16:58:30.391Z"
   },
   {
    "duration": 9,
    "start_time": "2022-01-12T16:58:30.908Z"
   },
   {
    "duration": 178,
    "start_time": "2022-01-12T16:58:31.392Z"
   },
   {
    "duration": 12,
    "start_time": "2022-01-12T16:58:31.824Z"
   },
   {
    "duration": 78,
    "start_time": "2022-01-12T16:58:32.792Z"
   },
   {
    "duration": 153,
    "start_time": "2022-01-12T17:00:30.605Z"
   },
   {
    "duration": 12,
    "start_time": "2022-01-12T17:00:31.480Z"
   },
   {
    "duration": 22,
    "start_time": "2022-01-12T17:00:39.656Z"
   },
   {
    "duration": 385,
    "start_time": "2022-01-12T17:00:43.816Z"
   },
   {
    "duration": 294,
    "start_time": "2022-01-12T17:00:57.258Z"
   },
   {
    "duration": 9,
    "start_time": "2022-01-12T17:01:23.976Z"
   },
   {
    "duration": 246,
    "start_time": "2022-01-12T17:01:25.446Z"
   },
   {
    "duration": 12,
    "start_time": "2022-01-12T17:01:27.071Z"
   },
   {
    "duration": 76,
    "start_time": "2022-01-12T17:01:35.442Z"
   },
   {
    "duration": 1519,
    "start_time": "2022-01-12T17:01:48.873Z"
   },
   {
    "duration": 11,
    "start_time": "2022-01-12T17:01:50.394Z"
   },
   {
    "duration": 31,
    "start_time": "2022-01-12T17:01:50.407Z"
   },
   {
    "duration": 21,
    "start_time": "2022-01-12T17:01:50.440Z"
   },
   {
    "duration": 22,
    "start_time": "2022-01-12T17:01:50.463Z"
   },
   {
    "duration": 8,
    "start_time": "2022-01-12T17:01:50.487Z"
   },
   {
    "duration": 32,
    "start_time": "2022-01-12T17:01:50.497Z"
   },
   {
    "duration": 42,
    "start_time": "2022-01-12T17:01:50.532Z"
   },
   {
    "duration": 17,
    "start_time": "2022-01-12T17:01:50.576Z"
   },
   {
    "duration": 21,
    "start_time": "2022-01-12T17:01:50.595Z"
   },
   {
    "duration": 14,
    "start_time": "2022-01-12T17:01:50.618Z"
   },
   {
    "duration": 45,
    "start_time": "2022-01-12T17:01:50.634Z"
   },
   {
    "duration": 7,
    "start_time": "2022-01-12T17:01:50.681Z"
   },
   {
    "duration": 23,
    "start_time": "2022-01-12T17:01:50.690Z"
   },
   {
    "duration": 22,
    "start_time": "2022-01-12T17:01:50.714Z"
   },
   {
    "duration": 15,
    "start_time": "2022-01-12T17:01:50.737Z"
   },
   {
    "duration": 26,
    "start_time": "2022-01-12T17:01:50.754Z"
   },
   {
    "duration": 17,
    "start_time": "2022-01-12T17:01:50.782Z"
   },
   {
    "duration": 233,
    "start_time": "2022-01-12T17:01:50.801Z"
   },
   {
    "duration": 12,
    "start_time": "2022-01-12T17:01:51.035Z"
   },
   {
    "duration": 11,
    "start_time": "2022-01-12T17:01:51.049Z"
   },
   {
    "duration": 29,
    "start_time": "2022-01-12T17:01:51.062Z"
   },
   {
    "duration": 395,
    "start_time": "2022-01-12T17:01:51.094Z"
   },
   {
    "duration": 10,
    "start_time": "2022-01-12T17:01:51.491Z"
   },
   {
    "duration": 202,
    "start_time": "2022-01-12T17:01:51.503Z"
   },
   {
    "duration": 11,
    "start_time": "2022-01-12T17:01:51.707Z"
   },
   {
    "duration": 105,
    "start_time": "2022-01-12T17:01:51.720Z"
   },
   {
    "duration": 406,
    "start_time": "2022-01-12T17:01:51.827Z"
   },
   {
    "duration": 3776,
    "start_time": "2022-01-12T17:01:48.459Z"
   },
   {
    "duration": 3765,
    "start_time": "2022-01-12T17:01:48.471Z"
   },
   {
    "duration": 3761,
    "start_time": "2022-01-12T17:01:48.476Z"
   },
   {
    "duration": 3756,
    "start_time": "2022-01-12T17:01:48.482Z"
   },
   {
    "duration": 3746,
    "start_time": "2022-01-12T17:01:48.493Z"
   },
   {
    "duration": 98,
    "start_time": "2022-01-12T17:04:42.550Z"
   },
   {
    "duration": 322,
    "start_time": "2022-01-12T17:04:54.694Z"
   },
   {
    "duration": 24,
    "start_time": "2022-01-12T17:06:11.230Z"
   },
   {
    "duration": 11,
    "start_time": "2022-01-12T17:06:22.419Z"
   },
   {
    "duration": 37,
    "start_time": "2022-01-12T17:07:27.376Z"
   },
   {
    "duration": 15,
    "start_time": "2022-01-12T17:07:29.665Z"
   },
   {
    "duration": 38,
    "start_time": "2022-01-12T17:07:40.461Z"
   },
   {
    "duration": 14,
    "start_time": "2022-01-12T17:07:41.316Z"
   },
   {
    "duration": 37,
    "start_time": "2022-01-12T17:07:57.505Z"
   },
   {
    "duration": 16,
    "start_time": "2022-01-12T17:07:58.051Z"
   },
   {
    "duration": 33,
    "start_time": "2022-01-12T17:08:20.903Z"
   },
   {
    "duration": 16,
    "start_time": "2022-01-12T17:08:21.732Z"
   },
   {
    "duration": 228,
    "start_time": "2022-01-12T17:12:05.514Z"
   },
   {
    "duration": 12,
    "start_time": "2022-01-12T17:12:07.299Z"
   },
   {
    "duration": 2,
    "start_time": "2022-01-12T17:12:11.975Z"
   },
   {
    "duration": 14,
    "start_time": "2022-01-12T17:12:13.113Z"
   },
   {
    "duration": 332,
    "start_time": "2022-01-12T17:12:15.474Z"
   },
   {
    "duration": 9,
    "start_time": "2022-01-12T17:12:20.035Z"
   },
   {
    "duration": 174,
    "start_time": "2022-01-12T17:12:20.866Z"
   },
   {
    "duration": 12,
    "start_time": "2022-01-12T17:12:21.878Z"
   },
   {
    "duration": 71,
    "start_time": "2022-01-12T17:12:22.718Z"
   },
   {
    "duration": 80,
    "start_time": "2022-01-12T17:12:22.867Z"
   },
   {
    "duration": 15,
    "start_time": "2022-01-12T17:12:25.400Z"
   },
   {
    "duration": 1131,
    "start_time": "2022-01-12T17:13:16.690Z"
   },
   {
    "duration": 65,
    "start_time": "2022-01-12T17:14:06.628Z"
   },
   {
    "duration": 13,
    "start_time": "2022-01-12T17:14:12.884Z"
   },
   {
    "duration": 79,
    "start_time": "2022-01-12T17:15:22.127Z"
   },
   {
    "duration": 97,
    "start_time": "2022-01-12T17:15:28.610Z"
   },
   {
    "duration": 352,
    "start_time": "2022-01-12T17:20:41.142Z"
   },
   {
    "duration": 50,
    "start_time": "2022-01-12T17:21:07.502Z"
   },
   {
    "duration": 1655,
    "start_time": "2022-01-12T17:22:06.046Z"
   },
   {
    "duration": 11,
    "start_time": "2022-01-12T17:22:07.705Z"
   },
   {
    "duration": 33,
    "start_time": "2022-01-12T17:22:07.718Z"
   },
   {
    "duration": 22,
    "start_time": "2022-01-12T17:22:07.753Z"
   },
   {
    "duration": 20,
    "start_time": "2022-01-12T17:22:07.777Z"
   },
   {
    "duration": 8,
    "start_time": "2022-01-12T17:22:07.798Z"
   },
   {
    "duration": 58,
    "start_time": "2022-01-12T17:22:07.808Z"
   },
   {
    "duration": 17,
    "start_time": "2022-01-12T17:22:07.868Z"
   },
   {
    "duration": 16,
    "start_time": "2022-01-12T17:22:07.887Z"
   },
   {
    "duration": 14,
    "start_time": "2022-01-12T17:22:07.905Z"
   },
   {
    "duration": 44,
    "start_time": "2022-01-12T17:22:07.921Z"
   },
   {
    "duration": 31,
    "start_time": "2022-01-12T17:22:07.966Z"
   },
   {
    "duration": 7,
    "start_time": "2022-01-12T17:22:07.999Z"
   },
   {
    "duration": 10,
    "start_time": "2022-01-12T17:22:08.008Z"
   },
   {
    "duration": 51,
    "start_time": "2022-01-12T17:22:08.020Z"
   },
   {
    "duration": 7,
    "start_time": "2022-01-12T17:22:08.073Z"
   },
   {
    "duration": 6,
    "start_time": "2022-01-12T17:22:08.082Z"
   },
   {
    "duration": 9,
    "start_time": "2022-01-12T17:22:08.090Z"
   },
   {
    "duration": 263,
    "start_time": "2022-01-12T17:22:08.101Z"
   },
   {
    "duration": 13,
    "start_time": "2022-01-12T17:22:08.365Z"
   },
   {
    "duration": 2,
    "start_time": "2022-01-12T17:22:08.381Z"
   },
   {
    "duration": 25,
    "start_time": "2022-01-12T17:22:08.387Z"
   },
   {
    "duration": 397,
    "start_time": "2022-01-12T17:22:08.414Z"
   },
   {
    "duration": 9,
    "start_time": "2022-01-12T17:22:08.812Z"
   },
   {
    "duration": 193,
    "start_time": "2022-01-12T17:22:08.823Z"
   },
   {
    "duration": 12,
    "start_time": "2022-01-12T17:22:09.018Z"
   },
   {
    "duration": 109,
    "start_time": "2022-01-12T17:22:09.032Z"
   },
   {
    "duration": 94,
    "start_time": "2022-01-12T17:22:09.143Z"
   },
   {
    "duration": 22,
    "start_time": "2022-01-12T17:22:09.239Z"
   },
   {
    "duration": 105,
    "start_time": "2022-01-12T17:22:09.263Z"
   },
   {
    "duration": 52,
    "start_time": "2022-01-12T17:22:09.370Z"
   },
   {
    "duration": 396,
    "start_time": "2022-01-12T17:22:09.424Z"
   },
   {
    "duration": 3803,
    "start_time": "2022-01-12T17:22:06.020Z"
   },
   {
    "duration": 3795,
    "start_time": "2022-01-12T17:22:06.029Z"
   },
   {
    "duration": 3787,
    "start_time": "2022-01-12T17:22:06.039Z"
   },
   {
    "duration": 3766,
    "start_time": "2022-01-12T17:22:06.061Z"
   },
   {
    "duration": 3757,
    "start_time": "2022-01-12T17:22:06.072Z"
   },
   {
    "duration": 276,
    "start_time": "2022-01-12T17:30:57.220Z"
   },
   {
    "duration": 23,
    "start_time": "2022-01-12T17:31:31.177Z"
   },
   {
    "duration": 24,
    "start_time": "2022-01-12T17:32:28.133Z"
   },
   {
    "duration": 328,
    "start_time": "2022-01-12T17:43:24.037Z"
   },
   {
    "duration": 250,
    "start_time": "2022-01-12T18:12:39.580Z"
   },
   {
    "duration": 262,
    "start_time": "2022-01-12T18:13:33.672Z"
   },
   {
    "duration": 247,
    "start_time": "2022-01-12T18:14:21.147Z"
   },
   {
    "duration": 264,
    "start_time": "2022-01-12T18:16:00.978Z"
   },
   {
    "duration": 751,
    "start_time": "2022-01-12T18:16:37.121Z"
   },
   {
    "duration": 1989,
    "start_time": "2022-01-12T18:16:55.759Z"
   },
   {
    "duration": 15,
    "start_time": "2022-01-12T18:16:57.751Z"
   },
   {
    "duration": 54,
    "start_time": "2022-01-12T18:16:57.769Z"
   },
   {
    "duration": 42,
    "start_time": "2022-01-12T18:16:57.825Z"
   },
   {
    "duration": 35,
    "start_time": "2022-01-12T18:16:57.869Z"
   },
   {
    "duration": 12,
    "start_time": "2022-01-12T18:16:57.906Z"
   },
   {
    "duration": 48,
    "start_time": "2022-01-12T18:16:57.920Z"
   },
   {
    "duration": 19,
    "start_time": "2022-01-12T18:16:57.970Z"
   },
   {
    "duration": 20,
    "start_time": "2022-01-12T18:16:57.991Z"
   },
   {
    "duration": 18,
    "start_time": "2022-01-12T18:16:58.013Z"
   },
   {
    "duration": 37,
    "start_time": "2022-01-12T18:16:58.032Z"
   },
   {
    "duration": 45,
    "start_time": "2022-01-12T18:16:58.071Z"
   },
   {
    "duration": 8,
    "start_time": "2022-01-12T18:16:58.118Z"
   },
   {
    "duration": 26,
    "start_time": "2022-01-12T18:16:58.128Z"
   },
   {
    "duration": 25,
    "start_time": "2022-01-12T18:16:58.160Z"
   },
   {
    "duration": 9,
    "start_time": "2022-01-12T18:16:58.187Z"
   },
   {
    "duration": 22,
    "start_time": "2022-01-12T18:16:58.199Z"
   },
   {
    "duration": 36,
    "start_time": "2022-01-12T18:16:58.223Z"
   },
   {
    "duration": 261,
    "start_time": "2022-01-12T18:16:58.261Z"
   },
   {
    "duration": 11,
    "start_time": "2022-01-12T18:16:58.524Z"
   },
   {
    "duration": 17,
    "start_time": "2022-01-12T18:16:58.537Z"
   },
   {
    "duration": 42,
    "start_time": "2022-01-12T18:16:58.556Z"
   },
   {
    "duration": 393,
    "start_time": "2022-01-12T18:16:58.603Z"
   },
   {
    "duration": 9,
    "start_time": "2022-01-12T18:16:58.999Z"
   },
   {
    "duration": 196,
    "start_time": "2022-01-12T18:16:59.010Z"
   },
   {
    "duration": 11,
    "start_time": "2022-01-12T18:16:59.208Z"
   },
   {
    "duration": 97,
    "start_time": "2022-01-12T18:16:59.221Z"
   },
   {
    "duration": 91,
    "start_time": "2022-01-12T18:16:59.320Z"
   },
   {
    "duration": 13,
    "start_time": "2022-01-12T18:16:59.413Z"
   },
   {
    "duration": 112,
    "start_time": "2022-01-12T18:16:59.428Z"
   },
   {
    "duration": 64,
    "start_time": "2022-01-12T18:16:59.542Z"
   },
   {
    "duration": 54,
    "start_time": "2022-01-12T18:16:59.608Z"
   },
   {
    "duration": 3,
    "start_time": "2022-01-12T18:16:59.664Z"
   },
   {
    "duration": 447,
    "start_time": "2022-01-12T18:16:59.668Z"
   },
   {
    "duration": 3575,
    "start_time": "2022-01-12T18:16:56.542Z"
   },
   {
    "duration": 3571,
    "start_time": "2022-01-12T18:16:56.547Z"
   },
   {
    "duration": 3569,
    "start_time": "2022-01-12T18:16:56.550Z"
   },
   {
    "duration": 3564,
    "start_time": "2022-01-12T18:16:56.556Z"
   },
   {
    "duration": 3561,
    "start_time": "2022-01-12T18:16:56.560Z"
   },
   {
    "duration": 3557,
    "start_time": "2022-01-12T18:16:56.565Z"
   },
   {
    "duration": 266,
    "start_time": "2022-01-12T18:17:26.537Z"
   },
   {
    "duration": 283,
    "start_time": "2022-01-12T18:22:55.965Z"
   },
   {
    "duration": 9,
    "start_time": "2022-01-12T18:23:14.071Z"
   },
   {
    "duration": 12,
    "start_time": "2022-01-12T18:23:21.838Z"
   },
   {
    "duration": 254,
    "start_time": "2022-01-12T18:24:24.527Z"
   },
   {
    "duration": 256,
    "start_time": "2022-01-12T18:24:31.525Z"
   },
   {
    "duration": 106,
    "start_time": "2022-01-12T18:27:15.851Z"
   },
   {
    "duration": 282,
    "start_time": "2022-01-12T18:28:06.343Z"
   },
   {
    "duration": 261,
    "start_time": "2022-01-12T18:28:18.032Z"
   },
   {
    "duration": 301,
    "start_time": "2022-01-12T18:28:30.807Z"
   },
   {
    "duration": 265,
    "start_time": "2022-01-12T18:30:14.058Z"
   },
   {
    "duration": 385,
    "start_time": "2022-01-12T18:30:54.764Z"
   },
   {
    "duration": 412,
    "start_time": "2022-01-12T18:31:02.366Z"
   },
   {
    "duration": 436,
    "start_time": "2022-01-12T18:31:10.093Z"
   },
   {
    "duration": 1666,
    "start_time": "2022-01-12T18:33:41.753Z"
   },
   {
    "duration": 13,
    "start_time": "2022-01-12T18:33:43.423Z"
   },
   {
    "duration": 43,
    "start_time": "2022-01-12T18:33:43.439Z"
   },
   {
    "duration": 36,
    "start_time": "2022-01-12T18:33:43.484Z"
   },
   {
    "duration": 43,
    "start_time": "2022-01-12T18:33:43.522Z"
   },
   {
    "duration": 9,
    "start_time": "2022-01-12T18:33:43.567Z"
   },
   {
    "duration": 39,
    "start_time": "2022-01-12T18:33:43.577Z"
   },
   {
    "duration": 42,
    "start_time": "2022-01-12T18:33:43.619Z"
   },
   {
    "duration": 18,
    "start_time": "2022-01-12T18:33:43.663Z"
   },
   {
    "duration": 15,
    "start_time": "2022-01-12T18:33:43.683Z"
   },
   {
    "duration": 14,
    "start_time": "2022-01-12T18:33:43.700Z"
   },
   {
    "duration": 63,
    "start_time": "2022-01-12T18:33:43.716Z"
   },
   {
    "duration": 8,
    "start_time": "2022-01-12T18:33:43.780Z"
   },
   {
    "duration": 10,
    "start_time": "2022-01-12T18:33:43.790Z"
   },
   {
    "duration": 15,
    "start_time": "2022-01-12T18:33:43.802Z"
   },
   {
    "duration": 8,
    "start_time": "2022-01-12T18:33:43.819Z"
   },
   {
    "duration": 8,
    "start_time": "2022-01-12T18:33:43.829Z"
   },
   {
    "duration": 8,
    "start_time": "2022-01-12T18:33:43.861Z"
   },
   {
    "duration": 389,
    "start_time": "2022-01-12T18:33:43.871Z"
   },
   {
    "duration": 13,
    "start_time": "2022-01-12T18:33:44.263Z"
   },
   {
    "duration": 7,
    "start_time": "2022-01-12T18:33:44.278Z"
   },
   {
    "duration": 26,
    "start_time": "2022-01-12T18:33:44.286Z"
   },
   {
    "duration": 386,
    "start_time": "2022-01-12T18:33:44.314Z"
   },
   {
    "duration": 9,
    "start_time": "2022-01-12T18:33:44.703Z"
   },
   {
    "duration": 235,
    "start_time": "2022-01-12T18:33:44.714Z"
   },
   {
    "duration": 16,
    "start_time": "2022-01-12T18:33:44.953Z"
   },
   {
    "duration": 129,
    "start_time": "2022-01-12T18:33:44.972Z"
   },
   {
    "duration": 96,
    "start_time": "2022-01-12T18:33:45.103Z"
   },
   {
    "duration": 12,
    "start_time": "2022-01-12T18:33:45.201Z"
   },
   {
    "duration": 115,
    "start_time": "2022-01-12T18:33:45.215Z"
   },
   {
    "duration": 59,
    "start_time": "2022-01-12T18:33:45.332Z"
   },
   {
    "duration": 44,
    "start_time": "2022-01-12T18:33:45.393Z"
   },
   {
    "duration": 2,
    "start_time": "2022-01-12T18:33:45.439Z"
   },
   {
    "duration": 359,
    "start_time": "2022-01-12T18:33:45.443Z"
   },
   {
    "duration": 3855,
    "start_time": "2022-01-12T18:33:41.949Z"
   },
   {
    "duration": 3843,
    "start_time": "2022-01-12T18:33:41.962Z"
   },
   {
    "duration": 3828,
    "start_time": "2022-01-12T18:33:41.978Z"
   },
   {
    "duration": 12,
    "start_time": "2022-01-12T18:34:44.154Z"
   },
   {
    "duration": 15,
    "start_time": "2022-01-12T18:34:46.134Z"
   },
   {
    "duration": 263,
    "start_time": "2022-01-12T18:35:05.553Z"
   },
   {
    "duration": 297,
    "start_time": "2022-01-12T18:35:40.154Z"
   },
   {
    "duration": 11,
    "start_time": "2022-01-12T18:36:03.225Z"
   },
   {
    "duration": 17,
    "start_time": "2022-01-12T18:36:04.952Z"
   },
   {
    "duration": 11,
    "start_time": "2022-01-12T18:36:39.618Z"
   },
   {
    "duration": 16,
    "start_time": "2022-01-12T18:36:45.115Z"
   },
   {
    "duration": 6,
    "start_time": "2022-01-12T18:49:55.661Z"
   },
   {
    "duration": 21,
    "start_time": "2022-01-12T18:55:50.468Z"
   },
   {
    "duration": 9,
    "start_time": "2022-01-12T18:59:14.402Z"
   },
   {
    "duration": 11,
    "start_time": "2022-01-12T19:01:32.166Z"
   },
   {
    "duration": 10,
    "start_time": "2022-01-12T19:01:33.264Z"
   },
   {
    "duration": 13,
    "start_time": "2022-01-12T19:01:34.157Z"
   },
   {
    "duration": 6,
    "start_time": "2022-01-12T19:01:50.777Z"
   },
   {
    "duration": 20,
    "start_time": "2022-01-12T19:02:19.424Z"
   },
   {
    "duration": 256,
    "start_time": "2022-01-12T19:22:11.958Z"
   },
   {
    "duration": 28,
    "start_time": "2022-01-12T19:22:39.260Z"
   },
   {
    "duration": 6,
    "start_time": "2022-01-12T19:22:46.376Z"
   },
   {
    "duration": 12,
    "start_time": "2022-01-12T19:23:01.910Z"
   },
   {
    "duration": 1557,
    "start_time": "2022-01-13T07:55:11.548Z"
   },
   {
    "duration": 11,
    "start_time": "2022-01-13T07:55:13.107Z"
   },
   {
    "duration": 39,
    "start_time": "2022-01-13T07:55:13.120Z"
   },
   {
    "duration": 20,
    "start_time": "2022-01-13T07:55:13.161Z"
   },
   {
    "duration": 19,
    "start_time": "2022-01-13T07:55:13.183Z"
   },
   {
    "duration": 8,
    "start_time": "2022-01-13T07:55:13.204Z"
   },
   {
    "duration": 48,
    "start_time": "2022-01-13T07:55:13.214Z"
   },
   {
    "duration": 17,
    "start_time": "2022-01-13T07:55:13.264Z"
   },
   {
    "duration": 17,
    "start_time": "2022-01-13T07:55:13.284Z"
   },
   {
    "duration": 15,
    "start_time": "2022-01-13T07:55:13.303Z"
   },
   {
    "duration": 43,
    "start_time": "2022-01-13T07:55:13.319Z"
   },
   {
    "duration": 30,
    "start_time": "2022-01-13T07:55:13.364Z"
   },
   {
    "duration": 7,
    "start_time": "2022-01-13T07:55:13.396Z"
   },
   {
    "duration": 14,
    "start_time": "2022-01-13T07:55:13.405Z"
   },
   {
    "duration": 21,
    "start_time": "2022-01-13T07:55:13.421Z"
   },
   {
    "duration": 6,
    "start_time": "2022-01-13T07:55:13.460Z"
   },
   {
    "duration": 27,
    "start_time": "2022-01-13T07:55:13.468Z"
   },
   {
    "duration": 27,
    "start_time": "2022-01-13T07:55:13.497Z"
   },
   {
    "duration": 242,
    "start_time": "2022-01-13T07:55:13.526Z"
   },
   {
    "duration": 11,
    "start_time": "2022-01-13T07:55:13.770Z"
   },
   {
    "duration": 4,
    "start_time": "2022-01-13T07:55:13.783Z"
   },
   {
    "duration": 22,
    "start_time": "2022-01-13T07:55:13.789Z"
   },
   {
    "duration": 379,
    "start_time": "2022-01-13T07:55:13.813Z"
   },
   {
    "duration": 9,
    "start_time": "2022-01-13T07:55:14.194Z"
   },
   {
    "duration": 182,
    "start_time": "2022-01-13T07:55:14.205Z"
   },
   {
    "duration": 13,
    "start_time": "2022-01-13T07:55:14.389Z"
   },
   {
    "duration": 103,
    "start_time": "2022-01-13T07:55:14.405Z"
   },
   {
    "duration": 88,
    "start_time": "2022-01-13T07:55:14.510Z"
   },
   {
    "duration": 14,
    "start_time": "2022-01-13T07:55:14.599Z"
   },
   {
    "duration": 103,
    "start_time": "2022-01-13T07:55:14.614Z"
   },
   {
    "duration": 53,
    "start_time": "2022-01-13T07:55:14.718Z"
   },
   {
    "duration": 39,
    "start_time": "2022-01-13T07:55:14.773Z"
   },
   {
    "duration": 2,
    "start_time": "2022-01-13T07:55:14.814Z"
   },
   {
    "duration": 21,
    "start_time": "2022-01-13T07:55:14.818Z"
   },
   {
    "duration": 25,
    "start_time": "2022-01-13T07:55:14.841Z"
   },
   {
    "duration": 20,
    "start_time": "2022-01-13T07:55:14.868Z"
   },
   {
    "duration": 14,
    "start_time": "2022-01-13T07:55:14.889Z"
   },
   {
    "duration": 6460,
    "start_time": "2022-01-13T07:55:14.905Z"
   },
   {
    "duration": 4394,
    "start_time": "2022-01-13T07:55:16.973Z"
   },
   {
    "duration": 4384,
    "start_time": "2022-01-13T07:55:16.984Z"
   },
   {
    "duration": 4381,
    "start_time": "2022-01-13T07:55:16.988Z"
   },
   {
    "duration": 4377,
    "start_time": "2022-01-13T07:55:16.993Z"
   },
   {
    "duration": 28,
    "start_time": "2022-01-13T07:55:35.162Z"
   },
   {
    "duration": 6,
    "start_time": "2022-01-13T07:55:36.645Z"
   },
   {
    "duration": 14,
    "start_time": "2022-01-13T07:55:37.476Z"
   },
   {
    "duration": 88,
    "start_time": "2022-01-13T08:20:54.675Z"
   },
   {
    "duration": 77,
    "start_time": "2022-01-13T08:21:02.618Z"
   },
   {
    "duration": 9,
    "start_time": "2022-01-13T08:21:19.893Z"
   },
   {
    "duration": 13,
    "start_time": "2022-01-13T08:21:37.518Z"
   },
   {
    "duration": 89,
    "start_time": "2022-01-13T08:22:19.611Z"
   },
   {
    "duration": 84,
    "start_time": "2022-01-13T08:22:39.216Z"
   },
   {
    "duration": 80,
    "start_time": "2022-01-13T08:23:18.997Z"
   },
   {
    "duration": 259,
    "start_time": "2022-01-13T08:23:26.185Z"
   },
   {
    "duration": 405,
    "start_time": "2022-01-13T08:26:23.440Z"
   },
   {
    "duration": 330,
    "start_time": "2022-01-13T08:26:28.040Z"
   },
   {
    "duration": 9,
    "start_time": "2022-01-13T08:26:41.592Z"
   },
   {
    "duration": 13,
    "start_time": "2022-01-13T08:26:48.371Z"
   },
   {
    "duration": 268,
    "start_time": "2022-01-13T08:33:04.318Z"
   },
   {
    "duration": 263,
    "start_time": "2022-01-13T08:33:36.124Z"
   },
   {
    "duration": 58,
    "start_time": "2022-01-13T08:49:37.167Z"
   },
   {
    "duration": 16,
    "start_time": "2022-01-13T08:49:38.016Z"
   },
   {
    "duration": 82,
    "start_time": "2022-01-13T08:50:52.517Z"
   },
   {
    "duration": 48,
    "start_time": "2022-01-13T08:50:58.939Z"
   },
   {
    "duration": 48,
    "start_time": "2022-01-13T08:50:59.600Z"
   },
   {
    "duration": 2,
    "start_time": "2022-01-13T08:51:02.279Z"
   },
   {
    "duration": 12,
    "start_time": "2022-01-13T08:51:09.200Z"
   },
   {
    "duration": 12,
    "start_time": "2022-01-13T08:51:11.284Z"
   },
   {
    "duration": 14,
    "start_time": "2022-01-13T08:51:12.437Z"
   },
   {
    "duration": 95,
    "start_time": "2022-01-13T08:52:36.917Z"
   },
   {
    "duration": 52,
    "start_time": "2022-01-13T08:52:50.033Z"
   },
   {
    "duration": 47,
    "start_time": "2022-01-13T08:52:52.180Z"
   },
   {
    "duration": 2,
    "start_time": "2022-01-13T08:52:57.882Z"
   },
   {
    "duration": 13,
    "start_time": "2022-01-13T08:53:09.691Z"
   },
   {
    "duration": 14,
    "start_time": "2022-01-13T08:53:11.275Z"
   },
   {
    "duration": 12,
    "start_time": "2022-01-13T08:53:13.893Z"
   },
   {
    "duration": 87,
    "start_time": "2022-01-13T08:53:46.582Z"
   },
   {
    "duration": 17,
    "start_time": "2022-01-13T08:54:27.858Z"
   },
   {
    "duration": 13,
    "start_time": "2022-01-13T08:54:29.043Z"
   },
   {
    "duration": 21,
    "start_time": "2022-01-13T08:54:30.059Z"
   },
   {
    "duration": 6,
    "start_time": "2022-01-13T08:58:13.822Z"
   },
   {
    "duration": 31,
    "start_time": "2022-01-13T08:58:18.171Z"
   },
   {
    "duration": 6752,
    "start_time": "2022-01-13T08:58:41.613Z"
   },
   {
    "duration": 14,
    "start_time": "2022-01-13T08:59:13.374Z"
   },
   {
    "duration": 13,
    "start_time": "2022-01-13T08:59:17.666Z"
   },
   {
    "duration": 41,
    "start_time": "2022-01-13T08:59:20.720Z"
   },
   {
    "duration": 7,
    "start_time": "2022-01-13T08:59:22.957Z"
   },
   {
    "duration": 17,
    "start_time": "2022-01-13T08:59:25.412Z"
   },
   {
    "duration": 3,
    "start_time": "2022-01-13T09:08:45.800Z"
   },
   {
    "duration": 362,
    "start_time": "2022-01-13T09:08:48.529Z"
   },
   {
    "duration": 4,
    "start_time": "2022-01-13T09:09:22.366Z"
   },
   {
    "duration": 283,
    "start_time": "2022-01-13T09:09:23.291Z"
   },
   {
    "duration": 3,
    "start_time": "2022-01-13T09:13:59.882Z"
   },
   {
    "duration": 7671,
    "start_time": "2022-01-13T09:14:00.774Z"
   },
   {
    "duration": 3,
    "start_time": "2022-01-13T09:14:45.375Z"
   },
   {
    "duration": 7624,
    "start_time": "2022-01-13T09:14:46.063Z"
   },
   {
    "duration": 342,
    "start_time": "2022-01-13T09:16:08.366Z"
   },
   {
    "duration": 7448,
    "start_time": "2022-01-13T09:53:43.065Z"
   },
   {
    "duration": 6757,
    "start_time": "2022-01-13T09:54:33.205Z"
   },
   {
    "duration": 7200,
    "start_time": "2022-01-13T09:54:52.695Z"
   },
   {
    "duration": 6461,
    "start_time": "2022-01-13T09:55:06.983Z"
   },
   {
    "duration": 4480,
    "start_time": "2022-01-13T09:55:44.719Z"
   },
   {
    "duration": 259,
    "start_time": "2022-01-13T09:55:54.462Z"
   },
   {
    "duration": 5452,
    "start_time": "2022-01-13T09:58:43.970Z"
   },
   {
    "duration": 6981,
    "start_time": "2022-01-13T09:58:50.112Z"
   },
   {
    "duration": 6938,
    "start_time": "2022-01-13T09:59:25.220Z"
   },
   {
    "duration": 1711,
    "start_time": "2022-01-13T09:59:39.299Z"
   },
   {
    "duration": 13,
    "start_time": "2022-01-13T09:59:41.012Z"
   },
   {
    "duration": 57,
    "start_time": "2022-01-13T09:59:41.027Z"
   },
   {
    "duration": 21,
    "start_time": "2022-01-13T09:59:41.087Z"
   },
   {
    "duration": 31,
    "start_time": "2022-01-13T09:59:41.110Z"
   },
   {
    "duration": 14,
    "start_time": "2022-01-13T09:59:41.143Z"
   },
   {
    "duration": 63,
    "start_time": "2022-01-13T09:59:41.159Z"
   },
   {
    "duration": 17,
    "start_time": "2022-01-13T09:59:41.225Z"
   },
   {
    "duration": 45,
    "start_time": "2022-01-13T09:59:41.245Z"
   },
   {
    "duration": 16,
    "start_time": "2022-01-13T09:59:41.292Z"
   },
   {
    "duration": 32,
    "start_time": "2022-01-13T09:59:41.310Z"
   },
   {
    "duration": 62,
    "start_time": "2022-01-13T09:59:41.344Z"
   },
   {
    "duration": 7,
    "start_time": "2022-01-13T09:59:41.408Z"
   },
   {
    "duration": 30,
    "start_time": "2022-01-13T09:59:41.417Z"
   },
   {
    "duration": 30,
    "start_time": "2022-01-13T09:59:41.449Z"
   },
   {
    "duration": 30,
    "start_time": "2022-01-13T09:59:41.481Z"
   },
   {
    "duration": 25,
    "start_time": "2022-01-13T09:59:41.513Z"
   },
   {
    "duration": 29,
    "start_time": "2022-01-13T09:59:41.540Z"
   },
   {
    "duration": 272,
    "start_time": "2022-01-13T09:59:41.571Z"
   },
   {
    "duration": 11,
    "start_time": "2022-01-13T09:59:41.845Z"
   },
   {
    "duration": 26,
    "start_time": "2022-01-13T09:59:41.861Z"
   },
   {
    "duration": 79,
    "start_time": "2022-01-13T09:59:41.888Z"
   },
   {
    "duration": 456,
    "start_time": "2022-01-13T09:59:41.973Z"
   },
   {
    "duration": 9,
    "start_time": "2022-01-13T09:59:42.431Z"
   },
   {
    "duration": 211,
    "start_time": "2022-01-13T09:59:42.441Z"
   },
   {
    "duration": 16,
    "start_time": "2022-01-13T09:59:42.654Z"
   },
   {
    "duration": 109,
    "start_time": "2022-01-13T09:59:42.672Z"
   },
   {
    "duration": 113,
    "start_time": "2022-01-13T09:59:42.783Z"
   },
   {
    "duration": 17,
    "start_time": "2022-01-13T09:59:42.898Z"
   },
   {
    "duration": 140,
    "start_time": "2022-01-13T09:59:42.917Z"
   },
   {
    "duration": 55,
    "start_time": "2022-01-13T09:59:43.061Z"
   },
   {
    "duration": 72,
    "start_time": "2022-01-13T09:59:43.117Z"
   },
   {
    "duration": 2,
    "start_time": "2022-01-13T09:59:43.191Z"
   },
   {
    "duration": 29,
    "start_time": "2022-01-13T09:59:43.195Z"
   },
   {
    "duration": 29,
    "start_time": "2022-01-13T09:59:43.226Z"
   },
   {
    "duration": 45,
    "start_time": "2022-01-13T09:59:43.257Z"
   },
   {
    "duration": 29,
    "start_time": "2022-01-13T09:59:43.304Z"
   },
   {
    "duration": 60,
    "start_time": "2022-01-13T09:59:43.335Z"
   },
   {
    "duration": 21,
    "start_time": "2022-01-13T09:59:43.397Z"
   },
   {
    "duration": 59,
    "start_time": "2022-01-13T09:59:43.420Z"
   },
   {
    "duration": 7143,
    "start_time": "2022-01-13T09:59:43.481Z"
   },
   {
    "duration": 4410,
    "start_time": "2022-01-13T09:59:46.216Z"
   },
   {
    "duration": 4394,
    "start_time": "2022-01-13T09:59:46.233Z"
   },
   {
    "duration": 4392,
    "start_time": "2022-01-13T09:59:46.236Z"
   },
   {
    "duration": 4387,
    "start_time": "2022-01-13T09:59:46.242Z"
   },
   {
    "duration": 4379,
    "start_time": "2022-01-13T09:59:46.251Z"
   },
   {
    "duration": 4374,
    "start_time": "2022-01-13T09:59:46.257Z"
   },
   {
    "duration": 33,
    "start_time": "2022-01-13T10:00:06.289Z"
   },
   {
    "duration": 6811,
    "start_time": "2022-01-13T10:00:27.396Z"
   },
   {
    "duration": 8,
    "start_time": "2022-01-13T10:11:56.790Z"
   },
   {
    "duration": 6689,
    "start_time": "2022-01-13T10:13:56.683Z"
   },
   {
    "duration": 3135,
    "start_time": "2022-01-13T10:15:09.956Z"
   },
   {
    "duration": 2477,
    "start_time": "2022-01-13T10:15:29.752Z"
   },
   {
    "duration": 19,
    "start_time": "2022-01-13T10:15:34.970Z"
   },
   {
    "duration": 15,
    "start_time": "2022-01-13T10:15:44.641Z"
   },
   {
    "duration": 6209,
    "start_time": "2022-01-13T10:20:42.684Z"
   },
   {
    "duration": 270,
    "start_time": "2022-01-13T10:20:53.736Z"
   },
   {
    "duration": 274,
    "start_time": "2022-01-13T10:21:00.984Z"
   },
   {
    "duration": 6939,
    "start_time": "2022-01-13T10:21:06.381Z"
   },
   {
    "duration": 289,
    "start_time": "2022-01-13T10:21:38.762Z"
   },
   {
    "duration": 5674,
    "start_time": "2022-01-13T10:21:52.933Z"
   },
   {
    "duration": 7210,
    "start_time": "2022-01-13T10:22:12.684Z"
   },
   {
    "duration": 26,
    "start_time": "2022-01-13T10:22:25.377Z"
   },
   {
    "duration": 12,
    "start_time": "2022-01-13T10:22:34.204Z"
   },
   {
    "duration": 8022,
    "start_time": "2022-01-13T10:22:45.292Z"
   },
   {
    "duration": 4440,
    "start_time": "2022-01-13T10:23:03.903Z"
   },
   {
    "duration": 285,
    "start_time": "2022-01-13T10:23:12.406Z"
   },
   {
    "duration": 12,
    "start_time": "2022-01-13T10:23:17.732Z"
   },
   {
    "duration": 8,
    "start_time": "2022-01-13T10:24:22.888Z"
   },
   {
    "duration": 7319,
    "start_time": "2022-01-13T10:25:13.089Z"
   },
   {
    "duration": 13,
    "start_time": "2022-01-13T10:25:26.518Z"
   },
   {
    "duration": 10,
    "start_time": "2022-01-13T10:38:40.529Z"
   },
   {
    "duration": 5462,
    "start_time": "2022-01-13T10:38:51.894Z"
   },
   {
    "duration": 99,
    "start_time": "2022-01-13T10:39:18.753Z"
   },
   {
    "duration": 18,
    "start_time": "2022-01-13T10:39:24.934Z"
   },
   {
    "duration": 13,
    "start_time": "2022-01-13T10:39:37.217Z"
   },
   {
    "duration": 11,
    "start_time": "2022-01-13T10:39:56.387Z"
   },
   {
    "duration": 15,
    "start_time": "2022-01-13T10:40:08.482Z"
   },
   {
    "duration": 14,
    "start_time": "2022-01-13T10:40:44.557Z"
   },
   {
    "duration": 11,
    "start_time": "2022-01-13T10:40:50.413Z"
   },
   {
    "duration": 10192,
    "start_time": "2022-01-13T10:40:55.000Z"
   },
   {
    "duration": 12,
    "start_time": "2022-01-13T10:41:06.094Z"
   },
   {
    "duration": 391,
    "start_time": "2022-01-13T10:57:37.126Z"
   },
   {
    "duration": 482,
    "start_time": "2022-01-13T10:59:51.605Z"
   },
   {
    "duration": 272,
    "start_time": "2022-01-13T11:00:05.761Z"
   },
   {
    "duration": 305,
    "start_time": "2022-01-13T11:00:36.459Z"
   },
   {
    "duration": 5,
    "start_time": "2022-01-13T11:00:41.909Z"
   },
   {
    "duration": 10,
    "start_time": "2022-01-13T11:00:53.209Z"
   },
   {
    "duration": 6,
    "start_time": "2022-01-13T11:01:07.961Z"
   },
   {
    "duration": 5,
    "start_time": "2022-01-13T11:01:17.734Z"
   },
   {
    "duration": 5,
    "start_time": "2022-01-13T11:01:23.024Z"
   },
   {
    "duration": 4,
    "start_time": "2022-01-13T11:01:26.687Z"
   },
   {
    "duration": 10,
    "start_time": "2022-01-13T11:01:30.266Z"
   },
   {
    "duration": 13,
    "start_time": "2022-01-13T11:01:42.552Z"
   },
   {
    "duration": 4,
    "start_time": "2022-01-13T11:02:37.438Z"
   },
   {
    "duration": 360,
    "start_time": "2022-01-13T11:16:03.838Z"
   },
   {
    "duration": 408,
    "start_time": "2022-01-13T11:16:20.017Z"
   },
   {
    "duration": 401,
    "start_time": "2022-01-13T11:16:24.478Z"
   },
   {
    "duration": 389,
    "start_time": "2022-01-13T11:16:32.020Z"
   },
   {
    "duration": 1025,
    "start_time": "2022-01-13T11:19:33.659Z"
   },
   {
    "duration": 17,
    "start_time": "2022-01-13T11:19:47.531Z"
   },
   {
    "duration": 12,
    "start_time": "2022-01-13T12:55:41.004Z"
   },
   {
    "duration": 10,
    "start_time": "2022-01-13T12:55:52.025Z"
   },
   {
    "duration": 86,
    "start_time": "2022-01-13T12:56:16.923Z"
   },
   {
    "duration": 19,
    "start_time": "2022-01-13T12:56:24.072Z"
   },
   {
    "duration": 2220,
    "start_time": "2022-01-13T12:57:40.947Z"
   },
   {
    "duration": 1313,
    "start_time": "2022-01-13T13:01:14.381Z"
   },
   {
    "duration": 265,
    "start_time": "2022-01-13T13:04:14.379Z"
   },
   {
    "duration": 2263,
    "start_time": "2022-01-13T13:04:41.900Z"
   },
   {
    "duration": 2421,
    "start_time": "2022-01-13T13:05:02.203Z"
   },
   {
    "duration": 103,
    "start_time": "2022-01-13T13:13:54.726Z"
   },
   {
    "duration": 93,
    "start_time": "2022-01-13T13:15:35.074Z"
   },
   {
    "duration": 6969,
    "start_time": "2022-01-13T13:16:49.497Z"
   },
   {
    "duration": 1820,
    "start_time": "2022-01-13T13:17:32.282Z"
   },
   {
    "duration": 396,
    "start_time": "2022-01-13T13:20:00.188Z"
   },
   {
    "duration": 3,
    "start_time": "2022-01-13T13:20:12.595Z"
   },
   {
    "duration": 268,
    "start_time": "2022-01-13T13:30:30.974Z"
   },
   {
    "duration": 286,
    "start_time": "2022-01-13T13:31:14.605Z"
   },
   {
    "duration": 3170,
    "start_time": "2022-01-13T13:31:34.774Z"
   },
   {
    "duration": 14,
    "start_time": "2022-01-13T13:31:43.917Z"
   },
   {
    "duration": 4861,
    "start_time": "2022-01-13T13:33:30.587Z"
   },
   {
    "duration": 96,
    "start_time": "2022-01-13T13:33:52.274Z"
   },
   {
    "duration": 4853,
    "start_time": "2022-01-13T13:33:55.884Z"
   },
   {
    "duration": 5409,
    "start_time": "2022-01-13T13:34:56.256Z"
   },
   {
    "duration": 5707,
    "start_time": "2022-01-13T13:38:08.077Z"
   },
   {
    "duration": 19,
    "start_time": "2022-01-13T13:38:57.506Z"
   },
   {
    "duration": 4020,
    "start_time": "2022-01-13T13:40:19.950Z"
   },
   {
    "duration": 3159,
    "start_time": "2022-01-13T13:41:03.954Z"
   },
   {
    "duration": 8,
    "start_time": "2022-01-13T13:41:07.261Z"
   },
   {
    "duration": 3200,
    "start_time": "2022-01-13T13:41:45.440Z"
   },
   {
    "duration": 20,
    "start_time": "2022-01-13T13:41:48.642Z"
   },
   {
    "duration": 3112,
    "start_time": "2022-01-13T13:42:43.141Z"
   },
   {
    "duration": 22,
    "start_time": "2022-01-13T13:42:48.194Z"
   },
   {
    "duration": 1667,
    "start_time": "2022-01-13T14:28:58.509Z"
   },
   {
    "duration": 16,
    "start_time": "2022-01-13T14:29:00.178Z"
   },
   {
    "duration": 56,
    "start_time": "2022-01-13T14:29:00.196Z"
   },
   {
    "duration": 41,
    "start_time": "2022-01-13T14:29:00.254Z"
   },
   {
    "duration": 38,
    "start_time": "2022-01-13T14:29:00.297Z"
   },
   {
    "duration": 24,
    "start_time": "2022-01-13T14:29:00.337Z"
   },
   {
    "duration": 43,
    "start_time": "2022-01-13T14:29:00.364Z"
   },
   {
    "duration": 20,
    "start_time": "2022-01-13T14:29:00.410Z"
   },
   {
    "duration": 53,
    "start_time": "2022-01-13T14:29:00.433Z"
   },
   {
    "duration": 17,
    "start_time": "2022-01-13T14:29:00.488Z"
   },
   {
    "duration": 20,
    "start_time": "2022-01-13T14:29:00.507Z"
   },
   {
    "duration": 62,
    "start_time": "2022-01-13T14:29:00.529Z"
   },
   {
    "duration": 9,
    "start_time": "2022-01-13T14:29:00.593Z"
   },
   {
    "duration": 26,
    "start_time": "2022-01-13T14:29:00.604Z"
   },
   {
    "duration": 36,
    "start_time": "2022-01-13T14:29:00.633Z"
   },
   {
    "duration": 25,
    "start_time": "2022-01-13T14:29:00.672Z"
   },
   {
    "duration": 31,
    "start_time": "2022-01-13T14:29:00.699Z"
   },
   {
    "duration": 26,
    "start_time": "2022-01-13T14:29:00.732Z"
   },
   {
    "duration": 270,
    "start_time": "2022-01-13T14:29:00.760Z"
   },
   {
    "duration": 12,
    "start_time": "2022-01-13T14:29:01.032Z"
   },
   {
    "duration": 31,
    "start_time": "2022-01-13T14:29:01.046Z"
   },
   {
    "duration": 50,
    "start_time": "2022-01-13T14:29:01.079Z"
   },
   {
    "duration": 403,
    "start_time": "2022-01-13T14:29:01.133Z"
   },
   {
    "duration": 28,
    "start_time": "2022-01-13T14:29:01.539Z"
   },
   {
    "duration": 274,
    "start_time": "2022-01-13T14:29:01.570Z"
   },
   {
    "duration": 15,
    "start_time": "2022-01-13T14:29:01.847Z"
   },
   {
    "duration": 109,
    "start_time": "2022-01-13T14:29:01.864Z"
   },
   {
    "duration": 143,
    "start_time": "2022-01-13T14:29:01.975Z"
   },
   {
    "duration": 17,
    "start_time": "2022-01-13T14:29:02.120Z"
   },
   {
    "duration": 130,
    "start_time": "2022-01-13T14:29:02.138Z"
   },
   {
    "duration": 91,
    "start_time": "2022-01-13T14:29:02.270Z"
   },
   {
    "duration": 71,
    "start_time": "2022-01-13T14:29:02.363Z"
   },
   {
    "duration": 3,
    "start_time": "2022-01-13T14:29:02.436Z"
   },
   {
    "duration": 23,
    "start_time": "2022-01-13T14:29:02.461Z"
   },
   {
    "duration": 18,
    "start_time": "2022-01-13T14:29:02.487Z"
   },
   {
    "duration": 16,
    "start_time": "2022-01-13T14:29:02.508Z"
   },
   {
    "duration": 11,
    "start_time": "2022-01-13T14:29:02.526Z"
   },
   {
    "duration": 59,
    "start_time": "2022-01-13T14:29:02.539Z"
   },
   {
    "duration": 6,
    "start_time": "2022-01-13T14:29:02.600Z"
   },
   {
    "duration": 27,
    "start_time": "2022-01-13T14:29:02.609Z"
   },
   {
    "duration": 36,
    "start_time": "2022-01-13T14:29:02.638Z"
   },
   {
    "duration": 11,
    "start_time": "2022-01-13T14:29:02.678Z"
   },
   {
    "duration": 7,
    "start_time": "2022-01-13T14:29:02.691Z"
   },
   {
    "duration": 13,
    "start_time": "2022-01-13T14:29:02.699Z"
   },
   {
    "duration": 5321,
    "start_time": "2022-01-13T14:29:02.714Z"
   },
   {
    "duration": 31,
    "start_time": "2022-01-13T14:29:08.038Z"
   },
   {
    "duration": 111,
    "start_time": "2022-01-13T14:29:08.072Z"
   },
   {
    "duration": 95,
    "start_time": "2022-01-13T14:33:23.327Z"
   },
   {
    "duration": 4443,
    "start_time": "2022-01-13T14:33:47.533Z"
   },
   {
    "duration": 38,
    "start_time": "2022-01-13T14:35:20.964Z"
   },
   {
    "duration": 13,
    "start_time": "2022-01-13T14:35:58.516Z"
   },
   {
    "duration": 13,
    "start_time": "2022-01-13T14:36:05.813Z"
   },
   {
    "duration": 17,
    "start_time": "2022-01-13T14:39:09.795Z"
   },
   {
    "duration": 428,
    "start_time": "2022-01-13T14:39:51.972Z"
   },
   {
    "duration": 15,
    "start_time": "2022-01-13T14:41:32.593Z"
   },
   {
    "duration": 18,
    "start_time": "2022-01-13T14:41:43.059Z"
   },
   {
    "duration": 28,
    "start_time": "2022-01-13T14:42:01.720Z"
   },
   {
    "duration": 33,
    "start_time": "2022-01-13T14:43:32.973Z"
   },
   {
    "duration": 13,
    "start_time": "2022-01-13T14:43:48.527Z"
   },
   {
    "duration": 10,
    "start_time": "2022-01-13T14:45:59.812Z"
   },
   {
    "duration": 334,
    "start_time": "2022-01-13T14:46:17.925Z"
   },
   {
    "duration": 117,
    "start_time": "2022-01-13T14:46:27.937Z"
   },
   {
    "duration": 91,
    "start_time": "2022-01-13T14:46:44.223Z"
   },
   {
    "duration": 125,
    "start_time": "2022-01-13T14:46:49.709Z"
   },
   {
    "duration": 308,
    "start_time": "2022-01-13T14:46:58.675Z"
   },
   {
    "duration": 8,
    "start_time": "2022-01-13T14:47:08.825Z"
   },
   {
    "duration": 7393,
    "start_time": "2022-01-13T14:49:27.597Z"
   },
   {
    "duration": 6,
    "start_time": "2022-01-13T14:49:58.841Z"
   },
   {
    "duration": 6,
    "start_time": "2022-01-13T14:50:39.501Z"
   },
   {
    "duration": 134,
    "start_time": "2022-01-13T14:51:01.373Z"
   },
   {
    "duration": 9,
    "start_time": "2022-01-13T14:51:13.277Z"
   },
   {
    "duration": 106,
    "start_time": "2022-01-13T14:51:27.724Z"
   },
   {
    "duration": 282,
    "start_time": "2022-01-13T14:51:35.695Z"
   },
   {
    "duration": 102,
    "start_time": "2022-01-13T14:51:42.027Z"
   },
   {
    "duration": 10,
    "start_time": "2022-01-13T14:55:38.556Z"
   },
   {
    "duration": 285,
    "start_time": "2022-01-13T14:57:41.249Z"
   },
   {
    "duration": 10,
    "start_time": "2022-01-13T14:57:52.800Z"
   },
   {
    "duration": 1872,
    "start_time": "2022-01-13T14:58:10.230Z"
   },
   {
    "duration": 124,
    "start_time": "2022-01-13T14:58:19.562Z"
   },
   {
    "duration": 2008,
    "start_time": "2022-01-13T14:58:26.333Z"
   },
   {
    "duration": 94,
    "start_time": "2022-01-13T14:58:53.018Z"
   },
   {
    "duration": 7045,
    "start_time": "2022-01-13T15:03:16.488Z"
   },
   {
    "duration": 2134,
    "start_time": "2022-01-13T15:03:34.361Z"
   },
   {
    "duration": 9,
    "start_time": "2022-01-13T15:03:51.590Z"
   },
   {
    "duration": 110,
    "start_time": "2022-01-13T15:04:24.811Z"
   },
   {
    "duration": 14,
    "start_time": "2022-01-13T15:04:35.358Z"
   },
   {
    "duration": 299,
    "start_time": "2022-01-13T15:04:50.524Z"
   },
   {
    "duration": 18,
    "start_time": "2022-01-13T15:04:55.961Z"
   },
   {
    "duration": 95,
    "start_time": "2022-01-13T15:06:43.882Z"
   },
   {
    "duration": 12,
    "start_time": "2022-01-13T15:06:47.673Z"
   },
   {
    "duration": 265,
    "start_time": "2022-01-13T15:07:17.303Z"
   },
   {
    "duration": 8,
    "start_time": "2022-01-13T15:07:26.105Z"
   },
   {
    "duration": 7,
    "start_time": "2022-01-13T15:07:48.105Z"
   },
   {
    "duration": 6,
    "start_time": "2022-01-13T15:07:54.210Z"
   },
   {
    "duration": 4591,
    "start_time": "2022-01-13T15:08:04.767Z"
   },
   {
    "duration": 7,
    "start_time": "2022-01-13T15:08:11.486Z"
   },
   {
    "duration": 96,
    "start_time": "2022-01-13T15:08:38.551Z"
   },
   {
    "duration": 8,
    "start_time": "2022-01-13T15:09:05.589Z"
   },
   {
    "duration": 20,
    "start_time": "2022-01-13T15:10:50.078Z"
   },
   {
    "duration": 30,
    "start_time": "2022-01-13T15:30:33.836Z"
   },
   {
    "duration": 21,
    "start_time": "2022-01-13T15:31:05.489Z"
   },
   {
    "duration": 2131,
    "start_time": "2022-01-13T15:31:43.077Z"
   },
   {
    "duration": 17,
    "start_time": "2022-01-13T15:31:45.210Z"
   },
   {
    "duration": 56,
    "start_time": "2022-01-13T15:31:45.230Z"
   },
   {
    "duration": 35,
    "start_time": "2022-01-13T15:31:45.288Z"
   },
   {
    "duration": 39,
    "start_time": "2022-01-13T15:31:45.325Z"
   },
   {
    "duration": 13,
    "start_time": "2022-01-13T15:31:45.369Z"
   },
   {
    "duration": 33,
    "start_time": "2022-01-13T15:31:45.384Z"
   },
   {
    "duration": 46,
    "start_time": "2022-01-13T15:31:45.421Z"
   },
   {
    "duration": 21,
    "start_time": "2022-01-13T15:31:45.471Z"
   },
   {
    "duration": 23,
    "start_time": "2022-01-13T15:31:45.494Z"
   },
   {
    "duration": 31,
    "start_time": "2022-01-13T15:31:45.519Z"
   },
   {
    "duration": 44,
    "start_time": "2022-01-13T15:31:45.552Z"
   },
   {
    "duration": 13,
    "start_time": "2022-01-13T15:31:45.599Z"
   },
   {
    "duration": 30,
    "start_time": "2022-01-13T15:31:45.613Z"
   },
   {
    "duration": 43,
    "start_time": "2022-01-13T15:31:45.645Z"
   },
   {
    "duration": 48,
    "start_time": "2022-01-13T15:31:45.690Z"
   },
   {
    "duration": 52,
    "start_time": "2022-01-13T15:31:45.740Z"
   },
   {
    "duration": 37,
    "start_time": "2022-01-13T15:31:45.794Z"
   },
   {
    "duration": 277,
    "start_time": "2022-01-13T15:31:45.832Z"
   },
   {
    "duration": 11,
    "start_time": "2022-01-13T15:31:46.111Z"
   },
   {
    "duration": 17,
    "start_time": "2022-01-13T15:31:46.124Z"
   },
   {
    "duration": 66,
    "start_time": "2022-01-13T15:31:46.142Z"
   },
   {
    "duration": 409,
    "start_time": "2022-01-13T15:31:46.212Z"
   },
   {
    "duration": 10,
    "start_time": "2022-01-13T15:31:46.624Z"
   },
   {
    "duration": 246,
    "start_time": "2022-01-13T15:31:46.637Z"
   },
   {
    "duration": 13,
    "start_time": "2022-01-13T15:31:46.885Z"
   },
   {
    "duration": 100,
    "start_time": "2022-01-13T15:31:46.900Z"
   },
   {
    "duration": 120,
    "start_time": "2022-01-13T15:31:47.001Z"
   },
   {
    "duration": 14,
    "start_time": "2022-01-13T15:31:47.122Z"
   },
   {
    "duration": 137,
    "start_time": "2022-01-13T15:31:47.138Z"
   },
   {
    "duration": 61,
    "start_time": "2022-01-13T15:31:47.277Z"
   },
   {
    "duration": 57,
    "start_time": "2022-01-13T15:31:47.340Z"
   },
   {
    "duration": 2,
    "start_time": "2022-01-13T15:31:47.399Z"
   },
   {
    "duration": 36,
    "start_time": "2022-01-13T15:31:47.404Z"
   },
   {
    "duration": 22,
    "start_time": "2022-01-13T15:31:47.442Z"
   },
   {
    "duration": 37,
    "start_time": "2022-01-13T15:31:47.466Z"
   },
   {
    "duration": 34,
    "start_time": "2022-01-13T15:31:47.505Z"
   },
   {
    "duration": 65,
    "start_time": "2022-01-13T15:31:47.540Z"
   },
   {
    "duration": 5,
    "start_time": "2022-01-13T15:31:47.606Z"
   },
   {
    "duration": 30,
    "start_time": "2022-01-13T15:31:47.613Z"
   },
   {
    "duration": 42,
    "start_time": "2022-01-13T15:31:47.645Z"
   },
   {
    "duration": 34,
    "start_time": "2022-01-13T15:31:47.689Z"
   },
   {
    "duration": 3446,
    "start_time": "2022-01-13T15:31:47.725Z"
   },
   {
    "duration": 11,
    "start_time": "2022-01-13T15:31:51.174Z"
   },
   {
    "duration": 34,
    "start_time": "2022-01-13T15:31:51.187Z"
   },
   {
    "duration": 54,
    "start_time": "2022-01-13T15:31:51.223Z"
   },
   {
    "duration": 97,
    "start_time": "2022-01-13T15:31:51.279Z"
   },
   {
    "duration": 22,
    "start_time": "2022-01-13T15:36:23.323Z"
   },
   {
    "duration": 342,
    "start_time": "2022-01-13T15:52:42.680Z"
   },
   {
    "duration": 471,
    "start_time": "2022-01-13T15:52:52.676Z"
   },
   {
    "duration": 173,
    "start_time": "2022-01-13T15:54:59.901Z"
   },
   {
    "duration": 176,
    "start_time": "2022-01-13T15:55:04.838Z"
   },
   {
    "duration": 477,
    "start_time": "2022-01-13T15:55:36.739Z"
   },
   {
    "duration": 647,
    "start_time": "2022-01-13T15:56:11.834Z"
   },
   {
    "duration": 247,
    "start_time": "2022-01-13T15:56:21.639Z"
   },
   {
    "duration": 348,
    "start_time": "2022-01-13T15:56:25.142Z"
   },
   {
    "duration": 259,
    "start_time": "2022-01-13T15:56:34.401Z"
   },
   {
    "duration": 168,
    "start_time": "2022-01-13T15:56:38.569Z"
   },
   {
    "duration": 539,
    "start_time": "2022-01-13T15:57:40.069Z"
   },
   {
    "duration": 566,
    "start_time": "2022-01-13T15:59:38.597Z"
   },
   {
    "duration": 519,
    "start_time": "2022-01-13T15:59:55.058Z"
   },
   {
    "duration": 223,
    "start_time": "2022-01-13T16:00:08.512Z"
   },
   {
    "duration": 211,
    "start_time": "2022-01-13T16:00:13.600Z"
   },
   {
    "duration": 483,
    "start_time": "2022-01-13T16:01:13.531Z"
   },
   {
    "duration": 248,
    "start_time": "2022-01-13T16:01:30.865Z"
   },
   {
    "duration": 224,
    "start_time": "2022-01-13T16:01:37.479Z"
   },
   {
    "duration": 305,
    "start_time": "2022-01-13T16:01:43.178Z"
   },
   {
    "duration": 296,
    "start_time": "2022-01-13T16:01:54.625Z"
   },
   {
    "duration": 7170,
    "start_time": "2022-01-13T16:04:54.033Z"
   },
   {
    "duration": 249,
    "start_time": "2022-01-13T16:05:01.481Z"
   },
   {
    "duration": 385,
    "start_time": "2022-01-13T16:05:39.869Z"
   },
   {
    "duration": 254,
    "start_time": "2022-01-13T16:05:52.145Z"
   },
   {
    "duration": 7021,
    "start_time": "2022-01-13T16:06:47.826Z"
   },
   {
    "duration": 278,
    "start_time": "2022-01-13T16:07:12.965Z"
   },
   {
    "duration": 385,
    "start_time": "2022-01-13T16:14:15.655Z"
   },
   {
    "duration": 286,
    "start_time": "2022-01-13T16:15:00.068Z"
   },
   {
    "duration": 389,
    "start_time": "2022-01-13T16:15:06.505Z"
   },
   {
    "duration": 294,
    "start_time": "2022-01-13T16:16:00.898Z"
   },
   {
    "duration": 266,
    "start_time": "2022-01-13T16:16:26.652Z"
   },
   {
    "duration": 263,
    "start_time": "2022-01-13T16:16:34.470Z"
   },
   {
    "duration": 266,
    "start_time": "2022-01-13T16:17:19.983Z"
   },
   {
    "duration": 255,
    "start_time": "2022-01-13T16:17:48.534Z"
   },
   {
    "duration": 280,
    "start_time": "2022-01-13T16:18:00.178Z"
   },
   {
    "duration": 541,
    "start_time": "2022-01-13T16:21:53.469Z"
   },
   {
    "duration": 336,
    "start_time": "2022-01-13T16:22:18.290Z"
   },
   {
    "duration": 6403,
    "start_time": "2022-01-13T16:23:09.402Z"
   },
   {
    "duration": 552,
    "start_time": "2022-01-13T16:26:25.408Z"
   },
   {
    "duration": 256,
    "start_time": "2022-01-13T16:28:52.985Z"
   },
   {
    "duration": 83,
    "start_time": "2022-01-13T16:29:24.403Z"
   },
   {
    "duration": 261,
    "start_time": "2022-01-13T16:29:34.379Z"
   },
   {
    "duration": 184,
    "start_time": "2022-01-13T16:29:42.259Z"
   },
   {
    "duration": 166,
    "start_time": "2022-01-13T16:29:53.613Z"
   },
   {
    "duration": 292,
    "start_time": "2022-01-13T16:29:58.867Z"
   },
   {
    "duration": 12747,
    "start_time": "2022-01-13T16:30:39.033Z"
   },
   {
    "duration": 12820,
    "start_time": "2022-01-13T16:31:09.718Z"
   },
   {
    "duration": 163,
    "start_time": "2022-01-13T16:31:48.992Z"
   },
   {
    "duration": 518,
    "start_time": "2022-01-13T16:32:16.120Z"
   },
   {
    "duration": 296,
    "start_time": "2022-01-13T16:32:27.236Z"
   },
   {
    "duration": 241,
    "start_time": "2022-01-13T16:33:15.669Z"
   },
   {
    "duration": 485,
    "start_time": "2022-01-13T16:35:45.526Z"
   },
   {
    "duration": 6,
    "start_time": "2022-01-13T16:36:10.964Z"
   },
   {
    "duration": 7444,
    "start_time": "2022-01-13T16:36:46.094Z"
   },
   {
    "duration": 91,
    "start_time": "2022-01-13T16:36:58.239Z"
   },
   {
    "duration": 6178,
    "start_time": "2022-01-13T16:37:05.754Z"
   },
   {
    "duration": 7,
    "start_time": "2022-01-13T16:37:21.735Z"
   },
   {
    "duration": 6,
    "start_time": "2022-01-13T16:37:45.759Z"
   },
   {
    "duration": 6314,
    "start_time": "2022-01-13T16:37:51.595Z"
   },
   {
    "duration": 8,
    "start_time": "2022-01-13T16:39:06.609Z"
   },
   {
    "duration": 1762,
    "start_time": "2022-01-13T16:39:37.872Z"
   },
   {
    "duration": 6715,
    "start_time": "2022-01-13T16:39:45.176Z"
   },
   {
    "duration": 5,
    "start_time": "2022-01-13T16:39:54.555Z"
   },
   {
    "duration": 9,
    "start_time": "2022-01-13T16:40:06.894Z"
   },
   {
    "duration": 552,
    "start_time": "2022-01-13T16:47:58.451Z"
   },
   {
    "duration": 298,
    "start_time": "2022-01-13T16:49:02.310Z"
   },
   {
    "duration": 17,
    "start_time": "2022-01-13T16:50:24.586Z"
   },
   {
    "duration": 19,
    "start_time": "2022-01-13T16:50:27.584Z"
   },
   {
    "duration": 26,
    "start_time": "2022-01-13T16:50:30.056Z"
   },
   {
    "duration": 5,
    "start_time": "2022-01-13T16:50:32.311Z"
   },
   {
    "duration": 301,
    "start_time": "2022-01-13T16:50:35.450Z"
   },
   {
    "duration": 367,
    "start_time": "2022-01-13T17:10:34.078Z"
   },
   {
    "duration": 5605,
    "start_time": "2022-01-13T17:11:25.173Z"
   },
   {
    "duration": 469,
    "start_time": "2022-01-13T17:11:44.774Z"
   },
   {
    "duration": 5948,
    "start_time": "2022-01-13T17:12:26.674Z"
   },
   {
    "duration": 274,
    "start_time": "2022-01-13T17:12:50.008Z"
   },
   {
    "duration": 336,
    "start_time": "2022-01-13T17:13:12.274Z"
   },
   {
    "duration": 244,
    "start_time": "2022-01-13T17:13:32.702Z"
   },
   {
    "duration": 310,
    "start_time": "2022-01-13T17:14:13.291Z"
   },
   {
    "duration": 282,
    "start_time": "2022-01-13T17:14:44.986Z"
   },
   {
    "duration": 273,
    "start_time": "2022-01-13T17:14:55.635Z"
   },
   {
    "duration": 20,
    "start_time": "2022-01-13T17:20:00.843Z"
   },
   {
    "duration": 291,
    "start_time": "2022-01-13T17:21:52.904Z"
   },
   {
    "duration": 6,
    "start_time": "2022-01-13T17:22:26.559Z"
   },
   {
    "duration": 6,
    "start_time": "2022-01-13T17:23:07.049Z"
   },
   {
    "duration": 261,
    "start_time": "2022-01-13T17:24:00.988Z"
   },
   {
    "duration": 288,
    "start_time": "2022-01-13T17:25:16.081Z"
   },
   {
    "duration": 337,
    "start_time": "2022-01-13T17:25:31.497Z"
   },
   {
    "duration": 288,
    "start_time": "2022-01-13T17:25:53.188Z"
   },
   {
    "duration": 8,
    "start_time": "2022-01-13T18:26:50.981Z"
   },
   {
    "duration": 6,
    "start_time": "2022-01-13T18:29:17.540Z"
   },
   {
    "duration": 16,
    "start_time": "2022-01-13T18:29:28.736Z"
   },
   {
    "duration": 6,
    "start_time": "2022-01-13T18:29:41.430Z"
   },
   {
    "duration": 102,
    "start_time": "2022-01-13T18:33:38.387Z"
   },
   {
    "duration": 29,
    "start_time": "2022-01-13T18:33:51.997Z"
   },
   {
    "duration": 1582,
    "start_time": "2022-01-13T18:37:25.724Z"
   },
   {
    "duration": 11,
    "start_time": "2022-01-13T18:37:27.308Z"
   },
   {
    "duration": 42,
    "start_time": "2022-01-13T18:37:27.321Z"
   },
   {
    "duration": 20,
    "start_time": "2022-01-13T18:37:27.365Z"
   },
   {
    "duration": 21,
    "start_time": "2022-01-13T18:37:27.387Z"
   },
   {
    "duration": 8,
    "start_time": "2022-01-13T18:37:27.409Z"
   },
   {
    "duration": 55,
    "start_time": "2022-01-13T18:37:27.419Z"
   },
   {
    "duration": 19,
    "start_time": "2022-01-13T18:37:27.476Z"
   },
   {
    "duration": 18,
    "start_time": "2022-01-13T18:37:27.497Z"
   },
   {
    "duration": 15,
    "start_time": "2022-01-13T18:37:27.516Z"
   },
   {
    "duration": 41,
    "start_time": "2022-01-13T18:37:27.532Z"
   },
   {
    "duration": 32,
    "start_time": "2022-01-13T18:37:27.575Z"
   },
   {
    "duration": 8,
    "start_time": "2022-01-13T18:37:27.609Z"
   },
   {
    "duration": 10,
    "start_time": "2022-01-13T18:37:27.619Z"
   },
   {
    "duration": 36,
    "start_time": "2022-01-13T18:37:27.630Z"
   },
   {
    "duration": 7,
    "start_time": "2022-01-13T18:37:27.668Z"
   },
   {
    "duration": 6,
    "start_time": "2022-01-13T18:37:27.677Z"
   },
   {
    "duration": 7,
    "start_time": "2022-01-13T18:37:27.685Z"
   },
   {
    "duration": 254,
    "start_time": "2022-01-13T18:37:27.694Z"
   },
   {
    "duration": 13,
    "start_time": "2022-01-13T18:37:27.950Z"
   },
   {
    "duration": 2,
    "start_time": "2022-01-13T18:37:27.965Z"
   },
   {
    "duration": 34,
    "start_time": "2022-01-13T18:37:27.969Z"
   },
   {
    "duration": 396,
    "start_time": "2022-01-13T18:37:28.008Z"
   },
   {
    "duration": 9,
    "start_time": "2022-01-13T18:37:28.406Z"
   },
   {
    "duration": 188,
    "start_time": "2022-01-13T18:37:28.417Z"
   },
   {
    "duration": 12,
    "start_time": "2022-01-13T18:37:28.607Z"
   },
   {
    "duration": 96,
    "start_time": "2022-01-13T18:37:28.621Z"
   },
   {
    "duration": 112,
    "start_time": "2022-01-13T18:37:28.720Z"
   },
   {
    "duration": 27,
    "start_time": "2022-01-13T18:37:28.834Z"
   },
   {
    "duration": 109,
    "start_time": "2022-01-13T18:37:28.864Z"
   },
   {
    "duration": 50,
    "start_time": "2022-01-13T18:37:28.975Z"
   },
   {
    "duration": 65,
    "start_time": "2022-01-13T18:37:29.026Z"
   },
   {
    "duration": 2,
    "start_time": "2022-01-13T18:37:29.093Z"
   },
   {
    "duration": 36,
    "start_time": "2022-01-13T18:37:29.097Z"
   },
   {
    "duration": 12,
    "start_time": "2022-01-13T18:37:29.134Z"
   },
   {
    "duration": 12,
    "start_time": "2022-01-13T18:37:29.147Z"
   },
   {
    "duration": 7,
    "start_time": "2022-01-13T18:37:29.160Z"
   },
   {
    "duration": 31,
    "start_time": "2022-01-13T18:37:29.168Z"
   },
   {
    "duration": 5,
    "start_time": "2022-01-13T18:37:29.201Z"
   },
   {
    "duration": 13,
    "start_time": "2022-01-13T18:37:29.207Z"
   },
   {
    "duration": 39,
    "start_time": "2022-01-13T18:37:29.221Z"
   },
   {
    "duration": 5,
    "start_time": "2022-01-13T18:37:29.262Z"
   },
   {
    "duration": 2902,
    "start_time": "2022-01-13T18:37:29.269Z"
   },
   {
    "duration": 11,
    "start_time": "2022-01-13T18:37:32.172Z"
   },
   {
    "duration": 19,
    "start_time": "2022-01-13T18:37:32.184Z"
   },
   {
    "duration": 5,
    "start_time": "2022-01-13T18:37:32.204Z"
   },
   {
    "duration": 8,
    "start_time": "2022-01-13T18:37:32.210Z"
   },
   {
    "duration": 226,
    "start_time": "2022-01-13T18:37:32.219Z"
   },
   {
    "duration": 31,
    "start_time": "2022-01-13T18:37:32.446Z"
   },
   {
    "duration": 5,
    "start_time": "2022-01-13T18:37:32.479Z"
   },
   {
    "duration": 10,
    "start_time": "2022-01-13T18:37:32.486Z"
   },
   {
    "duration": 37,
    "start_time": "2022-01-13T18:37:32.498Z"
   },
   {
    "duration": 340,
    "start_time": "2022-01-13T18:37:32.537Z"
   },
   {
    "duration": 4836,
    "start_time": "2022-01-13T18:37:28.043Z"
   },
   {
    "duration": 265,
    "start_time": "2022-01-13T18:45:02.714Z"
   },
   {
    "duration": 279,
    "start_time": "2022-01-13T18:45:24.066Z"
   },
   {
    "duration": 326,
    "start_time": "2022-01-13T18:45:43.499Z"
   },
   {
    "duration": 252,
    "start_time": "2022-01-13T18:46:13.088Z"
   },
   {
    "duration": 289,
    "start_time": "2022-01-13T18:46:33.415Z"
   },
   {
    "duration": 256,
    "start_time": "2022-01-13T18:47:31.344Z"
   },
   {
    "duration": 370,
    "start_time": "2022-01-13T18:48:32.199Z"
   },
   {
    "duration": 442,
    "start_time": "2022-01-13T18:49:25.445Z"
   },
   {
    "duration": 371,
    "start_time": "2022-01-13T18:49:54.536Z"
   },
   {
    "duration": 325,
    "start_time": "2022-01-13T19:11:00.915Z"
   },
   {
    "duration": 290,
    "start_time": "2022-01-13T19:11:05.394Z"
   },
   {
    "duration": 242,
    "start_time": "2022-01-13T19:11:43.585Z"
   },
   {
    "duration": 259,
    "start_time": "2022-01-13T19:11:57.401Z"
   },
   {
    "duration": 209,
    "start_time": "2022-01-13T19:12:09.592Z"
   },
   {
    "duration": 267,
    "start_time": "2022-01-13T19:12:21.480Z"
   },
   {
    "duration": 200,
    "start_time": "2022-01-13T19:12:42.402Z"
   },
   {
    "duration": 193,
    "start_time": "2022-01-13T19:12:46.427Z"
   },
   {
    "duration": 538,
    "start_time": "2022-01-13T19:12:53.025Z"
   },
   {
    "duration": 378,
    "start_time": "2022-01-13T19:13:30.264Z"
   },
   {
    "duration": 360,
    "start_time": "2022-01-13T19:22:09.149Z"
   },
   {
    "duration": 369,
    "start_time": "2022-01-13T19:22:46.604Z"
   },
   {
    "duration": 17,
    "start_time": "2022-01-13T19:27:48.351Z"
   },
   {
    "duration": 403,
    "start_time": "2022-01-13T19:43:31.771Z"
   },
   {
    "duration": 390,
    "start_time": "2022-01-13T19:44:15.810Z"
   },
   {
    "duration": 6301,
    "start_time": "2022-01-13T19:45:52.585Z"
   },
   {
    "duration": 24,
    "start_time": "2022-01-13T19:46:01.767Z"
   },
   {
    "duration": 242,
    "start_time": "2022-01-13T19:49:16.051Z"
   },
   {
    "duration": 13,
    "start_time": "2022-01-13T19:49:21.451Z"
   },
   {
    "duration": 58,
    "start_time": "2022-01-13T19:50:20.927Z"
   },
   {
    "duration": 16,
    "start_time": "2022-01-13T19:51:06.114Z"
   },
   {
    "duration": 16,
    "start_time": "2022-01-13T19:51:13.533Z"
   },
   {
    "duration": 134,
    "start_time": "2022-01-13T19:51:32.827Z"
   },
   {
    "duration": 116,
    "start_time": "2022-01-13T19:51:41.207Z"
   },
   {
    "duration": 81,
    "start_time": "2022-01-13T19:51:44.803Z"
   },
   {
    "duration": 80,
    "start_time": "2022-01-13T19:51:53.077Z"
   },
   {
    "duration": 16,
    "start_time": "2022-01-13T19:52:07.604Z"
   },
   {
    "duration": 86,
    "start_time": "2022-01-13T19:53:50.201Z"
   },
   {
    "duration": 81,
    "start_time": "2022-01-13T19:53:56.052Z"
   },
   {
    "duration": 17,
    "start_time": "2022-01-13T19:54:03.481Z"
   },
   {
    "duration": 290,
    "start_time": "2022-01-13T19:55:22.190Z"
   },
   {
    "duration": 16,
    "start_time": "2022-01-13T19:55:41.557Z"
   },
   {
    "duration": 12,
    "start_time": "2022-01-13T19:55:52.001Z"
   },
   {
    "duration": 14,
    "start_time": "2022-01-13T19:56:45.756Z"
   },
   {
    "duration": 23,
    "start_time": "2022-01-13T19:57:07.968Z"
   },
   {
    "duration": 12,
    "start_time": "2022-01-13T19:58:06.306Z"
   },
   {
    "duration": 12,
    "start_time": "2022-01-13T19:58:45.487Z"
   },
   {
    "duration": 13,
    "start_time": "2022-01-13T19:59:19.573Z"
   },
   {
    "duration": 14,
    "start_time": "2022-01-13T19:59:51.699Z"
   },
   {
    "duration": 1725,
    "start_time": "2022-01-13T20:09:40.829Z"
   },
   {
    "duration": 13,
    "start_time": "2022-01-13T20:09:42.556Z"
   },
   {
    "duration": 425,
    "start_time": "2022-01-13T20:09:42.572Z"
   },
   {
    "duration": 29,
    "start_time": "2022-01-13T20:09:43.000Z"
   },
   {
    "duration": 37,
    "start_time": "2022-01-13T20:09:43.031Z"
   },
   {
    "duration": 24,
    "start_time": "2022-01-13T20:09:43.071Z"
   },
   {
    "duration": 8,
    "start_time": "2022-01-13T20:09:43.097Z"
   },
   {
    "duration": 406,
    "start_time": "2022-01-13T20:09:43.108Z"
   },
   {
    "duration": 31,
    "start_time": "2022-01-13T20:09:43.517Z"
   },
   {
    "duration": 36,
    "start_time": "2022-01-13T20:09:43.549Z"
   },
   {
    "duration": 18,
    "start_time": "2022-01-13T20:09:43.587Z"
   },
   {
    "duration": 16,
    "start_time": "2022-01-13T20:09:43.607Z"
   },
   {
    "duration": 53,
    "start_time": "2022-01-13T20:09:43.625Z"
   },
   {
    "duration": 30,
    "start_time": "2022-01-13T20:09:43.680Z"
   },
   {
    "duration": 7,
    "start_time": "2022-01-13T20:09:43.712Z"
   },
   {
    "duration": 11,
    "start_time": "2022-01-13T20:09:43.721Z"
   },
   {
    "duration": 50,
    "start_time": "2022-01-13T20:09:43.734Z"
   },
   {
    "duration": 8,
    "start_time": "2022-01-13T20:09:43.786Z"
   },
   {
    "duration": 8,
    "start_time": "2022-01-13T20:09:43.796Z"
   },
   {
    "duration": 8,
    "start_time": "2022-01-13T20:09:43.806Z"
   },
   {
    "duration": 261,
    "start_time": "2022-01-13T20:09:43.815Z"
   },
   {
    "duration": 12,
    "start_time": "2022-01-13T20:09:44.077Z"
   },
   {
    "duration": 7,
    "start_time": "2022-01-13T20:09:44.092Z"
   },
   {
    "duration": 26,
    "start_time": "2022-01-13T20:09:44.101Z"
   },
   {
    "duration": 415,
    "start_time": "2022-01-13T20:09:44.129Z"
   },
   {
    "duration": 24,
    "start_time": "2022-01-13T20:09:44.546Z"
   },
   {
    "duration": 205,
    "start_time": "2022-01-13T20:09:44.573Z"
   },
   {
    "duration": 11,
    "start_time": "2022-01-13T20:09:44.780Z"
   },
   {
    "duration": 106,
    "start_time": "2022-01-13T20:09:44.793Z"
   },
   {
    "duration": 124,
    "start_time": "2022-01-13T20:09:44.901Z"
   },
   {
    "duration": 17,
    "start_time": "2022-01-13T20:09:45.027Z"
   },
   {
    "duration": 121,
    "start_time": "2022-01-13T20:09:45.046Z"
   },
   {
    "duration": 51,
    "start_time": "2022-01-13T20:09:45.170Z"
   },
   {
    "duration": 79,
    "start_time": "2022-01-13T20:09:45.223Z"
   },
   {
    "duration": 2,
    "start_time": "2022-01-13T20:09:45.304Z"
   },
   {
    "duration": 14,
    "start_time": "2022-01-13T20:09:45.308Z"
   },
   {
    "duration": 12,
    "start_time": "2022-01-13T20:09:45.324Z"
   },
   {
    "duration": 38,
    "start_time": "2022-01-13T20:09:45.337Z"
   },
   {
    "duration": 8,
    "start_time": "2022-01-13T20:09:45.377Z"
   },
   {
    "duration": 33,
    "start_time": "2022-01-13T20:09:45.387Z"
   },
   {
    "duration": 7,
    "start_time": "2022-01-13T20:09:45.422Z"
   },
   {
    "duration": 42,
    "start_time": "2022-01-13T20:09:45.431Z"
   },
   {
    "duration": 24,
    "start_time": "2022-01-13T20:09:45.476Z"
   },
   {
    "duration": 8,
    "start_time": "2022-01-13T20:09:45.501Z"
   },
   {
    "duration": 3356,
    "start_time": "2022-01-13T20:09:45.511Z"
   },
   {
    "duration": 15,
    "start_time": "2022-01-13T20:09:48.870Z"
   },
   {
    "duration": 19,
    "start_time": "2022-01-13T20:09:48.887Z"
   },
   {
    "duration": 5,
    "start_time": "2022-01-13T20:09:48.908Z"
   },
   {
    "duration": 8,
    "start_time": "2022-01-13T20:09:48.915Z"
   },
   {
    "duration": 261,
    "start_time": "2022-01-13T20:09:48.925Z"
   },
   {
    "duration": 24,
    "start_time": "2022-01-13T20:09:49.188Z"
   },
   {
    "duration": 7,
    "start_time": "2022-01-13T20:09:49.214Z"
   },
   {
    "duration": 15,
    "start_time": "2022-01-13T20:09:49.223Z"
   },
   {
    "duration": 54,
    "start_time": "2022-01-13T20:09:49.240Z"
   },
   {
    "duration": 426,
    "start_time": "2022-01-13T20:09:49.296Z"
   },
   {
    "duration": 342,
    "start_time": "2022-01-13T20:09:49.724Z"
   },
   {
    "duration": 4915,
    "start_time": "2022-01-13T20:09:45.154Z"
   },
   {
    "duration": 1607,
    "start_time": "2022-01-13T20:10:16.717Z"
   },
   {
    "duration": 12,
    "start_time": "2022-01-13T20:10:18.326Z"
   },
   {
    "duration": 56,
    "start_time": "2022-01-13T20:10:18.340Z"
   },
   {
    "duration": 382,
    "start_time": "2022-01-13T20:10:18.398Z"
   },
   {
    "duration": 29,
    "start_time": "2022-01-13T20:10:18.783Z"
   },
   {
    "duration": 20,
    "start_time": "2022-01-13T20:10:18.814Z"
   },
   {
    "duration": 41,
    "start_time": "2022-01-13T20:10:18.836Z"
   },
   {
    "duration": 8,
    "start_time": "2022-01-13T20:10:18.880Z"
   },
   {
    "duration": 357,
    "start_time": "2022-01-13T20:10:18.890Z"
   },
   {
    "duration": 37,
    "start_time": "2022-01-13T20:10:19.249Z"
   },
   {
    "duration": 16,
    "start_time": "2022-01-13T20:10:19.288Z"
   },
   {
    "duration": 15,
    "start_time": "2022-01-13T20:10:19.306Z"
   },
   {
    "duration": 43,
    "start_time": "2022-01-13T20:10:19.323Z"
   },
   {
    "duration": 14,
    "start_time": "2022-01-13T20:10:19.368Z"
   },
   {
    "duration": 32,
    "start_time": "2022-01-13T20:10:19.384Z"
   },
   {
    "duration": 7,
    "start_time": "2022-01-13T20:10:19.417Z"
   },
   {
    "duration": 36,
    "start_time": "2022-01-13T20:10:19.426Z"
   },
   {
    "duration": 12,
    "start_time": "2022-01-13T20:10:19.463Z"
   },
   {
    "duration": 8,
    "start_time": "2022-01-13T20:10:19.477Z"
   },
   {
    "duration": 6,
    "start_time": "2022-01-13T20:10:19.486Z"
   },
   {
    "duration": 8,
    "start_time": "2022-01-13T20:10:19.493Z"
   },
   {
    "duration": 257,
    "start_time": "2022-01-13T20:10:19.502Z"
   },
   {
    "duration": 11,
    "start_time": "2022-01-13T20:10:19.762Z"
   },
   {
    "duration": 3,
    "start_time": "2022-01-13T20:10:19.775Z"
   },
   {
    "duration": 41,
    "start_time": "2022-01-13T20:10:19.779Z"
   },
   {
    "duration": 397,
    "start_time": "2022-01-13T20:10:19.822Z"
   },
   {
    "duration": 10,
    "start_time": "2022-01-13T20:10:20.221Z"
   },
   {
    "duration": 191,
    "start_time": "2022-01-13T20:10:20.233Z"
   },
   {
    "duration": 11,
    "start_time": "2022-01-13T20:10:20.425Z"
   },
   {
    "duration": 106,
    "start_time": "2022-01-13T20:10:20.437Z"
   },
   {
    "duration": 118,
    "start_time": "2022-01-13T20:10:20.545Z"
   },
   {
    "duration": 15,
    "start_time": "2022-01-13T20:10:20.665Z"
   },
   {
    "duration": 112,
    "start_time": "2022-01-13T20:10:20.681Z"
   },
   {
    "duration": 50,
    "start_time": "2022-01-13T20:10:20.795Z"
   },
   {
    "duration": 47,
    "start_time": "2022-01-13T20:10:20.860Z"
   },
   {
    "duration": 2,
    "start_time": "2022-01-13T20:10:20.910Z"
   },
   {
    "duration": 14,
    "start_time": "2022-01-13T20:10:20.914Z"
   },
   {
    "duration": 38,
    "start_time": "2022-01-13T20:10:20.929Z"
   },
   {
    "duration": 13,
    "start_time": "2022-01-13T20:10:20.969Z"
   },
   {
    "duration": 9,
    "start_time": "2022-01-13T20:10:20.984Z"
   },
   {
    "duration": 34,
    "start_time": "2022-01-13T20:10:20.995Z"
   },
   {
    "duration": 6,
    "start_time": "2022-01-13T20:10:21.031Z"
   },
   {
    "duration": 13,
    "start_time": "2022-01-13T20:10:21.061Z"
   },
   {
    "duration": 13,
    "start_time": "2022-01-13T20:10:21.076Z"
   },
   {
    "duration": 6,
    "start_time": "2022-01-13T20:10:21.091Z"
   },
   {
    "duration": 2939,
    "start_time": "2022-01-13T20:10:21.099Z"
   },
   {
    "duration": 12,
    "start_time": "2022-01-13T20:10:24.040Z"
   },
   {
    "duration": 20,
    "start_time": "2022-01-13T20:10:24.061Z"
   },
   {
    "duration": 5,
    "start_time": "2022-01-13T20:10:24.082Z"
   },
   {
    "duration": 7,
    "start_time": "2022-01-13T20:10:24.088Z"
   },
   {
    "duration": 229,
    "start_time": "2022-01-13T20:10:24.096Z"
   },
   {
    "duration": 21,
    "start_time": "2022-01-13T20:10:24.327Z"
   },
   {
    "duration": 13,
    "start_time": "2022-01-13T20:10:24.350Z"
   },
   {
    "duration": 9,
    "start_time": "2022-01-13T20:10:24.364Z"
   },
   {
    "duration": 27,
    "start_time": "2022-01-13T20:10:24.375Z"
   },
   {
    "duration": 439,
    "start_time": "2022-01-13T20:10:24.404Z"
   },
   {
    "duration": 351,
    "start_time": "2022-01-13T20:10:24.845Z"
   },
   {
    "duration": 4912,
    "start_time": "2022-01-13T20:10:20.286Z"
   },
   {
    "duration": 12,
    "start_time": "2022-01-13T20:11:13.929Z"
   },
   {
    "duration": 1520,
    "start_time": "2022-01-13T20:11:31.282Z"
   },
   {
    "duration": 11,
    "start_time": "2022-01-13T20:11:32.804Z"
   },
   {
    "duration": 24,
    "start_time": "2022-01-13T20:11:32.819Z"
   },
   {
    "duration": 358,
    "start_time": "2022-01-13T20:11:32.845Z"
   },
   {
    "duration": 28,
    "start_time": "2022-01-13T20:11:33.205Z"
   },
   {
    "duration": 33,
    "start_time": "2022-01-13T20:11:33.235Z"
   },
   {
    "duration": 20,
    "start_time": "2022-01-13T20:11:33.270Z"
   },
   {
    "duration": 9,
    "start_time": "2022-01-13T20:11:33.293Z"
   },
   {
    "duration": 359,
    "start_time": "2022-01-13T20:11:33.303Z"
   },
   {
    "duration": 29,
    "start_time": "2022-01-13T20:11:33.664Z"
   },
   {
    "duration": 17,
    "start_time": "2022-01-13T20:11:33.695Z"
   },
   {
    "duration": 30,
    "start_time": "2022-01-13T20:11:33.714Z"
   },
   {
    "duration": 21,
    "start_time": "2022-01-13T20:11:33.761Z"
   },
   {
    "duration": 19,
    "start_time": "2022-01-13T20:11:33.784Z"
   },
   {
    "duration": 40,
    "start_time": "2022-01-13T20:11:33.805Z"
   },
   {
    "duration": 7,
    "start_time": "2022-01-13T20:11:33.847Z"
   },
   {
    "duration": 12,
    "start_time": "2022-01-13T20:11:33.861Z"
   },
   {
    "duration": 15,
    "start_time": "2022-01-13T20:11:33.875Z"
   },
   {
    "duration": 8,
    "start_time": "2022-01-13T20:11:33.892Z"
   },
   {
    "duration": 5,
    "start_time": "2022-01-13T20:11:33.902Z"
   },
   {
    "duration": 11,
    "start_time": "2022-01-13T20:11:33.908Z"
   },
   {
    "duration": 246,
    "start_time": "2022-01-13T20:11:33.923Z"
   },
   {
    "duration": 10,
    "start_time": "2022-01-13T20:11:34.171Z"
   },
   {
    "duration": 5,
    "start_time": "2022-01-13T20:11:34.183Z"
   },
   {
    "duration": 25,
    "start_time": "2022-01-13T20:11:34.190Z"
   },
   {
    "duration": 409,
    "start_time": "2022-01-13T20:11:34.217Z"
   },
   {
    "duration": 11,
    "start_time": "2022-01-13T20:11:34.627Z"
   },
   {
    "duration": 186,
    "start_time": "2022-01-13T20:11:34.639Z"
   },
   {
    "duration": 11,
    "start_time": "2022-01-13T20:11:34.826Z"
   },
   {
    "duration": 97,
    "start_time": "2022-01-13T20:11:34.839Z"
   },
   {
    "duration": 191,
    "start_time": "2022-01-13T20:11:34.938Z"
   },
   {
    "duration": 17,
    "start_time": "2022-01-13T20:11:35.131Z"
   },
   {
    "duration": 106,
    "start_time": "2022-01-13T20:11:35.160Z"
   },
   {
    "duration": 49,
    "start_time": "2022-01-13T20:11:35.267Z"
   },
   {
    "duration": 72,
    "start_time": "2022-01-13T20:11:35.318Z"
   },
   {
    "duration": 2,
    "start_time": "2022-01-13T20:11:35.392Z"
   },
   {
    "duration": 16,
    "start_time": "2022-01-13T20:11:35.395Z"
   },
   {
    "duration": 12,
    "start_time": "2022-01-13T20:11:35.412Z"
   },
   {
    "duration": 11,
    "start_time": "2022-01-13T20:11:35.425Z"
   },
   {
    "duration": 24,
    "start_time": "2022-01-13T20:11:35.438Z"
   },
   {
    "duration": 36,
    "start_time": "2022-01-13T20:11:35.464Z"
   },
   {
    "duration": 5,
    "start_time": "2022-01-13T20:11:35.502Z"
   },
   {
    "duration": 21,
    "start_time": "2022-01-13T20:11:35.509Z"
   },
   {
    "duration": 14,
    "start_time": "2022-01-13T20:11:35.532Z"
   },
   {
    "duration": 6,
    "start_time": "2022-01-13T20:11:35.560Z"
   },
   {
    "duration": 2973,
    "start_time": "2022-01-13T20:11:35.567Z"
   },
   {
    "duration": 10,
    "start_time": "2022-01-13T20:11:38.542Z"
   },
   {
    "duration": 25,
    "start_time": "2022-01-13T20:11:38.560Z"
   },
   {
    "duration": 20,
    "start_time": "2022-01-13T20:11:38.587Z"
   },
   {
    "duration": 39,
    "start_time": "2022-01-13T20:11:38.609Z"
   },
   {
    "duration": 218,
    "start_time": "2022-01-13T20:11:38.650Z"
   },
   {
    "duration": 23,
    "start_time": "2022-01-13T20:11:38.870Z"
   },
   {
    "duration": 5,
    "start_time": "2022-01-13T20:11:38.894Z"
   },
   {
    "duration": 11,
    "start_time": "2022-01-13T20:11:38.901Z"
   },
   {
    "duration": 33,
    "start_time": "2022-01-13T20:11:38.914Z"
   },
   {
    "duration": 307,
    "start_time": "2022-01-13T20:11:38.961Z"
   },
   {
    "duration": 331,
    "start_time": "2022-01-13T20:11:39.269Z"
   },
   {
    "duration": 4917,
    "start_time": "2022-01-13T20:11:34.685Z"
   },
   {
    "duration": 11,
    "start_time": "2022-01-13T20:18:24.867Z"
   },
   {
    "duration": 345,
    "start_time": "2022-01-13T20:18:56.110Z"
   },
   {
    "duration": 1604,
    "start_time": "2022-01-13T20:19:24.493Z"
   },
   {
    "duration": 14,
    "start_time": "2022-01-13T20:19:26.099Z"
   },
   {
    "duration": 31,
    "start_time": "2022-01-13T20:19:26.116Z"
   },
   {
    "duration": 451,
    "start_time": "2022-01-13T20:19:26.149Z"
   },
   {
    "duration": 27,
    "start_time": "2022-01-13T20:19:26.602Z"
   },
   {
    "duration": 32,
    "start_time": "2022-01-13T20:19:26.631Z"
   },
   {
    "duration": 19,
    "start_time": "2022-01-13T20:19:26.665Z"
   },
   {
    "duration": 8,
    "start_time": "2022-01-13T20:19:26.685Z"
   },
   {
    "duration": 355,
    "start_time": "2022-01-13T20:19:26.696Z"
   },
   {
    "duration": 34,
    "start_time": "2022-01-13T20:19:27.053Z"
   },
   {
    "duration": 16,
    "start_time": "2022-01-13T20:19:27.089Z"
   },
   {
    "duration": 17,
    "start_time": "2022-01-13T20:19:27.107Z"
   },
   {
    "duration": 38,
    "start_time": "2022-01-13T20:19:27.126Z"
   },
   {
    "duration": 15,
    "start_time": "2022-01-13T20:19:27.166Z"
   },
   {
    "duration": 29,
    "start_time": "2022-01-13T20:19:27.184Z"
   },
   {
    "duration": 7,
    "start_time": "2022-01-13T20:19:27.215Z"
   },
   {
    "duration": 12,
    "start_time": "2022-01-13T20:19:27.223Z"
   },
   {
    "duration": 9,
    "start_time": "2022-01-13T20:19:27.260Z"
   },
   {
    "duration": 6,
    "start_time": "2022-01-13T20:19:27.270Z"
   },
   {
    "duration": 7,
    "start_time": "2022-01-13T20:19:27.278Z"
   },
   {
    "duration": 10,
    "start_time": "2022-01-13T20:19:27.287Z"
   },
   {
    "duration": 245,
    "start_time": "2022-01-13T20:19:27.298Z"
   },
   {
    "duration": 15,
    "start_time": "2022-01-13T20:19:27.545Z"
   },
   {
    "duration": 3,
    "start_time": "2022-01-13T20:19:27.562Z"
   },
   {
    "duration": 22,
    "start_time": "2022-01-13T20:19:27.567Z"
   },
   {
    "duration": 399,
    "start_time": "2022-01-13T20:19:27.591Z"
   },
   {
    "duration": 9,
    "start_time": "2022-01-13T20:19:27.994Z"
   },
   {
    "duration": 186,
    "start_time": "2022-01-13T20:19:28.006Z"
   },
   {
    "duration": 12,
    "start_time": "2022-01-13T20:19:28.194Z"
   },
   {
    "duration": 103,
    "start_time": "2022-01-13T20:19:28.209Z"
   },
   {
    "duration": 114,
    "start_time": "2022-01-13T20:19:28.314Z"
   },
   {
    "duration": 17,
    "start_time": "2022-01-13T20:19:28.429Z"
   },
   {
    "duration": 127,
    "start_time": "2022-01-13T20:19:28.447Z"
   },
   {
    "duration": 66,
    "start_time": "2022-01-13T20:19:28.576Z"
   },
   {
    "duration": 69,
    "start_time": "2022-01-13T20:19:28.644Z"
   },
   {
    "duration": 2,
    "start_time": "2022-01-13T20:19:28.716Z"
   },
   {
    "duration": 46,
    "start_time": "2022-01-13T20:19:28.720Z"
   },
   {
    "duration": 19,
    "start_time": "2022-01-13T20:19:28.768Z"
   },
   {
    "duration": 27,
    "start_time": "2022-01-13T20:19:28.789Z"
   },
   {
    "duration": 16,
    "start_time": "2022-01-13T20:19:28.817Z"
   },
   {
    "duration": 33,
    "start_time": "2022-01-13T20:19:28.835Z"
   },
   {
    "duration": 5,
    "start_time": "2022-01-13T20:19:28.869Z"
   },
   {
    "duration": 17,
    "start_time": "2022-01-13T20:19:28.876Z"
   },
   {
    "duration": 14,
    "start_time": "2022-01-13T20:19:28.895Z"
   },
   {
    "duration": 8,
    "start_time": "2022-01-13T20:19:28.910Z"
   },
   {
    "duration": 3156,
    "start_time": "2022-01-13T20:19:28.919Z"
   },
   {
    "duration": 10,
    "start_time": "2022-01-13T20:19:32.077Z"
   },
   {
    "duration": 25,
    "start_time": "2022-01-13T20:19:32.089Z"
   },
   {
    "duration": 5,
    "start_time": "2022-01-13T20:19:32.116Z"
   },
   {
    "duration": 24,
    "start_time": "2022-01-13T20:19:32.123Z"
   },
   {
    "duration": 209,
    "start_time": "2022-01-13T20:19:32.149Z"
   },
   {
    "duration": 23,
    "start_time": "2022-01-13T20:19:32.361Z"
   },
   {
    "duration": 7,
    "start_time": "2022-01-13T20:19:32.385Z"
   },
   {
    "duration": 18,
    "start_time": "2022-01-13T20:19:32.394Z"
   },
   {
    "duration": 60,
    "start_time": "2022-01-13T20:19:32.414Z"
   },
   {
    "duration": 560,
    "start_time": "2022-01-13T20:19:32.477Z"
   },
   {
    "duration": 391,
    "start_time": "2022-01-13T20:19:33.039Z"
   },
   {
    "duration": 4767,
    "start_time": "2022-01-13T20:19:28.665Z"
   },
   {
    "duration": 1634,
    "start_time": "2022-01-13T20:19:46.242Z"
   },
   {
    "duration": 11,
    "start_time": "2022-01-13T20:19:47.878Z"
   },
   {
    "duration": 45,
    "start_time": "2022-01-13T20:19:47.891Z"
   },
   {
    "duration": 433,
    "start_time": "2022-01-13T20:19:47.938Z"
   },
   {
    "duration": 30,
    "start_time": "2022-01-13T20:19:48.374Z"
   },
   {
    "duration": 57,
    "start_time": "2022-01-13T20:19:48.406Z"
   },
   {
    "duration": 21,
    "start_time": "2022-01-13T20:19:48.464Z"
   },
   {
    "duration": 12,
    "start_time": "2022-01-13T20:19:48.489Z"
   },
   {
    "duration": 403,
    "start_time": "2022-01-13T20:19:48.504Z"
   },
   {
    "duration": 29,
    "start_time": "2022-01-13T20:19:48.909Z"
   },
   {
    "duration": 36,
    "start_time": "2022-01-13T20:19:48.940Z"
   },
   {
    "duration": 19,
    "start_time": "2022-01-13T20:19:48.978Z"
   },
   {
    "duration": 30,
    "start_time": "2022-01-13T20:19:48.998Z"
   },
   {
    "duration": 29,
    "start_time": "2022-01-13T20:19:49.030Z"
   },
   {
    "duration": 34,
    "start_time": "2022-01-13T20:19:49.061Z"
   },
   {
    "duration": 8,
    "start_time": "2022-01-13T20:19:49.097Z"
   },
   {
    "duration": 46,
    "start_time": "2022-01-13T20:19:49.107Z"
   },
   {
    "duration": 22,
    "start_time": "2022-01-13T20:19:49.155Z"
   },
   {
    "duration": 31,
    "start_time": "2022-01-13T20:19:49.178Z"
   },
   {
    "duration": 17,
    "start_time": "2022-01-13T20:19:49.211Z"
   },
   {
    "duration": 32,
    "start_time": "2022-01-13T20:19:49.229Z"
   },
   {
    "duration": 253,
    "start_time": "2022-01-13T20:19:49.263Z"
   },
   {
    "duration": 13,
    "start_time": "2022-01-13T20:19:49.520Z"
   },
   {
    "duration": 7,
    "start_time": "2022-01-13T20:19:49.536Z"
   },
   {
    "duration": 45,
    "start_time": "2022-01-13T20:19:49.546Z"
   },
   {
    "duration": 418,
    "start_time": "2022-01-13T20:19:49.593Z"
   },
   {
    "duration": 10,
    "start_time": "2022-01-13T20:19:50.013Z"
   },
   {
    "duration": 200,
    "start_time": "2022-01-13T20:19:50.025Z"
   },
   {
    "duration": 12,
    "start_time": "2022-01-13T20:19:50.227Z"
   },
   {
    "duration": 99,
    "start_time": "2022-01-13T20:19:50.241Z"
   },
   {
    "duration": 111,
    "start_time": "2022-01-13T20:19:50.341Z"
   },
   {
    "duration": 24,
    "start_time": "2022-01-13T20:19:50.454Z"
   },
   {
    "duration": 111,
    "start_time": "2022-01-13T20:19:50.480Z"
   },
   {
    "duration": 50,
    "start_time": "2022-01-13T20:19:50.593Z"
   },
   {
    "duration": 58,
    "start_time": "2022-01-13T20:19:50.644Z"
   },
   {
    "duration": 2,
    "start_time": "2022-01-13T20:19:50.704Z"
   },
   {
    "duration": 20,
    "start_time": "2022-01-13T20:19:50.708Z"
   },
   {
    "duration": 21,
    "start_time": "2022-01-13T20:19:50.730Z"
   },
   {
    "duration": 33,
    "start_time": "2022-01-13T20:19:50.752Z"
   },
   {
    "duration": 20,
    "start_time": "2022-01-13T20:19:50.788Z"
   },
   {
    "duration": 43,
    "start_time": "2022-01-13T20:19:50.810Z"
   },
   {
    "duration": 5,
    "start_time": "2022-01-13T20:19:50.855Z"
   },
   {
    "duration": 33,
    "start_time": "2022-01-13T20:19:50.862Z"
   },
   {
    "duration": 21,
    "start_time": "2022-01-13T20:19:50.897Z"
   },
   {
    "duration": 11,
    "start_time": "2022-01-13T20:19:50.920Z"
   },
   {
    "duration": 2816,
    "start_time": "2022-01-13T20:19:50.933Z"
   },
   {
    "duration": 14,
    "start_time": "2022-01-13T20:19:53.750Z"
   },
   {
    "duration": 16,
    "start_time": "2022-01-13T20:19:53.765Z"
   },
   {
    "duration": 6,
    "start_time": "2022-01-13T20:19:53.784Z"
   },
   {
    "duration": 7,
    "start_time": "2022-01-13T20:19:53.791Z"
   },
   {
    "duration": 339,
    "start_time": "2022-01-13T20:19:53.800Z"
   },
   {
    "duration": 31,
    "start_time": "2022-01-13T20:19:54.141Z"
   },
   {
    "duration": 6,
    "start_time": "2022-01-13T20:19:54.174Z"
   },
   {
    "duration": 8,
    "start_time": "2022-01-13T20:19:54.182Z"
   },
   {
    "duration": 40,
    "start_time": "2022-01-13T20:19:54.192Z"
   },
   {
    "duration": 516,
    "start_time": "2022-01-13T20:19:54.234Z"
   },
   {
    "duration": 386,
    "start_time": "2022-01-13T20:19:54.752Z"
   },
   {
    "duration": 4934,
    "start_time": "2022-01-13T20:19:50.206Z"
   },
   {
    "duration": 27,
    "start_time": "2022-01-13T20:20:28.879Z"
   },
   {
    "duration": 12,
    "start_time": "2022-01-13T20:20:48.270Z"
   },
   {
    "duration": 15,
    "start_time": "2022-01-13T20:21:02.998Z"
   },
   {
    "duration": 1036,
    "start_time": "2022-01-13T20:22:08.112Z"
   },
   {
    "duration": 150,
    "start_time": "2022-01-13T20:22:56.371Z"
   },
   {
    "duration": 433,
    "start_time": "2022-01-13T20:23:23.423Z"
   },
   {
    "duration": 476,
    "start_time": "2022-01-13T20:25:53.638Z"
   },
   {
    "duration": 151,
    "start_time": "2022-01-13T20:39:07.902Z"
   },
   {
    "duration": 162,
    "start_time": "2022-01-13T20:39:39.629Z"
   },
   {
    "duration": 170,
    "start_time": "2022-01-13T20:41:52.949Z"
   },
   {
    "duration": 326,
    "start_time": "2022-01-14T06:44:34.059Z"
   },
   {
    "duration": 1645,
    "start_time": "2022-01-14T06:44:51.158Z"
   },
   {
    "duration": 11,
    "start_time": "2022-01-14T06:44:52.805Z"
   },
   {
    "duration": 25,
    "start_time": "2022-01-14T06:44:52.818Z"
   },
   {
    "duration": 361,
    "start_time": "2022-01-14T06:44:52.846Z"
   },
   {
    "duration": 30,
    "start_time": "2022-01-14T06:44:53.209Z"
   },
   {
    "duration": 37,
    "start_time": "2022-01-14T06:44:53.241Z"
   },
   {
    "duration": 21,
    "start_time": "2022-01-14T06:44:53.280Z"
   },
   {
    "duration": 9,
    "start_time": "2022-01-14T06:44:53.303Z"
   },
   {
    "duration": 364,
    "start_time": "2022-01-14T06:44:53.316Z"
   },
   {
    "duration": 30,
    "start_time": "2022-01-14T06:44:53.683Z"
   },
   {
    "duration": 19,
    "start_time": "2022-01-14T06:44:53.715Z"
   },
   {
    "duration": 41,
    "start_time": "2022-01-14T06:44:53.736Z"
   },
   {
    "duration": 16,
    "start_time": "2022-01-14T06:44:53.778Z"
   },
   {
    "duration": 14,
    "start_time": "2022-01-14T06:44:53.796Z"
   },
   {
    "duration": 57,
    "start_time": "2022-01-14T06:44:53.812Z"
   },
   {
    "duration": 7,
    "start_time": "2022-01-14T06:44:53.871Z"
   },
   {
    "duration": 14,
    "start_time": "2022-01-14T06:44:53.879Z"
   },
   {
    "duration": 12,
    "start_time": "2022-01-14T06:44:53.895Z"
   },
   {
    "duration": 11,
    "start_time": "2022-01-14T06:44:53.909Z"
   },
   {
    "duration": 5,
    "start_time": "2022-01-14T06:44:53.922Z"
   },
   {
    "duration": 9,
    "start_time": "2022-01-14T06:44:53.928Z"
   },
   {
    "duration": 260,
    "start_time": "2022-01-14T06:44:53.938Z"
   },
   {
    "duration": 11,
    "start_time": "2022-01-14T06:44:54.200Z"
   },
   {
    "duration": 5,
    "start_time": "2022-01-14T06:44:54.213Z"
   },
   {
    "duration": 41,
    "start_time": "2022-01-14T06:44:54.219Z"
   },
   {
    "duration": 357,
    "start_time": "2022-01-14T06:44:54.263Z"
   },
   {
    "duration": 8,
    "start_time": "2022-01-14T06:44:54.624Z"
   },
   {
    "duration": 181,
    "start_time": "2022-01-14T06:44:54.635Z"
   },
   {
    "duration": 10,
    "start_time": "2022-01-14T06:44:54.818Z"
   },
   {
    "duration": 90,
    "start_time": "2022-01-14T06:44:54.829Z"
   },
   {
    "duration": 110,
    "start_time": "2022-01-14T06:44:54.921Z"
   },
   {
    "duration": 15,
    "start_time": "2022-01-14T06:44:55.032Z"
   },
   {
    "duration": 101,
    "start_time": "2022-01-14T06:44:55.049Z"
   },
   {
    "duration": 52,
    "start_time": "2022-01-14T06:44:55.152Z"
   },
   {
    "duration": 57,
    "start_time": "2022-01-14T06:44:55.206Z"
   },
   {
    "duration": 2,
    "start_time": "2022-01-14T06:44:55.265Z"
   },
   {
    "duration": 31,
    "start_time": "2022-01-14T06:44:55.269Z"
   },
   {
    "duration": 11,
    "start_time": "2022-01-14T06:44:55.302Z"
   },
   {
    "duration": 23,
    "start_time": "2022-01-14T06:44:55.315Z"
   },
   {
    "duration": 13,
    "start_time": "2022-01-14T06:44:55.340Z"
   },
   {
    "duration": 46,
    "start_time": "2022-01-14T06:44:55.361Z"
   },
   {
    "duration": 5,
    "start_time": "2022-01-14T06:44:55.409Z"
   },
   {
    "duration": 27,
    "start_time": "2022-01-14T06:44:55.416Z"
   },
   {
    "duration": 27,
    "start_time": "2022-01-14T06:44:55.445Z"
   },
   {
    "duration": 17,
    "start_time": "2022-01-14T06:44:55.474Z"
   },
   {
    "duration": 2756,
    "start_time": "2022-01-14T06:44:55.493Z"
   },
   {
    "duration": 16,
    "start_time": "2022-01-14T06:44:58.251Z"
   },
   {
    "duration": 16,
    "start_time": "2022-01-14T06:44:58.269Z"
   },
   {
    "duration": 212,
    "start_time": "2022-01-14T06:44:58.287Z"
   },
   {
    "duration": 20,
    "start_time": "2022-01-14T06:44:58.501Z"
   },
   {
    "duration": 11,
    "start_time": "2022-01-14T06:44:58.523Z"
   },
   {
    "duration": 7,
    "start_time": "2022-01-14T06:44:58.536Z"
   },
   {
    "duration": 508,
    "start_time": "2022-01-14T06:44:58.544Z"
   },
   {
    "duration": 5334,
    "start_time": "2022-01-14T06:44:53.720Z"
   },
   {
    "duration": 5314,
    "start_time": "2022-01-14T06:44:53.741Z"
   },
   {
    "duration": 5300,
    "start_time": "2022-01-14T06:44:53.755Z"
   },
   {
    "duration": 5285,
    "start_time": "2022-01-14T06:44:53.771Z"
   },
   {
    "duration": 271,
    "start_time": "2022-01-14T06:45:24.138Z"
   },
   {
    "duration": 264,
    "start_time": "2022-01-14T06:46:10.806Z"
   },
   {
    "duration": 28,
    "start_time": "2022-01-14T06:47:41.910Z"
   },
   {
    "duration": 1783,
    "start_time": "2022-01-14T06:49:53.372Z"
   },
   {
    "duration": 1715,
    "start_time": "2022-01-14T06:50:23.805Z"
   },
   {
    "duration": 1972,
    "start_time": "2022-01-14T06:50:41.528Z"
   },
   {
    "duration": 6,
    "start_time": "2022-01-14T06:50:55.361Z"
   },
   {
    "duration": 4,
    "start_time": "2022-01-14T06:51:03.617Z"
   },
   {
    "duration": 27,
    "start_time": "2022-01-14T06:51:09.676Z"
   },
   {
    "duration": 83,
    "start_time": "2022-01-14T06:52:28.638Z"
   },
   {
    "duration": 8,
    "start_time": "2022-01-14T06:53:12.861Z"
   },
   {
    "duration": 5,
    "start_time": "2022-01-14T06:53:25.871Z"
   },
   {
    "duration": 5,
    "start_time": "2022-01-14T08:59:03.484Z"
   },
   {
    "duration": 94,
    "start_time": "2022-01-14T08:59:44.270Z"
   },
   {
    "duration": 9,
    "start_time": "2022-01-14T09:00:20.042Z"
   },
   {
    "duration": 7,
    "start_time": "2022-01-14T09:31:41.650Z"
   },
   {
    "duration": 5,
    "start_time": "2022-01-14T09:31:50.502Z"
   },
   {
    "duration": 6,
    "start_time": "2022-01-14T09:32:42.552Z"
   },
   {
    "duration": 1938,
    "start_time": "2022-01-14T09:44:11.161Z"
   },
   {
    "duration": 12,
    "start_time": "2022-01-14T09:44:13.101Z"
   },
   {
    "duration": 22,
    "start_time": "2022-01-14T09:44:13.115Z"
   },
   {
    "duration": 581,
    "start_time": "2022-01-14T09:44:13.139Z"
   },
   {
    "duration": 42,
    "start_time": "2022-01-14T09:44:13.722Z"
   },
   {
    "duration": 35,
    "start_time": "2022-01-14T09:44:13.766Z"
   },
   {
    "duration": 35,
    "start_time": "2022-01-14T09:44:13.803Z"
   },
   {
    "duration": 29,
    "start_time": "2022-01-14T09:44:13.840Z"
   },
   {
    "duration": 549,
    "start_time": "2022-01-14T09:44:13.873Z"
   },
   {
    "duration": 48,
    "start_time": "2022-01-14T09:44:14.425Z"
   },
   {
    "duration": 29,
    "start_time": "2022-01-14T09:44:14.476Z"
   },
   {
    "duration": 18,
    "start_time": "2022-01-14T09:44:14.507Z"
   },
   {
    "duration": 36,
    "start_time": "2022-01-14T09:44:14.527Z"
   },
   {
    "duration": 15,
    "start_time": "2022-01-14T09:44:14.565Z"
   },
   {
    "duration": 42,
    "start_time": "2022-01-14T09:44:14.582Z"
   },
   {
    "duration": 7,
    "start_time": "2022-01-14T09:44:14.625Z"
   },
   {
    "duration": 26,
    "start_time": "2022-01-14T09:44:14.633Z"
   },
   {
    "duration": 15,
    "start_time": "2022-01-14T09:44:14.660Z"
   },
   {
    "duration": 13,
    "start_time": "2022-01-14T09:44:14.676Z"
   },
   {
    "duration": 7,
    "start_time": "2022-01-14T09:44:14.691Z"
   },
   {
    "duration": 8,
    "start_time": "2022-01-14T09:44:14.700Z"
   },
   {
    "duration": 243,
    "start_time": "2022-01-14T09:44:14.709Z"
   },
   {
    "duration": 14,
    "start_time": "2022-01-14T09:44:14.953Z"
   },
   {
    "duration": 4,
    "start_time": "2022-01-14T09:44:14.969Z"
   },
   {
    "duration": 22,
    "start_time": "2022-01-14T09:44:14.975Z"
   },
   {
    "duration": 450,
    "start_time": "2022-01-14T09:44:14.999Z"
   },
   {
    "duration": 18,
    "start_time": "2022-01-14T09:44:15.454Z"
   },
   {
    "duration": 196,
    "start_time": "2022-01-14T09:44:15.475Z"
   },
   {
    "duration": 12,
    "start_time": "2022-01-14T09:44:15.673Z"
   },
   {
    "duration": 97,
    "start_time": "2022-01-14T09:44:15.686Z"
   },
   {
    "duration": 108,
    "start_time": "2022-01-14T09:44:15.785Z"
   },
   {
    "duration": 20,
    "start_time": "2022-01-14T09:44:15.895Z"
   },
   {
    "duration": 118,
    "start_time": "2022-01-14T09:44:15.918Z"
   },
   {
    "duration": 60,
    "start_time": "2022-01-14T09:44:16.038Z"
   },
   {
    "duration": 63,
    "start_time": "2022-01-14T09:44:16.101Z"
   },
   {
    "duration": 3,
    "start_time": "2022-01-14T09:44:16.167Z"
   },
   {
    "duration": 21,
    "start_time": "2022-01-14T09:44:16.172Z"
   },
   {
    "duration": 14,
    "start_time": "2022-01-14T09:44:16.194Z"
   },
   {
    "duration": 11,
    "start_time": "2022-01-14T09:44:16.210Z"
   },
   {
    "duration": 30,
    "start_time": "2022-01-14T09:44:16.223Z"
   },
   {
    "duration": 39,
    "start_time": "2022-01-14T09:44:16.255Z"
   },
   {
    "duration": 5,
    "start_time": "2022-01-14T09:44:16.296Z"
   },
   {
    "duration": 20,
    "start_time": "2022-01-14T09:44:16.303Z"
   },
   {
    "duration": 12,
    "start_time": "2022-01-14T09:44:16.324Z"
   },
   {
    "duration": 28,
    "start_time": "2022-01-14T09:44:16.338Z"
   },
   {
    "duration": 3081,
    "start_time": "2022-01-14T09:44:16.368Z"
   },
   {
    "duration": 19,
    "start_time": "2022-01-14T09:44:19.451Z"
   },
   {
    "duration": 18,
    "start_time": "2022-01-14T09:44:19.472Z"
   },
   {
    "duration": 346,
    "start_time": "2022-01-14T09:44:19.492Z"
   },
   {
    "duration": 5469,
    "start_time": "2022-01-14T09:44:14.371Z"
   },
   {
    "duration": 5461,
    "start_time": "2022-01-14T09:44:14.381Z"
   },
   {
    "duration": 5456,
    "start_time": "2022-01-14T09:44:14.387Z"
   },
   {
    "duration": 5445,
    "start_time": "2022-01-14T09:44:14.399Z"
   },
   {
    "duration": 5435,
    "start_time": "2022-01-14T09:44:14.410Z"
   },
   {
    "duration": 5430,
    "start_time": "2022-01-14T09:44:14.416Z"
   },
   {
    "duration": 5421,
    "start_time": "2022-01-14T09:44:14.426Z"
   },
   {
    "duration": 5417,
    "start_time": "2022-01-14T09:44:14.432Z"
   },
   {
    "duration": 5407,
    "start_time": "2022-01-14T09:44:14.444Z"
   },
   {
    "duration": 5401,
    "start_time": "2022-01-14T09:44:14.451Z"
   },
   {
    "duration": 5388,
    "start_time": "2022-01-14T09:44:14.465Z"
   },
   {
    "duration": 5375,
    "start_time": "2022-01-14T09:44:14.479Z"
   },
   {
    "duration": 5371,
    "start_time": "2022-01-14T09:44:14.484Z"
   },
   {
    "duration": 12,
    "start_time": "2022-01-14T09:46:26.430Z"
   },
   {
    "duration": 12,
    "start_time": "2022-01-14T10:04:05.810Z"
   },
   {
    "duration": 11,
    "start_time": "2022-01-14T10:04:20.225Z"
   },
   {
    "duration": 11,
    "start_time": "2022-01-14T10:05:11.761Z"
   },
   {
    "duration": 938,
    "start_time": "2022-01-14T10:07:14.046Z"
   },
   {
    "duration": 832,
    "start_time": "2022-01-14T10:07:30.066Z"
   },
   {
    "duration": 715,
    "start_time": "2022-01-14T10:12:56.329Z"
   },
   {
    "duration": 688,
    "start_time": "2022-01-14T10:13:11.720Z"
   },
   {
    "duration": 707,
    "start_time": "2022-01-14T10:13:20.390Z"
   },
   {
    "duration": 776,
    "start_time": "2022-01-14T10:13:30.130Z"
   },
   {
    "duration": 994,
    "start_time": "2022-01-14T10:13:36.959Z"
   },
   {
    "duration": 1253,
    "start_time": "2022-01-14T10:13:42.156Z"
   },
   {
    "duration": 605,
    "start_time": "2022-01-14T10:13:54.135Z"
   },
   {
    "duration": 10,
    "start_time": "2022-01-14T10:15:22.336Z"
   },
   {
    "duration": 808,
    "start_time": "2022-01-14T10:16:06.097Z"
   },
   {
    "duration": 608,
    "start_time": "2022-01-14T10:16:36.601Z"
   },
   {
    "duration": 3598,
    "start_time": "2022-01-14T10:16:48.568Z"
   },
   {
    "duration": 3676,
    "start_time": "2022-01-14T10:17:03.827Z"
   },
   {
    "duration": 656,
    "start_time": "2022-01-14T10:17:16.645Z"
   },
   {
    "duration": 721,
    "start_time": "2022-01-14T10:17:21.513Z"
   },
   {
    "duration": 587,
    "start_time": "2022-01-14T10:17:27.002Z"
   },
   {
    "duration": 627,
    "start_time": "2022-01-14T10:17:34.643Z"
   },
   {
    "duration": 715,
    "start_time": "2022-01-14T10:17:49.936Z"
   },
   {
    "duration": 646,
    "start_time": "2022-01-14T10:18:00.170Z"
   },
   {
    "duration": 941,
    "start_time": "2022-01-14T10:18:09.830Z"
   },
   {
    "duration": 718,
    "start_time": "2022-01-14T10:19:25.424Z"
   },
   {
    "duration": 609,
    "start_time": "2022-01-14T10:19:36.595Z"
   },
   {
    "duration": 604,
    "start_time": "2022-01-14T10:19:43.899Z"
   },
   {
    "duration": 708,
    "start_time": "2022-01-14T10:19:49.533Z"
   },
   {
    "duration": 714,
    "start_time": "2022-01-14T10:20:01.994Z"
   },
   {
    "duration": 602,
    "start_time": "2022-01-14T10:20:14.172Z"
   },
   {
    "duration": 599,
    "start_time": "2022-01-14T10:23:30.284Z"
   },
   {
    "duration": 990,
    "start_time": "2022-01-14T10:23:39.466Z"
   },
   {
    "duration": 700,
    "start_time": "2022-01-14T10:25:31.863Z"
   },
   {
    "duration": 825,
    "start_time": "2022-01-14T10:25:45.896Z"
   },
   {
    "duration": 582,
    "start_time": "2022-01-14T10:25:51.328Z"
   },
   {
    "duration": 564,
    "start_time": "2022-01-14T10:26:05.547Z"
   },
   {
    "duration": 572,
    "start_time": "2022-01-14T10:26:16.626Z"
   },
   {
    "duration": 611,
    "start_time": "2022-01-14T10:26:36.844Z"
   },
   {
    "duration": 818,
    "start_time": "2022-01-14T10:26:42.148Z"
   },
   {
    "duration": 598,
    "start_time": "2022-01-14T10:26:57.773Z"
   },
   {
    "duration": 593,
    "start_time": "2022-01-14T10:27:12.853Z"
   },
   {
    "duration": 603,
    "start_time": "2022-01-14T10:27:26.436Z"
   },
   {
    "duration": 593,
    "start_time": "2022-01-14T10:27:35.291Z"
   },
   {
    "duration": 710,
    "start_time": "2022-01-14T10:28:07.764Z"
   },
   {
    "duration": 693,
    "start_time": "2022-01-14T10:28:21.757Z"
   },
   {
    "duration": 620,
    "start_time": "2022-01-14T10:28:33.910Z"
   },
   {
    "duration": 475,
    "start_time": "2022-01-14T10:30:48.765Z"
   },
   {
    "duration": 627,
    "start_time": "2022-01-14T10:31:05.184Z"
   },
   {
    "duration": 628,
    "start_time": "2022-01-14T10:31:30.724Z"
   },
   {
    "duration": 726,
    "start_time": "2022-01-14T10:31:41.872Z"
   },
   {
    "duration": 652,
    "start_time": "2022-01-14T10:31:51.348Z"
   },
   {
    "duration": 598,
    "start_time": "2022-01-14T10:32:04.119Z"
   },
   {
    "duration": 614,
    "start_time": "2022-01-14T10:32:41.942Z"
   },
   {
    "duration": 611,
    "start_time": "2022-01-14T10:32:47.034Z"
   },
   {
    "duration": 610,
    "start_time": "2022-01-14T10:33:18.508Z"
   },
   {
    "duration": 715,
    "start_time": "2022-01-14T10:33:35.236Z"
   },
   {
    "duration": 625,
    "start_time": "2022-01-14T10:33:47.517Z"
   },
   {
    "duration": 637,
    "start_time": "2022-01-14T10:33:58.238Z"
   },
   {
    "duration": 642,
    "start_time": "2022-01-14T10:34:07.745Z"
   },
   {
    "duration": 598,
    "start_time": "2022-01-14T10:34:12.181Z"
   },
   {
    "duration": 707,
    "start_time": "2022-01-14T10:34:19.035Z"
   },
   {
    "duration": 600,
    "start_time": "2022-01-14T10:34:23.349Z"
   },
   {
    "duration": 682,
    "start_time": "2022-01-14T10:34:27.959Z"
   },
   {
    "duration": 628,
    "start_time": "2022-01-14T10:34:32.539Z"
   },
   {
    "duration": 582,
    "start_time": "2022-01-14T10:35:35.174Z"
   },
   {
    "duration": 624,
    "start_time": "2022-01-14T10:35:40.550Z"
   },
   {
    "duration": 702,
    "start_time": "2022-01-14T10:35:47.135Z"
   },
   {
    "duration": 711,
    "start_time": "2022-01-14T10:35:53.151Z"
   },
   {
    "duration": 629,
    "start_time": "2022-01-14T10:35:59.549Z"
   },
   {
    "duration": 646,
    "start_time": "2022-01-14T10:36:07.317Z"
   },
   {
    "duration": 621,
    "start_time": "2022-01-14T10:36:36.605Z"
   },
   {
    "duration": 781,
    "start_time": "2022-01-14T10:40:56.944Z"
   },
   {
    "duration": 11,
    "start_time": "2022-01-14T10:42:54.404Z"
   },
   {
    "duration": 363,
    "start_time": "2022-01-14T10:42:55.818Z"
   },
   {
    "duration": 400,
    "start_time": "2022-01-14T10:43:06.283Z"
   },
   {
    "duration": 332,
    "start_time": "2022-01-14T10:43:26.034Z"
   },
   {
    "duration": 255,
    "start_time": "2022-01-14T10:43:34.436Z"
   },
   {
    "duration": 255,
    "start_time": "2022-01-14T10:47:28.948Z"
   },
   {
    "duration": 317,
    "start_time": "2022-01-14T10:47:36.747Z"
   },
   {
    "duration": 18,
    "start_time": "2022-01-14T11:05:49.742Z"
   },
   {
    "duration": 246,
    "start_time": "2022-01-14T11:05:52.394Z"
   },
   {
    "duration": 22,
    "start_time": "2022-01-14T11:05:53.186Z"
   },
   {
    "duration": 6,
    "start_time": "2022-01-14T11:05:53.893Z"
   },
   {
    "duration": 6,
    "start_time": "2022-01-14T11:05:54.397Z"
   },
   {
    "duration": 7,
    "start_time": "2022-01-14T11:05:55.202Z"
   },
   {
    "duration": 5,
    "start_time": "2022-01-14T11:05:55.387Z"
   },
   {
    "duration": 26,
    "start_time": "2022-01-14T11:05:55.580Z"
   },
   {
    "duration": 161,
    "start_time": "2022-01-14T11:05:55.755Z"
   },
   {
    "duration": 259,
    "start_time": "2022-01-14T11:05:55.940Z"
   },
   {
    "duration": 254,
    "start_time": "2022-01-14T11:05:56.349Z"
   },
   {
    "duration": 5,
    "start_time": "2022-01-14T11:13:28.077Z"
   },
   {
    "duration": 271,
    "start_time": "2022-01-14T11:14:06.312Z"
   },
   {
    "duration": 671,
    "start_time": "2022-01-14T11:14:13.585Z"
   },
   {
    "duration": 6,
    "start_time": "2022-01-14T11:14:45.907Z"
   },
   {
    "duration": 723,
    "start_time": "2022-01-14T11:14:47.353Z"
   },
   {
    "duration": 5,
    "start_time": "2022-01-14T11:14:56.783Z"
   },
   {
    "duration": 693,
    "start_time": "2022-01-14T11:14:58.936Z"
   },
   {
    "duration": 6650,
    "start_time": "2022-01-14T11:23:13.436Z"
   },
   {
    "duration": 5084,
    "start_time": "2022-01-14T11:23:33.214Z"
   },
   {
    "duration": 5236,
    "start_time": "2022-01-14T11:24:02.501Z"
   },
   {
    "duration": 6533,
    "start_time": "2022-01-14T11:24:14.792Z"
   },
   {
    "duration": 83,
    "start_time": "2022-01-14T11:24:52.080Z"
   },
   {
    "duration": 5,
    "start_time": "2022-01-14T11:25:00.625Z"
   },
   {
    "duration": 917,
    "start_time": "2022-01-14T11:25:47.082Z"
   },
   {
    "duration": 270,
    "start_time": "2022-01-14T11:26:15.264Z"
   },
   {
    "duration": 228,
    "start_time": "2022-01-14T11:27:05.199Z"
   },
   {
    "duration": 302,
    "start_time": "2022-01-14T11:27:34.447Z"
   },
   {
    "duration": 288,
    "start_time": "2022-01-14T11:27:51.543Z"
   },
   {
    "duration": 222,
    "start_time": "2022-01-14T11:28:05.201Z"
   },
   {
    "duration": 269,
    "start_time": "2022-01-14T11:28:31.545Z"
   },
   {
    "duration": 259,
    "start_time": "2022-01-14T11:28:41.302Z"
   },
   {
    "duration": 563,
    "start_time": "2022-01-14T11:29:05.620Z"
   },
   {
    "duration": 254,
    "start_time": "2022-01-14T11:29:13.031Z"
   },
   {
    "duration": 274,
    "start_time": "2022-01-14T11:29:17.618Z"
   },
   {
    "duration": 285,
    "start_time": "2022-01-14T11:29:29.039Z"
   },
   {
    "duration": 276,
    "start_time": "2022-01-14T11:29:36.010Z"
   },
   {
    "duration": 223,
    "start_time": "2022-01-14T11:29:49.486Z"
   },
   {
    "duration": 89,
    "start_time": "2022-01-14T11:29:58.601Z"
   },
   {
    "duration": 388,
    "start_time": "2022-01-14T11:30:02.450Z"
   },
   {
    "duration": 126,
    "start_time": "2022-01-14T11:31:15.041Z"
   },
   {
    "duration": 121,
    "start_time": "2022-01-14T11:33:04.004Z"
   },
   {
    "duration": 139,
    "start_time": "2022-01-14T11:33:25.224Z"
   },
   {
    "duration": 150,
    "start_time": "2022-01-14T11:33:31.674Z"
   },
   {
    "duration": 127,
    "start_time": "2022-01-14T11:33:50.203Z"
   },
   {
    "duration": 121,
    "start_time": "2022-01-14T11:33:56.146Z"
   },
   {
    "duration": 131,
    "start_time": "2022-01-14T11:34:29.200Z"
   },
   {
    "duration": 152,
    "start_time": "2022-01-14T11:36:31.052Z"
   },
   {
    "duration": 130,
    "start_time": "2022-01-14T11:37:04.773Z"
   },
   {
    "duration": 131,
    "start_time": "2022-01-14T11:43:21.314Z"
   },
   {
    "duration": 133,
    "start_time": "2022-01-14T11:43:46.315Z"
   },
   {
    "duration": 404,
    "start_time": "2022-01-14T11:44:28.024Z"
   },
   {
    "duration": 132,
    "start_time": "2022-01-14T11:44:42.632Z"
   },
   {
    "duration": 139,
    "start_time": "2022-01-14T11:49:28.901Z"
   },
   {
    "duration": 495,
    "start_time": "2022-01-14T11:50:02.245Z"
   },
   {
    "duration": 513,
    "start_time": "2022-01-14T11:56:24.908Z"
   },
   {
    "duration": 138,
    "start_time": "2022-01-14T11:56:57.250Z"
   },
   {
    "duration": 93,
    "start_time": "2022-01-14T11:58:42.455Z"
   },
   {
    "duration": 141,
    "start_time": "2022-01-14T11:58:47.734Z"
   },
   {
    "duration": 136,
    "start_time": "2022-01-14T11:58:57.184Z"
   },
   {
    "duration": 816,
    "start_time": "2022-01-14T11:59:22.903Z"
   },
   {
    "duration": 147,
    "start_time": "2022-01-14T12:00:40.194Z"
   },
   {
    "duration": 138,
    "start_time": "2022-01-14T12:01:04.383Z"
   },
   {
    "duration": 926,
    "start_time": "2022-01-14T12:01:10.029Z"
   },
   {
    "duration": 830,
    "start_time": "2022-01-14T12:01:13.115Z"
   },
   {
    "duration": 139,
    "start_time": "2022-01-14T12:01:17.616Z"
   },
   {
    "duration": 150,
    "start_time": "2022-01-14T12:01:59.555Z"
   },
   {
    "duration": 240,
    "start_time": "2022-01-14T12:03:59.574Z"
   },
   {
    "duration": 149,
    "start_time": "2022-01-14T12:06:04.512Z"
   },
   {
    "duration": 4,
    "start_time": "2022-01-14T12:07:53.293Z"
   },
   {
    "duration": 3,
    "start_time": "2022-01-14T12:08:04.569Z"
   },
   {
    "duration": 4,
    "start_time": "2022-01-14T12:08:10.446Z"
   },
   {
    "duration": 251,
    "start_time": "2022-01-14T12:08:28.583Z"
   },
   {
    "duration": 152,
    "start_time": "2022-01-14T12:09:20.546Z"
   },
   {
    "duration": 151,
    "start_time": "2022-01-14T12:09:28.680Z"
   },
   {
    "duration": 142,
    "start_time": "2022-01-14T12:10:28.891Z"
   },
   {
    "duration": 135,
    "start_time": "2022-01-14T12:10:34.479Z"
   },
   {
    "duration": 141,
    "start_time": "2022-01-14T12:10:39.720Z"
   },
   {
    "duration": 458,
    "start_time": "2022-01-14T12:10:51.567Z"
   },
   {
    "duration": 206,
    "start_time": "2022-01-14T12:10:59.335Z"
   },
   {
    "duration": 643,
    "start_time": "2022-01-14T12:11:47.021Z"
   },
   {
    "duration": 833,
    "start_time": "2022-01-14T12:11:59.083Z"
   },
   {
    "duration": 134,
    "start_time": "2022-01-14T12:12:17.559Z"
   },
   {
    "duration": 15,
    "start_time": "2022-01-14T12:29:44.495Z"
   },
   {
    "duration": 7,
    "start_time": "2022-01-14T12:29:56.855Z"
   },
   {
    "duration": 6,
    "start_time": "2022-01-14T12:30:21.696Z"
   },
   {
    "duration": 266,
    "start_time": "2022-01-14T12:30:26.950Z"
   },
   {
    "duration": 244,
    "start_time": "2022-01-14T12:31:42.056Z"
   },
   {
    "duration": 260,
    "start_time": "2022-01-14T12:32:48.190Z"
   },
   {
    "duration": 5,
    "start_time": "2022-01-14T12:33:02.562Z"
   },
   {
    "duration": 290,
    "start_time": "2022-01-14T12:33:16.495Z"
   },
   {
    "duration": 5,
    "start_time": "2022-01-14T12:34:01.902Z"
   },
   {
    "duration": 261,
    "start_time": "2022-01-14T12:34:07.862Z"
   },
   {
    "duration": 281,
    "start_time": "2022-01-14T12:34:21.095Z"
   },
   {
    "duration": 303,
    "start_time": "2022-01-14T12:34:31.253Z"
   },
   {
    "duration": 264,
    "start_time": "2022-01-14T12:34:44.052Z"
   },
   {
    "duration": 7,
    "start_time": "2022-01-14T12:34:51.668Z"
   },
   {
    "duration": 332,
    "start_time": "2022-01-14T12:36:46.802Z"
   },
   {
    "duration": 263,
    "start_time": "2022-01-14T12:36:58.199Z"
   },
   {
    "duration": 16,
    "start_time": "2022-01-14T12:37:59.264Z"
   },
   {
    "duration": 35,
    "start_time": "2022-01-14T12:41:02.182Z"
   },
   {
    "duration": 37,
    "start_time": "2022-01-14T12:46:02.744Z"
   },
   {
    "duration": 3,
    "start_time": "2022-01-14T12:56:21.794Z"
   },
   {
    "duration": 4,
    "start_time": "2022-01-14T12:56:29.608Z"
   },
   {
    "duration": 8,
    "start_time": "2022-01-14T12:56:55.648Z"
   },
   {
    "duration": 7,
    "start_time": "2022-01-14T12:56:56.649Z"
   },
   {
    "duration": 6537,
    "start_time": "2022-01-14T12:57:39.433Z"
   },
   {
    "duration": 7,
    "start_time": "2022-01-14T12:57:55.954Z"
   },
   {
    "duration": 250,
    "start_time": "2022-01-14T12:58:16.706Z"
   },
   {
    "duration": 10,
    "start_time": "2022-01-14T12:59:10.044Z"
   },
   {
    "duration": 83,
    "start_time": "2022-01-14T12:59:25.801Z"
   },
   {
    "duration": 7,
    "start_time": "2022-01-14T12:59:29.486Z"
   },
   {
    "duration": 7,
    "start_time": "2022-01-14T13:00:02.851Z"
   },
   {
    "duration": 6,
    "start_time": "2022-01-14T13:00:03.935Z"
   },
   {
    "duration": 6,
    "start_time": "2022-01-14T13:00:09.410Z"
   },
   {
    "duration": 6,
    "start_time": "2022-01-14T13:00:10.578Z"
   },
   {
    "duration": 2217,
    "start_time": "2022-01-14T13:14:16.449Z"
   },
   {
    "duration": 667,
    "start_time": "2022-01-14T13:15:05.392Z"
   },
   {
    "duration": 6,
    "start_time": "2022-01-14T13:16:18.263Z"
   },
   {
    "duration": 9091,
    "start_time": "2022-01-14T13:17:50.243Z"
   },
   {
    "duration": 7848,
    "start_time": "2022-01-14T13:18:13.273Z"
   },
   {
    "duration": 12,
    "start_time": "2022-01-14T13:19:02.105Z"
   },
   {
    "duration": 11,
    "start_time": "2022-01-14T13:19:13.119Z"
   },
   {
    "duration": 305,
    "start_time": "2022-01-14T13:19:40.474Z"
   },
   {
    "duration": 3,
    "start_time": "2022-01-14T13:20:12.496Z"
   },
   {
    "duration": 4,
    "start_time": "2022-01-14T13:20:14.428Z"
   },
   {
    "duration": 256,
    "start_time": "2022-01-14T13:22:13.130Z"
   },
   {
    "duration": 255,
    "start_time": "2022-01-14T13:22:49.548Z"
   },
   {
    "duration": 4,
    "start_time": "2022-01-14T13:22:58.613Z"
   },
   {
    "duration": 5,
    "start_time": "2022-01-14T13:54:01.915Z"
   },
   {
    "duration": 229,
    "start_time": "2022-01-14T13:54:37.425Z"
   },
   {
    "duration": 257,
    "start_time": "2022-01-14T13:55:19.803Z"
   },
   {
    "duration": 10,
    "start_time": "2022-01-14T13:55:22.235Z"
   },
   {
    "duration": 241,
    "start_time": "2022-01-14T13:55:22.722Z"
   },
   {
    "duration": 217,
    "start_time": "2022-01-14T13:55:31.619Z"
   },
   {
    "duration": 164,
    "start_time": "2022-01-14T13:56:18.067Z"
   },
   {
    "duration": 234,
    "start_time": "2022-01-14T13:56:26.095Z"
   },
   {
    "duration": 271,
    "start_time": "2022-01-14T13:59:30.611Z"
   },
   {
    "duration": 120,
    "start_time": "2022-01-14T13:59:35.422Z"
   },
   {
    "duration": 117,
    "start_time": "2022-01-14T14:01:09.878Z"
   },
   {
    "duration": 257,
    "start_time": "2022-01-14T14:03:21.821Z"
   },
   {
    "duration": 287,
    "start_time": "2022-01-14T14:06:32.695Z"
   },
   {
    "duration": 192,
    "start_time": "2022-01-14T14:09:15.818Z"
   },
   {
    "duration": 88,
    "start_time": "2022-01-14T14:20:52.221Z"
   },
   {
    "duration": 454,
    "start_time": "2022-01-14T14:21:29.229Z"
   },
   {
    "duration": 425,
    "start_time": "2022-01-14T14:22:30.646Z"
   },
   {
    "duration": 161,
    "start_time": "2022-01-14T14:23:28.564Z"
   },
   {
    "duration": 173,
    "start_time": "2022-01-14T14:24:32.326Z"
   },
   {
    "duration": 166,
    "start_time": "2022-01-14T14:26:09.895Z"
   },
   {
    "duration": 264,
    "start_time": "2022-01-14T14:26:26.701Z"
   },
   {
    "duration": 27,
    "start_time": "2022-01-14T14:27:03.806Z"
   },
   {
    "duration": 403,
    "start_time": "2022-01-14T14:27:06.575Z"
   },
   {
    "duration": 402,
    "start_time": "2022-01-14T14:28:28.429Z"
   },
   {
    "duration": 1730,
    "start_time": "2022-01-14T14:30:48.167Z"
   },
   {
    "duration": 1809,
    "start_time": "2022-01-14T14:31:31.083Z"
   },
   {
    "duration": 1738,
    "start_time": "2022-01-14T14:31:46.492Z"
   },
   {
    "duration": 1993,
    "start_time": "2022-01-14T14:48:46.031Z"
   },
   {
    "duration": 1654,
    "start_time": "2022-01-14T14:50:03.580Z"
   },
   {
    "duration": 1890,
    "start_time": "2022-01-14T14:50:49.311Z"
   },
   {
    "duration": 1482,
    "start_time": "2022-01-14T14:51:04.542Z"
   },
   {
    "duration": 248,
    "start_time": "2022-01-14T14:54:56.324Z"
   },
   {
    "duration": 5,
    "start_time": "2022-01-14T14:54:59.288Z"
   },
   {
    "duration": 21,
    "start_time": "2022-01-14T14:55:02.371Z"
   },
   {
    "duration": 1505,
    "start_time": "2022-01-14T14:57:27.806Z"
   },
   {
    "duration": 11,
    "start_time": "2022-01-14T14:57:29.313Z"
   },
   {
    "duration": 38,
    "start_time": "2022-01-14T14:57:29.326Z"
   },
   {
    "duration": 388,
    "start_time": "2022-01-14T14:57:29.366Z"
   },
   {
    "duration": 30,
    "start_time": "2022-01-14T14:57:29.756Z"
   },
   {
    "duration": 28,
    "start_time": "2022-01-14T14:57:29.787Z"
   },
   {
    "duration": 21,
    "start_time": "2022-01-14T14:57:29.817Z"
   },
   {
    "duration": 9,
    "start_time": "2022-01-14T14:57:29.862Z"
   },
   {
    "duration": 366,
    "start_time": "2022-01-14T14:57:29.873Z"
   },
   {
    "duration": 39,
    "start_time": "2022-01-14T14:57:30.240Z"
   },
   {
    "duration": 21,
    "start_time": "2022-01-14T14:57:30.281Z"
   },
   {
    "duration": 41,
    "start_time": "2022-01-14T14:57:30.304Z"
   },
   {
    "duration": 27,
    "start_time": "2022-01-14T14:57:30.346Z"
   },
   {
    "duration": 45,
    "start_time": "2022-01-14T14:57:30.375Z"
   },
   {
    "duration": 61,
    "start_time": "2022-01-14T14:57:30.422Z"
   },
   {
    "duration": 10,
    "start_time": "2022-01-14T14:57:30.485Z"
   },
   {
    "duration": 59,
    "start_time": "2022-01-14T14:57:30.497Z"
   },
   {
    "duration": 41,
    "start_time": "2022-01-14T14:57:30.558Z"
   },
   {
    "duration": 33,
    "start_time": "2022-01-14T14:57:30.601Z"
   },
   {
    "duration": 22,
    "start_time": "2022-01-14T14:57:30.636Z"
   },
   {
    "duration": 38,
    "start_time": "2022-01-14T14:57:30.660Z"
   },
   {
    "duration": 243,
    "start_time": "2022-01-14T14:57:30.700Z"
   },
   {
    "duration": 17,
    "start_time": "2022-01-14T14:57:30.948Z"
   },
   {
    "duration": 28,
    "start_time": "2022-01-14T14:57:30.969Z"
   },
   {
    "duration": 58,
    "start_time": "2022-01-14T14:57:30.999Z"
   },
   {
    "duration": 479,
    "start_time": "2022-01-14T14:57:31.060Z"
   },
   {
    "duration": 19,
    "start_time": "2022-01-14T14:57:31.542Z"
   },
   {
    "duration": 187,
    "start_time": "2022-01-14T14:57:31.562Z"
   },
   {
    "duration": 20,
    "start_time": "2022-01-14T14:57:31.751Z"
   },
   {
    "duration": 102,
    "start_time": "2022-01-14T14:57:31.773Z"
   },
   {
    "duration": 119,
    "start_time": "2022-01-14T14:57:31.877Z"
   },
   {
    "duration": 16,
    "start_time": "2022-01-14T14:57:31.998Z"
   },
   {
    "duration": 125,
    "start_time": "2022-01-14T14:57:32.016Z"
   },
   {
    "duration": 58,
    "start_time": "2022-01-14T14:57:32.143Z"
   },
   {
    "duration": 58,
    "start_time": "2022-01-14T14:57:32.204Z"
   },
   {
    "duration": 3,
    "start_time": "2022-01-14T14:57:32.264Z"
   },
   {
    "duration": 19,
    "start_time": "2022-01-14T14:57:32.269Z"
   },
   {
    "duration": 14,
    "start_time": "2022-01-14T14:57:32.290Z"
   },
   {
    "duration": 13,
    "start_time": "2022-01-14T14:57:32.306Z"
   },
   {
    "duration": 10,
    "start_time": "2022-01-14T14:57:32.321Z"
   },
   {
    "duration": 57,
    "start_time": "2022-01-14T14:57:32.333Z"
   },
   {
    "duration": 6,
    "start_time": "2022-01-14T14:57:32.392Z"
   },
   {
    "duration": 33,
    "start_time": "2022-01-14T14:57:32.400Z"
   },
   {
    "duration": 27,
    "start_time": "2022-01-14T14:57:32.435Z"
   },
   {
    "duration": 22,
    "start_time": "2022-01-14T14:57:32.464Z"
   },
   {
    "duration": 2873,
    "start_time": "2022-01-14T14:57:32.487Z"
   },
   {
    "duration": 11,
    "start_time": "2022-01-14T14:57:35.362Z"
   },
   {
    "duration": 41,
    "start_time": "2022-01-14T14:57:35.376Z"
   },
   {
    "duration": 414,
    "start_time": "2022-01-14T14:57:35.418Z"
   },
   {
    "duration": 45,
    "start_time": "2022-01-14T14:57:35.834Z"
   },
   {
    "duration": 14,
    "start_time": "2022-01-14T14:57:35.881Z"
   },
   {
    "duration": 225,
    "start_time": "2022-01-14T14:57:35.897Z"
   },
   {
    "duration": 23,
    "start_time": "2022-01-14T14:57:36.124Z"
   },
   {
    "duration": 7,
    "start_time": "2022-01-14T14:57:36.161Z"
   },
   {
    "duration": 7,
    "start_time": "2022-01-14T14:57:36.171Z"
   },
   {
    "duration": 6,
    "start_time": "2022-01-14T14:57:36.180Z"
   },
   {
    "duration": 5510,
    "start_time": "2022-01-14T14:57:30.678Z"
   },
   {
    "duration": 5488,
    "start_time": "2022-01-14T14:57:30.701Z"
   },
   {
    "duration": 5476,
    "start_time": "2022-01-14T14:57:30.714Z"
   },
   {
    "duration": 5451,
    "start_time": "2022-01-14T14:57:30.740Z"
   },
   {
    "duration": 5432,
    "start_time": "2022-01-14T14:57:30.760Z"
   },
   {
    "duration": 5408,
    "start_time": "2022-01-14T14:57:30.785Z"
   },
   {
    "duration": 5387,
    "start_time": "2022-01-14T14:57:30.807Z"
   },
   {
    "duration": 5374,
    "start_time": "2022-01-14T14:57:30.821Z"
   },
   {
    "duration": 5364,
    "start_time": "2022-01-14T14:57:30.832Z"
   },
   {
    "duration": 5324,
    "start_time": "2022-01-14T14:57:30.873Z"
   },
   {
    "duration": 5300,
    "start_time": "2022-01-14T14:57:30.898Z"
   },
   {
    "duration": 5274,
    "start_time": "2022-01-14T14:57:30.925Z"
   },
   {
    "duration": 5256,
    "start_time": "2022-01-14T14:57:30.945Z"
   },
   {
    "duration": 5237,
    "start_time": "2022-01-14T14:57:30.965Z"
   },
   {
    "duration": 5218,
    "start_time": "2022-01-14T14:57:30.985Z"
   },
   {
    "duration": 5213,
    "start_time": "2022-01-14T14:57:30.991Z"
   },
   {
    "duration": 5203,
    "start_time": "2022-01-14T14:57:31.002Z"
   },
   {
    "duration": 5181,
    "start_time": "2022-01-14T14:57:31.025Z"
   },
   {
    "duration": 4,
    "start_time": "2022-01-14T14:58:04.492Z"
   },
   {
    "duration": 140,
    "start_time": "2022-01-14T14:58:05.499Z"
   },
   {
    "duration": 145,
    "start_time": "2022-01-14T14:58:08.402Z"
   },
   {
    "duration": 5,
    "start_time": "2022-01-14T14:58:12.140Z"
   },
   {
    "duration": 634,
    "start_time": "2022-01-14T14:58:13.059Z"
   },
   {
    "duration": 225,
    "start_time": "2022-01-14T14:59:32.998Z"
   },
   {
    "duration": 5,
    "start_time": "2022-01-14T14:59:37.068Z"
   },
   {
    "duration": 19,
    "start_time": "2022-01-14T14:59:42.150Z"
   },
   {
    "duration": 70,
    "start_time": "2022-01-14T14:59:44.224Z"
   },
   {
    "duration": 22,
    "start_time": "2022-01-14T14:59:55.529Z"
   },
   {
    "duration": 1380,
    "start_time": "2022-01-14T14:59:57.549Z"
   },
   {
    "duration": 1712,
    "start_time": "2022-01-14T15:01:54.214Z"
   },
   {
    "duration": 398,
    "start_time": "2022-01-14T15:10:11.997Z"
   },
   {
    "duration": 25,
    "start_time": "2022-01-14T15:10:17.681Z"
   },
   {
    "duration": 1758,
    "start_time": "2022-01-14T15:10:18.546Z"
   },
   {
    "duration": 1737,
    "start_time": "2022-01-14T15:10:52.448Z"
   },
   {
    "duration": 26,
    "start_time": "2022-01-14T15:10:58.953Z"
   },
   {
    "duration": 17,
    "start_time": "2022-01-14T15:11:56.369Z"
   },
   {
    "duration": 585,
    "start_time": "2022-01-14T15:11:57.438Z"
   },
   {
    "duration": 665,
    "start_time": "2022-01-14T15:12:38.685Z"
   },
   {
    "duration": 638,
    "start_time": "2022-01-14T15:12:59.270Z"
   },
   {
    "duration": 766,
    "start_time": "2022-01-14T15:17:34.423Z"
   },
   {
    "duration": 732,
    "start_time": "2022-01-14T15:19:05.194Z"
   },
   {
    "duration": 1025,
    "start_time": "2022-01-14T15:19:19.756Z"
   },
   {
    "duration": 650,
    "start_time": "2022-01-14T15:19:34.854Z"
   },
   {
    "duration": 666,
    "start_time": "2022-01-14T15:19:41.499Z"
   },
   {
    "duration": 791,
    "start_time": "2022-01-14T15:19:49.120Z"
   },
   {
    "duration": 662,
    "start_time": "2022-01-14T15:19:55.376Z"
   },
   {
    "duration": 18,
    "start_time": "2022-01-14T15:21:04.368Z"
   },
   {
    "duration": 622,
    "start_time": "2022-01-14T15:21:06.953Z"
   },
   {
    "duration": 613,
    "start_time": "2022-01-14T15:21:35.278Z"
   },
   {
    "duration": 618,
    "start_time": "2022-01-14T15:58:11.967Z"
   },
   {
    "duration": 600,
    "start_time": "2022-01-14T15:58:16.893Z"
   },
   {
    "duration": 743,
    "start_time": "2022-01-14T15:59:14.769Z"
   },
   {
    "duration": 612,
    "start_time": "2022-01-14T15:59:25.170Z"
   },
   {
    "duration": 594,
    "start_time": "2022-01-14T15:59:43.239Z"
   },
   {
    "duration": 569,
    "start_time": "2022-01-14T16:10:30.722Z"
   },
   {
    "duration": 646,
    "start_time": "2022-01-14T16:11:59.288Z"
   },
   {
    "duration": 818,
    "start_time": "2022-01-14T16:13:57.300Z"
   },
   {
    "duration": 662,
    "start_time": "2022-01-14T16:14:09.612Z"
   },
   {
    "duration": 868,
    "start_time": "2022-01-14T16:14:53.766Z"
   },
   {
    "duration": 634,
    "start_time": "2022-01-14T16:15:09.277Z"
   },
   {
    "duration": 591,
    "start_time": "2022-01-14T16:15:16.353Z"
   },
   {
    "duration": 624,
    "start_time": "2022-01-14T16:15:23.074Z"
   },
   {
    "duration": 775,
    "start_time": "2022-01-14T16:15:52.374Z"
   },
   {
    "duration": 867,
    "start_time": "2022-01-14T16:16:00.877Z"
   },
   {
    "duration": 659,
    "start_time": "2022-01-14T16:16:06.897Z"
   },
   {
    "duration": 565,
    "start_time": "2022-01-14T16:16:38.608Z"
   },
   {
    "duration": 606,
    "start_time": "2022-01-14T16:17:29.876Z"
   },
   {
    "duration": 529,
    "start_time": "2022-01-14T16:17:44.100Z"
   },
   {
    "duration": 806,
    "start_time": "2022-01-14T16:17:54.887Z"
   },
   {
    "duration": 597,
    "start_time": "2022-01-14T16:18:49.681Z"
   },
   {
    "duration": 2196,
    "start_time": "2022-01-14T16:20:28.218Z"
   },
   {
    "duration": 16,
    "start_time": "2022-01-14T16:20:30.417Z"
   },
   {
    "duration": 61,
    "start_time": "2022-01-14T16:20:30.436Z"
   },
   {
    "duration": 406,
    "start_time": "2022-01-14T16:20:30.499Z"
   },
   {
    "duration": 30,
    "start_time": "2022-01-14T16:20:30.907Z"
   },
   {
    "duration": 69,
    "start_time": "2022-01-14T16:20:30.939Z"
   },
   {
    "duration": 53,
    "start_time": "2022-01-14T16:20:31.010Z"
   },
   {
    "duration": 48,
    "start_time": "2022-01-14T16:20:31.066Z"
   },
   {
    "duration": 389,
    "start_time": "2022-01-14T16:20:31.116Z"
   },
   {
    "duration": 31,
    "start_time": "2022-01-14T16:20:31.507Z"
   },
   {
    "duration": 38,
    "start_time": "2022-01-14T16:20:31.540Z"
   },
   {
    "duration": 60,
    "start_time": "2022-01-14T16:20:31.580Z"
   },
   {
    "duration": 33,
    "start_time": "2022-01-14T16:20:31.642Z"
   },
   {
    "duration": 62,
    "start_time": "2022-01-14T16:20:31.677Z"
   },
   {
    "duration": 71,
    "start_time": "2022-01-14T16:20:31.741Z"
   },
   {
    "duration": 21,
    "start_time": "2022-01-14T16:20:31.814Z"
   },
   {
    "duration": 41,
    "start_time": "2022-01-14T16:20:31.837Z"
   },
   {
    "duration": 44,
    "start_time": "2022-01-14T16:20:31.880Z"
   },
   {
    "duration": 36,
    "start_time": "2022-01-14T16:20:31.926Z"
   },
   {
    "duration": 37,
    "start_time": "2022-01-14T16:20:31.964Z"
   },
   {
    "duration": 40,
    "start_time": "2022-01-14T16:20:32.003Z"
   },
   {
    "duration": 265,
    "start_time": "2022-01-14T16:20:32.044Z"
   },
   {
    "duration": 12,
    "start_time": "2022-01-14T16:20:32.314Z"
   },
   {
    "duration": 50,
    "start_time": "2022-01-14T16:20:32.328Z"
   },
   {
    "duration": 50,
    "start_time": "2022-01-14T16:20:32.380Z"
   },
   {
    "duration": 496,
    "start_time": "2022-01-14T16:20:32.432Z"
   },
   {
    "duration": 9,
    "start_time": "2022-01-14T16:20:32.930Z"
   },
   {
    "duration": 208,
    "start_time": "2022-01-14T16:20:32.941Z"
   },
   {
    "duration": 16,
    "start_time": "2022-01-14T16:20:33.151Z"
   },
   {
    "duration": 114,
    "start_time": "2022-01-14T16:20:33.169Z"
   },
   {
    "duration": 119,
    "start_time": "2022-01-14T16:20:33.285Z"
   },
   {
    "duration": 17,
    "start_time": "2022-01-14T16:20:33.406Z"
   },
   {
    "duration": 118,
    "start_time": "2022-01-14T16:20:33.425Z"
   },
   {
    "duration": 60,
    "start_time": "2022-01-14T16:20:33.545Z"
   },
   {
    "duration": 64,
    "start_time": "2022-01-14T16:20:33.607Z"
   },
   {
    "duration": 2,
    "start_time": "2022-01-14T16:20:33.673Z"
   },
   {
    "duration": 37,
    "start_time": "2022-01-14T16:20:33.677Z"
   },
   {
    "duration": 18,
    "start_time": "2022-01-14T16:20:33.716Z"
   },
   {
    "duration": 25,
    "start_time": "2022-01-14T16:20:33.736Z"
   },
   {
    "duration": 27,
    "start_time": "2022-01-14T16:20:33.763Z"
   },
   {
    "duration": 37,
    "start_time": "2022-01-14T16:20:33.791Z"
   },
   {
    "duration": 5,
    "start_time": "2022-01-14T16:20:33.830Z"
   },
   {
    "duration": 20,
    "start_time": "2022-01-14T16:20:33.837Z"
   },
   {
    "duration": 49,
    "start_time": "2022-01-14T16:20:33.859Z"
   },
   {
    "duration": 21,
    "start_time": "2022-01-14T16:20:33.910Z"
   },
   {
    "duration": 3080,
    "start_time": "2022-01-14T16:20:33.932Z"
   },
   {
    "duration": 12,
    "start_time": "2022-01-14T16:20:37.014Z"
   },
   {
    "duration": 40,
    "start_time": "2022-01-14T16:20:37.027Z"
   },
   {
    "duration": 385,
    "start_time": "2022-01-14T16:20:37.069Z"
   },
   {
    "duration": 39,
    "start_time": "2022-01-14T16:20:37.455Z"
   },
   {
    "duration": 15,
    "start_time": "2022-01-14T16:20:37.495Z"
   },
   {
    "duration": 270,
    "start_time": "2022-01-14T16:20:37.512Z"
   },
   {
    "duration": 21,
    "start_time": "2022-01-14T16:20:37.783Z"
   },
   {
    "duration": 5,
    "start_time": "2022-01-14T16:20:37.806Z"
   },
   {
    "duration": 7,
    "start_time": "2022-01-14T16:20:37.813Z"
   },
   {
    "duration": 11,
    "start_time": "2022-01-14T16:20:37.822Z"
   },
   {
    "duration": 149,
    "start_time": "2022-01-14T16:20:37.861Z"
   },
   {
    "duration": 163,
    "start_time": "2022-01-14T16:20:38.012Z"
   },
   {
    "duration": 475,
    "start_time": "2022-01-14T16:20:38.177Z"
   },
   {
    "duration": 5735,
    "start_time": "2022-01-14T16:20:32.919Z"
   },
   {
    "duration": 5725,
    "start_time": "2022-01-14T16:20:32.930Z"
   },
   {
    "duration": 5710,
    "start_time": "2022-01-14T16:20:32.950Z"
   },
   {
    "duration": 5697,
    "start_time": "2022-01-14T16:20:32.964Z"
   },
   {
    "duration": 5687,
    "start_time": "2022-01-14T16:20:32.975Z"
   },
   {
    "duration": 5681,
    "start_time": "2022-01-14T16:20:32.982Z"
   },
   {
    "duration": 5672,
    "start_time": "2022-01-14T16:20:32.992Z"
   },
   {
    "duration": 5649,
    "start_time": "2022-01-14T16:20:33.016Z"
   },
   {
    "duration": 5640,
    "start_time": "2022-01-14T16:20:33.026Z"
   },
   {
    "duration": 5634,
    "start_time": "2022-01-14T16:20:33.033Z"
   },
   {
    "duration": 5625,
    "start_time": "2022-01-14T16:20:33.043Z"
   },
   {
    "duration": 5619,
    "start_time": "2022-01-14T16:20:33.050Z"
   },
   {
    "duration": 5607,
    "start_time": "2022-01-14T16:20:33.063Z"
   },
   {
    "duration": 612,
    "start_time": "2022-01-14T16:21:11.068Z"
   },
   {
    "duration": 726,
    "start_time": "2022-01-14T16:21:39.372Z"
   },
   {
    "duration": 661,
    "start_time": "2022-01-14T16:21:47.641Z"
   },
   {
    "duration": 700,
    "start_time": "2022-01-14T16:21:51.818Z"
   },
   {
    "duration": 887,
    "start_time": "2022-01-14T16:21:59.248Z"
   },
   {
    "duration": 27,
    "start_time": "2022-01-14T16:28:29.004Z"
   },
   {
    "duration": 604,
    "start_time": "2022-01-14T16:35:41.456Z"
   },
   {
    "duration": 915,
    "start_time": "2022-01-14T16:40:44.078Z"
   },
   {
    "duration": 886,
    "start_time": "2022-01-14T16:41:03.274Z"
   },
   {
    "duration": 511,
    "start_time": "2022-01-14T16:41:12.048Z"
   },
   {
    "duration": 721,
    "start_time": "2022-01-14T16:41:18.973Z"
   },
   {
    "duration": 916,
    "start_time": "2022-01-14T16:44:28.282Z"
   },
   {
    "duration": 804,
    "start_time": "2022-01-14T16:44:35.906Z"
   },
   {
    "duration": 793,
    "start_time": "2022-01-14T16:44:43.538Z"
   },
   {
    "duration": 607,
    "start_time": "2022-01-14T16:44:57.572Z"
   },
   {
    "duration": 733,
    "start_time": "2022-01-14T16:45:08.364Z"
   },
   {
    "duration": 608,
    "start_time": "2022-01-14T16:45:20.579Z"
   },
   {
    "duration": 565,
    "start_time": "2022-01-14T16:45:24.235Z"
   },
   {
    "duration": 604,
    "start_time": "2022-01-14T16:45:28.786Z"
   },
   {
    "duration": 580,
    "start_time": "2022-01-14T16:45:32.202Z"
   },
   {
    "duration": 550,
    "start_time": "2022-01-14T16:45:39.437Z"
   },
   {
    "duration": 831,
    "start_time": "2022-01-14T16:45:47.849Z"
   },
   {
    "duration": 549,
    "start_time": "2022-01-14T16:55:39.145Z"
   },
   {
    "duration": 8,
    "start_time": "2022-01-14T17:00:11.667Z"
   },
   {
    "duration": 5,
    "start_time": "2022-01-14T17:00:21.714Z"
   },
   {
    "duration": 32,
    "start_time": "2022-01-14T17:00:45.026Z"
   },
   {
    "duration": 159,
    "start_time": "2022-01-14T17:04:20.147Z"
   },
   {
    "duration": 168,
    "start_time": "2022-01-14T18:30:44.594Z"
   },
   {
    "duration": 81,
    "start_time": "2022-01-14T18:57:14.874Z"
   },
   {
    "duration": 5,
    "start_time": "2022-01-14T18:57:17.882Z"
   },
   {
    "duration": 8,
    "start_time": "2022-01-14T18:57:19.659Z"
   },
   {
    "duration": 29,
    "start_time": "2022-01-14T18:57:24.561Z"
   },
   {
    "duration": 37,
    "start_time": "2022-01-14T18:57:56.021Z"
   },
   {
    "duration": 4,
    "start_time": "2022-01-14T18:57:57.512Z"
   },
   {
    "duration": 9,
    "start_time": "2022-01-14T18:57:59.098Z"
   },
   {
    "duration": 31,
    "start_time": "2022-01-14T18:58:01.786Z"
   },
   {
    "duration": 44,
    "start_time": "2022-01-14T19:13:07.256Z"
   },
   {
    "duration": 4,
    "start_time": "2022-01-14T19:13:10.870Z"
   },
   {
    "duration": 8,
    "start_time": "2022-01-14T19:13:14.267Z"
   },
   {
    "duration": 29,
    "start_time": "2022-01-14T19:13:15.973Z"
   },
   {
    "duration": 293,
    "start_time": "2022-01-14T19:13:31.018Z"
   },
   {
    "duration": 149,
    "start_time": "2022-01-14T19:14:02.146Z"
   },
   {
    "duration": 563,
    "start_time": "2022-01-14T19:27:17.585Z"
   },
   {
    "duration": 642,
    "start_time": "2022-01-14T19:28:34.684Z"
   },
   {
    "duration": 686,
    "start_time": "2022-01-14T19:31:04.914Z"
   },
   {
    "duration": 1496,
    "start_time": "2022-01-14T19:31:25.708Z"
   },
   {
    "duration": 11,
    "start_time": "2022-01-14T19:31:27.205Z"
   },
   {
    "duration": 36,
    "start_time": "2022-01-14T19:31:27.218Z"
   },
   {
    "duration": 378,
    "start_time": "2022-01-14T19:31:27.255Z"
   },
   {
    "duration": 31,
    "start_time": "2022-01-14T19:31:27.635Z"
   },
   {
    "duration": 22,
    "start_time": "2022-01-14T19:31:27.668Z"
   },
   {
    "duration": 45,
    "start_time": "2022-01-14T19:31:27.691Z"
   },
   {
    "duration": 7,
    "start_time": "2022-01-14T19:31:27.739Z"
   },
   {
    "duration": 360,
    "start_time": "2022-01-14T19:31:27.748Z"
   },
   {
    "duration": 29,
    "start_time": "2022-01-14T19:31:28.109Z"
   },
   {
    "duration": 34,
    "start_time": "2022-01-14T19:31:28.140Z"
   },
   {
    "duration": 16,
    "start_time": "2022-01-14T19:31:28.176Z"
   },
   {
    "duration": 14,
    "start_time": "2022-01-14T19:31:28.194Z"
   },
   {
    "duration": 18,
    "start_time": "2022-01-14T19:31:28.210Z"
   },
   {
    "duration": 54,
    "start_time": "2022-01-14T19:31:28.230Z"
   },
   {
    "duration": 7,
    "start_time": "2022-01-14T19:31:28.286Z"
   },
   {
    "duration": 26,
    "start_time": "2022-01-14T19:31:28.295Z"
   },
   {
    "duration": 16,
    "start_time": "2022-01-14T19:31:28.324Z"
   },
   {
    "duration": 19,
    "start_time": "2022-01-14T19:31:28.342Z"
   },
   {
    "duration": 7,
    "start_time": "2022-01-14T19:31:28.363Z"
   },
   {
    "duration": 15,
    "start_time": "2022-01-14T19:31:28.372Z"
   },
   {
    "duration": 231,
    "start_time": "2022-01-14T19:31:28.389Z"
   },
   {
    "duration": 10,
    "start_time": "2022-01-14T19:31:28.624Z"
   },
   {
    "duration": 12,
    "start_time": "2022-01-14T19:31:28.637Z"
   },
   {
    "duration": 33,
    "start_time": "2022-01-14T19:31:28.650Z"
   },
   {
    "duration": 454,
    "start_time": "2022-01-14T19:31:28.685Z"
   },
   {
    "duration": 9,
    "start_time": "2022-01-14T19:31:29.141Z"
   },
   {
    "duration": 187,
    "start_time": "2022-01-14T19:31:29.151Z"
   },
   {
    "duration": 10,
    "start_time": "2022-01-14T19:31:29.340Z"
   },
   {
    "duration": 82,
    "start_time": "2022-01-14T19:31:29.361Z"
   },
   {
    "duration": 118,
    "start_time": "2022-01-14T19:31:29.445Z"
   },
   {
    "duration": 14,
    "start_time": "2022-01-14T19:31:29.565Z"
   },
   {
    "duration": 110,
    "start_time": "2022-01-14T19:31:29.581Z"
   },
   {
    "duration": 50,
    "start_time": "2022-01-14T19:31:29.693Z"
   },
   {
    "duration": 60,
    "start_time": "2022-01-14T19:31:29.745Z"
   },
   {
    "duration": 3,
    "start_time": "2022-01-14T19:31:29.807Z"
   },
   {
    "duration": 14,
    "start_time": "2022-01-14T19:31:29.812Z"
   },
   {
    "duration": 42,
    "start_time": "2022-01-14T19:31:29.827Z"
   },
   {
    "duration": 12,
    "start_time": "2022-01-14T19:31:29.871Z"
   },
   {
    "duration": 15,
    "start_time": "2022-01-14T19:31:29.885Z"
   },
   {
    "duration": 45,
    "start_time": "2022-01-14T19:31:29.901Z"
   },
   {
    "duration": 5,
    "start_time": "2022-01-14T19:31:29.948Z"
   },
   {
    "duration": 17,
    "start_time": "2022-01-14T19:31:29.955Z"
   },
   {
    "duration": 18,
    "start_time": "2022-01-14T19:31:29.974Z"
   },
   {
    "duration": 14,
    "start_time": "2022-01-14T19:31:29.994Z"
   },
   {
    "duration": 3048,
    "start_time": "2022-01-14T19:31:30.010Z"
   },
   {
    "duration": 12,
    "start_time": "2022-01-14T19:31:33.059Z"
   },
   {
    "duration": 41,
    "start_time": "2022-01-14T19:31:33.073Z"
   },
   {
    "duration": 375,
    "start_time": "2022-01-14T19:31:33.116Z"
   },
   {
    "duration": 38,
    "start_time": "2022-01-14T19:31:33.493Z"
   },
   {
    "duration": 14,
    "start_time": "2022-01-14T19:31:33.532Z"
   },
   {
    "duration": 272,
    "start_time": "2022-01-14T19:31:33.561Z"
   },
   {
    "duration": 40,
    "start_time": "2022-01-14T19:31:33.835Z"
   },
   {
    "duration": 6,
    "start_time": "2022-01-14T19:31:33.877Z"
   },
   {
    "duration": 18,
    "start_time": "2022-01-14T19:31:33.885Z"
   },
   {
    "duration": 157,
    "start_time": "2022-01-14T19:31:33.904Z"
   },
   {
    "duration": 164,
    "start_time": "2022-01-14T19:31:34.062Z"
   },
   {
    "duration": 567,
    "start_time": "2022-01-14T19:31:34.227Z"
   },
   {
    "duration": 585,
    "start_time": "2022-01-14T19:31:34.796Z"
   },
   {
    "duration": 173,
    "start_time": "2022-01-14T19:31:35.382Z"
   },
   {
    "duration": 136,
    "start_time": "2022-01-14T19:31:35.557Z"
   },
   {
    "duration": 4,
    "start_time": "2022-01-14T19:31:35.695Z"
   },
   {
    "duration": 29,
    "start_time": "2022-01-14T19:31:35.701Z"
   },
   {
    "duration": 39,
    "start_time": "2022-01-14T19:31:35.732Z"
   },
   {
    "duration": 168,
    "start_time": "2022-01-14T19:31:35.773Z"
   },
   {
    "duration": 353,
    "start_time": "2022-01-14T19:31:35.943Z"
   },
   {
    "duration": 5866,
    "start_time": "2022-01-14T19:31:30.432Z"
   },
   {
    "duration": 29,
    "start_time": "2022-01-14T19:38:59.021Z"
   },
   {
    "duration": 612,
    "start_time": "2022-01-14T19:41:34.588Z"
   },
   {
    "duration": 728,
    "start_time": "2022-01-14T19:41:41.899Z"
   },
   {
    "duration": 581,
    "start_time": "2022-01-14T19:41:57.591Z"
   },
   {
    "duration": 566,
    "start_time": "2022-01-14T19:42:07.034Z"
   },
   {
    "duration": 1595,
    "start_time": "2022-01-14T19:42:12.379Z"
   },
   {
    "duration": 11,
    "start_time": "2022-01-14T19:42:13.976Z"
   },
   {
    "duration": 27,
    "start_time": "2022-01-14T19:42:13.988Z"
   },
   {
    "duration": 363,
    "start_time": "2022-01-14T19:42:14.017Z"
   },
   {
    "duration": 29,
    "start_time": "2022-01-14T19:42:14.381Z"
   },
   {
    "duration": 20,
    "start_time": "2022-01-14T19:42:14.412Z"
   },
   {
    "duration": 41,
    "start_time": "2022-01-14T19:42:14.434Z"
   },
   {
    "duration": 9,
    "start_time": "2022-01-14T19:42:14.478Z"
   },
   {
    "duration": 375,
    "start_time": "2022-01-14T19:42:14.489Z"
   },
   {
    "duration": 30,
    "start_time": "2022-01-14T19:42:14.865Z"
   },
   {
    "duration": 16,
    "start_time": "2022-01-14T19:42:14.897Z"
   },
   {
    "duration": 16,
    "start_time": "2022-01-14T19:42:14.915Z"
   },
   {
    "duration": 39,
    "start_time": "2022-01-14T19:42:14.932Z"
   },
   {
    "duration": 14,
    "start_time": "2022-01-14T19:42:14.973Z"
   },
   {
    "duration": 32,
    "start_time": "2022-01-14T19:42:14.989Z"
   },
   {
    "duration": 8,
    "start_time": "2022-01-14T19:42:15.022Z"
   },
   {
    "duration": 35,
    "start_time": "2022-01-14T19:42:15.032Z"
   },
   {
    "duration": 14,
    "start_time": "2022-01-14T19:42:15.069Z"
   },
   {
    "duration": 8,
    "start_time": "2022-01-14T19:42:15.084Z"
   },
   {
    "duration": 6,
    "start_time": "2022-01-14T19:42:15.094Z"
   },
   {
    "duration": 9,
    "start_time": "2022-01-14T19:42:15.101Z"
   },
   {
    "duration": 253,
    "start_time": "2022-01-14T19:42:15.112Z"
   },
   {
    "duration": 12,
    "start_time": "2022-01-14T19:42:15.368Z"
   },
   {
    "duration": 5,
    "start_time": "2022-01-14T19:42:15.382Z"
   },
   {
    "duration": 24,
    "start_time": "2022-01-14T19:42:15.388Z"
   },
   {
    "duration": 417,
    "start_time": "2022-01-14T19:42:15.413Z"
   },
   {
    "duration": 9,
    "start_time": "2022-01-14T19:42:15.832Z"
   },
   {
    "duration": 187,
    "start_time": "2022-01-14T19:42:15.843Z"
   },
   {
    "duration": 13,
    "start_time": "2022-01-14T19:42:16.032Z"
   },
   {
    "duration": 91,
    "start_time": "2022-01-14T19:42:16.046Z"
   },
   {
    "duration": 112,
    "start_time": "2022-01-14T19:42:16.139Z"
   },
   {
    "duration": 21,
    "start_time": "2022-01-14T19:42:16.253Z"
   },
   {
    "duration": 108,
    "start_time": "2022-01-14T19:42:16.276Z"
   },
   {
    "duration": 47,
    "start_time": "2022-01-14T19:42:16.386Z"
   },
   {
    "duration": 62,
    "start_time": "2022-01-14T19:42:16.435Z"
   },
   {
    "duration": 2,
    "start_time": "2022-01-14T19:42:16.500Z"
   },
   {
    "duration": 17,
    "start_time": "2022-01-14T19:42:16.504Z"
   },
   {
    "duration": 13,
    "start_time": "2022-01-14T19:42:16.522Z"
   },
   {
    "duration": 28,
    "start_time": "2022-01-14T19:42:16.536Z"
   },
   {
    "duration": 7,
    "start_time": "2022-01-14T19:42:16.566Z"
   },
   {
    "duration": 32,
    "start_time": "2022-01-14T19:42:16.574Z"
   },
   {
    "duration": 5,
    "start_time": "2022-01-14T19:42:16.608Z"
   },
   {
    "duration": 14,
    "start_time": "2022-01-14T19:42:16.615Z"
   },
   {
    "duration": 36,
    "start_time": "2022-01-14T19:42:16.631Z"
   },
   {
    "duration": 7,
    "start_time": "2022-01-14T19:42:16.669Z"
   },
   {
    "duration": 2859,
    "start_time": "2022-01-14T19:42:16.678Z"
   },
   {
    "duration": 11,
    "start_time": "2022-01-14T19:42:19.538Z"
   },
   {
    "duration": 20,
    "start_time": "2022-01-14T19:42:19.551Z"
   },
   {
    "duration": 342,
    "start_time": "2022-01-14T19:42:19.573Z"
   },
   {
    "duration": 45,
    "start_time": "2022-01-14T19:42:19.917Z"
   },
   {
    "duration": 16,
    "start_time": "2022-01-14T19:42:19.964Z"
   },
   {
    "duration": 241,
    "start_time": "2022-01-14T19:42:19.981Z"
   },
   {
    "duration": 24,
    "start_time": "2022-01-14T19:42:20.223Z"
   },
   {
    "duration": 5,
    "start_time": "2022-01-14T19:42:20.261Z"
   },
   {
    "duration": 7,
    "start_time": "2022-01-14T19:42:20.267Z"
   },
   {
    "duration": 142,
    "start_time": "2022-01-14T19:42:20.276Z"
   },
   {
    "duration": 164,
    "start_time": "2022-01-14T19:42:20.420Z"
   },
   {
    "duration": 590,
    "start_time": "2022-01-14T19:42:20.587Z"
   },
   {
    "duration": 590,
    "start_time": "2022-01-14T19:42:21.180Z"
   },
   {
    "duration": 175,
    "start_time": "2022-01-14T19:42:21.773Z"
   },
   {
    "duration": 11,
    "start_time": "2022-01-14T19:42:21.951Z"
   },
   {
    "duration": 18,
    "start_time": "2022-01-14T19:42:21.964Z"
   },
   {
    "duration": 39,
    "start_time": "2022-01-14T19:42:21.984Z"
   },
   {
    "duration": 335,
    "start_time": "2022-01-14T19:42:22.026Z"
   },
   {
    "duration": 5878,
    "start_time": "2022-01-14T19:42:16.485Z"
   },
   {
    "duration": 605,
    "start_time": "2022-01-14T19:42:38.955Z"
   },
   {
    "duration": 137,
    "start_time": "2022-01-15T13:30:23.093Z"
   },
   {
    "duration": 704,
    "start_time": "2022-01-15T13:31:12.713Z"
   },
   {
    "duration": 579,
    "start_time": "2022-01-15T13:32:12.346Z"
   },
   {
    "duration": 570,
    "start_time": "2022-01-15T13:33:50.130Z"
   },
   {
    "duration": 5,
    "start_time": "2022-01-15T14:08:46.073Z"
   },
   {
    "duration": 7,
    "start_time": "2022-01-15T14:09:45.258Z"
   },
   {
    "duration": 7,
    "start_time": "2022-01-15T14:10:05.365Z"
   },
   {
    "duration": 7,
    "start_time": "2022-01-15T14:10:10.672Z"
   },
   {
    "duration": 7,
    "start_time": "2022-01-15T14:10:26.173Z"
   },
   {
    "duration": 6,
    "start_time": "2022-01-15T14:11:06.133Z"
   },
   {
    "duration": 7,
    "start_time": "2022-01-15T14:11:17.794Z"
   },
   {
    "duration": 8,
    "start_time": "2022-01-15T14:13:05.179Z"
   },
   {
    "duration": 112,
    "start_time": "2022-01-15T14:13:32.436Z"
   },
   {
    "duration": 8,
    "start_time": "2022-01-15T14:13:37.016Z"
   },
   {
    "duration": 4,
    "start_time": "2022-01-15T14:13:38.124Z"
   },
   {
    "duration": 7,
    "start_time": "2022-01-15T14:14:56.582Z"
   },
   {
    "duration": 9,
    "start_time": "2022-01-15T14:16:27.416Z"
   },
   {
    "duration": 7,
    "start_time": "2022-01-15T14:17:21.798Z"
   },
   {
    "duration": 273,
    "start_time": "2022-01-15T14:25:07.296Z"
   },
   {
    "duration": 243,
    "start_time": "2022-01-15T14:25:19.199Z"
   },
   {
    "duration": 7,
    "start_time": "2022-01-15T14:28:10.815Z"
   },
   {
    "duration": 250,
    "start_time": "2022-01-15T14:28:38.725Z"
   },
   {
    "duration": 6,
    "start_time": "2022-01-15T14:28:47.642Z"
   },
   {
    "duration": 1542,
    "start_time": "2022-01-15T14:32:31.976Z"
   },
   {
    "duration": 11,
    "start_time": "2022-01-15T14:32:33.520Z"
   },
   {
    "duration": 36,
    "start_time": "2022-01-15T14:32:33.533Z"
   },
   {
    "duration": 375,
    "start_time": "2022-01-15T14:32:33.571Z"
   },
   {
    "duration": 39,
    "start_time": "2022-01-15T14:32:33.947Z"
   },
   {
    "duration": 22,
    "start_time": "2022-01-15T14:32:33.988Z"
   },
   {
    "duration": 39,
    "start_time": "2022-01-15T14:32:34.012Z"
   },
   {
    "duration": 11,
    "start_time": "2022-01-15T14:32:34.053Z"
   },
   {
    "duration": 347,
    "start_time": "2022-01-15T14:32:34.066Z"
   },
   {
    "duration": 28,
    "start_time": "2022-01-15T14:32:34.415Z"
   },
   {
    "duration": 28,
    "start_time": "2022-01-15T14:32:34.444Z"
   },
   {
    "duration": 16,
    "start_time": "2022-01-15T14:32:34.474Z"
   },
   {
    "duration": 13,
    "start_time": "2022-01-15T14:32:34.492Z"
   },
   {
    "duration": 15,
    "start_time": "2022-01-15T14:32:34.506Z"
   },
   {
    "duration": 57,
    "start_time": "2022-01-15T14:32:34.523Z"
   },
   {
    "duration": 7,
    "start_time": "2022-01-15T14:32:34.582Z"
   },
   {
    "duration": 10,
    "start_time": "2022-01-15T14:32:34.590Z"
   },
   {
    "duration": 11,
    "start_time": "2022-01-15T14:32:34.602Z"
   },
   {
    "duration": 9,
    "start_time": "2022-01-15T14:32:34.615Z"
   },
   {
    "duration": 5,
    "start_time": "2022-01-15T14:32:34.626Z"
   },
   {
    "duration": 33,
    "start_time": "2022-01-15T14:32:34.633Z"
   },
   {
    "duration": 239,
    "start_time": "2022-01-15T14:32:34.668Z"
   },
   {
    "duration": 12,
    "start_time": "2022-01-15T14:32:34.911Z"
   },
   {
    "duration": 4,
    "start_time": "2022-01-15T14:32:34.925Z"
   },
   {
    "duration": 37,
    "start_time": "2022-01-15T14:32:34.931Z"
   },
   {
    "duration": 463,
    "start_time": "2022-01-15T14:32:34.970Z"
   },
   {
    "duration": 9,
    "start_time": "2022-01-15T14:32:35.435Z"
   },
   {
    "duration": 192,
    "start_time": "2022-01-15T14:32:35.446Z"
   },
   {
    "duration": 20,
    "start_time": "2022-01-15T14:32:35.640Z"
   },
   {
    "duration": 82,
    "start_time": "2022-01-15T14:32:35.662Z"
   },
   {
    "duration": 120,
    "start_time": "2022-01-15T14:32:35.746Z"
   },
   {
    "duration": 15,
    "start_time": "2022-01-15T14:32:35.868Z"
   },
   {
    "duration": 117,
    "start_time": "2022-01-15T14:32:35.884Z"
   },
   {
    "duration": 49,
    "start_time": "2022-01-15T14:32:36.003Z"
   },
   {
    "duration": 49,
    "start_time": "2022-01-15T14:32:36.061Z"
   },
   {
    "duration": 3,
    "start_time": "2022-01-15T14:32:36.112Z"
   },
   {
    "duration": 21,
    "start_time": "2022-01-15T14:32:36.117Z"
   },
   {
    "duration": 31,
    "start_time": "2022-01-15T14:32:36.141Z"
   },
   {
    "duration": 11,
    "start_time": "2022-01-15T14:32:36.174Z"
   },
   {
    "duration": 7,
    "start_time": "2022-01-15T14:32:36.187Z"
   },
   {
    "duration": 32,
    "start_time": "2022-01-15T14:32:36.196Z"
   },
   {
    "duration": 32,
    "start_time": "2022-01-15T14:32:36.230Z"
   },
   {
    "duration": 15,
    "start_time": "2022-01-15T14:32:36.263Z"
   },
   {
    "duration": 13,
    "start_time": "2022-01-15T14:32:36.279Z"
   },
   {
    "duration": 6,
    "start_time": "2022-01-15T14:32:36.294Z"
   },
   {
    "duration": 2886,
    "start_time": "2022-01-15T14:32:36.301Z"
   },
   {
    "duration": 10,
    "start_time": "2022-01-15T14:32:39.189Z"
   },
   {
    "duration": 12,
    "start_time": "2022-01-15T14:32:39.200Z"
   },
   {
    "duration": 346,
    "start_time": "2022-01-15T14:32:39.214Z"
   },
   {
    "duration": 37,
    "start_time": "2022-01-15T14:32:39.562Z"
   },
   {
    "duration": 15,
    "start_time": "2022-01-15T14:32:39.601Z"
   },
   {
    "duration": 227,
    "start_time": "2022-01-15T14:32:39.618Z"
   },
   {
    "duration": 30,
    "start_time": "2022-01-15T14:32:39.847Z"
   },
   {
    "duration": 5,
    "start_time": "2022-01-15T14:32:39.878Z"
   },
   {
    "duration": 6,
    "start_time": "2022-01-15T14:32:39.885Z"
   },
   {
    "duration": 159,
    "start_time": "2022-01-15T14:32:39.892Z"
   },
   {
    "duration": 159,
    "start_time": "2022-01-15T14:32:40.053Z"
   },
   {
    "duration": 589,
    "start_time": "2022-01-15T14:32:40.213Z"
   },
   {
    "duration": 612,
    "start_time": "2022-01-15T14:32:40.804Z"
   },
   {
    "duration": 277,
    "start_time": "2022-01-15T14:32:41.418Z"
   },
   {
    "duration": 5,
    "start_time": "2022-01-15T14:32:41.697Z"
   },
   {
    "duration": 16,
    "start_time": "2022-01-15T14:32:41.704Z"
   },
   {
    "duration": 51,
    "start_time": "2022-01-15T14:32:41.722Z"
   },
   {
    "duration": 8,
    "start_time": "2022-01-15T14:32:41.776Z"
   },
   {
    "duration": 5,
    "start_time": "2022-01-15T14:32:41.786Z"
   },
   {
    "duration": 10,
    "start_time": "2022-01-15T14:32:41.793Z"
   },
   {
    "duration": 9,
    "start_time": "2022-01-15T14:32:41.805Z"
   },
   {
    "duration": 5,
    "start_time": "2022-01-15T14:33:02.832Z"
   },
   {
    "duration": 5,
    "start_time": "2022-01-15T14:33:21.294Z"
   },
   {
    "duration": 8,
    "start_time": "2022-01-15T14:33:54.978Z"
   },
   {
    "duration": 6,
    "start_time": "2022-01-15T14:33:57.611Z"
   },
   {
    "duration": 8,
    "start_time": "2022-01-15T14:53:32.898Z"
   },
   {
    "duration": 13,
    "start_time": "2022-01-15T14:54:49.397Z"
   },
   {
    "duration": 13,
    "start_time": "2022-01-15T14:55:00.714Z"
   },
   {
    "duration": 13,
    "start_time": "2022-01-15T14:55:35.313Z"
   },
   {
    "duration": 14,
    "start_time": "2022-01-15T14:55:49.135Z"
   },
   {
    "duration": 9,
    "start_time": "2022-01-15T14:57:52.501Z"
   },
   {
    "duration": 14,
    "start_time": "2022-01-15T14:57:57.324Z"
   },
   {
    "duration": 172,
    "start_time": "2022-01-15T14:58:03.324Z"
   },
   {
    "duration": 185,
    "start_time": "2022-01-15T14:58:22.977Z"
   },
   {
    "duration": 327,
    "start_time": "2022-01-15T14:58:47.245Z"
   },
   {
    "duration": 146,
    "start_time": "2022-01-15T15:00:28.732Z"
   },
   {
    "duration": 254,
    "start_time": "2022-01-15T15:01:00.146Z"
   },
   {
    "duration": 82,
    "start_time": "2022-01-15T15:02:10.130Z"
   },
   {
    "duration": 149,
    "start_time": "2022-01-15T15:02:23.244Z"
   },
   {
    "duration": 150,
    "start_time": "2022-01-15T15:22:16.925Z"
   },
   {
    "duration": 8,
    "start_time": "2022-01-15T15:23:15.166Z"
   },
   {
    "duration": 83,
    "start_time": "2022-01-15T15:23:35.486Z"
   },
   {
    "duration": 8,
    "start_time": "2022-01-15T15:23:39.431Z"
   },
   {
    "duration": 19,
    "start_time": "2022-01-15T15:30:56.886Z"
   },
   {
    "duration": 1192,
    "start_time": "2022-01-15T15:31:13.796Z"
   },
   {
    "duration": 414,
    "start_time": "2022-01-15T15:31:14.990Z"
   },
   {
    "duration": 11,
    "start_time": "2022-01-15T15:31:15.406Z"
   },
   {
    "duration": 392,
    "start_time": "2022-01-15T15:31:15.418Z"
   },
   {
    "duration": 27,
    "start_time": "2022-01-15T15:31:15.812Z"
   },
   {
    "duration": 36,
    "start_time": "2022-01-15T15:31:15.841Z"
   },
   {
    "duration": 21,
    "start_time": "2022-01-15T15:31:15.878Z"
   },
   {
    "duration": 29,
    "start_time": "2022-01-15T15:31:15.902Z"
   },
   {
    "duration": 361,
    "start_time": "2022-01-15T15:31:15.933Z"
   },
   {
    "duration": 32,
    "start_time": "2022-01-15T15:31:16.296Z"
   },
   {
    "duration": 40,
    "start_time": "2022-01-15T15:31:16.330Z"
   },
   {
    "duration": 36,
    "start_time": "2022-01-15T15:31:16.372Z"
   },
   {
    "duration": 24,
    "start_time": "2022-01-15T15:31:16.410Z"
   },
   {
    "duration": 42,
    "start_time": "2022-01-15T15:31:16.436Z"
   },
   {
    "duration": 41,
    "start_time": "2022-01-15T15:31:16.480Z"
   },
   {
    "duration": 7,
    "start_time": "2022-01-15T15:31:16.523Z"
   },
   {
    "duration": 34,
    "start_time": "2022-01-15T15:31:16.532Z"
   },
   {
    "duration": 145,
    "start_time": "2022-01-15T15:31:16.568Z"
   },
   {
    "duration": 6608,
    "start_time": "2022-01-15T15:31:10.109Z"
   },
   {
    "duration": 6599,
    "start_time": "2022-01-15T15:31:10.119Z"
   },
   {
    "duration": 6583,
    "start_time": "2022-01-15T15:31:10.136Z"
   },
   {
    "duration": 6575,
    "start_time": "2022-01-15T15:31:10.145Z"
   },
   {
    "duration": 6561,
    "start_time": "2022-01-15T15:31:10.160Z"
   },
   {
    "duration": 6553,
    "start_time": "2022-01-15T15:31:10.169Z"
   },
   {
    "duration": 6535,
    "start_time": "2022-01-15T15:31:10.188Z"
   },
   {
    "duration": 6489,
    "start_time": "2022-01-15T15:31:10.235Z"
   },
   {
    "duration": 6483,
    "start_time": "2022-01-15T15:31:10.242Z"
   },
   {
    "duration": 6472,
    "start_time": "2022-01-15T15:31:10.254Z"
   },
   {
    "duration": 6467,
    "start_time": "2022-01-15T15:31:10.260Z"
   },
   {
    "duration": 6462,
    "start_time": "2022-01-15T15:31:10.266Z"
   },
   {
    "duration": 6448,
    "start_time": "2022-01-15T15:31:10.282Z"
   },
   {
    "duration": 6443,
    "start_time": "2022-01-15T15:31:10.288Z"
   },
   {
    "duration": 6437,
    "start_time": "2022-01-15T15:31:10.295Z"
   },
   {
    "duration": 6427,
    "start_time": "2022-01-15T15:31:10.306Z"
   },
   {
    "duration": 6423,
    "start_time": "2022-01-15T15:31:10.311Z"
   },
   {
    "duration": 6407,
    "start_time": "2022-01-15T15:31:10.328Z"
   },
   {
    "duration": 6395,
    "start_time": "2022-01-15T15:31:10.341Z"
   },
   {
    "duration": 6384,
    "start_time": "2022-01-15T15:31:10.353Z"
   },
   {
    "duration": 6379,
    "start_time": "2022-01-15T15:31:10.359Z"
   },
   {
    "duration": 6373,
    "start_time": "2022-01-15T15:31:10.366Z"
   },
   {
    "duration": 6363,
    "start_time": "2022-01-15T15:31:10.377Z"
   },
   {
    "duration": 6353,
    "start_time": "2022-01-15T15:31:10.388Z"
   },
   {
    "duration": 6348,
    "start_time": "2022-01-15T15:31:10.394Z"
   },
   {
    "duration": 6339,
    "start_time": "2022-01-15T15:31:10.404Z"
   },
   {
    "duration": 6335,
    "start_time": "2022-01-15T15:31:10.409Z"
   },
   {
    "duration": 6326,
    "start_time": "2022-01-15T15:31:10.419Z"
   },
   {
    "duration": 6309,
    "start_time": "2022-01-15T15:31:10.437Z"
   },
   {
    "duration": 6305,
    "start_time": "2022-01-15T15:31:10.442Z"
   },
   {
    "duration": 6297,
    "start_time": "2022-01-15T15:31:10.451Z"
   },
   {
    "duration": 6292,
    "start_time": "2022-01-15T15:31:10.457Z"
   },
   {
    "duration": 6286,
    "start_time": "2022-01-15T15:31:10.464Z"
   },
   {
    "duration": 6277,
    "start_time": "2022-01-15T15:31:10.474Z"
   },
   {
    "duration": 6266,
    "start_time": "2022-01-15T15:31:10.487Z"
   },
   {
    "duration": 6258,
    "start_time": "2022-01-15T15:31:10.495Z"
   },
   {
    "duration": 6248,
    "start_time": "2022-01-15T15:31:10.506Z"
   },
   {
    "duration": 6243,
    "start_time": "2022-01-15T15:31:10.512Z"
   },
   {
    "duration": 6230,
    "start_time": "2022-01-15T15:31:10.530Z"
   },
   {
    "duration": 6218,
    "start_time": "2022-01-15T15:31:10.543Z"
   },
   {
    "duration": 6206,
    "start_time": "2022-01-15T15:31:10.556Z"
   },
   {
    "duration": 6202,
    "start_time": "2022-01-15T15:31:10.561Z"
   },
   {
    "duration": 6186,
    "start_time": "2022-01-15T15:31:10.578Z"
   },
   {
    "duration": 6172,
    "start_time": "2022-01-15T15:31:10.593Z"
   },
   {
    "duration": 6156,
    "start_time": "2022-01-15T15:31:10.610Z"
   },
   {
    "duration": 6144,
    "start_time": "2022-01-15T15:31:10.623Z"
   },
   {
    "duration": 6132,
    "start_time": "2022-01-15T15:31:10.639Z"
   },
   {
    "duration": 6123,
    "start_time": "2022-01-15T15:31:10.649Z"
   },
   {
    "duration": 6111,
    "start_time": "2022-01-15T15:31:10.662Z"
   },
   {
    "duration": 18,
    "start_time": "2022-01-15T15:31:30.979Z"
   },
   {
    "duration": 11,
    "start_time": "2022-01-15T15:32:02.541Z"
   },
   {
    "duration": 343,
    "start_time": "2022-01-15T15:35:50.017Z"
   },
   {
    "duration": 4,
    "start_time": "2022-01-15T15:35:56.868Z"
   },
   {
    "duration": 6,
    "start_time": "2022-01-15T16:01:11.908Z"
   },
   {
    "duration": 247,
    "start_time": "2022-01-15T16:01:56.929Z"
   },
   {
    "duration": 7,
    "start_time": "2022-01-15T16:02:02.582Z"
   },
   {
    "duration": 8,
    "start_time": "2022-01-15T16:02:53.056Z"
   },
   {
    "duration": 10,
    "start_time": "2022-01-15T16:03:04.191Z"
   },
   {
    "duration": 7,
    "start_time": "2022-01-15T16:03:18.343Z"
   },
   {
    "duration": 1186,
    "start_time": "2022-01-15T16:03:39.620Z"
   },
   {
    "duration": 416,
    "start_time": "2022-01-15T16:03:40.808Z"
   },
   {
    "duration": 12,
    "start_time": "2022-01-15T16:03:41.226Z"
   },
   {
    "duration": 385,
    "start_time": "2022-01-15T16:03:41.240Z"
   },
   {
    "duration": 43,
    "start_time": "2022-01-15T16:03:41.627Z"
   },
   {
    "duration": 22,
    "start_time": "2022-01-15T16:03:41.672Z"
   },
   {
    "duration": 21,
    "start_time": "2022-01-15T16:03:41.696Z"
   },
   {
    "duration": 9,
    "start_time": "2022-01-15T16:03:41.719Z"
   },
   {
    "duration": 399,
    "start_time": "2022-01-15T16:03:41.731Z"
   },
   {
    "duration": 43,
    "start_time": "2022-01-15T16:03:42.133Z"
   },
   {
    "duration": 17,
    "start_time": "2022-01-15T16:03:42.178Z"
   },
   {
    "duration": 22,
    "start_time": "2022-01-15T16:03:42.197Z"
   },
   {
    "duration": 14,
    "start_time": "2022-01-15T16:03:42.221Z"
   },
   {
    "duration": 15,
    "start_time": "2022-01-15T16:03:42.260Z"
   },
   {
    "duration": 30,
    "start_time": "2022-01-15T16:03:42.277Z"
   },
   {
    "duration": 7,
    "start_time": "2022-01-15T16:03:42.309Z"
   },
   {
    "duration": 43,
    "start_time": "2022-01-15T16:03:42.318Z"
   },
   {
    "duration": 10,
    "start_time": "2022-01-15T16:03:42.363Z"
   },
   {
    "duration": 6,
    "start_time": "2022-01-15T16:03:42.375Z"
   },
   {
    "duration": 10,
    "start_time": "2022-01-15T16:03:42.383Z"
   },
   {
    "duration": 8,
    "start_time": "2022-01-15T16:03:42.395Z"
   },
   {
    "duration": 12,
    "start_time": "2022-01-15T16:03:42.405Z"
   },
   {
    "duration": 91,
    "start_time": "2022-01-15T16:03:42.418Z"
   },
   {
    "duration": 6337,
    "start_time": "2022-01-15T16:03:36.175Z"
   },
   {
    "duration": 6315,
    "start_time": "2022-01-15T16:03:36.198Z"
   },
   {
    "duration": 6310,
    "start_time": "2022-01-15T16:03:36.204Z"
   },
   {
    "duration": 6301,
    "start_time": "2022-01-15T16:03:36.214Z"
   },
   {
    "duration": 6274,
    "start_time": "2022-01-15T16:03:36.242Z"
   },
   {
    "duration": 6252,
    "start_time": "2022-01-15T16:03:36.265Z"
   },
   {
    "duration": 6242,
    "start_time": "2022-01-15T16:03:36.276Z"
   },
   {
    "duration": 6227,
    "start_time": "2022-01-15T16:03:36.292Z"
   },
   {
    "duration": 6210,
    "start_time": "2022-01-15T16:03:36.310Z"
   },
   {
    "duration": 6175,
    "start_time": "2022-01-15T16:03:36.346Z"
   },
   {
    "duration": 6162,
    "start_time": "2022-01-15T16:03:36.360Z"
   },
   {
    "duration": 6157,
    "start_time": "2022-01-15T16:03:36.366Z"
   },
   {
    "duration": 6153,
    "start_time": "2022-01-15T16:03:36.371Z"
   },
   {
    "duration": 6142,
    "start_time": "2022-01-15T16:03:36.383Z"
   },
   {
    "duration": 6137,
    "start_time": "2022-01-15T16:03:36.390Z"
   },
   {
    "duration": 6127,
    "start_time": "2022-01-15T16:03:36.401Z"
   },
   {
    "duration": 6124,
    "start_time": "2022-01-15T16:03:36.405Z"
   },
   {
    "duration": 6116,
    "start_time": "2022-01-15T16:03:36.413Z"
   },
   {
    "duration": 6098,
    "start_time": "2022-01-15T16:03:36.432Z"
   },
   {
    "duration": 6093,
    "start_time": "2022-01-15T16:03:36.437Z"
   },
   {
    "duration": 6086,
    "start_time": "2022-01-15T16:03:36.445Z"
   },
   {
    "duration": 6081,
    "start_time": "2022-01-15T16:03:36.451Z"
   },
   {
    "duration": 6070,
    "start_time": "2022-01-15T16:03:36.463Z"
   },
   {
    "duration": 6064,
    "start_time": "2022-01-15T16:03:36.469Z"
   },
   {
    "duration": 6055,
    "start_time": "2022-01-15T16:03:36.479Z"
   },
   {
    "duration": 6049,
    "start_time": "2022-01-15T16:03:36.485Z"
   },
   {
    "duration": 6044,
    "start_time": "2022-01-15T16:03:36.491Z"
   },
   {
    "duration": 6024,
    "start_time": "2022-01-15T16:03:36.512Z"
   },
   {
    "duration": 6001,
    "start_time": "2022-01-15T16:03:36.535Z"
   },
   {
    "duration": 5973,
    "start_time": "2022-01-15T16:03:36.564Z"
   },
   {
    "duration": 5947,
    "start_time": "2022-01-15T16:03:36.590Z"
   },
   {
    "duration": 5915,
    "start_time": "2022-01-15T16:03:36.623Z"
   },
   {
    "duration": 5886,
    "start_time": "2022-01-15T16:03:36.652Z"
   },
   {
    "duration": 5878,
    "start_time": "2022-01-15T16:03:36.661Z"
   },
   {
    "duration": 5848,
    "start_time": "2022-01-15T16:03:36.692Z"
   },
   {
    "duration": 5828,
    "start_time": "2022-01-15T16:03:36.712Z"
   },
   {
    "duration": 5818,
    "start_time": "2022-01-15T16:03:36.723Z"
   },
   {
    "duration": 5809,
    "start_time": "2022-01-15T16:03:36.732Z"
   },
   {
    "duration": 5800,
    "start_time": "2022-01-15T16:03:36.742Z"
   },
   {
    "duration": 5784,
    "start_time": "2022-01-15T16:03:36.758Z"
   },
   {
    "duration": 5761,
    "start_time": "2022-01-15T16:03:36.782Z"
   },
   {
    "duration": 5756,
    "start_time": "2022-01-15T16:03:36.789Z"
   },
   {
    "duration": 5744,
    "start_time": "2022-01-15T16:03:36.802Z"
   },
   {
    "duration": 5740,
    "start_time": "2022-01-15T16:03:36.807Z"
   },
   {
    "duration": 5726,
    "start_time": "2022-01-15T16:03:36.822Z"
   },
   {
    "duration": 5713,
    "start_time": "2022-01-15T16:03:36.836Z"
   },
   {
    "duration": 1227,
    "start_time": "2022-01-15T16:04:06.191Z"
   },
   {
    "duration": 422,
    "start_time": "2022-01-15T16:04:07.420Z"
   },
   {
    "duration": 11,
    "start_time": "2022-01-15T16:04:07.845Z"
   },
   {
    "duration": 392,
    "start_time": "2022-01-15T16:04:07.858Z"
   },
   {
    "duration": 35,
    "start_time": "2022-01-15T16:04:08.252Z"
   },
   {
    "duration": 20,
    "start_time": "2022-01-15T16:04:08.289Z"
   },
   {
    "duration": 21,
    "start_time": "2022-01-15T16:04:08.312Z"
   },
   {
    "duration": 33,
    "start_time": "2022-01-15T16:04:08.336Z"
   },
   {
    "duration": 369,
    "start_time": "2022-01-15T16:04:08.371Z"
   },
   {
    "duration": 46,
    "start_time": "2022-01-15T16:04:08.742Z"
   },
   {
    "duration": 25,
    "start_time": "2022-01-15T16:04:08.790Z"
   },
   {
    "duration": 18,
    "start_time": "2022-01-15T16:04:08.817Z"
   },
   {
    "duration": 17,
    "start_time": "2022-01-15T16:04:08.862Z"
   },
   {
    "duration": 15,
    "start_time": "2022-01-15T16:04:08.882Z"
   },
   {
    "duration": 43,
    "start_time": "2022-01-15T16:04:08.899Z"
   },
   {
    "duration": 11,
    "start_time": "2022-01-15T16:04:08.961Z"
   },
   {
    "duration": 11,
    "start_time": "2022-01-15T16:04:08.974Z"
   },
   {
    "duration": 13,
    "start_time": "2022-01-15T16:04:08.987Z"
   },
   {
    "duration": 8,
    "start_time": "2022-01-15T16:04:09.002Z"
   },
   {
    "duration": 14,
    "start_time": "2022-01-15T16:04:09.012Z"
   },
   {
    "duration": 47,
    "start_time": "2022-01-15T16:04:09.028Z"
   },
   {
    "duration": 119,
    "start_time": "2022-01-15T16:04:09.077Z"
   },
   {
    "duration": 6539,
    "start_time": "2022-01-15T16:04:02.662Z"
   },
   {
    "duration": 6514,
    "start_time": "2022-01-15T16:04:02.688Z"
   },
   {
    "duration": 6504,
    "start_time": "2022-01-15T16:04:02.699Z"
   },
   {
    "duration": 6495,
    "start_time": "2022-01-15T16:04:02.709Z"
   },
   {
    "duration": 6477,
    "start_time": "2022-01-15T16:04:02.728Z"
   },
   {
    "duration": 6470,
    "start_time": "2022-01-15T16:04:02.736Z"
   },
   {
    "duration": 6458,
    "start_time": "2022-01-15T16:04:02.749Z"
   },
   {
    "duration": 6449,
    "start_time": "2022-01-15T16:04:02.759Z"
   },
   {
    "duration": 6433,
    "start_time": "2022-01-15T16:04:02.776Z"
   },
   {
    "duration": 6428,
    "start_time": "2022-01-15T16:04:02.782Z"
   },
   {
    "duration": 6424,
    "start_time": "2022-01-15T16:04:02.788Z"
   },
   {
    "duration": 6419,
    "start_time": "2022-01-15T16:04:02.794Z"
   },
   {
    "duration": 6416,
    "start_time": "2022-01-15T16:04:02.798Z"
   },
   {
    "duration": 6411,
    "start_time": "2022-01-15T16:04:02.804Z"
   },
   {
    "duration": 6399,
    "start_time": "2022-01-15T16:04:02.816Z"
   },
   {
    "duration": 6390,
    "start_time": "2022-01-15T16:04:02.826Z"
   },
   {
    "duration": 6385,
    "start_time": "2022-01-15T16:04:02.832Z"
   },
   {
    "duration": 6376,
    "start_time": "2022-01-15T16:04:02.842Z"
   },
   {
    "duration": 6371,
    "start_time": "2022-01-15T16:04:02.848Z"
   },
   {
    "duration": 6366,
    "start_time": "2022-01-15T16:04:02.854Z"
   },
   {
    "duration": 6347,
    "start_time": "2022-01-15T16:04:02.873Z"
   },
   {
    "duration": 6342,
    "start_time": "2022-01-15T16:04:02.879Z"
   },
   {
    "duration": 6337,
    "start_time": "2022-01-15T16:04:02.885Z"
   },
   {
    "duration": 6327,
    "start_time": "2022-01-15T16:04:02.896Z"
   },
   {
    "duration": 6323,
    "start_time": "2022-01-15T16:04:02.901Z"
   },
   {
    "duration": 6300,
    "start_time": "2022-01-15T16:04:02.924Z"
   },
   {
    "duration": 6295,
    "start_time": "2022-01-15T16:04:02.930Z"
   },
   {
    "duration": 6282,
    "start_time": "2022-01-15T16:04:02.944Z"
   },
   {
    "duration": 6278,
    "start_time": "2022-01-15T16:04:02.949Z"
   },
   {
    "duration": 6249,
    "start_time": "2022-01-15T16:04:02.979Z"
   },
   {
    "duration": 6236,
    "start_time": "2022-01-15T16:04:02.993Z"
   },
   {
    "duration": 6230,
    "start_time": "2022-01-15T16:04:03.000Z"
   },
   {
    "duration": 6220,
    "start_time": "2022-01-15T16:04:03.011Z"
   },
   {
    "duration": 6213,
    "start_time": "2022-01-15T16:04:03.019Z"
   },
   {
    "duration": 6201,
    "start_time": "2022-01-15T16:04:03.032Z"
   },
   {
    "duration": 6186,
    "start_time": "2022-01-15T16:04:03.048Z"
   },
   {
    "duration": 6179,
    "start_time": "2022-01-15T16:04:03.056Z"
   },
   {
    "duration": 6162,
    "start_time": "2022-01-15T16:04:03.074Z"
   },
   {
    "duration": 6158,
    "start_time": "2022-01-15T16:04:03.079Z"
   },
   {
    "duration": 6153,
    "start_time": "2022-01-15T16:04:03.085Z"
   },
   {
    "duration": 6141,
    "start_time": "2022-01-15T16:04:03.098Z"
   },
   {
    "duration": 6136,
    "start_time": "2022-01-15T16:04:03.104Z"
   },
   {
    "duration": 6124,
    "start_time": "2022-01-15T16:04:03.116Z"
   },
   {
    "duration": 6109,
    "start_time": "2022-01-15T16:04:03.132Z"
   },
   {
    "duration": 6097,
    "start_time": "2022-01-15T16:04:03.145Z"
   },
   {
    "duration": 6092,
    "start_time": "2022-01-15T16:04:03.150Z"
   },
   {
    "duration": 9,
    "start_time": "2022-01-15T16:05:03.375Z"
   },
   {
    "duration": 6,
    "start_time": "2022-01-15T16:07:38.993Z"
   },
   {
    "duration": 228,
    "start_time": "2022-01-15T16:08:10.986Z"
   },
   {
    "duration": 11,
    "start_time": "2022-01-15T16:08:12.937Z"
   },
   {
    "duration": 2,
    "start_time": "2022-01-15T16:08:32.212Z"
   },
   {
    "duration": 20,
    "start_time": "2022-01-15T16:08:35.897Z"
   },
   {
    "duration": 399,
    "start_time": "2022-01-15T16:08:37.596Z"
   },
   {
    "duration": 11,
    "start_time": "2022-01-15T16:08:40.994Z"
   },
   {
    "duration": 237,
    "start_time": "2022-01-15T16:08:42.137Z"
   },
   {
    "duration": 12,
    "start_time": "2022-01-15T16:08:44.864Z"
   },
   {
    "duration": 79,
    "start_time": "2022-01-15T16:08:49.697Z"
   },
   {
    "duration": 96,
    "start_time": "2022-01-15T16:08:52.233Z"
   },
   {
    "duration": 17,
    "start_time": "2022-01-15T16:08:53.345Z"
   },
   {
    "duration": 95,
    "start_time": "2022-01-15T16:08:54.945Z"
   },
   {
    "duration": 46,
    "start_time": "2022-01-15T16:08:56.487Z"
   },
   {
    "duration": 50,
    "start_time": "2022-01-15T16:08:56.535Z"
   },
   {
    "duration": 2,
    "start_time": "2022-01-15T16:08:59.768Z"
   },
   {
    "duration": 12,
    "start_time": "2022-01-15T16:09:20.786Z"
   },
   {
    "duration": 13,
    "start_time": "2022-01-15T16:09:28.265Z"
   },
   {
    "duration": 12,
    "start_time": "2022-01-15T16:09:29.456Z"
   },
   {
    "duration": 19,
    "start_time": "2022-01-15T16:09:46.860Z"
   },
   {
    "duration": 12,
    "start_time": "2022-01-15T16:10:30.267Z"
   },
   {
    "duration": 7,
    "start_time": "2022-01-15T16:10:32.475Z"
   },
   {
    "duration": 33,
    "start_time": "2022-01-15T16:11:09.795Z"
   },
   {
    "duration": 6,
    "start_time": "2022-01-15T16:11:11.389Z"
   },
   {
    "duration": 11,
    "start_time": "2022-01-15T16:11:12.349Z"
   },
   {
    "duration": 12,
    "start_time": "2022-01-15T16:11:15.467Z"
   },
   {
    "duration": 5,
    "start_time": "2022-01-15T16:11:21.163Z"
   },
   {
    "duration": 2762,
    "start_time": "2022-01-15T16:11:21.909Z"
   },
   {
    "duration": 10,
    "start_time": "2022-01-15T16:11:24.673Z"
   },
   {
    "duration": 14,
    "start_time": "2022-01-15T16:11:27.322Z"
   },
   {
    "duration": 318,
    "start_time": "2022-01-15T16:11:28.610Z"
   },
   {
    "duration": 35,
    "start_time": "2022-01-15T16:11:32.937Z"
   },
   {
    "duration": 16,
    "start_time": "2022-01-15T16:11:36.060Z"
   },
   {
    "duration": 204,
    "start_time": "2022-01-15T16:11:39.226Z"
   },
   {
    "duration": 25,
    "start_time": "2022-01-15T16:11:48.079Z"
   },
   {
    "duration": 6,
    "start_time": "2022-01-15T16:11:48.778Z"
   },
   {
    "duration": 6,
    "start_time": "2022-01-15T16:11:51.043Z"
   },
   {
    "duration": 136,
    "start_time": "2022-01-15T16:11:51.723Z"
   },
   {
    "duration": 158,
    "start_time": "2022-01-15T16:12:01.476Z"
   },
   {
    "duration": 616,
    "start_time": "2022-01-15T16:12:06.453Z"
   },
   {
    "duration": 576,
    "start_time": "2022-01-15T16:12:17.215Z"
   },
   {
    "duration": 161,
    "start_time": "2022-01-15T16:12:20.717Z"
   },
   {
    "duration": 5,
    "start_time": "2022-01-15T16:12:22.981Z"
   },
   {
    "duration": 8,
    "start_time": "2022-01-15T16:12:25.274Z"
   },
   {
    "duration": 41,
    "start_time": "2022-01-15T16:12:26.454Z"
   },
   {
    "duration": 6,
    "start_time": "2022-01-15T16:13:01.885Z"
   },
   {
    "duration": 333,
    "start_time": "2022-01-15T16:13:06.493Z"
   },
   {
    "duration": 9,
    "start_time": "2022-01-15T16:14:12.811Z"
   },
   {
    "duration": 149,
    "start_time": "2022-01-15T16:14:48.892Z"
   },
   {
    "duration": 445,
    "start_time": "2022-01-15T16:17:54.014Z"
   },
   {
    "duration": 151,
    "start_time": "2022-01-15T16:20:06.465Z"
   },
   {
    "duration": 243,
    "start_time": "2022-01-15T16:22:47.711Z"
   },
   {
    "duration": 7,
    "start_time": "2022-01-15T16:23:17.140Z"
   },
   {
    "duration": 230,
    "start_time": "2022-01-15T16:23:20.335Z"
   },
   {
    "duration": 457,
    "start_time": "2022-01-15T16:26:39.929Z"
   },
   {
    "duration": 151,
    "start_time": "2022-01-15T16:26:59.412Z"
   },
   {
    "duration": 148,
    "start_time": "2022-01-15T16:27:14.072Z"
   },
   {
    "duration": 154,
    "start_time": "2022-01-15T16:27:20.728Z"
   },
   {
    "duration": 150,
    "start_time": "2022-01-15T16:27:27.680Z"
   },
   {
    "duration": 156,
    "start_time": "2022-01-15T16:27:32.458Z"
   },
   {
    "duration": 426,
    "start_time": "2022-01-15T16:28:54.370Z"
   },
   {
    "duration": 390,
    "start_time": "2022-01-15T16:29:54.572Z"
   },
   {
    "duration": 412,
    "start_time": "2022-01-15T16:30:16.497Z"
   },
   {
    "duration": 404,
    "start_time": "2022-01-15T16:31:31.509Z"
   },
   {
    "duration": 396,
    "start_time": "2022-01-15T16:32:22.416Z"
   },
   {
    "duration": 499,
    "start_time": "2022-01-15T16:32:33.583Z"
   },
   {
    "duration": 401,
    "start_time": "2022-01-15T16:32:38.646Z"
   },
   {
    "duration": 4,
    "start_time": "2022-01-15T16:33:04.327Z"
   },
   {
    "duration": 406,
    "start_time": "2022-01-15T16:33:15.283Z"
   },
   {
    "duration": 4,
    "start_time": "2022-01-15T16:33:18.113Z"
   },
   {
    "duration": 4,
    "start_time": "2022-01-15T16:33:24.761Z"
   },
   {
    "duration": 93,
    "start_time": "2022-01-15T16:34:07.878Z"
   },
   {
    "duration": 402,
    "start_time": "2022-01-15T16:34:16.335Z"
   },
   {
    "duration": 397,
    "start_time": "2022-01-15T16:34:38.827Z"
   },
   {
    "duration": 1606,
    "start_time": "2022-01-15T16:35:02.007Z"
   },
   {
    "duration": 399,
    "start_time": "2022-01-15T16:35:26.479Z"
   },
   {
    "duration": 5,
    "start_time": "2022-01-15T16:36:00.511Z"
   },
   {
    "duration": 394,
    "start_time": "2022-01-15T16:37:51.436Z"
   },
   {
    "duration": 387,
    "start_time": "2022-01-15T16:38:09.496Z"
   },
   {
    "duration": 163,
    "start_time": "2022-01-15T16:38:18.167Z"
   },
   {
    "duration": 3,
    "start_time": "2022-01-15T16:38:56.715Z"
   },
   {
    "duration": 4,
    "start_time": "2022-01-15T16:39:02.828Z"
   },
   {
    "duration": 3,
    "start_time": "2022-01-15T16:39:09.832Z"
   },
   {
    "duration": 146,
    "start_time": "2022-01-15T16:39:21.706Z"
   },
   {
    "duration": 7,
    "start_time": "2022-01-15T16:45:11.451Z"
   },
   {
    "duration": 4,
    "start_time": "2022-01-15T16:45:12.257Z"
   },
   {
    "duration": 258,
    "start_time": "2022-01-15T17:21:36.751Z"
   },
   {
    "duration": 100,
    "start_time": "2022-01-15T17:24:48.505Z"
   },
   {
    "duration": 246,
    "start_time": "2022-01-15T17:24:58.718Z"
   },
   {
    "duration": 854,
    "start_time": "2022-01-15T17:25:14.926Z"
   },
   {
    "duration": 245,
    "start_time": "2022-01-15T17:26:50.462Z"
   },
   {
    "duration": 869,
    "start_time": "2022-01-15T17:26:59.919Z"
   },
   {
    "duration": 15,
    "start_time": "2022-01-15T17:27:45.034Z"
   },
   {
    "duration": 431,
    "start_time": "2022-01-15T17:28:28.785Z"
   },
   {
    "duration": 24,
    "start_time": "2022-01-15T17:28:33.009Z"
   },
   {
    "duration": 6,
    "start_time": "2022-01-15T17:28:35.432Z"
   },
   {
    "duration": 5,
    "start_time": "2022-01-15T17:28:37.544Z"
   },
   {
    "duration": 129,
    "start_time": "2022-01-15T17:28:38.903Z"
   },
   {
    "duration": 223,
    "start_time": "2022-01-15T17:28:43.325Z"
   },
   {
    "duration": 639,
    "start_time": "2022-01-15T17:28:46.475Z"
   },
   {
    "duration": 599,
    "start_time": "2022-01-15T17:28:50.294Z"
   },
   {
    "duration": 151,
    "start_time": "2022-01-15T17:28:52.249Z"
   },
   {
    "duration": 4,
    "start_time": "2022-01-15T17:28:53.184Z"
   },
   {
    "duration": 7,
    "start_time": "2022-01-15T17:28:53.937Z"
   },
   {
    "duration": 34,
    "start_time": "2022-01-15T17:28:55.751Z"
   },
   {
    "duration": 7,
    "start_time": "2022-01-15T17:29:35.258Z"
   },
   {
    "duration": 4,
    "start_time": "2022-01-15T17:29:35.947Z"
   },
   {
    "duration": 9,
    "start_time": "2022-01-15T17:29:36.700Z"
   },
   {
    "duration": 147,
    "start_time": "2022-01-15T17:29:40.572Z"
   },
   {
    "duration": 9,
    "start_time": "2022-01-15T17:31:01.090Z"
   },
   {
    "duration": 8,
    "start_time": "2022-01-15T17:31:20.468Z"
   },
   {
    "duration": 8,
    "start_time": "2022-01-15T17:31:27.708Z"
   },
   {
    "duration": 113,
    "start_time": "2022-01-15T17:39:45.118Z"
   },
   {
    "duration": 498,
    "start_time": "2022-01-15T17:40:01.336Z"
   },
   {
    "duration": 665,
    "start_time": "2022-01-15T17:46:21.202Z"
   },
   {
    "duration": 535,
    "start_time": "2022-01-15T17:47:06.588Z"
   },
   {
    "duration": 24,
    "start_time": "2022-01-15T17:47:27.939Z"
   },
   {
    "duration": 1226,
    "start_time": "2022-01-15T17:47:33.435Z"
   },
   {
    "duration": 416,
    "start_time": "2022-01-15T17:47:34.662Z"
   },
   {
    "duration": 13,
    "start_time": "2022-01-15T17:47:35.083Z"
   },
   {
    "duration": 372,
    "start_time": "2022-01-15T17:47:35.097Z"
   },
   {
    "duration": 33,
    "start_time": "2022-01-15T17:47:35.471Z"
   },
   {
    "duration": 21,
    "start_time": "2022-01-15T17:47:35.505Z"
   },
   {
    "duration": 49,
    "start_time": "2022-01-15T17:47:35.529Z"
   },
   {
    "duration": 8,
    "start_time": "2022-01-15T17:47:35.580Z"
   },
   {
    "duration": 354,
    "start_time": "2022-01-15T17:47:35.589Z"
   },
   {
    "duration": 37,
    "start_time": "2022-01-15T17:47:35.945Z"
   },
   {
    "duration": 16,
    "start_time": "2022-01-15T17:47:35.983Z"
   },
   {
    "duration": 23,
    "start_time": "2022-01-15T17:47:36.001Z"
   },
   {
    "duration": 26,
    "start_time": "2022-01-15T17:47:36.026Z"
   },
   {
    "duration": 15,
    "start_time": "2022-01-15T17:47:36.060Z"
   },
   {
    "duration": 31,
    "start_time": "2022-01-15T17:47:36.076Z"
   },
   {
    "duration": 6,
    "start_time": "2022-01-15T17:47:36.109Z"
   },
   {
    "duration": 8,
    "start_time": "2022-01-15T17:47:36.117Z"
   },
   {
    "duration": 41,
    "start_time": "2022-01-15T17:47:36.127Z"
   },
   {
    "duration": 12,
    "start_time": "2022-01-15T17:47:36.169Z"
   },
   {
    "duration": 15,
    "start_time": "2022-01-15T17:47:36.183Z"
   },
   {
    "duration": 15,
    "start_time": "2022-01-15T17:47:36.200Z"
   },
   {
    "duration": 219,
    "start_time": "2022-01-15T17:47:36.220Z"
   },
   {
    "duration": 12,
    "start_time": "2022-01-15T17:47:36.442Z"
   },
   {
    "duration": 2,
    "start_time": "2022-01-15T17:47:36.461Z"
   },
   {
    "duration": 24,
    "start_time": "2022-01-15T17:47:36.465Z"
   },
   {
    "duration": 419,
    "start_time": "2022-01-15T17:47:36.491Z"
   },
   {
    "duration": 9,
    "start_time": "2022-01-15T17:47:36.912Z"
   },
   {
    "duration": 202,
    "start_time": "2022-01-15T17:47:36.923Z"
   },
   {
    "duration": 11,
    "start_time": "2022-01-15T17:47:37.127Z"
   },
   {
    "duration": 90,
    "start_time": "2022-01-15T17:47:37.139Z"
   },
   {
    "duration": 104,
    "start_time": "2022-01-15T17:47:37.230Z"
   },
   {
    "duration": 24,
    "start_time": "2022-01-15T17:47:37.336Z"
   },
   {
    "duration": 100,
    "start_time": "2022-01-15T17:47:37.362Z"
   },
   {
    "duration": 47,
    "start_time": "2022-01-15T17:47:37.463Z"
   },
   {
    "duration": 62,
    "start_time": "2022-01-15T17:47:37.512Z"
   },
   {
    "duration": 2,
    "start_time": "2022-01-15T17:47:37.576Z"
   },
   {
    "duration": 17,
    "start_time": "2022-01-15T17:47:37.579Z"
   },
   {
    "duration": 12,
    "start_time": "2022-01-15T17:47:37.597Z"
   },
   {
    "duration": 9,
    "start_time": "2022-01-15T17:47:37.610Z"
   },
   {
    "duration": 7,
    "start_time": "2022-01-15T17:47:37.621Z"
   },
   {
    "duration": 59,
    "start_time": "2022-01-15T17:47:37.630Z"
   },
   {
    "duration": 5,
    "start_time": "2022-01-15T17:47:37.691Z"
   },
   {
    "duration": 9,
    "start_time": "2022-01-15T17:47:37.698Z"
   },
   {
    "duration": 15,
    "start_time": "2022-01-15T17:47:37.709Z"
   },
   {
    "duration": 9,
    "start_time": "2022-01-15T17:47:37.726Z"
   },
   {
    "duration": 2784,
    "start_time": "2022-01-15T17:47:37.736Z"
   },
   {
    "duration": 11,
    "start_time": "2022-01-15T17:47:40.522Z"
   },
   {
    "duration": 34,
    "start_time": "2022-01-15T17:47:40.534Z"
   },
   {
    "duration": 333,
    "start_time": "2022-01-15T17:47:40.570Z"
   },
   {
    "duration": 38,
    "start_time": "2022-01-15T17:47:40.905Z"
   },
   {
    "duration": 30,
    "start_time": "2022-01-15T17:47:40.944Z"
   },
   {
    "duration": 389,
    "start_time": "2022-01-15T17:47:40.976Z"
   },
   {
    "duration": 22,
    "start_time": "2022-01-15T17:47:41.367Z"
   },
   {
    "duration": 14,
    "start_time": "2022-01-15T17:47:41.391Z"
   },
   {
    "duration": 23,
    "start_time": "2022-01-15T17:47:41.406Z"
   },
   {
    "duration": 163,
    "start_time": "2022-01-15T17:47:41.430Z"
   },
   {
    "duration": 163,
    "start_time": "2022-01-15T17:47:41.595Z"
   },
   {
    "duration": 615,
    "start_time": "2022-01-15T17:47:41.761Z"
   },
   {
    "duration": 586,
    "start_time": "2022-01-15T17:47:42.377Z"
   },
   {
    "duration": 161,
    "start_time": "2022-01-15T17:47:42.965Z"
   },
   {
    "duration": 5,
    "start_time": "2022-01-15T17:47:43.128Z"
   },
   {
    "duration": 32,
    "start_time": "2022-01-15T17:47:43.135Z"
   },
   {
    "duration": 56,
    "start_time": "2022-01-15T17:47:43.168Z"
   },
   {
    "duration": 7,
    "start_time": "2022-01-15T17:47:43.226Z"
   },
   {
    "duration": 18,
    "start_time": "2022-01-15T17:47:43.234Z"
   },
   {
    "duration": 28,
    "start_time": "2022-01-15T17:47:43.253Z"
   },
   {
    "duration": 156,
    "start_time": "2022-01-15T17:47:43.285Z"
   },
   {
    "duration": 8,
    "start_time": "2022-01-15T17:47:43.443Z"
   },
   {
    "duration": 169,
    "start_time": "2022-01-15T17:47:43.461Z"
   },
   {
    "duration": 140,
    "start_time": "2022-01-15T17:47:57.325Z"
   },
   {
    "duration": 230,
    "start_time": "2022-01-15T17:48:32.288Z"
   },
   {
    "duration": 281,
    "start_time": "2022-01-15T17:56:46.560Z"
   },
   {
    "duration": 345,
    "start_time": "2022-01-15T17:58:14.835Z"
   },
   {
    "duration": 312,
    "start_time": "2022-01-15T17:58:41.409Z"
   },
   {
    "duration": 606,
    "start_time": "2022-01-15T18:00:40.550Z"
   },
   {
    "duration": 351,
    "start_time": "2022-01-15T18:00:54.452Z"
   },
   {
    "duration": 354,
    "start_time": "2022-01-15T18:09:05.549Z"
   },
   {
    "duration": 93,
    "start_time": "2022-01-15T18:17:00.264Z"
   },
   {
    "duration": 160,
    "start_time": "2022-01-15T18:17:07.877Z"
   },
   {
    "duration": 152,
    "start_time": "2022-01-15T18:17:37.089Z"
   },
   {
    "duration": 117,
    "start_time": "2022-01-15T18:41:53.071Z"
   },
   {
    "duration": 44,
    "start_time": "2022-01-15T18:41:58.029Z"
   },
   {
    "duration": 40,
    "start_time": "2022-01-15T18:42:28.877Z"
   },
   {
    "duration": 1111,
    "start_time": "2022-01-15T18:46:40.389Z"
   },
   {
    "duration": 414,
    "start_time": "2022-01-15T18:46:41.502Z"
   },
   {
    "duration": 10,
    "start_time": "2022-01-15T18:46:41.919Z"
   },
   {
    "duration": 379,
    "start_time": "2022-01-15T18:46:41.931Z"
   },
   {
    "duration": 29,
    "start_time": "2022-01-15T18:46:42.311Z"
   },
   {
    "duration": 32,
    "start_time": "2022-01-15T18:46:42.341Z"
   },
   {
    "duration": 19,
    "start_time": "2022-01-15T18:46:42.375Z"
   },
   {
    "duration": 7,
    "start_time": "2022-01-15T18:46:42.396Z"
   },
   {
    "duration": 357,
    "start_time": "2022-01-15T18:46:42.405Z"
   },
   {
    "duration": 28,
    "start_time": "2022-01-15T18:46:42.764Z"
   },
   {
    "duration": 16,
    "start_time": "2022-01-15T18:46:42.794Z"
   },
   {
    "duration": 15,
    "start_time": "2022-01-15T18:46:42.812Z"
   },
   {
    "duration": 37,
    "start_time": "2022-01-15T18:46:42.829Z"
   },
   {
    "duration": 23,
    "start_time": "2022-01-15T18:46:42.868Z"
   },
   {
    "duration": 28,
    "start_time": "2022-01-15T18:46:42.893Z"
   },
   {
    "duration": 6,
    "start_time": "2022-01-15T18:46:42.923Z"
   },
   {
    "duration": 9,
    "start_time": "2022-01-15T18:46:42.931Z"
   },
   {
    "duration": 28,
    "start_time": "2022-01-15T18:46:42.942Z"
   },
   {
    "duration": 11,
    "start_time": "2022-01-15T18:46:42.972Z"
   },
   {
    "duration": 6,
    "start_time": "2022-01-15T18:46:42.984Z"
   },
   {
    "duration": 11,
    "start_time": "2022-01-15T18:46:42.991Z"
   },
   {
    "duration": 242,
    "start_time": "2022-01-15T18:46:43.003Z"
   },
   {
    "duration": 17,
    "start_time": "2022-01-15T18:46:43.249Z"
   },
   {
    "duration": 2,
    "start_time": "2022-01-15T18:46:43.269Z"
   },
   {
    "duration": 26,
    "start_time": "2022-01-15T18:46:43.272Z"
   },
   {
    "duration": 413,
    "start_time": "2022-01-15T18:46:43.300Z"
   },
   {
    "duration": 8,
    "start_time": "2022-01-15T18:46:43.715Z"
   },
   {
    "duration": 198,
    "start_time": "2022-01-15T18:46:43.725Z"
   },
   {
    "duration": 11,
    "start_time": "2022-01-15T18:46:43.925Z"
   },
   {
    "duration": 91,
    "start_time": "2022-01-15T18:46:43.937Z"
   },
   {
    "duration": 102,
    "start_time": "2022-01-15T18:46:44.029Z"
   },
   {
    "duration": 16,
    "start_time": "2022-01-15T18:46:44.133Z"
   },
   {
    "duration": 89,
    "start_time": "2022-01-15T18:46:44.161Z"
   },
   {
    "duration": 45,
    "start_time": "2022-01-15T18:46:44.261Z"
   },
   {
    "duration": 61,
    "start_time": "2022-01-15T18:46:44.308Z"
   },
   {
    "duration": 2,
    "start_time": "2022-01-15T18:46:44.370Z"
   },
   {
    "duration": 19,
    "start_time": "2022-01-15T18:46:44.374Z"
   },
   {
    "duration": 12,
    "start_time": "2022-01-15T18:46:44.395Z"
   },
   {
    "duration": 9,
    "start_time": "2022-01-15T18:46:44.408Z"
   },
   {
    "duration": 8,
    "start_time": "2022-01-15T18:46:44.419Z"
   },
   {
    "duration": 52,
    "start_time": "2022-01-15T18:46:44.428Z"
   },
   {
    "duration": 4,
    "start_time": "2022-01-15T18:46:44.482Z"
   },
   {
    "duration": 12,
    "start_time": "2022-01-15T18:46:44.488Z"
   },
   {
    "duration": 14,
    "start_time": "2022-01-15T18:46:44.501Z"
   },
   {
    "duration": 5,
    "start_time": "2022-01-15T18:46:44.516Z"
   },
   {
    "duration": 2692,
    "start_time": "2022-01-15T18:46:44.523Z"
   },
   {
    "duration": 10,
    "start_time": "2022-01-15T18:46:47.216Z"
   },
   {
    "duration": 17,
    "start_time": "2022-01-15T18:46:47.228Z"
   },
   {
    "duration": 332,
    "start_time": "2022-01-15T18:46:47.247Z"
   },
   {
    "duration": 35,
    "start_time": "2022-01-15T18:46:47.581Z"
   },
   {
    "duration": 15,
    "start_time": "2022-01-15T18:46:47.617Z"
   },
   {
    "duration": 404,
    "start_time": "2022-01-15T18:46:47.634Z"
   },
   {
    "duration": 24,
    "start_time": "2022-01-15T18:46:48.039Z"
   },
   {
    "duration": 4,
    "start_time": "2022-01-15T18:46:48.065Z"
   },
   {
    "duration": 6,
    "start_time": "2022-01-15T18:46:48.071Z"
   },
   {
    "duration": 154,
    "start_time": "2022-01-15T18:46:48.078Z"
   },
   {
    "duration": 162,
    "start_time": "2022-01-15T18:46:48.234Z"
   },
   {
    "duration": 597,
    "start_time": "2022-01-15T18:46:48.398Z"
   },
   {
    "duration": 576,
    "start_time": "2022-01-15T18:46:48.997Z"
   },
   {
    "duration": 172,
    "start_time": "2022-01-15T18:46:49.575Z"
   },
   {
    "duration": 4,
    "start_time": "2022-01-15T18:46:49.749Z"
   },
   {
    "duration": 7,
    "start_time": "2022-01-15T18:46:49.760Z"
   },
   {
    "duration": 44,
    "start_time": "2022-01-15T18:46:49.769Z"
   },
   {
    "duration": 409,
    "start_time": "2022-01-15T18:46:49.814Z"
   },
   {
    "duration": 7,
    "start_time": "2022-01-15T18:46:50.225Z"
   },
   {
    "duration": 7,
    "start_time": "2022-01-15T18:46:50.234Z"
   },
   {
    "duration": 19,
    "start_time": "2022-01-15T18:46:50.243Z"
   },
   {
    "duration": 166,
    "start_time": "2022-01-15T18:46:50.268Z"
   },
   {
    "duration": 7,
    "start_time": "2022-01-15T18:46:50.436Z"
   },
   {
    "duration": 159,
    "start_time": "2022-01-15T18:46:50.445Z"
   },
   {
    "duration": 14,
    "start_time": "2022-01-15T18:51:55.139Z"
   },
   {
    "duration": 64,
    "start_time": "2022-01-15T18:53:29.742Z"
   },
   {
    "duration": 82,
    "start_time": "2022-01-15T19:05:25.127Z"
   },
   {
    "duration": 84,
    "start_time": "2022-01-15T19:05:48.373Z"
   },
   {
    "duration": 87,
    "start_time": "2022-01-15T19:05:54.012Z"
   },
   {
    "duration": 595,
    "start_time": "2022-01-15T19:06:03.367Z"
   },
   {
    "duration": 164,
    "start_time": "2022-01-15T19:06:24.084Z"
   },
   {
    "duration": 1098,
    "start_time": "2022-01-15T19:21:17.704Z"
   },
   {
    "duration": 403,
    "start_time": "2022-01-15T19:21:18.804Z"
   },
   {
    "duration": 11,
    "start_time": "2022-01-15T19:21:19.209Z"
   },
   {
    "duration": 472,
    "start_time": "2022-01-15T19:21:19.222Z"
   },
   {
    "duration": 28,
    "start_time": "2022-01-15T19:21:19.696Z"
   },
   {
    "duration": 36,
    "start_time": "2022-01-15T19:21:19.726Z"
   },
   {
    "duration": 20,
    "start_time": "2022-01-15T19:21:19.764Z"
   },
   {
    "duration": 7,
    "start_time": "2022-01-15T19:21:19.786Z"
   },
   {
    "duration": 365,
    "start_time": "2022-01-15T19:21:19.796Z"
   },
   {
    "duration": 18,
    "start_time": "2022-01-15T19:21:20.164Z"
   },
   {
    "duration": 29,
    "start_time": "2022-01-15T19:21:20.183Z"
   },
   {
    "duration": 39,
    "start_time": "2022-01-15T19:21:20.214Z"
   },
   {
    "duration": 27,
    "start_time": "2022-01-15T19:21:20.255Z"
   },
   {
    "duration": 48,
    "start_time": "2022-01-15T19:21:20.284Z"
   },
   {
    "duration": 7,
    "start_time": "2022-01-15T19:21:20.334Z"
   },
   {
    "duration": 11,
    "start_time": "2022-01-15T19:21:20.343Z"
   },
   {
    "duration": 12,
    "start_time": "2022-01-15T19:21:20.356Z"
   },
   {
    "duration": 7,
    "start_time": "2022-01-15T19:21:20.370Z"
   },
   {
    "duration": 6,
    "start_time": "2022-01-15T19:21:20.378Z"
   },
   {
    "duration": 7,
    "start_time": "2022-01-15T19:21:20.386Z"
   },
   {
    "duration": 240,
    "start_time": "2022-01-15T19:21:20.394Z"
   },
   {
    "duration": 12,
    "start_time": "2022-01-15T19:21:20.635Z"
   },
   {
    "duration": 34,
    "start_time": "2022-01-15T19:21:20.648Z"
   },
   {
    "duration": 446,
    "start_time": "2022-01-15T19:21:20.684Z"
   },
   {
    "duration": 9,
    "start_time": "2022-01-15T19:21:21.132Z"
   },
   {
    "duration": 196,
    "start_time": "2022-01-15T19:21:21.142Z"
   },
   {
    "duration": 19,
    "start_time": "2022-01-15T19:21:21.342Z"
   },
   {
    "duration": 83,
    "start_time": "2022-01-15T19:21:21.364Z"
   },
   {
    "duration": 127,
    "start_time": "2022-01-15T19:21:21.449Z"
   },
   {
    "duration": 100,
    "start_time": "2022-01-15T19:21:21.577Z"
   },
   {
    "duration": 46,
    "start_time": "2022-01-15T19:21:21.679Z"
   },
   {
    "duration": 68,
    "start_time": "2022-01-15T19:21:21.727Z"
   },
   {
    "duration": 2,
    "start_time": "2022-01-15T19:21:21.797Z"
   },
   {
    "duration": 14,
    "start_time": "2022-01-15T19:21:21.801Z"
   },
   {
    "duration": 11,
    "start_time": "2022-01-15T19:21:21.817Z"
   },
   {
    "duration": 10,
    "start_time": "2022-01-15T19:21:21.830Z"
   },
   {
    "duration": 6,
    "start_time": "2022-01-15T19:21:21.861Z"
   },
   {
    "duration": 31,
    "start_time": "2022-01-15T19:21:21.869Z"
   },
   {
    "duration": 6,
    "start_time": "2022-01-15T19:21:21.902Z"
   },
   {
    "duration": 16,
    "start_time": "2022-01-15T19:21:21.909Z"
   },
   {
    "duration": 45,
    "start_time": "2022-01-15T19:21:21.927Z"
   },
   {
    "duration": 7,
    "start_time": "2022-01-15T19:21:21.974Z"
   },
   {
    "duration": 2757,
    "start_time": "2022-01-15T19:21:21.983Z"
   },
   {
    "duration": 12,
    "start_time": "2022-01-15T19:21:24.741Z"
   },
   {
    "duration": 36,
    "start_time": "2022-01-15T19:21:24.761Z"
   },
   {
    "duration": 371,
    "start_time": "2022-01-15T19:21:24.799Z"
   },
   {
    "duration": 35,
    "start_time": "2022-01-15T19:21:25.172Z"
   },
   {
    "duration": 24,
    "start_time": "2022-01-15T19:21:25.209Z"
   },
   {
    "duration": 409,
    "start_time": "2022-01-15T19:21:25.235Z"
   },
   {
    "duration": 18,
    "start_time": "2022-01-15T19:21:25.646Z"
   },
   {
    "duration": 166,
    "start_time": "2022-01-15T19:21:25.666Z"
   },
   {
    "duration": 158,
    "start_time": "2022-01-15T19:21:25.834Z"
   },
   {
    "duration": 602,
    "start_time": "2022-01-15T19:21:25.994Z"
   },
   {
    "duration": 578,
    "start_time": "2022-01-15T19:21:26.598Z"
   },
   {
    "duration": 168,
    "start_time": "2022-01-15T19:21:27.178Z"
   },
   {
    "duration": 12,
    "start_time": "2022-01-15T19:21:27.348Z"
   },
   {
    "duration": 51,
    "start_time": "2022-01-15T19:21:27.362Z"
   },
   {
    "duration": 105,
    "start_time": "2022-01-15T19:21:27.415Z"
   },
   {
    "duration": 345,
    "start_time": "2022-01-15T19:21:27.522Z"
   },
   {
    "duration": 7,
    "start_time": "2022-01-15T19:21:27.869Z"
   },
   {
    "duration": 48,
    "start_time": "2022-01-15T19:21:27.877Z"
   },
   {
    "duration": 29,
    "start_time": "2022-01-15T19:21:27.927Z"
   },
   {
    "duration": 182,
    "start_time": "2022-01-15T19:21:27.958Z"
   },
   {
    "duration": 8,
    "start_time": "2022-01-15T19:21:28.142Z"
   },
   {
    "duration": 168,
    "start_time": "2022-01-15T19:21:28.159Z"
   },
   {
    "duration": 82,
    "start_time": "2022-01-15T19:27:30.758Z"
   },
   {
    "duration": 13,
    "start_time": "2022-01-15T19:29:48.876Z"
   },
   {
    "duration": 227,
    "start_time": "2022-01-15T19:30:32.663Z"
   },
   {
    "duration": 369,
    "start_time": "2022-01-15T19:39:30.757Z"
   },
   {
    "duration": 371,
    "start_time": "2022-01-15T19:39:41.641Z"
   },
   {
    "duration": 1708,
    "start_time": "2022-01-18T11:27:09.541Z"
   },
   {
    "duration": 505,
    "start_time": "2022-01-18T11:27:11.252Z"
   },
   {
    "duration": 20,
    "start_time": "2022-01-18T11:27:11.760Z"
   },
   {
    "duration": 705,
    "start_time": "2022-01-18T11:27:11.783Z"
   },
   {
    "duration": 40,
    "start_time": "2022-01-18T11:27:12.491Z"
   },
   {
    "duration": 52,
    "start_time": "2022-01-18T11:27:12.534Z"
   },
   {
    "duration": 26,
    "start_time": "2022-01-18T11:27:12.589Z"
   },
   {
    "duration": 13,
    "start_time": "2022-01-18T11:27:12.619Z"
   },
   {
    "duration": 622,
    "start_time": "2022-01-18T11:27:12.636Z"
   },
   {
    "duration": 25,
    "start_time": "2022-01-18T11:27:13.261Z"
   },
   {
    "duration": 24,
    "start_time": "2022-01-18T11:27:13.290Z"
   },
   {
    "duration": 58,
    "start_time": "2022-01-18T11:27:13.317Z"
   },
   {
    "duration": 22,
    "start_time": "2022-01-18T11:27:13.378Z"
   },
   {
    "duration": 68,
    "start_time": "2022-01-18T11:27:13.403Z"
   },
   {
    "duration": 15,
    "start_time": "2022-01-18T11:27:13.474Z"
   },
   {
    "duration": 14,
    "start_time": "2022-01-18T11:27:13.491Z"
   },
   {
    "duration": 16,
    "start_time": "2022-01-18T11:27:13.508Z"
   },
   {
    "duration": 46,
    "start_time": "2022-01-18T11:27:13.527Z"
   },
   {
    "duration": 7,
    "start_time": "2022-01-18T11:27:13.576Z"
   },
   {
    "duration": 10,
    "start_time": "2022-01-18T11:27:13.586Z"
   },
   {
    "duration": 375,
    "start_time": "2022-01-18T11:27:13.599Z"
   },
   {
    "duration": 15,
    "start_time": "2022-01-18T11:27:13.977Z"
   },
   {
    "duration": 29,
    "start_time": "2022-01-18T11:27:14.000Z"
   },
   {
    "duration": 651,
    "start_time": "2022-01-18T11:27:14.033Z"
   },
   {
    "duration": 13,
    "start_time": "2022-01-18T11:27:14.687Z"
   },
   {
    "duration": 350,
    "start_time": "2022-01-18T11:27:14.703Z"
   },
   {
    "duration": 30,
    "start_time": "2022-01-18T11:27:15.056Z"
   },
   {
    "duration": 163,
    "start_time": "2022-01-18T11:27:15.088Z"
   },
   {
    "duration": 180,
    "start_time": "2022-01-18T11:27:15.253Z"
   },
   {
    "duration": 149,
    "start_time": "2022-01-18T11:27:15.435Z"
   },
   {
    "duration": 126,
    "start_time": "2022-01-18T11:27:15.587Z"
   },
   {
    "duration": 17,
    "start_time": "2022-01-18T11:27:15.715Z"
   },
   {
    "duration": 39,
    "start_time": "2022-01-18T11:27:15.735Z"
   },
   {
    "duration": 15,
    "start_time": "2022-01-18T11:27:15.777Z"
   },
   {
    "duration": 17,
    "start_time": "2022-01-18T11:27:15.795Z"
   },
   {
    "duration": 75,
    "start_time": "2022-01-18T11:27:15.815Z"
   },
   {
    "duration": 7,
    "start_time": "2022-01-18T11:27:15.892Z"
   },
   {
    "duration": 20,
    "start_time": "2022-01-18T11:27:15.902Z"
   },
   {
    "duration": 47,
    "start_time": "2022-01-18T11:27:15.924Z"
   },
   {
    "duration": 11,
    "start_time": "2022-01-18T11:27:15.973Z"
   },
   {
    "duration": 5702,
    "start_time": "2022-01-18T11:27:15.987Z"
   },
   {
    "duration": 20,
    "start_time": "2022-01-18T11:27:21.692Z"
   },
   {
    "duration": 35,
    "start_time": "2022-01-18T11:27:21.715Z"
   },
   {
    "duration": 507,
    "start_time": "2022-01-18T11:27:21.752Z"
   },
   {
    "duration": 59,
    "start_time": "2022-01-18T11:27:22.262Z"
   },
   {
    "duration": 45,
    "start_time": "2022-01-18T11:27:22.324Z"
   },
   {
    "duration": 814,
    "start_time": "2022-01-18T11:27:22.372Z"
   },
   {
    "duration": 7,
    "start_time": "2022-01-18T11:27:23.188Z"
   },
   {
    "duration": 235,
    "start_time": "2022-01-18T11:27:23.198Z"
   },
   {
    "duration": 315,
    "start_time": "2022-01-18T11:27:23.436Z"
   },
   {
    "duration": 1399,
    "start_time": "2022-01-18T11:27:23.754Z"
   },
   {
    "duration": 896,
    "start_time": "2022-01-18T11:27:25.155Z"
   },
   {
    "duration": 290,
    "start_time": "2022-01-18T11:27:26.054Z"
   },
   {
    "duration": 5,
    "start_time": "2022-01-18T11:27:26.347Z"
   },
   {
    "duration": 11,
    "start_time": "2022-01-18T11:27:26.369Z"
   },
   {
    "duration": 67,
    "start_time": "2022-01-18T11:27:26.383Z"
   },
   {
    "duration": 472,
    "start_time": "2022-01-18T11:27:26.469Z"
   },
   {
    "duration": 11,
    "start_time": "2022-01-18T11:27:26.944Z"
   },
   {
    "duration": 14,
    "start_time": "2022-01-18T11:27:26.957Z"
   },
   {
    "duration": 12,
    "start_time": "2022-01-18T11:27:26.974Z"
   },
   {
    "duration": 276,
    "start_time": "2022-01-18T11:27:26.988Z"
   },
   {
    "duration": 15,
    "start_time": "2022-01-18T11:27:27.267Z"
   },
   {
    "duration": 362,
    "start_time": "2022-01-18T11:27:27.285Z"
   },
   {
    "duration": 17,
    "start_time": "2022-01-18T11:33:14.600Z"
   },
   {
    "duration": 12,
    "start_time": "2022-01-18T11:33:19.414Z"
   },
   {
    "duration": 45,
    "start_time": "2022-01-18T11:36:46.395Z"
   },
   {
    "duration": 53,
    "start_time": "2022-01-18T11:37:28.466Z"
   },
   {
    "duration": 68,
    "start_time": "2022-01-18T11:38:47.751Z"
   },
   {
    "duration": 18,
    "start_time": "2022-01-18T11:39:05.228Z"
   },
   {
    "duration": 181,
    "start_time": "2022-01-18T11:40:06.046Z"
   },
   {
    "duration": 26,
    "start_time": "2022-01-18T11:40:20.027Z"
   },
   {
    "duration": 30,
    "start_time": "2022-01-18T11:45:50.736Z"
   },
   {
    "duration": 16,
    "start_time": "2022-01-18T11:46:09.936Z"
   },
   {
    "duration": 19,
    "start_time": "2022-01-18T11:48:15.285Z"
   },
   {
    "duration": 343,
    "start_time": "2022-01-18T18:48:11.878Z"
   },
   {
    "duration": 1639,
    "start_time": "2022-01-18T18:48:20.453Z"
   },
   {
    "duration": 560,
    "start_time": "2022-01-18T18:48:22.095Z"
   },
   {
    "duration": 19,
    "start_time": "2022-01-18T18:48:22.659Z"
   },
   {
    "duration": 664,
    "start_time": "2022-01-18T18:48:22.682Z"
   },
   {
    "duration": 56,
    "start_time": "2022-01-18T18:48:23.348Z"
   },
   {
    "duration": 27,
    "start_time": "2022-01-18T18:48:23.406Z"
   },
   {
    "duration": 57,
    "start_time": "2022-01-18T18:48:23.435Z"
   },
   {
    "duration": 11,
    "start_time": "2022-01-18T18:48:23.496Z"
   },
   {
    "duration": 652,
    "start_time": "2022-01-18T18:48:23.510Z"
   },
   {
    "duration": 37,
    "start_time": "2022-01-18T18:48:24.165Z"
   },
   {
    "duration": 22,
    "start_time": "2022-01-18T18:48:24.205Z"
   },
   {
    "duration": 49,
    "start_time": "2022-01-18T18:48:24.229Z"
   },
   {
    "duration": 22,
    "start_time": "2022-01-18T18:48:24.282Z"
   },
   {
    "duration": 66,
    "start_time": "2022-01-18T18:48:24.307Z"
   },
   {
    "duration": 13,
    "start_time": "2022-01-18T18:48:24.376Z"
   },
   {
    "duration": 13,
    "start_time": "2022-01-18T18:48:24.392Z"
   },
   {
    "duration": 14,
    "start_time": "2022-01-18T18:48:24.407Z"
   },
   {
    "duration": 11,
    "start_time": "2022-01-18T18:48:24.423Z"
   },
   {
    "duration": 8,
    "start_time": "2022-01-18T18:48:24.470Z"
   },
   {
    "duration": 17,
    "start_time": "2022-01-18T18:48:24.482Z"
   },
   {
    "duration": 369,
    "start_time": "2022-01-18T18:48:24.501Z"
   },
   {
    "duration": 20,
    "start_time": "2022-01-18T18:48:24.873Z"
   },
   {
    "duration": 29,
    "start_time": "2022-01-18T18:48:24.899Z"
   },
   {
    "duration": 684,
    "start_time": "2022-01-18T18:48:24.931Z"
   },
   {
    "duration": 12,
    "start_time": "2022-01-18T18:48:25.617Z"
   },
   {
    "duration": 372,
    "start_time": "2022-01-18T18:48:25.632Z"
   },
   {
    "duration": 18,
    "start_time": "2022-01-18T18:48:26.006Z"
   },
   {
    "duration": 161,
    "start_time": "2022-01-18T18:48:26.026Z"
   },
   {
    "duration": 178,
    "start_time": "2022-01-18T18:48:26.191Z"
   },
   {
    "duration": 142,
    "start_time": "2022-01-18T18:48:26.373Z"
   },
   {
    "duration": 128,
    "start_time": "2022-01-18T18:48:26.517Z"
   },
   {
    "duration": 27,
    "start_time": "2022-01-18T18:48:26.648Z"
   },
   {
    "duration": 21,
    "start_time": "2022-01-18T18:48:26.678Z"
   },
   {
    "duration": 16,
    "start_time": "2022-01-18T18:48:26.702Z"
   },
   {
    "duration": 8,
    "start_time": "2022-01-18T18:48:26.721Z"
   },
   {
    "duration": 93,
    "start_time": "2022-01-18T18:48:26.731Z"
   },
   {
    "duration": 7,
    "start_time": "2022-01-18T18:48:26.826Z"
   },
   {
    "duration": 39,
    "start_time": "2022-01-18T18:48:26.836Z"
   },
   {
    "duration": 27,
    "start_time": "2022-01-18T18:48:26.879Z"
   },
   {
    "duration": 9,
    "start_time": "2022-01-18T18:48:26.908Z"
   },
   {
    "duration": 5434,
    "start_time": "2022-01-18T18:48:26.919Z"
   },
   {
    "duration": 29,
    "start_time": "2022-01-18T18:48:32.355Z"
   },
   {
    "duration": 20,
    "start_time": "2022-01-18T18:48:32.387Z"
   },
   {
    "duration": 535,
    "start_time": "2022-01-18T18:48:32.410Z"
   },
   {
    "duration": 70,
    "start_time": "2022-01-18T18:48:32.948Z"
   },
   {
    "duration": 22,
    "start_time": "2022-01-18T18:48:33.020Z"
   },
   {
    "duration": 735,
    "start_time": "2022-01-18T18:48:33.045Z"
   },
   {
    "duration": 8,
    "start_time": "2022-01-18T18:48:33.783Z"
   },
   {
    "duration": 238,
    "start_time": "2022-01-18T18:48:33.794Z"
   },
   {
    "duration": 268,
    "start_time": "2022-01-18T18:48:34.034Z"
   },
   {
    "duration": 1011,
    "start_time": "2022-01-18T18:48:34.305Z"
   },
   {
    "duration": 966,
    "start_time": "2022-01-18T18:48:35.319Z"
   },
   {
    "duration": 294,
    "start_time": "2022-01-18T18:48:36.288Z"
   },
   {
    "duration": 6,
    "start_time": "2022-01-18T18:48:36.585Z"
   },
   {
    "duration": 18,
    "start_time": "2022-01-18T18:48:36.594Z"
   },
   {
    "duration": 91,
    "start_time": "2022-01-18T18:48:36.615Z"
   },
   {
    "duration": 533,
    "start_time": "2022-01-18T18:48:36.709Z"
   },
   {
    "duration": 10,
    "start_time": "2022-01-18T18:48:37.245Z"
   },
   {
    "duration": 8,
    "start_time": "2022-01-18T18:48:37.269Z"
   },
   {
    "duration": 15,
    "start_time": "2022-01-18T18:48:37.280Z"
   },
   {
    "duration": 298,
    "start_time": "2022-01-18T18:48:37.297Z"
   },
   {
    "duration": 11,
    "start_time": "2022-01-18T18:48:37.598Z"
   },
   {
    "duration": 303,
    "start_time": "2022-01-18T18:48:37.613Z"
   },
   {
    "duration": 6,
    "start_time": "2022-01-18T18:52:14.894Z"
   },
   {
    "duration": 8,
    "start_time": "2022-01-18T18:52:18.885Z"
   },
   {
    "duration": 6,
    "start_time": "2022-01-18T18:52:36.362Z"
   },
   {
    "duration": 8,
    "start_time": "2022-01-18T18:52:39.399Z"
   },
   {
    "duration": 1700,
    "start_time": "2022-01-18T18:54:34.004Z"
   },
   {
    "duration": 559,
    "start_time": "2022-01-18T18:54:35.707Z"
   },
   {
    "duration": 23,
    "start_time": "2022-01-18T18:54:36.269Z"
   },
   {
    "duration": 684,
    "start_time": "2022-01-18T18:54:36.295Z"
   },
   {
    "duration": 40,
    "start_time": "2022-01-18T18:54:36.983Z"
   },
   {
    "duration": 54,
    "start_time": "2022-01-18T18:54:37.026Z"
   },
   {
    "duration": 27,
    "start_time": "2022-01-18T18:54:37.083Z"
   },
   {
    "duration": 12,
    "start_time": "2022-01-18T18:54:37.114Z"
   },
   {
    "duration": 677,
    "start_time": "2022-01-18T18:54:37.129Z"
   },
   {
    "duration": 25,
    "start_time": "2022-01-18T18:54:37.808Z"
   },
   {
    "duration": 55,
    "start_time": "2022-01-18T18:54:37.836Z"
   },
   {
    "duration": 24,
    "start_time": "2022-01-18T18:54:37.894Z"
   },
   {
    "duration": 19,
    "start_time": "2022-01-18T18:54:37.921Z"
   },
   {
    "duration": 49,
    "start_time": "2022-01-18T18:54:37.970Z"
   },
   {
    "duration": 10,
    "start_time": "2022-01-18T18:54:38.022Z"
   },
   {
    "duration": 49,
    "start_time": "2022-01-18T18:54:38.034Z"
   },
   {
    "duration": 16,
    "start_time": "2022-01-18T18:54:38.087Z"
   },
   {
    "duration": 15,
    "start_time": "2022-01-18T18:54:38.105Z"
   },
   {
    "duration": 398,
    "start_time": "2022-01-18T18:54:38.122Z"
   },
   {
    "duration": 2057,
    "start_time": "2022-01-18T18:54:36.467Z"
   },
   {
    "duration": 2047,
    "start_time": "2022-01-18T18:54:36.479Z"
   },
   {
    "duration": 2036,
    "start_time": "2022-01-18T18:54:36.491Z"
   },
   {
    "duration": 2022,
    "start_time": "2022-01-18T18:54:36.507Z"
   },
   {
    "duration": 2008,
    "start_time": "2022-01-18T18:54:36.522Z"
   },
   {
    "duration": 1996,
    "start_time": "2022-01-18T18:54:36.535Z"
   },
   {
    "duration": 1980,
    "start_time": "2022-01-18T18:54:36.552Z"
   },
   {
    "duration": 1962,
    "start_time": "2022-01-18T18:54:36.572Z"
   },
   {
    "duration": 1942,
    "start_time": "2022-01-18T18:54:36.593Z"
   },
   {
    "duration": 1929,
    "start_time": "2022-01-18T18:54:36.608Z"
   },
   {
    "duration": 1916,
    "start_time": "2022-01-18T18:54:36.622Z"
   },
   {
    "duration": 1907,
    "start_time": "2022-01-18T18:54:36.633Z"
   },
   {
    "duration": 1895,
    "start_time": "2022-01-18T18:54:36.646Z"
   },
   {
    "duration": 1889,
    "start_time": "2022-01-18T18:54:36.653Z"
   },
   {
    "duration": 1874,
    "start_time": "2022-01-18T18:54:36.669Z"
   },
   {
    "duration": 1857,
    "start_time": "2022-01-18T18:54:36.688Z"
   },
   {
    "duration": 1844,
    "start_time": "2022-01-18T18:54:36.702Z"
   },
   {
    "duration": 1831,
    "start_time": "2022-01-18T18:54:36.716Z"
   },
   {
    "duration": 1822,
    "start_time": "2022-01-18T18:54:36.726Z"
   },
   {
    "duration": 1818,
    "start_time": "2022-01-18T18:54:36.732Z"
   },
   {
    "duration": 1778,
    "start_time": "2022-01-18T18:54:36.773Z"
   },
   {
    "duration": 1769,
    "start_time": "2022-01-18T18:54:36.783Z"
   },
   {
    "duration": 1757,
    "start_time": "2022-01-18T18:54:36.797Z"
   },
   {
    "duration": 1750,
    "start_time": "2022-01-18T18:54:36.805Z"
   },
   {
    "duration": 1730,
    "start_time": "2022-01-18T18:54:36.826Z"
   },
   {
    "duration": 1693,
    "start_time": "2022-01-18T18:54:36.865Z"
   },
   {
    "duration": 1665,
    "start_time": "2022-01-18T18:54:36.894Z"
   },
   {
    "duration": 1639,
    "start_time": "2022-01-18T18:54:36.921Z"
   },
   {
    "duration": 1626,
    "start_time": "2022-01-18T18:54:36.944Z"
   },
   {
    "duration": 1613,
    "start_time": "2022-01-18T18:54:36.959Z"
   },
   {
    "duration": 1600,
    "start_time": "2022-01-18T18:54:36.974Z"
   },
   {
    "duration": 1589,
    "start_time": "2022-01-18T18:54:36.986Z"
   },
   {
    "duration": 1579,
    "start_time": "2022-01-18T18:54:36.998Z"
   },
   {
    "duration": 1576,
    "start_time": "2022-01-18T18:54:37.004Z"
   },
   {
    "duration": 1570,
    "start_time": "2022-01-18T18:54:37.013Z"
   },
   {
    "duration": 1564,
    "start_time": "2022-01-18T18:54:37.021Z"
   },
   {
    "duration": 1553,
    "start_time": "2022-01-18T18:54:37.034Z"
   },
   {
    "duration": 1540,
    "start_time": "2022-01-18T18:54:37.049Z"
   },
   {
    "duration": 1533,
    "start_time": "2022-01-18T18:54:37.060Z"
   },
   {
    "duration": 1527,
    "start_time": "2022-01-18T18:54:37.067Z"
   },
   {
    "duration": 1519,
    "start_time": "2022-01-18T18:54:37.077Z"
   },
   {
    "duration": 1514,
    "start_time": "2022-01-18T18:54:37.083Z"
   },
   {
    "duration": 1502,
    "start_time": "2022-01-18T18:54:37.097Z"
   },
   {
    "duration": 1493,
    "start_time": "2022-01-18T18:54:37.107Z"
   },
   {
    "duration": 1476,
    "start_time": "2022-01-18T18:54:37.125Z"
   },
   {
    "duration": 1465,
    "start_time": "2022-01-18T18:54:37.138Z"
   },
   {
    "duration": 19,
    "start_time": "2022-01-18T18:54:50.369Z"
   },
   {
    "duration": 5,
    "start_time": "2022-01-18T18:55:26.701Z"
   },
   {
    "duration": 16,
    "start_time": "2022-01-18T18:55:36.850Z"
   },
   {
    "duration": 350,
    "start_time": "2022-01-18T19:02:38.847Z"
   },
   {
    "duration": 7,
    "start_time": "2022-01-18T19:02:49.669Z"
   },
   {
    "duration": 321,
    "start_time": "2022-01-18T19:02:53.485Z"
   },
   {
    "duration": 264,
    "start_time": "2022-01-18T19:02:57.367Z"
   },
   {
    "duration": 99,
    "start_time": "2022-01-18T19:03:18.507Z"
   },
   {
    "duration": 30,
    "start_time": "2022-01-18T19:03:48.840Z"
   },
   {
    "duration": 34,
    "start_time": "2022-01-18T19:07:35.624Z"
   },
   {
    "duration": 668,
    "start_time": "2022-01-18T19:07:38.216Z"
   },
   {
    "duration": 14,
    "start_time": "2022-01-18T19:07:41.544Z"
   },
   {
    "duration": 292,
    "start_time": "2022-01-18T19:07:42.305Z"
   },
   {
    "duration": 17,
    "start_time": "2022-01-18T19:07:43.534Z"
   },
   {
    "duration": 122,
    "start_time": "2022-01-18T19:07:47.895Z"
   },
   {
    "duration": 165,
    "start_time": "2022-01-18T19:07:52.577Z"
   },
   {
    "duration": 137,
    "start_time": "2022-01-18T19:07:57.976Z"
   },
   {
    "duration": 109,
    "start_time": "2022-01-18T19:07:59.606Z"
   },
   {
    "duration": 20,
    "start_time": "2022-01-18T19:08:02.178Z"
   },
   {
    "duration": 20,
    "start_time": "2022-01-18T19:08:02.813Z"
   },
   {
    "duration": 17,
    "start_time": "2022-01-18T19:08:03.407Z"
   },
   {
    "duration": 10,
    "start_time": "2022-01-18T19:08:47.792Z"
   },
   {
    "duration": 10,
    "start_time": "2022-01-18T19:09:22.521Z"
   },
   {
    "duration": 262,
    "start_time": "2022-01-18T19:10:09.314Z"
   },
   {
    "duration": 10,
    "start_time": "2022-01-18T19:10:16.101Z"
   },
   {
    "duration": 17,
    "start_time": "2022-01-18T19:11:29.293Z"
   },
   {
    "duration": 1501,
    "start_time": "2022-01-18T19:11:37.547Z"
   },
   {
    "duration": 515,
    "start_time": "2022-01-18T19:11:39.050Z"
   },
   {
    "duration": 16,
    "start_time": "2022-01-18T19:11:39.568Z"
   },
   {
    "duration": 798,
    "start_time": "2022-01-18T19:11:39.587Z"
   },
   {
    "duration": 36,
    "start_time": "2022-01-18T19:11:40.387Z"
   },
   {
    "duration": 50,
    "start_time": "2022-01-18T19:11:40.426Z"
   },
   {
    "duration": 28,
    "start_time": "2022-01-18T19:11:40.479Z"
   },
   {
    "duration": 12,
    "start_time": "2022-01-18T19:11:40.512Z"
   },
   {
    "duration": 683,
    "start_time": "2022-01-18T19:11:40.527Z"
   },
   {
    "duration": 23,
    "start_time": "2022-01-18T19:11:41.212Z"
   },
   {
    "duration": 40,
    "start_time": "2022-01-18T19:11:41.237Z"
   },
   {
    "duration": 22,
    "start_time": "2022-01-18T19:11:41.280Z"
   },
   {
    "duration": 22,
    "start_time": "2022-01-18T19:11:41.305Z"
   },
   {
    "duration": 78,
    "start_time": "2022-01-18T19:11:41.330Z"
   },
   {
    "duration": 9,
    "start_time": "2022-01-18T19:11:41.411Z"
   },
   {
    "duration": 16,
    "start_time": "2022-01-18T19:11:41.423Z"
   },
   {
    "duration": 15,
    "start_time": "2022-01-18T19:11:41.470Z"
   },
   {
    "duration": 11,
    "start_time": "2022-01-18T19:11:41.488Z"
   },
   {
    "duration": 7,
    "start_time": "2022-01-18T19:11:41.502Z"
   },
   {
    "duration": 16,
    "start_time": "2022-01-18T19:11:41.512Z"
   },
   {
    "duration": 300,
    "start_time": "2022-01-18T19:11:41.534Z"
   },
   {
    "duration": 44,
    "start_time": "2022-01-18T19:11:41.836Z"
   },
   {
    "duration": 26,
    "start_time": "2022-01-18T19:11:41.886Z"
   },
   {
    "duration": 629,
    "start_time": "2022-01-18T19:11:41.915Z"
   },
   {
    "duration": 23,
    "start_time": "2022-01-18T19:11:42.546Z"
   },
   {
    "duration": 286,
    "start_time": "2022-01-18T19:11:42.572Z"
   },
   {
    "duration": 21,
    "start_time": "2022-01-18T19:11:42.860Z"
   },
   {
    "duration": 142,
    "start_time": "2022-01-18T19:11:42.883Z"
   },
   {
    "duration": 175,
    "start_time": "2022-01-18T19:11:43.028Z"
   },
   {
    "duration": 162,
    "start_time": "2022-01-18T19:11:43.206Z"
   },
   {
    "duration": 126,
    "start_time": "2022-01-18T19:11:43.371Z"
   },
   {
    "duration": 417,
    "start_time": "2022-01-18T19:11:43.499Z"
   },
   {
    "duration": 2182,
    "start_time": "2022-01-18T19:11:41.736Z"
   },
   {
    "duration": 2176,
    "start_time": "2022-01-18T19:11:41.744Z"
   },
   {
    "duration": 2148,
    "start_time": "2022-01-18T19:11:41.774Z"
   },
   {
    "duration": 2130,
    "start_time": "2022-01-18T19:11:41.793Z"
   },
   {
    "duration": 2113,
    "start_time": "2022-01-18T19:11:41.812Z"
   },
   {
    "duration": 2099,
    "start_time": "2022-01-18T19:11:41.828Z"
   },
   {
    "duration": 2080,
    "start_time": "2022-01-18T19:11:41.849Z"
   },
   {
    "duration": 2064,
    "start_time": "2022-01-18T19:11:41.866Z"
   },
   {
    "duration": 2049,
    "start_time": "2022-01-18T19:11:41.883Z"
   },
   {
    "duration": 2036,
    "start_time": "2022-01-18T19:11:41.898Z"
   },
   {
    "duration": 2024,
    "start_time": "2022-01-18T19:11:41.911Z"
   },
   {
    "duration": 2012,
    "start_time": "2022-01-18T19:11:41.924Z"
   },
   {
    "duration": 2007,
    "start_time": "2022-01-18T19:11:41.931Z"
   },
   {
    "duration": 1999,
    "start_time": "2022-01-18T19:11:41.941Z"
   },
   {
    "duration": 1992,
    "start_time": "2022-01-18T19:11:41.949Z"
   },
   {
    "duration": 1978,
    "start_time": "2022-01-18T19:11:41.964Z"
   },
   {
    "duration": 1966,
    "start_time": "2022-01-18T19:11:41.977Z"
   },
   {
    "duration": 1952,
    "start_time": "2022-01-18T19:11:41.993Z"
   },
   {
    "duration": 1931,
    "start_time": "2022-01-18T19:11:42.015Z"
   },
   {
    "duration": 1915,
    "start_time": "2022-01-18T19:11:42.033Z"
   },
   {
    "duration": 1903,
    "start_time": "2022-01-18T19:11:42.046Z"
   },
   {
    "duration": 1887,
    "start_time": "2022-01-18T19:11:42.064Z"
   },
   {
    "duration": 1874,
    "start_time": "2022-01-18T19:11:42.078Z"
   },
   {
    "duration": 1861,
    "start_time": "2022-01-18T19:11:42.092Z"
   },
   {
    "duration": 1852,
    "start_time": "2022-01-18T19:11:42.103Z"
   },
   {
    "duration": 1847,
    "start_time": "2022-01-18T19:11:42.109Z"
   },
   {
    "duration": 1845,
    "start_time": "2022-01-18T19:11:42.124Z"
   },
   {
    "duration": 1832,
    "start_time": "2022-01-18T19:11:42.138Z"
   },
   {
    "duration": 1826,
    "start_time": "2022-01-18T19:11:42.146Z"
   },
   {
    "duration": 1810,
    "start_time": "2022-01-18T19:11:42.163Z"
   },
   {
    "duration": 1801,
    "start_time": "2022-01-18T19:11:42.174Z"
   },
   {
    "duration": 1794,
    "start_time": "2022-01-18T19:11:42.182Z"
   },
   {
    "duration": 1779,
    "start_time": "2022-01-18T19:11:42.198Z"
   },
   {
    "duration": 17,
    "start_time": "2022-01-18T19:11:53.727Z"
   },
   {
    "duration": 378,
    "start_time": "2022-01-18T19:12:28.783Z"
   },
   {
    "duration": 9,
    "start_time": "2022-01-18T19:13:52.331Z"
   },
   {
    "duration": 8,
    "start_time": "2022-01-18T19:14:16.462Z"
   },
   {
    "duration": 5,
    "start_time": "2022-01-18T19:14:34.249Z"
   },
   {
    "duration": 6,
    "start_time": "2022-01-18T19:14:41.099Z"
   },
   {
    "duration": 263,
    "start_time": "2022-01-18T19:14:56.815Z"
   },
   {
    "duration": 265,
    "start_time": "2022-01-18T19:15:04.293Z"
   },
   {
    "duration": 255,
    "start_time": "2022-01-18T19:15:58.493Z"
   },
   {
    "duration": 7,
    "start_time": "2022-01-18T19:16:05.861Z"
   },
   {
    "duration": 6,
    "start_time": "2022-01-18T19:16:23.300Z"
   },
   {
    "duration": 6,
    "start_time": "2022-01-18T19:19:41.289Z"
   },
   {
    "duration": 6,
    "start_time": "2022-01-18T19:20:13.759Z"
   },
   {
    "duration": 7,
    "start_time": "2022-01-18T19:20:48.628Z"
   },
   {
    "duration": 18,
    "start_time": "2022-01-18T19:22:25.887Z"
   },
   {
    "duration": 19,
    "start_time": "2022-01-18T19:22:26.853Z"
   },
   {
    "duration": 15,
    "start_time": "2022-01-18T19:22:27.541Z"
   },
   {
    "duration": 37,
    "start_time": "2022-01-18T19:22:32.208Z"
   },
   {
    "duration": 19,
    "start_time": "2022-01-18T19:23:13.327Z"
   },
   {
    "duration": 17,
    "start_time": "2022-01-18T19:23:21.736Z"
   },
   {
    "duration": 18,
    "start_time": "2022-01-18T19:23:25.005Z"
   },
   {
    "duration": 316,
    "start_time": "2022-01-18T19:24:57.580Z"
   },
   {
    "duration": 288,
    "start_time": "2022-01-18T19:25:08.265Z"
   },
   {
    "duration": 7603,
    "start_time": "2022-01-18T19:25:23.489Z"
   },
   {
    "duration": 265,
    "start_time": "2022-01-18T19:25:50.192Z"
   },
   {
    "duration": 9,
    "start_time": "2022-01-18T19:26:22.993Z"
   },
   {
    "duration": 20,
    "start_time": "2022-01-18T19:26:34.913Z"
   },
   {
    "duration": 96,
    "start_time": "2022-01-18T19:28:05.967Z"
   },
   {
    "duration": 22,
    "start_time": "2022-01-18T19:28:42.873Z"
   },
   {
    "duration": 28,
    "start_time": "2022-01-18T19:29:18.428Z"
   },
   {
    "duration": 94,
    "start_time": "2022-01-18T19:29:54.000Z"
   },
   {
    "duration": 6706,
    "start_time": "2022-01-18T19:31:21.422Z"
   },
   {
    "duration": 12,
    "start_time": "2022-01-18T19:32:04.500Z"
   },
   {
    "duration": 42,
    "start_time": "2022-01-18T19:32:43.487Z"
   },
   {
    "duration": 17,
    "start_time": "2022-01-18T19:33:45.892Z"
   },
   {
    "duration": 6,
    "start_time": "2022-01-18T19:33:48.545Z"
   },
   {
    "duration": 41,
    "start_time": "2022-01-18T19:33:49.427Z"
   },
   {
    "duration": 19,
    "start_time": "2022-01-18T19:43:19.192Z"
   },
   {
    "duration": 8,
    "start_time": "2022-01-18T19:43:47.744Z"
   },
   {
    "duration": 8,
    "start_time": "2022-01-18T19:44:10.305Z"
   },
   {
    "duration": 19,
    "start_time": "2022-01-18T19:44:29.962Z"
   },
   {
    "duration": 10,
    "start_time": "2022-01-18T19:44:38.504Z"
   },
   {
    "duration": 10,
    "start_time": "2022-01-18T19:45:27.114Z"
   },
   {
    "duration": 1556,
    "start_time": "2022-01-18T19:45:34.307Z"
   },
   {
    "duration": 578,
    "start_time": "2022-01-18T19:45:35.867Z"
   },
   {
    "duration": 16,
    "start_time": "2022-01-18T19:45:36.448Z"
   },
   {
    "duration": 668,
    "start_time": "2022-01-18T19:45:36.467Z"
   },
   {
    "duration": 57,
    "start_time": "2022-01-18T19:45:37.138Z"
   },
   {
    "duration": 28,
    "start_time": "2022-01-18T19:45:37.198Z"
   },
   {
    "duration": 47,
    "start_time": "2022-01-18T19:45:37.229Z"
   },
   {
    "duration": 30,
    "start_time": "2022-01-18T19:45:37.280Z"
   },
   {
    "duration": 643,
    "start_time": "2022-01-18T19:45:37.314Z"
   },
   {
    "duration": 36,
    "start_time": "2022-01-18T19:45:37.960Z"
   },
   {
    "duration": 21,
    "start_time": "2022-01-18T19:45:37.999Z"
   },
   {
    "duration": 471,
    "start_time": "2022-01-18T19:45:38.023Z"
   },
   {
    "duration": 2208,
    "start_time": "2022-01-18T19:45:36.291Z"
   },
   {
    "duration": 2184,
    "start_time": "2022-01-18T19:45:36.316Z"
   },
   {
    "duration": 2161,
    "start_time": "2022-01-18T19:45:36.341Z"
   },
   {
    "duration": 2153,
    "start_time": "2022-01-18T19:45:36.351Z"
   },
   {
    "duration": 2146,
    "start_time": "2022-01-18T19:45:36.359Z"
   },
   {
    "duration": 2133,
    "start_time": "2022-01-18T19:45:36.374Z"
   },
   {
    "duration": 2034,
    "start_time": "2022-01-18T19:45:36.475Z"
   },
   {
    "duration": 2010,
    "start_time": "2022-01-18T19:45:36.500Z"
   },
   {
    "duration": 1988,
    "start_time": "2022-01-18T19:45:36.523Z"
   },
   {
    "duration": 1976,
    "start_time": "2022-01-18T19:45:36.537Z"
   },
   {
    "duration": 1952,
    "start_time": "2022-01-18T19:45:36.562Z"
   },
   {
    "duration": 1930,
    "start_time": "2022-01-18T19:45:36.586Z"
   },
   {
    "duration": 1913,
    "start_time": "2022-01-18T19:45:36.604Z"
   },
   {
    "duration": 1898,
    "start_time": "2022-01-18T19:45:36.620Z"
   },
   {
    "duration": 1891,
    "start_time": "2022-01-18T19:45:36.629Z"
   },
   {
    "duration": 1878,
    "start_time": "2022-01-18T19:45:36.643Z"
   },
   {
    "duration": 1861,
    "start_time": "2022-01-18T19:45:36.661Z"
   },
   {
    "duration": 1846,
    "start_time": "2022-01-18T19:45:36.677Z"
   },
   {
    "duration": 1824,
    "start_time": "2022-01-18T19:45:36.701Z"
   },
   {
    "duration": 1808,
    "start_time": "2022-01-18T19:45:36.718Z"
   },
   {
    "duration": 1793,
    "start_time": "2022-01-18T19:45:36.734Z"
   },
   {
    "duration": 1777,
    "start_time": "2022-01-18T19:45:36.752Z"
   },
   {
    "duration": 1761,
    "start_time": "2022-01-18T19:45:36.769Z"
   },
   {
    "duration": 1746,
    "start_time": "2022-01-18T19:45:36.785Z"
   },
   {
    "duration": 1734,
    "start_time": "2022-01-18T19:45:36.799Z"
   },
   {
    "duration": 1724,
    "start_time": "2022-01-18T19:45:36.810Z"
   },
   {
    "duration": 1714,
    "start_time": "2022-01-18T19:45:36.822Z"
   },
   {
    "duration": 1741,
    "start_time": "2022-01-18T19:45:36.829Z"
   },
   {
    "duration": 1690,
    "start_time": "2022-01-18T19:45:36.882Z"
   },
   {
    "duration": 1663,
    "start_time": "2022-01-18T19:45:36.911Z"
   },
   {
    "duration": 1648,
    "start_time": "2022-01-18T19:45:36.927Z"
   },
   {
    "duration": 1624,
    "start_time": "2022-01-18T19:45:36.953Z"
   },
   {
    "duration": 1602,
    "start_time": "2022-01-18T19:45:36.977Z"
   },
   {
    "duration": 1585,
    "start_time": "2022-01-18T19:45:36.995Z"
   },
   {
    "duration": 1566,
    "start_time": "2022-01-18T19:45:37.016Z"
   },
   {
    "duration": 1551,
    "start_time": "2022-01-18T19:45:37.033Z"
   },
   {
    "duration": 1539,
    "start_time": "2022-01-18T19:45:37.047Z"
   },
   {
    "duration": 1529,
    "start_time": "2022-01-18T19:45:37.058Z"
   },
   {
    "duration": 1519,
    "start_time": "2022-01-18T19:45:37.070Z"
   },
   {
    "duration": 1514,
    "start_time": "2022-01-18T19:45:37.077Z"
   },
   {
    "duration": 1506,
    "start_time": "2022-01-18T19:45:37.087Z"
   },
   {
    "duration": 1499,
    "start_time": "2022-01-18T19:45:37.095Z"
   },
   {
    "duration": 1484,
    "start_time": "2022-01-18T19:45:37.112Z"
   },
   {
    "duration": 1469,
    "start_time": "2022-01-18T19:45:37.129Z"
   },
   {
    "duration": 1459,
    "start_time": "2022-01-18T19:45:37.140Z"
   },
   {
    "duration": 1453,
    "start_time": "2022-01-18T19:45:37.148Z"
   },
   {
    "duration": 1443,
    "start_time": "2022-01-18T19:45:37.159Z"
   },
   {
    "duration": 1431,
    "start_time": "2022-01-18T19:45:37.173Z"
   },
   {
    "duration": 1423,
    "start_time": "2022-01-18T19:45:37.182Z"
   },
   {
    "duration": 1408,
    "start_time": "2022-01-18T19:45:37.199Z"
   },
   {
    "duration": 1393,
    "start_time": "2022-01-18T19:45:37.215Z"
   },
   {
    "duration": 1383,
    "start_time": "2022-01-18T19:45:37.227Z"
   },
   {
    "duration": 1375,
    "start_time": "2022-01-18T19:45:37.237Z"
   },
   {
    "duration": 1433,
    "start_time": "2022-01-18T19:45:37.245Z"
   },
   {
    "duration": 1424,
    "start_time": "2022-01-18T19:45:37.256Z"
   },
   {
    "duration": 11,
    "start_time": "2022-01-18T19:45:45.025Z"
   },
   {
    "duration": 266,
    "start_time": "2022-01-18T19:49:41.487Z"
   },
   {
    "duration": 19,
    "start_time": "2022-01-18T19:49:51.038Z"
   },
   {
    "duration": 18,
    "start_time": "2022-01-18T19:49:51.129Z"
   },
   {
    "duration": 46,
    "start_time": "2022-01-18T19:49:51.281Z"
   },
   {
    "duration": 11,
    "start_time": "2022-01-18T19:49:51.447Z"
   },
   {
    "duration": 13,
    "start_time": "2022-01-18T19:49:51.759Z"
   },
   {
    "duration": 22,
    "start_time": "2022-01-18T19:49:52.077Z"
   },
   {
    "duration": 11,
    "start_time": "2022-01-18T19:49:52.230Z"
   },
   {
    "duration": 6,
    "start_time": "2022-01-18T19:49:52.379Z"
   },
   {
    "duration": 12,
    "start_time": "2022-01-18T19:49:52.877Z"
   },
   {
    "duration": 290,
    "start_time": "2022-01-18T19:49:55.991Z"
   },
   {
    "duration": 35,
    "start_time": "2022-01-18T19:49:56.770Z"
   },
   {
    "duration": 29,
    "start_time": "2022-01-18T19:50:01.422Z"
   },
   {
    "duration": 631,
    "start_time": "2022-01-18T19:50:01.836Z"
   },
   {
    "duration": 18,
    "start_time": "2022-01-18T19:50:02.471Z"
   },
   {
    "duration": 315,
    "start_time": "2022-01-18T19:50:04.247Z"
   },
   {
    "duration": 24,
    "start_time": "2022-01-18T19:50:04.565Z"
   },
   {
    "duration": 119,
    "start_time": "2022-01-18T19:50:04.822Z"
   },
   {
    "duration": 217,
    "start_time": "2022-01-18T19:50:05.357Z"
   },
   {
    "duration": 160,
    "start_time": "2022-01-18T19:50:08.966Z"
   },
   {
    "duration": 117,
    "start_time": "2022-01-18T19:50:09.374Z"
   },
   {
    "duration": 23,
    "start_time": "2022-01-18T19:50:12.576Z"
   },
   {
    "duration": 21,
    "start_time": "2022-01-18T19:50:12.775Z"
   },
   {
    "duration": 8,
    "start_time": "2022-01-18T19:50:13.229Z"
   },
   {
    "duration": 60,
    "start_time": "2022-01-18T19:50:13.931Z"
   },
   {
    "duration": 14,
    "start_time": "2022-01-18T19:50:15.779Z"
   },
   {
    "duration": 16,
    "start_time": "2022-01-18T19:50:20.814Z"
   },
   {
    "duration": 16,
    "start_time": "2022-01-18T19:50:56.225Z"
   },
   {
    "duration": 35,
    "start_time": "2022-01-18T19:54:34.347Z"
   },
   {
    "duration": 20,
    "start_time": "2022-01-18T19:55:14.782Z"
   },
   {
    "duration": 9,
    "start_time": "2022-01-18T19:55:20.346Z"
   },
   {
    "duration": 88,
    "start_time": "2022-01-18T19:58:54.091Z"
   },
   {
    "duration": 260,
    "start_time": "2022-01-18T19:59:15.306Z"
   },
   {
    "duration": 17,
    "start_time": "2022-01-18T19:59:37.364Z"
   },
   {
    "duration": 15,
    "start_time": "2022-01-18T20:00:04.376Z"
   },
   {
    "duration": 102,
    "start_time": "2022-01-18T20:00:40.836Z"
   },
   {
    "duration": 15,
    "start_time": "2022-01-18T20:00:48.015Z"
   },
   {
    "duration": 17,
    "start_time": "2022-01-18T22:51:46.742Z"
   },
   {
    "duration": 8,
    "start_time": "2022-01-18T22:59:18.477Z"
   },
   {
    "duration": 550,
    "start_time": "2022-01-18T22:59:22.782Z"
   },
   {
    "duration": 117,
    "start_time": "2022-01-18T23:00:01.471Z"
   },
   {
    "duration": 9,
    "start_time": "2022-01-18T23:00:24.142Z"
   },
   {
    "duration": 17076,
    "start_time": "2022-01-18T23:00:27.394Z"
   },
   {
    "duration": 8,
    "start_time": "2022-01-18T23:00:44.864Z"
   },
   {
    "duration": 20294,
    "start_time": "2022-01-18T23:00:47.228Z"
   },
   {
    "duration": 7,
    "start_time": "2022-01-18T23:01:39.158Z"
   },
   {
    "duration": 4,
    "start_time": "2022-01-18T23:01:49.824Z"
   },
   {
    "duration": 5027,
    "start_time": "2022-01-18T23:01:51.174Z"
   },
   {
    "duration": 5,
    "start_time": "2022-01-18T23:02:20.069Z"
   },
   {
    "duration": 1869,
    "start_time": "2022-01-18T23:02:20.948Z"
   },
   {
    "duration": 4,
    "start_time": "2022-01-18T23:02:59.574Z"
   },
   {
    "duration": 1907,
    "start_time": "2022-01-18T23:03:01.805Z"
   },
   {
    "duration": 4,
    "start_time": "2022-01-18T23:03:29.718Z"
   },
   {
    "duration": 5063,
    "start_time": "2022-01-18T23:03:33.129Z"
   },
   {
    "duration": 4,
    "start_time": "2022-01-18T23:04:08.343Z"
   },
   {
    "duration": 7628,
    "start_time": "2022-01-18T23:04:09.126Z"
   },
   {
    "duration": 4,
    "start_time": "2022-01-18T23:04:37.379Z"
   },
   {
    "duration": 2407,
    "start_time": "2022-01-18T23:04:37.917Z"
   },
   {
    "duration": 4,
    "start_time": "2022-01-18T23:05:13.615Z"
   },
   {
    "duration": 523,
    "start_time": "2022-01-18T23:05:14.350Z"
   },
   {
    "duration": 4,
    "start_time": "2022-01-18T23:12:22.830Z"
   },
   {
    "duration": 559,
    "start_time": "2022-01-18T23:12:23.689Z"
   },
   {
    "duration": 4,
    "start_time": "2022-01-18T23:12:54.418Z"
   },
   {
    "duration": 10294,
    "start_time": "2022-01-18T23:12:55.106Z"
   },
   {
    "duration": 4,
    "start_time": "2022-01-18T23:13:16.850Z"
   },
   {
    "duration": 6384,
    "start_time": "2022-01-18T23:13:18.328Z"
   },
   {
    "duration": 5,
    "start_time": "2022-01-18T23:15:38.130Z"
   },
   {
    "duration": 13543,
    "start_time": "2022-01-18T23:15:40.126Z"
   },
   {
    "duration": 5,
    "start_time": "2022-01-18T23:15:53.672Z"
   },
   {
    "duration": 7438,
    "start_time": "2022-01-18T23:15:55.310Z"
   },
   {
    "duration": 4,
    "start_time": "2022-01-18T23:16:45.739Z"
   },
   {
    "duration": 1943,
    "start_time": "2022-01-18T23:16:46.472Z"
   },
   {
    "duration": 104,
    "start_time": "2022-01-18T23:23:55.454Z"
   },
   {
    "duration": 6,
    "start_time": "2022-01-18T23:24:21.918Z"
   },
   {
    "duration": 527,
    "start_time": "2022-01-18T23:24:22.822Z"
   },
   {
    "duration": 523,
    "start_time": "2022-01-18T23:24:50.009Z"
   },
   {
    "duration": 106,
    "start_time": "2022-01-18T23:28:33.014Z"
   },
   {
    "duration": 5,
    "start_time": "2022-01-18T23:28:41.470Z"
   },
   {
    "duration": 525,
    "start_time": "2022-01-18T23:28:42.381Z"
   },
   {
    "duration": 6,
    "start_time": "2022-01-18T23:28:58.533Z"
   },
   {
    "duration": 838,
    "start_time": "2022-01-18T23:28:59.861Z"
   },
   {
    "duration": 6,
    "start_time": "2022-01-18T23:29:38.341Z"
   },
   {
    "duration": 541,
    "start_time": "2022-01-18T23:29:38.956Z"
   },
   {
    "duration": 5,
    "start_time": "2022-01-18T23:29:55.116Z"
   },
   {
    "duration": 531,
    "start_time": "2022-01-18T23:29:55.701Z"
   },
   {
    "duration": 6,
    "start_time": "2022-01-18T23:31:00.141Z"
   },
   {
    "duration": 2204,
    "start_time": "2022-01-18T23:31:00.941Z"
   },
   {
    "duration": 5,
    "start_time": "2022-01-18T23:31:05.310Z"
   },
   {
    "duration": 633,
    "start_time": "2022-01-18T23:31:05.962Z"
   },
   {
    "duration": 6,
    "start_time": "2022-01-18T23:31:51.876Z"
   },
   {
    "duration": 7439,
    "start_time": "2022-01-18T23:31:52.479Z"
   },
   {
    "duration": 100,
    "start_time": "2022-01-19T07:17:12.772Z"
   },
   {
    "duration": 356,
    "start_time": "2022-01-19T07:17:20.152Z"
   },
   {
    "duration": 1446,
    "start_time": "2022-01-19T07:17:31.552Z"
   },
   {
    "duration": 680,
    "start_time": "2022-01-19T07:17:33.001Z"
   },
   {
    "duration": 22,
    "start_time": "2022-01-19T07:17:33.685Z"
   },
   {
    "duration": 912,
    "start_time": "2022-01-19T07:17:33.711Z"
   },
   {
    "duration": 47,
    "start_time": "2022-01-19T07:17:34.626Z"
   },
   {
    "duration": 61,
    "start_time": "2022-01-19T07:17:34.676Z"
   },
   {
    "duration": 38,
    "start_time": "2022-01-19T07:17:34.740Z"
   },
   {
    "duration": 15,
    "start_time": "2022-01-19T07:17:34.781Z"
   },
   {
    "duration": 925,
    "start_time": "2022-01-19T07:17:34.801Z"
   },
   {
    "duration": 22,
    "start_time": "2022-01-19T07:17:35.730Z"
   },
   {
    "duration": 28,
    "start_time": "2022-01-19T07:17:35.754Z"
   },
   {
    "duration": 44,
    "start_time": "2022-01-19T07:17:35.784Z"
   },
   {
    "duration": 18,
    "start_time": "2022-01-19T07:17:35.830Z"
   },
   {
    "duration": 38,
    "start_time": "2022-01-19T07:17:35.851Z"
   },
   {
    "duration": 34,
    "start_time": "2022-01-19T07:17:35.892Z"
   },
   {
    "duration": 15,
    "start_time": "2022-01-19T07:17:35.928Z"
   },
   {
    "duration": 20,
    "start_time": "2022-01-19T07:17:35.946Z"
   },
   {
    "duration": 19,
    "start_time": "2022-01-19T07:17:35.969Z"
   },
   {
    "duration": 32,
    "start_time": "2022-01-19T07:17:35.991Z"
   },
   {
    "duration": 15,
    "start_time": "2022-01-19T07:17:36.026Z"
   },
   {
    "duration": 279,
    "start_time": "2022-01-19T07:17:36.044Z"
   },
   {
    "duration": 32,
    "start_time": "2022-01-19T07:17:36.326Z"
   },
   {
    "duration": 26,
    "start_time": "2022-01-19T07:17:36.360Z"
   },
   {
    "duration": 638,
    "start_time": "2022-01-19T07:17:36.388Z"
   },
   {
    "duration": 13,
    "start_time": "2022-01-19T07:17:37.028Z"
   },
   {
    "duration": 422,
    "start_time": "2022-01-19T07:17:37.044Z"
   },
   {
    "duration": 21,
    "start_time": "2022-01-19T07:17:37.475Z"
   },
   {
    "duration": 136,
    "start_time": "2022-01-19T07:17:37.499Z"
   },
   {
    "duration": 218,
    "start_time": "2022-01-19T07:17:37.638Z"
   },
   {
    "duration": 186,
    "start_time": "2022-01-19T07:17:37.859Z"
   },
   {
    "duration": 118,
    "start_time": "2022-01-19T07:17:38.048Z"
   },
   {
    "duration": 19,
    "start_time": "2022-01-19T07:17:38.169Z"
   },
   {
    "duration": 43,
    "start_time": "2022-01-19T07:17:38.191Z"
   },
   {
    "duration": 8,
    "start_time": "2022-01-19T07:17:38.236Z"
   },
   {
    "duration": 18,
    "start_time": "2022-01-19T07:17:38.246Z"
   },
   {
    "duration": 82,
    "start_time": "2022-01-19T07:17:38.266Z"
   },
   {
    "duration": 7,
    "start_time": "2022-01-19T07:17:38.350Z"
   },
   {
    "duration": 21,
    "start_time": "2022-01-19T07:17:38.360Z"
   },
   {
    "duration": 40,
    "start_time": "2022-01-19T07:17:38.383Z"
   },
   {
    "duration": 15,
    "start_time": "2022-01-19T07:17:38.425Z"
   },
   {
    "duration": 17,
    "start_time": "2022-01-19T07:17:38.443Z"
   },
   {
    "duration": 9,
    "start_time": "2022-01-19T07:17:38.462Z"
   },
   {
    "duration": 49,
    "start_time": "2022-01-19T07:17:38.474Z"
   },
   {
    "duration": 421,
    "start_time": "2022-01-19T07:17:38.525Z"
   },
   {
    "duration": 3269,
    "start_time": "2022-01-19T07:17:35.680Z"
   },
   {
    "duration": 3261,
    "start_time": "2022-01-19T07:17:35.697Z"
   },
   {
    "duration": 3251,
    "start_time": "2022-01-19T07:17:35.709Z"
   },
   {
    "duration": 3240,
    "start_time": "2022-01-19T07:17:35.722Z"
   },
   {
    "duration": 3229,
    "start_time": "2022-01-19T07:17:35.734Z"
   },
   {
    "duration": 3222,
    "start_time": "2022-01-19T07:17:35.743Z"
   },
   {
    "duration": 3213,
    "start_time": "2022-01-19T07:17:35.754Z"
   },
   {
    "duration": 3199,
    "start_time": "2022-01-19T07:17:35.770Z"
   },
   {
    "duration": 3189,
    "start_time": "2022-01-19T07:17:35.782Z"
   },
   {
    "duration": 3176,
    "start_time": "2022-01-19T07:17:35.796Z"
   },
   {
    "duration": 3168,
    "start_time": "2022-01-19T07:17:35.806Z"
   },
   {
    "duration": 3159,
    "start_time": "2022-01-19T07:17:35.817Z"
   },
   {
    "duration": 3154,
    "start_time": "2022-01-19T07:17:35.824Z"
   },
   {
    "duration": 3147,
    "start_time": "2022-01-19T07:17:35.833Z"
   },
   {
    "duration": 3119,
    "start_time": "2022-01-19T07:17:35.863Z"
   },
   {
    "duration": 3106,
    "start_time": "2022-01-19T07:17:35.877Z"
   },
   {
    "duration": 3098,
    "start_time": "2022-01-19T07:17:35.887Z"
   },
   {
    "duration": 3091,
    "start_time": "2022-01-19T07:17:35.896Z"
   },
   {
    "duration": 3084,
    "start_time": "2022-01-19T07:17:35.905Z"
   },
   {
    "duration": 3073,
    "start_time": "2022-01-19T07:17:35.917Z"
   },
   {
    "duration": 3066,
    "start_time": "2022-01-19T07:17:35.926Z"
   },
   {
    "duration": 3087,
    "start_time": "2022-01-19T07:17:35.935Z"
   },
   {
    "duration": 3081,
    "start_time": "2022-01-19T07:17:35.943Z"
   },
   {
    "duration": 3070,
    "start_time": "2022-01-19T07:17:35.957Z"
   },
   {
    "duration": 3058,
    "start_time": "2022-01-19T07:17:35.970Z"
   },
   {
    "duration": 291,
    "start_time": "2022-01-19T07:17:53.493Z"
   },
   {
    "duration": 302,
    "start_time": "2022-01-19T07:18:10.269Z"
   },
   {
    "duration": 39,
    "start_time": "2022-01-19T07:18:16.199Z"
   },
   {
    "duration": 27,
    "start_time": "2022-01-19T07:18:34.655Z"
   },
   {
    "duration": 26,
    "start_time": "2022-01-19T07:19:01.260Z"
   },
   {
    "duration": 305,
    "start_time": "2022-01-19T07:21:22.063Z"
   },
   {
    "duration": 5,
    "start_time": "2022-01-19T07:21:39.802Z"
   },
   {
    "duration": 8,
    "start_time": "2022-01-19T07:21:53.980Z"
   },
   {
    "duration": 7,
    "start_time": "2022-01-19T07:21:59.267Z"
   },
   {
    "duration": 8326,
    "start_time": "2022-01-19T07:22:50.622Z"
   },
   {
    "duration": 8125,
    "start_time": "2022-01-19T07:23:07.626Z"
   },
   {
    "duration": 7,
    "start_time": "2022-01-19T07:24:17.657Z"
   },
   {
    "duration": 8,
    "start_time": "2022-01-19T07:24:24.518Z"
   },
   {
    "duration": 8,
    "start_time": "2022-01-19T07:24:34.078Z"
   },
   {
    "duration": 7,
    "start_time": "2022-01-19T07:24:44.644Z"
   },
   {
    "duration": 319,
    "start_time": "2022-01-19T07:26:03.468Z"
   },
   {
    "duration": 37,
    "start_time": "2022-01-19T07:26:17.705Z"
   },
   {
    "duration": 106,
    "start_time": "2022-01-19T07:30:44.140Z"
   },
   {
    "duration": 318,
    "start_time": "2022-01-19T07:30:49.304Z"
   },
   {
    "duration": 108,
    "start_time": "2022-01-19T07:30:59.008Z"
   },
   {
    "duration": 7764,
    "start_time": "2022-01-19T07:31:04.352Z"
   },
   {
    "duration": 27,
    "start_time": "2022-01-19T07:31:23.979Z"
   },
   {
    "duration": 17,
    "start_time": "2022-01-19T07:31:34.378Z"
   },
   {
    "duration": 10404,
    "start_time": "2022-01-19T07:32:31.675Z"
   },
   {
    "duration": 91,
    "start_time": "2022-01-19T07:32:54.779Z"
   },
   {
    "duration": 16,
    "start_time": "2022-01-19T07:32:59.073Z"
   },
   {
    "duration": 308,
    "start_time": "2022-01-19T07:33:06.797Z"
   },
   {
    "duration": 5558,
    "start_time": "2022-01-19T07:33:10.438Z"
   },
   {
    "duration": 8234,
    "start_time": "2022-01-19T07:33:20.362Z"
   },
   {
    "duration": 26,
    "start_time": "2022-01-19T07:33:32.885Z"
   },
   {
    "duration": 283,
    "start_time": "2022-01-19T07:38:18.172Z"
   },
   {
    "duration": 335,
    "start_time": "2022-01-19T07:38:53.780Z"
   },
   {
    "duration": 334,
    "start_time": "2022-01-19T07:39:19.972Z"
   },
   {
    "duration": 620,
    "start_time": "2022-01-19T07:39:32.542Z"
   },
   {
    "duration": 139,
    "start_time": "2022-01-19T07:41:21.149Z"
   },
   {
    "duration": 27,
    "start_time": "2022-01-19T07:41:26.635Z"
   },
   {
    "duration": 7491,
    "start_time": "2022-01-19T07:42:31.976Z"
   },
   {
    "duration": 392,
    "start_time": "2022-01-19T07:42:52.070Z"
   },
   {
    "duration": 26,
    "start_time": "2022-01-19T07:43:11.606Z"
   },
   {
    "duration": 28,
    "start_time": "2022-01-19T07:49:44.354Z"
   },
   {
    "duration": 6,
    "start_time": "2022-01-19T07:50:53.827Z"
   },
   {
    "duration": 2589,
    "start_time": "2022-01-19T07:50:55.992Z"
   },
   {
    "duration": 6,
    "start_time": "2022-01-19T07:51:11.407Z"
   },
   {
    "duration": 6251,
    "start_time": "2022-01-19T07:51:11.941Z"
   },
   {
    "duration": 5,
    "start_time": "2022-01-19T08:02:54.736Z"
   },
   {
    "duration": 5822,
    "start_time": "2022-01-19T08:02:57.163Z"
   },
   {
    "duration": 5,
    "start_time": "2022-01-19T08:04:11.614Z"
   },
   {
    "duration": 9624,
    "start_time": "2022-01-19T08:04:12.318Z"
   },
   {
    "duration": 114,
    "start_time": "2022-01-19T08:04:27.244Z"
   },
   {
    "duration": 5,
    "start_time": "2022-01-19T08:04:30.695Z"
   },
   {
    "duration": 733,
    "start_time": "2022-01-19T08:04:32.519Z"
   },
   {
    "duration": 5,
    "start_time": "2022-01-19T08:04:41.288Z"
   },
   {
    "duration": 2400,
    "start_time": "2022-01-19T08:04:42.129Z"
   },
   {
    "duration": 5,
    "start_time": "2022-01-19T08:04:56.916Z"
   },
   {
    "duration": 2262,
    "start_time": "2022-01-19T08:04:57.489Z"
   },
   {
    "duration": 5,
    "start_time": "2022-01-19T08:05:12.725Z"
   },
   {
    "duration": 2169,
    "start_time": "2022-01-19T08:05:13.175Z"
   },
   {
    "duration": 6,
    "start_time": "2022-01-19T08:09:27.719Z"
   },
   {
    "duration": 7,
    "start_time": "2022-01-19T08:09:53.128Z"
   },
   {
    "duration": 5,
    "start_time": "2022-01-19T08:10:53.130Z"
   },
   {
    "duration": 612,
    "start_time": "2022-01-19T08:10:53.805Z"
   },
   {
    "duration": 6,
    "start_time": "2022-01-19T08:12:00.003Z"
   },
   {
    "duration": 881,
    "start_time": "2022-01-19T08:12:00.501Z"
   },
   {
    "duration": 6,
    "start_time": "2022-01-19T08:12:20.910Z"
   },
   {
    "duration": 604,
    "start_time": "2022-01-19T08:12:21.354Z"
   },
   {
    "duration": 7,
    "start_time": "2022-01-19T08:12:51.487Z"
   },
   {
    "duration": 663,
    "start_time": "2022-01-19T08:12:51.973Z"
   },
   {
    "duration": 377,
    "start_time": "2022-01-19T08:15:34.292Z"
   },
   {
    "duration": 8,
    "start_time": "2022-01-19T08:15:46.158Z"
   },
   {
    "duration": 5,
    "start_time": "2022-01-19T08:16:19.140Z"
   },
   {
    "duration": 608,
    "start_time": "2022-01-19T08:16:19.773Z"
   },
   {
    "duration": 10,
    "start_time": "2022-01-19T08:17:58.389Z"
   },
   {
    "duration": 10,
    "start_time": "2022-01-19T08:18:12.601Z"
   },
   {
    "duration": 16,
    "start_time": "2022-01-19T08:18:44.709Z"
   },
   {
    "duration": 23,
    "start_time": "2022-01-19T08:19:21.611Z"
   },
   {
    "duration": 6,
    "start_time": "2022-01-19T08:19:34.398Z"
   },
   {
    "duration": 374,
    "start_time": "2022-01-19T08:19:55.579Z"
   },
   {
    "duration": 7,
    "start_time": "2022-01-19T08:20:58.014Z"
   },
   {
    "duration": 36,
    "start_time": "2022-01-19T08:23:50.551Z"
   },
   {
    "duration": 8815,
    "start_time": "2022-01-19T08:24:01.091Z"
   },
   {
    "duration": 96,
    "start_time": "2022-01-19T08:24:14.385Z"
   },
   {
    "duration": 310,
    "start_time": "2022-01-19T08:24:17.362Z"
   },
   {
    "duration": 10252,
    "start_time": "2022-01-19T08:24:26.119Z"
   },
   {
    "duration": 7440,
    "start_time": "2022-01-19T08:24:40.095Z"
   },
   {
    "duration": 29,
    "start_time": "2022-01-19T08:24:50.805Z"
   },
   {
    "duration": 315,
    "start_time": "2022-01-19T08:26:10.958Z"
   },
   {
    "duration": 346,
    "start_time": "2022-01-19T08:26:24.366Z"
   },
   {
    "duration": 314,
    "start_time": "2022-01-19T08:26:36.049Z"
   },
   {
    "duration": 7857,
    "start_time": "2022-01-19T08:28:15.583Z"
   },
   {
    "duration": 7708,
    "start_time": "2022-01-19T08:28:38.895Z"
   },
   {
    "duration": 3,
    "start_time": "2022-01-19T08:31:28.318Z"
   },
   {
    "duration": 5,
    "start_time": "2022-01-19T08:31:49.486Z"
   },
   {
    "duration": 616,
    "start_time": "2022-01-19T08:31:50.036Z"
   },
   {
    "duration": 5,
    "start_time": "2022-01-19T08:33:13.463Z"
   },
   {
    "duration": 3218,
    "start_time": "2022-01-19T08:33:14.183Z"
   },
   {
    "duration": 8661,
    "start_time": "2022-01-19T08:34:53.704Z"
   },
   {
    "duration": 3164,
    "start_time": "2022-01-19T08:34:59.205Z"
   },
   {
    "duration": 321,
    "start_time": "2022-01-19T08:35:27.038Z"
   },
   {
    "duration": 5,
    "start_time": "2022-01-19T08:35:44.515Z"
   },
   {
    "duration": 8,
    "start_time": "2022-01-19T08:35:45.137Z"
   },
   {
    "duration": 8380,
    "start_time": "2022-01-19T08:37:00.731Z"
   },
   {
    "duration": 8791,
    "start_time": "2022-01-19T08:37:47.461Z"
   },
   {
    "duration": 9312,
    "start_time": "2022-01-19T08:38:06.886Z"
   },
   {
    "duration": 321,
    "start_time": "2022-01-19T08:38:21.853Z"
   },
   {
    "duration": 5,
    "start_time": "2022-01-19T08:38:27.292Z"
   },
   {
    "duration": 7,
    "start_time": "2022-01-19T08:38:36.098Z"
   },
   {
    "duration": 7,
    "start_time": "2022-01-19T08:39:51.595Z"
   },
   {
    "duration": 8,
    "start_time": "2022-01-19T08:40:02.855Z"
   },
   {
    "duration": 27,
    "start_time": "2022-01-19T08:41:33.748Z"
   },
   {
    "duration": 7,
    "start_time": "2022-01-19T08:41:36.164Z"
   },
   {
    "duration": 6,
    "start_time": "2022-01-19T08:41:37.133Z"
   },
   {
    "duration": 9,
    "start_time": "2022-01-19T08:50:34.550Z"
   },
   {
    "duration": 9,
    "start_time": "2022-01-19T08:51:20.875Z"
   },
   {
    "duration": 101,
    "start_time": "2022-01-19T08:51:37.502Z"
   },
   {
    "duration": 8,
    "start_time": "2022-01-19T08:51:43.900Z"
   },
   {
    "duration": 8,
    "start_time": "2022-01-19T08:55:14.500Z"
   },
   {
    "duration": 5,
    "start_time": "2022-01-19T08:55:49.129Z"
   },
   {
    "duration": 297,
    "start_time": "2022-01-19T08:55:56.315Z"
   },
   {
    "duration": 5,
    "start_time": "2022-01-19T08:56:02.151Z"
   },
   {
    "duration": 5,
    "start_time": "2022-01-19T08:56:41.615Z"
   },
   {
    "duration": 6,
    "start_time": "2022-01-19T08:56:47.485Z"
   },
   {
    "duration": 291,
    "start_time": "2022-01-19T08:57:14.101Z"
   },
   {
    "duration": 5,
    "start_time": "2022-01-19T08:57:19.284Z"
   },
   {
    "duration": 6,
    "start_time": "2022-01-19T08:57:28.882Z"
   },
   {
    "duration": 6,
    "start_time": "2022-01-19T08:57:30.737Z"
   },
   {
    "duration": 6,
    "start_time": "2022-01-19T08:57:39.296Z"
   },
   {
    "duration": 5,
    "start_time": "2022-01-19T08:57:43.060Z"
   },
   {
    "duration": 5,
    "start_time": "2022-01-19T08:58:18.957Z"
   },
   {
    "duration": 2165,
    "start_time": "2022-01-19T08:58:19.722Z"
   },
   {
    "duration": 5,
    "start_time": "2022-01-19T08:58:30.453Z"
   },
   {
    "duration": 2969,
    "start_time": "2022-01-19T08:58:31.064Z"
   },
   {
    "duration": 5,
    "start_time": "2022-01-19T09:00:02.892Z"
   },
   {
    "duration": 6,
    "start_time": "2022-01-19T09:00:39.336Z"
   },
   {
    "duration": 8186,
    "start_time": "2022-01-19T09:00:39.344Z"
   },
   {
    "duration": 114,
    "start_time": "2022-01-19T09:00:51.965Z"
   },
   {
    "duration": 5,
    "start_time": "2022-01-19T09:00:56.245Z"
   },
   {
    "duration": 659,
    "start_time": "2022-01-19T09:00:57.413Z"
   },
   {
    "duration": 7,
    "start_time": "2022-01-19T09:01:27.620Z"
   },
   {
    "duration": 8821,
    "start_time": "2022-01-19T09:01:28.139Z"
   },
   {
    "duration": 7,
    "start_time": "2022-01-19T09:01:43.752Z"
   },
   {
    "duration": 34748,
    "start_time": "2022-01-19T09:01:44.220Z"
   },
   {
    "duration": 321,
    "start_time": "2022-01-19T09:04:47.942Z"
   },
   {
    "duration": 18,
    "start_time": "2022-01-19T09:04:55.517Z"
   },
   {
    "duration": 15,
    "start_time": "2022-01-19T09:04:56.830Z"
   },
   {
    "duration": 594,
    "start_time": "2022-01-19T09:04:57.010Z"
   },
   {
    "duration": 80,
    "start_time": "2022-01-19T09:04:57.607Z"
   },
   {
    "duration": 309,
    "start_time": "2022-01-19T09:04:57.932Z"
   },
   {
    "duration": 302,
    "start_time": "2022-01-19T09:05:01.031Z"
   },
   {
    "duration": 28,
    "start_time": "2022-01-19T09:09:00.926Z"
   },
   {
    "duration": 876,
    "start_time": "2022-01-19T09:10:32.723Z"
   },
   {
    "duration": 44,
    "start_time": "2022-01-19T09:11:44.898Z"
   },
   {
    "duration": 8,
    "start_time": "2022-01-19T09:21:53.960Z"
   },
   {
    "duration": 582,
    "start_time": "2022-01-19T09:22:04.236Z"
   },
   {
    "duration": 11,
    "start_time": "2022-01-19T09:22:30.466Z"
   },
   {
    "duration": 5625,
    "start_time": "2022-01-19T09:22:31.475Z"
   },
   {
    "duration": 3867,
    "start_time": "2022-01-19T09:22:58.725Z"
   },
   {
    "duration": 30,
    "start_time": "2022-01-19T09:27:24.750Z"
   },
   {
    "duration": 8,
    "start_time": "2022-01-19T09:27:53.945Z"
   },
   {
    "duration": 919,
    "start_time": "2022-01-19T09:27:54.904Z"
   },
   {
    "duration": 7,
    "start_time": "2022-01-19T09:28:38.951Z"
   },
   {
    "duration": 581,
    "start_time": "2022-01-19T09:28:39.873Z"
   },
   {
    "duration": 7,
    "start_time": "2022-01-19T09:29:33.207Z"
   },
   {
    "duration": 596,
    "start_time": "2022-01-19T09:29:35.854Z"
   },
   {
    "duration": 8,
    "start_time": "2022-01-19T09:30:18.643Z"
   },
   {
    "duration": 610,
    "start_time": "2022-01-19T09:30:19.262Z"
   },
   {
    "duration": 9,
    "start_time": "2022-01-19T09:30:43.676Z"
   },
   {
    "duration": 579,
    "start_time": "2022-01-19T09:30:44.338Z"
   },
   {
    "duration": 7,
    "start_time": "2022-01-19T09:32:14.403Z"
   },
   {
    "duration": 654,
    "start_time": "2022-01-19T09:32:15.235Z"
   },
   {
    "duration": 293,
    "start_time": "2022-01-19T09:34:50.576Z"
   },
   {
    "duration": 283,
    "start_time": "2022-01-19T09:34:54.754Z"
   },
   {
    "duration": 10,
    "start_time": "2022-01-19T09:35:44.120Z"
   },
   {
    "duration": 9,
    "start_time": "2022-01-19T09:36:49.666Z"
   },
   {
    "duration": 597,
    "start_time": "2022-01-19T09:36:50.755Z"
   },
   {
    "duration": 30,
    "start_time": "2022-01-19T09:38:10.868Z"
   },
   {
    "duration": 14,
    "start_time": "2022-01-19T09:39:24.778Z"
   },
   {
    "duration": 646,
    "start_time": "2022-01-19T09:39:25.458Z"
   },
   {
    "duration": 8,
    "start_time": "2022-01-19T09:40:58.762Z"
   },
   {
    "duration": 604,
    "start_time": "2022-01-19T09:40:59.442Z"
   },
   {
    "duration": 9,
    "start_time": "2022-01-19T09:41:55.627Z"
   },
   {
    "duration": 10023,
    "start_time": "2022-01-19T09:41:56.471Z"
   },
   {
    "duration": 7,
    "start_time": "2022-01-19T09:44:32.703Z"
   },
   {
    "duration": 9018,
    "start_time": "2022-01-19T09:44:33.302Z"
   },
   {
    "duration": 6,
    "start_time": "2022-01-19T09:58:35.263Z"
   },
   {
    "duration": 8406,
    "start_time": "2022-01-19T09:58:36.000Z"
   },
   {
    "duration": 7,
    "start_time": "2022-01-19T10:00:18.762Z"
   },
   {
    "duration": 8902,
    "start_time": "2022-01-19T10:00:19.279Z"
   },
   {
    "duration": 6,
    "start_time": "2022-01-19T10:01:12.736Z"
   },
   {
    "duration": 8082,
    "start_time": "2022-01-19T10:01:13.291Z"
   },
   {
    "duration": 5,
    "start_time": "2022-01-19T10:01:51.318Z"
   },
   {
    "duration": 652,
    "start_time": "2022-01-19T10:01:52.005Z"
   },
   {
    "duration": 7,
    "start_time": "2022-01-19T10:03:20.241Z"
   },
   {
    "duration": 628,
    "start_time": "2022-01-19T10:03:20.762Z"
   },
   {
    "duration": 5,
    "start_time": "2022-01-19T10:04:10.365Z"
   },
   {
    "duration": 2721,
    "start_time": "2022-01-19T10:04:10.904Z"
   },
   {
    "duration": 5,
    "start_time": "2022-01-19T10:04:27.936Z"
   },
   {
    "duration": 635,
    "start_time": "2022-01-19T10:04:28.722Z"
   },
   {
    "duration": 5,
    "start_time": "2022-01-19T10:05:06.537Z"
   },
   {
    "duration": 2772,
    "start_time": "2022-01-19T10:05:06.975Z"
   },
   {
    "duration": 10,
    "start_time": "2022-01-19T10:08:06.466Z"
   },
   {
    "duration": 55,
    "start_time": "2022-01-19T10:09:15.339Z"
   },
   {
    "duration": 4,
    "start_time": "2022-01-19T10:09:24.617Z"
   },
   {
    "duration": 1171,
    "start_time": "2022-01-19T10:09:25.408Z"
   },
   {
    "duration": 5,
    "start_time": "2022-01-19T10:09:42.785Z"
   },
   {
    "duration": 2653,
    "start_time": "2022-01-19T10:09:44.541Z"
   },
   {
    "duration": 5,
    "start_time": "2022-01-19T10:10:03.406Z"
   },
   {
    "duration": 632,
    "start_time": "2022-01-19T10:10:04.239Z"
   },
   {
    "duration": 6,
    "start_time": "2022-01-19T10:10:28.022Z"
   },
   {
    "duration": 635,
    "start_time": "2022-01-19T10:10:28.763Z"
   },
   {
    "duration": 5,
    "start_time": "2022-01-19T10:10:44.922Z"
   },
   {
    "duration": 1268,
    "start_time": "2022-01-19T10:10:45.556Z"
   },
   {
    "duration": 13,
    "start_time": "2022-01-19T10:11:54.716Z"
   },
   {
    "duration": 726,
    "start_time": "2022-01-19T10:11:55.503Z"
   },
   {
    "duration": 7,
    "start_time": "2022-01-19T10:12:38.948Z"
   },
   {
    "duration": 3916,
    "start_time": "2022-01-19T10:12:39.571Z"
   },
   {
    "duration": 30,
    "start_time": "2022-01-19T10:12:47.118Z"
   },
   {
    "duration": 12,
    "start_time": "2022-01-19T10:15:00.073Z"
   },
   {
    "duration": 812,
    "start_time": "2022-01-19T10:15:00.829Z"
   },
   {
    "duration": 7,
    "start_time": "2022-01-19T10:16:29.773Z"
   },
   {
    "duration": 4364,
    "start_time": "2022-01-19T10:16:30.343Z"
   },
   {
    "duration": 8,
    "start_time": "2022-01-19T10:21:39.010Z"
   },
   {
    "duration": 2969,
    "start_time": "2022-01-19T10:21:39.821Z"
   },
   {
    "duration": 10,
    "start_time": "2022-01-19T10:22:10.416Z"
   },
   {
    "duration": 5177,
    "start_time": "2022-01-19T10:22:10.757Z"
   },
   {
    "duration": 12,
    "start_time": "2022-01-19T10:22:40.006Z"
   },
   {
    "duration": 5435,
    "start_time": "2022-01-19T10:22:41.029Z"
   },
   {
    "duration": 40,
    "start_time": "2022-01-19T10:22:48.062Z"
   },
   {
    "duration": 11,
    "start_time": "2022-01-19T10:23:25.171Z"
   },
   {
    "duration": 4880,
    "start_time": "2022-01-19T10:23:25.969Z"
   },
   {
    "duration": 8,
    "start_time": "2022-01-19T10:23:40.247Z"
   },
   {
    "duration": 5619,
    "start_time": "2022-01-19T10:23:41.194Z"
   },
   {
    "duration": 8,
    "start_time": "2022-01-19T10:26:30.982Z"
   },
   {
    "duration": 99,
    "start_time": "2022-01-19T10:26:31.734Z"
   },
   {
    "duration": 7532,
    "start_time": "2022-01-19T10:26:37.102Z"
   },
   {
    "duration": 2797,
    "start_time": "2022-01-19T10:27:02.248Z"
   },
   {
    "duration": 35,
    "start_time": "2022-01-19T10:27:07.219Z"
   },
   {
    "duration": 22,
    "start_time": "2022-01-19T10:42:17.446Z"
   },
   {
    "duration": 15,
    "start_time": "2022-01-19T10:42:19.066Z"
   },
   {
    "duration": 464,
    "start_time": "2022-01-19T10:42:19.890Z"
   },
   {
    "duration": 61,
    "start_time": "2022-01-19T10:42:21.117Z"
   },
   {
    "duration": 28,
    "start_time": "2022-01-19T10:42:21.721Z"
   },
   {
    "duration": 785,
    "start_time": "2022-01-19T10:42:22.322Z"
   },
   {
    "duration": 19,
    "start_time": "2022-01-19T10:42:23.109Z"
   },
   {
    "duration": 225,
    "start_time": "2022-01-19T10:42:24.109Z"
   },
   {
    "duration": 316,
    "start_time": "2022-01-19T10:42:25.875Z"
   },
   {
    "duration": 208,
    "start_time": "2022-01-19T10:56:57.432Z"
   },
   {
    "duration": 10,
    "start_time": "2022-01-19T10:57:05.530Z"
   },
   {
    "duration": 696,
    "start_time": "2022-01-19T10:57:06.836Z"
   },
   {
    "duration": 330,
    "start_time": "2022-01-19T10:57:34.195Z"
   },
   {
    "duration": 7982,
    "start_time": "2022-01-19T10:58:15.696Z"
   },
   {
    "duration": 1907,
    "start_time": "2022-01-19T10:58:42.683Z"
   },
   {
    "duration": 623,
    "start_time": "2022-01-19T10:58:44.593Z"
   },
   {
    "duration": 21,
    "start_time": "2022-01-19T10:58:45.219Z"
   },
   {
    "duration": 644,
    "start_time": "2022-01-19T10:58:45.243Z"
   },
   {
    "duration": 51,
    "start_time": "2022-01-19T10:58:45.890Z"
   },
   {
    "duration": 35,
    "start_time": "2022-01-19T10:58:45.944Z"
   },
   {
    "duration": 51,
    "start_time": "2022-01-19T10:58:45.981Z"
   },
   {
    "duration": 13,
    "start_time": "2022-01-19T10:58:46.037Z"
   },
   {
    "duration": 885,
    "start_time": "2022-01-19T10:58:46.054Z"
   },
   {
    "duration": 28,
    "start_time": "2022-01-19T10:58:46.942Z"
   },
   {
    "duration": 22,
    "start_time": "2022-01-19T10:58:46.972Z"
   },
   {
    "duration": 60,
    "start_time": "2022-01-19T10:58:46.996Z"
   },
   {
    "duration": 18,
    "start_time": "2022-01-19T10:58:47.058Z"
   },
   {
    "duration": 89,
    "start_time": "2022-01-19T10:58:47.079Z"
   },
   {
    "duration": 13,
    "start_time": "2022-01-19T10:58:47.171Z"
   },
   {
    "duration": 12,
    "start_time": "2022-01-19T10:58:47.187Z"
   },
   {
    "duration": 20,
    "start_time": "2022-01-19T10:58:47.228Z"
   },
   {
    "duration": 13,
    "start_time": "2022-01-19T10:58:47.252Z"
   },
   {
    "duration": 6,
    "start_time": "2022-01-19T10:58:47.268Z"
   },
   {
    "duration": 9,
    "start_time": "2022-01-19T10:58:47.276Z"
   },
   {
    "duration": 308,
    "start_time": "2022-01-19T10:58:47.287Z"
   },
   {
    "duration": 36,
    "start_time": "2022-01-19T10:58:47.597Z"
   },
   {
    "duration": 34,
    "start_time": "2022-01-19T10:58:47.642Z"
   },
   {
    "duration": 702,
    "start_time": "2022-01-19T10:58:47.682Z"
   },
   {
    "duration": 12,
    "start_time": "2022-01-19T10:58:48.387Z"
   },
   {
    "duration": 323,
    "start_time": "2022-01-19T10:58:48.402Z"
   },
   {
    "duration": 23,
    "start_time": "2022-01-19T10:58:48.728Z"
   },
   {
    "duration": 150,
    "start_time": "2022-01-19T10:58:48.754Z"
   },
   {
    "duration": 165,
    "start_time": "2022-01-19T10:58:48.906Z"
   },
   {
    "duration": 185,
    "start_time": "2022-01-19T10:58:49.074Z"
   },
   {
    "duration": 147,
    "start_time": "2022-01-19T10:58:49.262Z"
   },
   {
    "duration": 30,
    "start_time": "2022-01-19T10:58:49.412Z"
   },
   {
    "duration": 20,
    "start_time": "2022-01-19T10:58:49.444Z"
   },
   {
    "duration": 675,
    "start_time": "2022-01-19T10:58:49.466Z"
   },
   {
    "duration": 8,
    "start_time": "2022-01-19T10:58:50.144Z"
   },
   {
    "duration": 21,
    "start_time": "2022-01-19T10:58:50.154Z"
   },
   {
    "duration": 90,
    "start_time": "2022-01-19T10:58:50.177Z"
   },
   {
    "duration": 9,
    "start_time": "2022-01-19T10:58:50.270Z"
   },
   {
    "duration": 18,
    "start_time": "2022-01-19T10:58:50.281Z"
   },
   {
    "duration": 28,
    "start_time": "2022-01-19T10:58:50.301Z"
   },
   {
    "duration": 21,
    "start_time": "2022-01-19T10:58:50.332Z"
   },
   {
    "duration": 17,
    "start_time": "2022-01-19T10:58:50.356Z"
   },
   {
    "duration": 9,
    "start_time": "2022-01-19T10:58:50.375Z"
   },
   {
    "duration": 7926,
    "start_time": "2022-01-19T10:58:50.386Z"
   },
   {
    "duration": 16,
    "start_time": "2022-01-19T10:58:58.315Z"
   },
   {
    "duration": 730,
    "start_time": "2022-01-19T10:58:58.334Z"
   },
   {
    "duration": 32,
    "start_time": "2022-01-19T10:58:59.067Z"
   },
   {
    "duration": 47,
    "start_time": "2022-01-19T10:58:59.101Z"
   },
   {
    "duration": 24,
    "start_time": "2022-01-19T10:58:59.151Z"
   },
   {
    "duration": 466,
    "start_time": "2022-01-19T10:58:59.178Z"
   },
   {
    "duration": 52,
    "start_time": "2022-01-19T10:58:59.646Z"
   },
   {
    "duration": 48,
    "start_time": "2022-01-19T10:58:59.701Z"
   },
   {
    "duration": 752,
    "start_time": "2022-01-19T10:58:59.752Z"
   },
   {
    "duration": 16,
    "start_time": "2022-01-19T10:59:00.507Z"
   },
   {
    "duration": 229,
    "start_time": "2022-01-19T10:59:00.526Z"
   },
   {
    "duration": 279,
    "start_time": "2022-01-19T10:59:00.758Z"
   },
   {
    "duration": 992,
    "start_time": "2022-01-19T10:59:01.040Z"
   },
   {
    "duration": 932,
    "start_time": "2022-01-19T10:59:02.035Z"
   },
   {
    "duration": 304,
    "start_time": "2022-01-19T10:59:02.969Z"
   },
   {
    "duration": 6,
    "start_time": "2022-01-19T10:59:03.276Z"
   },
   {
    "duration": 13,
    "start_time": "2022-01-19T10:59:03.285Z"
   },
   {
    "duration": 93,
    "start_time": "2022-01-19T10:59:03.300Z"
   },
   {
    "duration": 520,
    "start_time": "2022-01-19T10:59:03.395Z"
   },
   {
    "duration": 16,
    "start_time": "2022-01-19T10:59:03.917Z"
   },
   {
    "duration": 13,
    "start_time": "2022-01-19T10:59:03.935Z"
   },
   {
    "duration": 15,
    "start_time": "2022-01-19T10:59:03.950Z"
   },
   {
    "duration": 356,
    "start_time": "2022-01-19T10:59:03.967Z"
   },
   {
    "duration": 12,
    "start_time": "2022-01-19T10:59:04.331Z"
   },
   {
    "duration": 301,
    "start_time": "2022-01-19T10:59:04.346Z"
   },
   {
    "duration": 6,
    "start_time": "2022-01-19T11:00:26.470Z"
   },
   {
    "duration": 164,
    "start_time": "2022-01-19T11:16:11.721Z"
   },
   {
    "duration": 1646,
    "start_time": "2022-01-19T11:28:41.054Z"
   },
   {
    "duration": 673,
    "start_time": "2022-01-19T11:28:42.703Z"
   },
   {
    "duration": 16,
    "start_time": "2022-01-19T11:28:43.379Z"
   },
   {
    "duration": 983,
    "start_time": "2022-01-19T11:28:43.399Z"
   },
   {
    "duration": 64,
    "start_time": "2022-01-19T11:28:44.384Z"
   },
   {
    "duration": 29,
    "start_time": "2022-01-19T11:28:44.452Z"
   },
   {
    "duration": 60,
    "start_time": "2022-01-19T11:28:44.484Z"
   },
   {
    "duration": 21,
    "start_time": "2022-01-19T11:28:44.549Z"
   },
   {
    "duration": 686,
    "start_time": "2022-01-19T11:28:44.574Z"
   },
   {
    "duration": 24,
    "start_time": "2022-01-19T11:28:45.263Z"
   },
   {
    "duration": 54,
    "start_time": "2022-01-19T11:28:45.289Z"
   },
   {
    "duration": 23,
    "start_time": "2022-01-19T11:28:45.348Z"
   },
   {
    "duration": 18,
    "start_time": "2022-01-19T11:28:45.374Z"
   },
   {
    "duration": 51,
    "start_time": "2022-01-19T11:28:45.424Z"
   },
   {
    "duration": 11,
    "start_time": "2022-01-19T11:28:45.477Z"
   },
   {
    "duration": 40,
    "start_time": "2022-01-19T11:28:45.491Z"
   },
   {
    "duration": 29,
    "start_time": "2022-01-19T11:28:45.534Z"
   },
   {
    "duration": 14,
    "start_time": "2022-01-19T11:28:45.566Z"
   },
   {
    "duration": 12,
    "start_time": "2022-01-19T11:28:45.583Z"
   },
   {
    "duration": 31,
    "start_time": "2022-01-19T11:28:45.598Z"
   },
   {
    "duration": 431,
    "start_time": "2022-01-19T11:28:45.633Z"
   },
   {
    "duration": 56,
    "start_time": "2022-01-19T11:28:46.067Z"
   },
   {
    "duration": 47,
    "start_time": "2022-01-19T11:28:46.136Z"
   },
   {
    "duration": 672,
    "start_time": "2022-01-19T11:28:46.189Z"
   },
   {
    "duration": 15,
    "start_time": "2022-01-19T11:28:46.863Z"
   },
   {
    "duration": 436,
    "start_time": "2022-01-19T11:28:46.881Z"
   },
   {
    "duration": 22,
    "start_time": "2022-01-19T11:28:47.327Z"
   },
   {
    "duration": 148,
    "start_time": "2022-01-19T11:28:47.352Z"
   },
   {
    "duration": 185,
    "start_time": "2022-01-19T11:28:47.503Z"
   },
   {
    "duration": 169,
    "start_time": "2022-01-19T11:28:47.691Z"
   },
   {
    "duration": 153,
    "start_time": "2022-01-19T11:28:47.862Z"
   },
   {
    "duration": 27,
    "start_time": "2022-01-19T11:28:48.018Z"
   },
   {
    "duration": 21,
    "start_time": "2022-01-19T11:28:48.049Z"
   },
   {
    "duration": 745,
    "start_time": "2022-01-19T11:28:48.073Z"
   },
   {
    "duration": 8,
    "start_time": "2022-01-19T11:28:48.823Z"
   },
   {
    "duration": 26,
    "start_time": "2022-01-19T11:28:48.834Z"
   },
   {
    "duration": 84,
    "start_time": "2022-01-19T11:28:48.863Z"
   },
   {
    "duration": 7,
    "start_time": "2022-01-19T11:28:48.949Z"
   },
   {
    "duration": 24,
    "start_time": "2022-01-19T11:28:48.959Z"
   },
   {
    "duration": 9,
    "start_time": "2022-01-19T11:28:48.986Z"
   },
   {
    "duration": 17,
    "start_time": "2022-01-19T11:28:49.027Z"
   },
   {
    "duration": 17,
    "start_time": "2022-01-19T11:28:49.047Z"
   },
   {
    "duration": 15,
    "start_time": "2022-01-19T11:28:49.067Z"
   },
   {
    "duration": 38,
    "start_time": "2022-01-19T11:28:49.085Z"
   },
   {
    "duration": 9,
    "start_time": "2022-01-19T11:28:49.126Z"
   },
   {
    "duration": 766,
    "start_time": "2022-01-19T11:28:49.138Z"
   },
   {
    "duration": 43,
    "start_time": "2022-01-19T11:28:49.907Z"
   },
   {
    "duration": 23,
    "start_time": "2022-01-19T11:28:49.953Z"
   },
   {
    "duration": 50,
    "start_time": "2022-01-19T11:28:49.979Z"
   },
   {
    "duration": 493,
    "start_time": "2022-01-19T11:28:50.033Z"
   },
   {
    "duration": 55,
    "start_time": "2022-01-19T11:28:50.530Z"
   },
   {
    "duration": 58,
    "start_time": "2022-01-19T11:28:50.588Z"
   },
   {
    "duration": 833,
    "start_time": "2022-01-19T11:28:50.649Z"
   },
   {
    "duration": 8,
    "start_time": "2022-01-19T11:28:51.484Z"
   },
   {
    "duration": 282,
    "start_time": "2022-01-19T11:28:51.494Z"
   },
   {
    "duration": 276,
    "start_time": "2022-01-19T11:28:51.778Z"
   },
   {
    "duration": 1372,
    "start_time": "2022-01-19T11:28:52.058Z"
   },
   {
    "duration": 1231,
    "start_time": "2022-01-19T11:28:53.433Z"
   },
   {
    "duration": 313,
    "start_time": "2022-01-19T11:28:54.666Z"
   },
   {
    "duration": 6,
    "start_time": "2022-01-19T11:28:54.982Z"
   },
   {
    "duration": 44,
    "start_time": "2022-01-19T11:28:54.991Z"
   },
   {
    "duration": 126,
    "start_time": "2022-01-19T11:28:55.039Z"
   },
   {
    "duration": 556,
    "start_time": "2022-01-19T11:28:55.167Z"
   },
   {
    "duration": 14,
    "start_time": "2022-01-19T11:28:55.726Z"
   },
   {
    "duration": 24,
    "start_time": "2022-01-19T11:28:55.743Z"
   },
   {
    "duration": 12,
    "start_time": "2022-01-19T11:28:55.770Z"
   },
   {
    "duration": 419,
    "start_time": "2022-01-19T11:28:55.785Z"
   },
   {
    "duration": 25,
    "start_time": "2022-01-19T11:28:56.212Z"
   },
   {
    "duration": 316,
    "start_time": "2022-01-19T11:28:56.240Z"
   },
   {
    "duration": 1917,
    "start_time": "2022-01-19T11:29:27.872Z"
   },
   {
    "duration": 514,
    "start_time": "2022-01-19T11:29:29.792Z"
   },
   {
    "duration": 20,
    "start_time": "2022-01-19T11:29:30.309Z"
   },
   {
    "duration": 1011,
    "start_time": "2022-01-19T11:29:30.333Z"
   },
   {
    "duration": 40,
    "start_time": "2022-01-19T11:29:31.347Z"
   },
   {
    "duration": 51,
    "start_time": "2022-01-19T11:29:31.390Z"
   },
   {
    "duration": 37,
    "start_time": "2022-01-19T11:29:31.444Z"
   },
   {
    "duration": 43,
    "start_time": "2022-01-19T11:29:31.485Z"
   },
   {
    "duration": 652,
    "start_time": "2022-01-19T11:29:31.531Z"
   },
   {
    "duration": 39,
    "start_time": "2022-01-19T11:29:32.187Z"
   },
   {
    "duration": 26,
    "start_time": "2022-01-19T11:29:32.229Z"
   },
   {
    "duration": 25,
    "start_time": "2022-01-19T11:29:32.258Z"
   },
   {
    "duration": 48,
    "start_time": "2022-01-19T11:29:32.285Z"
   },
   {
    "duration": 44,
    "start_time": "2022-01-19T11:29:32.336Z"
   },
   {
    "duration": 11,
    "start_time": "2022-01-19T11:29:32.383Z"
   },
   {
    "duration": 13,
    "start_time": "2022-01-19T11:29:32.423Z"
   },
   {
    "duration": 25,
    "start_time": "2022-01-19T11:29:32.440Z"
   },
   {
    "duration": 12,
    "start_time": "2022-01-19T11:29:32.468Z"
   },
   {
    "duration": 41,
    "start_time": "2022-01-19T11:29:32.482Z"
   },
   {
    "duration": 8,
    "start_time": "2022-01-19T11:29:32.526Z"
   },
   {
    "duration": 293,
    "start_time": "2022-01-19T11:29:32.536Z"
   },
   {
    "duration": 31,
    "start_time": "2022-01-19T11:29:32.832Z"
   },
   {
    "duration": 55,
    "start_time": "2022-01-19T11:29:32.871Z"
   },
   {
    "duration": 709,
    "start_time": "2022-01-19T11:29:32.931Z"
   },
   {
    "duration": 15,
    "start_time": "2022-01-19T11:29:33.644Z"
   },
   {
    "duration": 325,
    "start_time": "2022-01-19T11:29:33.662Z"
   },
   {
    "duration": 34,
    "start_time": "2022-01-19T11:29:33.990Z"
   },
   {
    "duration": 140,
    "start_time": "2022-01-19T11:29:34.026Z"
   },
   {
    "duration": 168,
    "start_time": "2022-01-19T11:29:34.169Z"
   },
   {
    "duration": 153,
    "start_time": "2022-01-19T11:29:34.339Z"
   },
   {
    "duration": 153,
    "start_time": "2022-01-19T11:29:34.495Z"
   },
   {
    "duration": 27,
    "start_time": "2022-01-19T11:29:34.652Z"
   },
   {
    "duration": 49,
    "start_time": "2022-01-19T11:29:34.683Z"
   },
   {
    "duration": 1029,
    "start_time": "2022-01-19T11:29:34.736Z"
   },
   {
    "duration": 10,
    "start_time": "2022-01-19T11:29:35.768Z"
   },
   {
    "duration": 26,
    "start_time": "2022-01-19T11:29:35.781Z"
   },
   {
    "duration": 53,
    "start_time": "2022-01-19T11:29:35.823Z"
   },
   {
    "duration": 10,
    "start_time": "2022-01-19T11:29:35.879Z"
   },
   {
    "duration": 46,
    "start_time": "2022-01-19T11:29:35.891Z"
   },
   {
    "duration": 9,
    "start_time": "2022-01-19T11:29:35.940Z"
   },
   {
    "duration": 18,
    "start_time": "2022-01-19T11:29:35.952Z"
   },
   {
    "duration": 52,
    "start_time": "2022-01-19T11:29:35.973Z"
   },
   {
    "duration": 8,
    "start_time": "2022-01-19T11:29:36.028Z"
   },
   {
    "duration": 12,
    "start_time": "2022-01-19T11:29:36.040Z"
   },
   {
    "duration": 12,
    "start_time": "2022-01-19T11:29:36.055Z"
   },
   {
    "duration": 1343,
    "start_time": "2022-01-19T11:29:36.070Z"
   },
   {
    "duration": 55,
    "start_time": "2022-01-19T11:29:37.415Z"
   },
   {
    "duration": 55,
    "start_time": "2022-01-19T11:29:37.473Z"
   },
   {
    "duration": 26,
    "start_time": "2022-01-19T11:29:37.531Z"
   },
   {
    "duration": 442,
    "start_time": "2022-01-19T11:29:37.559Z"
   },
   {
    "duration": 65,
    "start_time": "2022-01-19T11:29:38.004Z"
   },
   {
    "duration": 55,
    "start_time": "2022-01-19T11:29:38.071Z"
   },
   {
    "duration": 1101,
    "start_time": "2022-01-19T11:29:38.129Z"
   },
   {
    "duration": 11,
    "start_time": "2022-01-19T11:29:39.233Z"
   },
   {
    "duration": 237,
    "start_time": "2022-01-19T11:29:39.247Z"
   },
   {
    "duration": 265,
    "start_time": "2022-01-19T11:29:39.486Z"
   },
   {
    "duration": 1007,
    "start_time": "2022-01-19T11:29:39.754Z"
   },
   {
    "duration": 972,
    "start_time": "2022-01-19T11:29:40.764Z"
   },
   {
    "duration": 438,
    "start_time": "2022-01-19T11:29:41.739Z"
   },
   {
    "duration": 26,
    "start_time": "2022-01-19T11:29:42.180Z"
   },
   {
    "duration": 17,
    "start_time": "2022-01-19T11:29:42.209Z"
   },
   {
    "duration": 67,
    "start_time": "2022-01-19T11:29:42.229Z"
   },
   {
    "duration": 559,
    "start_time": "2022-01-19T11:29:42.299Z"
   },
   {
    "duration": 14,
    "start_time": "2022-01-19T11:29:42.861Z"
   },
   {
    "duration": 12,
    "start_time": "2022-01-19T11:29:42.877Z"
   },
   {
    "duration": 42,
    "start_time": "2022-01-19T11:29:42.892Z"
   },
   {
    "duration": 465,
    "start_time": "2022-01-19T11:29:42.937Z"
   },
   {
    "duration": 23,
    "start_time": "2022-01-19T11:29:43.412Z"
   },
   {
    "duration": 277,
    "start_time": "2022-01-19T11:29:43.438Z"
   },
   {
    "duration": 6,
    "start_time": "2022-01-19T11:33:05.745Z"
   },
   {
    "duration": 587,
    "start_time": "2022-01-19T11:33:09.331Z"
   },
   {
    "duration": 320,
    "start_time": "2022-01-19T11:33:30.367Z"
   },
   {
    "duration": 7,
    "start_time": "2022-01-19T11:33:39.679Z"
   },
   {
    "duration": 743,
    "start_time": "2022-01-19T11:33:51.597Z"
   },
   {
    "duration": 7,
    "start_time": "2022-01-19T11:34:04.285Z"
   },
   {
    "duration": 1685,
    "start_time": "2022-01-19T11:36:37.525Z"
   },
   {
    "duration": 517,
    "start_time": "2022-01-19T11:36:39.213Z"
   },
   {
    "duration": 19,
    "start_time": "2022-01-19T11:36:39.734Z"
   },
   {
    "duration": 671,
    "start_time": "2022-01-19T11:36:39.756Z"
   },
   {
    "duration": 42,
    "start_time": "2022-01-19T11:36:40.430Z"
   },
   {
    "duration": 56,
    "start_time": "2022-01-19T11:36:40.475Z"
   },
   {
    "duration": 31,
    "start_time": "2022-01-19T11:36:40.534Z"
   },
   {
    "duration": 16,
    "start_time": "2022-01-19T11:36:40.570Z"
   },
   {
    "duration": 674,
    "start_time": "2022-01-19T11:36:40.590Z"
   },
   {
    "duration": 23,
    "start_time": "2022-01-19T11:36:41.267Z"
   },
   {
    "duration": 45,
    "start_time": "2022-01-19T11:36:41.292Z"
   },
   {
    "duration": 22,
    "start_time": "2022-01-19T11:36:41.340Z"
   },
   {
    "duration": 19,
    "start_time": "2022-01-19T11:36:41.365Z"
   },
   {
    "duration": 80,
    "start_time": "2022-01-19T11:36:41.388Z"
   },
   {
    "duration": 14,
    "start_time": "2022-01-19T11:36:41.471Z"
   },
   {
    "duration": 42,
    "start_time": "2022-01-19T11:36:41.488Z"
   },
   {
    "duration": 22,
    "start_time": "2022-01-19T11:36:41.532Z"
   },
   {
    "duration": 12,
    "start_time": "2022-01-19T11:36:41.556Z"
   },
   {
    "duration": 4,
    "start_time": "2022-01-19T11:36:41.571Z"
   },
   {
    "duration": 8,
    "start_time": "2022-01-19T11:36:41.578Z"
   },
   {
    "duration": 288,
    "start_time": "2022-01-19T11:36:41.623Z"
   },
   {
    "duration": 38,
    "start_time": "2022-01-19T11:36:41.914Z"
   },
   {
    "duration": 64,
    "start_time": "2022-01-19T11:36:41.961Z"
   },
   {
    "duration": 629,
    "start_time": "2022-01-19T11:36:42.032Z"
   },
   {
    "duration": 14,
    "start_time": "2022-01-19T11:36:42.663Z"
   },
   {
    "duration": 323,
    "start_time": "2022-01-19T11:36:42.680Z"
   },
   {
    "duration": 35,
    "start_time": "2022-01-19T11:36:43.006Z"
   },
   {
    "duration": 138,
    "start_time": "2022-01-19T11:36:43.044Z"
   },
   {
    "duration": 179,
    "start_time": "2022-01-19T11:36:43.184Z"
   },
   {
    "duration": 159,
    "start_time": "2022-01-19T11:36:43.366Z"
   },
   {
    "duration": 137,
    "start_time": "2022-01-19T11:36:43.527Z"
   },
   {
    "duration": 19,
    "start_time": "2022-01-19T11:36:43.666Z"
   },
   {
    "duration": 39,
    "start_time": "2022-01-19T11:36:43.687Z"
   },
   {
    "duration": 924,
    "start_time": "2022-01-19T11:36:43.729Z"
   },
   {
    "duration": 10,
    "start_time": "2022-01-19T11:36:44.656Z"
   },
   {
    "duration": 22,
    "start_time": "2022-01-19T11:36:44.669Z"
   },
   {
    "duration": 76,
    "start_time": "2022-01-19T11:36:44.694Z"
   },
   {
    "duration": 9,
    "start_time": "2022-01-19T11:36:44.773Z"
   },
   {
    "duration": 44,
    "start_time": "2022-01-19T11:36:44.784Z"
   },
   {
    "duration": 10,
    "start_time": "2022-01-19T11:36:44.831Z"
   },
   {
    "duration": 29,
    "start_time": "2022-01-19T11:36:44.845Z"
   },
   {
    "duration": 20,
    "start_time": "2022-01-19T11:36:44.877Z"
   },
   {
    "duration": 11,
    "start_time": "2022-01-19T11:36:44.924Z"
   },
   {
    "duration": 18,
    "start_time": "2022-01-19T11:36:44.937Z"
   },
   {
    "duration": 7,
    "start_time": "2022-01-19T11:36:44.958Z"
   },
   {
    "duration": 759,
    "start_time": "2022-01-19T11:36:44.968Z"
   },
   {
    "duration": 42,
    "start_time": "2022-01-19T11:36:45.729Z"
   },
   {
    "duration": 20,
    "start_time": "2022-01-19T11:36:45.774Z"
   },
   {
    "duration": 27,
    "start_time": "2022-01-19T11:36:45.825Z"
   },
   {
    "duration": 468,
    "start_time": "2022-01-19T11:36:45.855Z"
   },
   {
    "duration": 57,
    "start_time": "2022-01-19T11:36:46.327Z"
   },
   {
    "duration": 47,
    "start_time": "2022-01-19T11:36:46.387Z"
   },
   {
    "duration": 762,
    "start_time": "2022-01-19T11:36:46.437Z"
   },
   {
    "duration": 8,
    "start_time": "2022-01-19T11:36:47.202Z"
   },
   {
    "duration": 237,
    "start_time": "2022-01-19T11:36:47.225Z"
   },
   {
    "duration": 259,
    "start_time": "2022-01-19T11:36:47.464Z"
   },
   {
    "duration": 1072,
    "start_time": "2022-01-19T11:36:47.726Z"
   },
   {
    "duration": 1005,
    "start_time": "2022-01-19T11:36:48.801Z"
   },
   {
    "duration": 351,
    "start_time": "2022-01-19T11:36:49.810Z"
   },
   {
    "duration": 6,
    "start_time": "2022-01-19T11:36:50.164Z"
   },
   {
    "duration": 54,
    "start_time": "2022-01-19T11:36:50.177Z"
   },
   {
    "duration": 135,
    "start_time": "2022-01-19T11:36:50.234Z"
   },
   {
    "duration": 574,
    "start_time": "2022-01-19T11:36:50.372Z"
   },
   {
    "duration": 10,
    "start_time": "2022-01-19T11:36:50.949Z"
   },
   {
    "duration": 44,
    "start_time": "2022-01-19T11:36:50.961Z"
   },
   {
    "duration": 42,
    "start_time": "2022-01-19T11:36:51.008Z"
   },
   {
    "duration": 394,
    "start_time": "2022-01-19T11:36:51.053Z"
   },
   {
    "duration": 13,
    "start_time": "2022-01-19T11:36:51.457Z"
   },
   {
    "duration": 379,
    "start_time": "2022-01-19T11:36:51.474Z"
   },
   {
    "duration": 1547,
    "start_time": "2022-01-19T11:40:13.933Z"
   },
   {
    "duration": 491,
    "start_time": "2022-01-19T11:40:15.483Z"
   },
   {
    "duration": 23,
    "start_time": "2022-01-19T11:40:15.978Z"
   },
   {
    "duration": 903,
    "start_time": "2022-01-19T11:40:16.004Z"
   },
   {
    "duration": 54,
    "start_time": "2022-01-19T11:40:16.911Z"
   },
   {
    "duration": 58,
    "start_time": "2022-01-19T11:40:16.969Z"
   },
   {
    "duration": 45,
    "start_time": "2022-01-19T11:40:17.030Z"
   },
   {
    "duration": 13,
    "start_time": "2022-01-19T11:40:17.078Z"
   },
   {
    "duration": 611,
    "start_time": "2022-01-19T11:40:17.096Z"
   },
   {
    "duration": 27,
    "start_time": "2022-01-19T11:40:17.710Z"
   },
   {
    "duration": 22,
    "start_time": "2022-01-19T11:40:17.739Z"
   },
   {
    "duration": 18,
    "start_time": "2022-01-19T11:40:17.763Z"
   },
   {
    "duration": 50,
    "start_time": "2022-01-19T11:40:17.784Z"
   },
   {
    "duration": 70,
    "start_time": "2022-01-19T11:40:17.836Z"
   },
   {
    "duration": 271,
    "start_time": "2022-01-19T11:40:17.909Z"
   },
   {
    "duration": 15,
    "start_time": "2022-01-19T11:40:18.183Z"
   },
   {
    "duration": 17,
    "start_time": "2022-01-19T11:40:18.200Z"
   },
   {
    "duration": 11,
    "start_time": "2022-01-19T11:40:18.220Z"
   },
   {
    "duration": 6,
    "start_time": "2022-01-19T11:40:18.234Z"
   },
   {
    "duration": 10,
    "start_time": "2022-01-19T11:40:18.243Z"
   },
   {
    "duration": 274,
    "start_time": "2022-01-19T11:40:18.256Z"
   },
   {
    "duration": 29,
    "start_time": "2022-01-19T11:40:18.532Z"
   },
   {
    "duration": 27,
    "start_time": "2022-01-19T11:40:18.564Z"
   },
   {
    "duration": 714,
    "start_time": "2022-01-19T11:40:18.593Z"
   },
   {
    "duration": 17,
    "start_time": "2022-01-19T11:40:19.310Z"
   },
   {
    "duration": 301,
    "start_time": "2022-01-19T11:40:19.330Z"
   },
   {
    "duration": 16,
    "start_time": "2022-01-19T11:40:19.638Z"
   },
   {
    "duration": 139,
    "start_time": "2022-01-19T11:40:19.657Z"
   },
   {
    "duration": 153,
    "start_time": "2022-01-19T11:40:19.798Z"
   },
   {
    "duration": 149,
    "start_time": "2022-01-19T11:40:19.954Z"
   },
   {
    "duration": 116,
    "start_time": "2022-01-19T11:40:20.106Z"
   },
   {
    "duration": 19,
    "start_time": "2022-01-19T11:40:20.224Z"
   },
   {
    "duration": 19,
    "start_time": "2022-01-19T11:40:20.245Z"
   },
   {
    "duration": 637,
    "start_time": "2022-01-19T11:40:20.266Z"
   },
   {
    "duration": 18,
    "start_time": "2022-01-19T11:40:20.905Z"
   },
   {
    "duration": 17,
    "start_time": "2022-01-19T11:40:20.925Z"
   },
   {
    "duration": 83,
    "start_time": "2022-01-19T11:40:20.945Z"
   },
   {
    "duration": 17,
    "start_time": "2022-01-19T11:40:21.030Z"
   },
   {
    "duration": 21,
    "start_time": "2022-01-19T11:40:21.050Z"
   },
   {
    "duration": 7,
    "start_time": "2022-01-19T11:40:21.073Z"
   },
   {
    "duration": 42,
    "start_time": "2022-01-19T11:40:21.082Z"
   },
   {
    "duration": 19,
    "start_time": "2022-01-19T11:40:21.127Z"
   },
   {
    "duration": 9,
    "start_time": "2022-01-19T11:40:21.148Z"
   },
   {
    "duration": 15,
    "start_time": "2022-01-19T11:40:21.160Z"
   },
   {
    "duration": 14,
    "start_time": "2022-01-19T11:40:21.177Z"
   },
   {
    "duration": 708,
    "start_time": "2022-01-19T11:40:21.193Z"
   },
   {
    "duration": 36,
    "start_time": "2022-01-19T11:40:21.903Z"
   },
   {
    "duration": 26,
    "start_time": "2022-01-19T11:40:21.942Z"
   },
   {
    "duration": 18,
    "start_time": "2022-01-19T11:40:21.971Z"
   },
   {
    "duration": 440,
    "start_time": "2022-01-19T11:40:21.992Z"
   },
   {
    "duration": 53,
    "start_time": "2022-01-19T11:40:22.435Z"
   },
   {
    "duration": 48,
    "start_time": "2022-01-19T11:40:22.491Z"
   },
   {
    "duration": 745,
    "start_time": "2022-01-19T11:40:22.542Z"
   },
   {
    "duration": 6,
    "start_time": "2022-01-19T11:40:23.290Z"
   },
   {
    "duration": 219,
    "start_time": "2022-01-19T11:40:23.299Z"
   },
   {
    "duration": 240,
    "start_time": "2022-01-19T11:40:23.524Z"
   },
   {
    "duration": 959,
    "start_time": "2022-01-19T11:40:23.767Z"
   },
   {
    "duration": 927,
    "start_time": "2022-01-19T11:40:24.728Z"
   },
   {
    "duration": 284,
    "start_time": "2022-01-19T11:40:25.658Z"
   },
   {
    "duration": 7,
    "start_time": "2022-01-19T11:40:25.944Z"
   },
   {
    "duration": 16,
    "start_time": "2022-01-19T11:40:25.954Z"
   },
   {
    "duration": 101,
    "start_time": "2022-01-19T11:40:25.972Z"
   },
   {
    "duration": 517,
    "start_time": "2022-01-19T11:40:26.076Z"
   },
   {
    "duration": 9,
    "start_time": "2022-01-19T11:40:26.595Z"
   },
   {
    "duration": 20,
    "start_time": "2022-01-19T11:40:26.607Z"
   },
   {
    "duration": 14,
    "start_time": "2022-01-19T11:40:26.629Z"
   },
   {
    "duration": 349,
    "start_time": "2022-01-19T11:40:26.646Z"
   },
   {
    "duration": 12,
    "start_time": "2022-01-19T11:40:26.998Z"
   },
   {
    "duration": 379,
    "start_time": "2022-01-19T11:40:27.025Z"
   },
   {
    "duration": 1458,
    "start_time": "2022-01-19T11:47:09.240Z"
   },
   {
    "duration": 488,
    "start_time": "2022-01-19T11:47:10.701Z"
   },
   {
    "duration": 22,
    "start_time": "2022-01-19T11:47:11.192Z"
   },
   {
    "duration": 649,
    "start_time": "2022-01-19T11:47:11.217Z"
   },
   {
    "duration": 36,
    "start_time": "2022-01-19T11:47:11.869Z"
   },
   {
    "duration": 42,
    "start_time": "2022-01-19T11:47:11.907Z"
   },
   {
    "duration": 28,
    "start_time": "2022-01-19T11:47:11.952Z"
   },
   {
    "duration": 40,
    "start_time": "2022-01-19T11:47:11.985Z"
   },
   {
    "duration": 651,
    "start_time": "2022-01-19T11:47:12.030Z"
   },
   {
    "duration": 45,
    "start_time": "2022-01-19T11:47:12.685Z"
   },
   {
    "duration": 34,
    "start_time": "2022-01-19T11:47:12.733Z"
   },
   {
    "duration": 20,
    "start_time": "2022-01-19T11:47:12.769Z"
   },
   {
    "duration": 48,
    "start_time": "2022-01-19T11:47:12.792Z"
   },
   {
    "duration": 38,
    "start_time": "2022-01-19T11:47:12.843Z"
   },
   {
    "duration": 10,
    "start_time": "2022-01-19T11:47:12.884Z"
   },
   {
    "duration": 12,
    "start_time": "2022-01-19T11:47:12.924Z"
   },
   {
    "duration": 18,
    "start_time": "2022-01-19T11:47:12.938Z"
   },
   {
    "duration": 9,
    "start_time": "2022-01-19T11:47:12.958Z"
   },
   {
    "duration": 6,
    "start_time": "2022-01-19T11:47:12.969Z"
   },
   {
    "duration": 47,
    "start_time": "2022-01-19T11:47:12.978Z"
   },
   {
    "duration": 268,
    "start_time": "2022-01-19T11:47:13.028Z"
   },
   {
    "duration": 39,
    "start_time": "2022-01-19T11:47:13.299Z"
   },
   {
    "duration": 28,
    "start_time": "2022-01-19T11:47:13.346Z"
   },
   {
    "duration": 624,
    "start_time": "2022-01-19T11:47:13.377Z"
   },
   {
    "duration": 21,
    "start_time": "2022-01-19T11:47:14.004Z"
   },
   {
    "duration": 299,
    "start_time": "2022-01-19T11:47:14.027Z"
   },
   {
    "duration": 16,
    "start_time": "2022-01-19T11:47:14.328Z"
   },
   {
    "duration": 140,
    "start_time": "2022-01-19T11:47:14.346Z"
   },
   {
    "duration": 163,
    "start_time": "2022-01-19T11:47:14.488Z"
   },
   {
    "duration": 153,
    "start_time": "2022-01-19T11:47:14.654Z"
   },
   {
    "duration": 114,
    "start_time": "2022-01-19T11:47:14.810Z"
   },
   {
    "duration": 19,
    "start_time": "2022-01-19T11:47:14.927Z"
   },
   {
    "duration": 18,
    "start_time": "2022-01-19T11:47:14.949Z"
   },
   {
    "duration": 681,
    "start_time": "2022-01-19T11:47:14.969Z"
   },
   {
    "duration": 9,
    "start_time": "2022-01-19T11:47:15.653Z"
   },
   {
    "duration": 18,
    "start_time": "2022-01-19T11:47:15.665Z"
   },
   {
    "duration": 73,
    "start_time": "2022-01-19T11:47:15.685Z"
   },
   {
    "duration": 8,
    "start_time": "2022-01-19T11:47:15.760Z"
   },
   {
    "duration": 18,
    "start_time": "2022-01-19T11:47:15.770Z"
   },
   {
    "duration": 37,
    "start_time": "2022-01-19T11:47:15.791Z"
   },
   {
    "duration": 19,
    "start_time": "2022-01-19T11:47:15.830Z"
   },
   {
    "duration": 21,
    "start_time": "2022-01-19T11:47:15.852Z"
   },
   {
    "duration": 8,
    "start_time": "2022-01-19T11:47:15.876Z"
   },
   {
    "duration": 38,
    "start_time": "2022-01-19T11:47:15.886Z"
   },
   {
    "duration": 10,
    "start_time": "2022-01-19T11:47:15.926Z"
   },
   {
    "duration": 684,
    "start_time": "2022-01-19T11:47:15.939Z"
   },
   {
    "duration": 21,
    "start_time": "2022-01-19T11:47:16.625Z"
   },
   {
    "duration": 22,
    "start_time": "2022-01-19T11:47:16.649Z"
   },
   {
    "duration": 452,
    "start_time": "2022-01-19T11:47:16.673Z"
   },
   {
    "duration": 75,
    "start_time": "2022-01-19T11:47:17.129Z"
   },
   {
    "duration": 44,
    "start_time": "2022-01-19T11:47:17.208Z"
   },
   {
    "duration": 754,
    "start_time": "2022-01-19T11:47:17.255Z"
   },
   {
    "duration": 16,
    "start_time": "2022-01-19T11:47:18.012Z"
   },
   {
    "duration": 243,
    "start_time": "2022-01-19T11:47:18.031Z"
   },
   {
    "duration": 256,
    "start_time": "2022-01-19T11:47:18.277Z"
   },
   {
    "duration": 1042,
    "start_time": "2022-01-19T11:47:18.535Z"
   },
   {
    "duration": 959,
    "start_time": "2022-01-19T11:47:19.580Z"
   },
   {
    "duration": 407,
    "start_time": "2022-01-19T11:47:20.541Z"
   },
   {
    "duration": 6,
    "start_time": "2022-01-19T11:47:20.950Z"
   },
   {
    "duration": 28,
    "start_time": "2022-01-19T11:47:20.959Z"
   },
   {
    "duration": 93,
    "start_time": "2022-01-19T11:47:20.989Z"
   },
   {
    "duration": 569,
    "start_time": "2022-01-19T11:47:21.084Z"
   },
   {
    "duration": 14,
    "start_time": "2022-01-19T11:47:21.656Z"
   },
   {
    "duration": 14,
    "start_time": "2022-01-19T11:47:21.672Z"
   },
   {
    "duration": 34,
    "start_time": "2022-01-19T11:47:21.689Z"
   },
   {
    "duration": 356,
    "start_time": "2022-01-19T11:47:21.726Z"
   },
   {
    "duration": 13,
    "start_time": "2022-01-19T11:47:22.085Z"
   },
   {
    "duration": 274,
    "start_time": "2022-01-19T11:47:22.126Z"
   },
   {
    "duration": 1104,
    "start_time": "2022-01-19T19:56:55.149Z"
   },
   {
    "duration": 426,
    "start_time": "2022-01-19T19:56:56.255Z"
   },
   {
    "duration": 12,
    "start_time": "2022-01-19T19:56:56.683Z"
   },
   {
    "duration": 421,
    "start_time": "2022-01-19T19:56:56.696Z"
   },
   {
    "duration": 28,
    "start_time": "2022-01-19T19:56:57.119Z"
   },
   {
    "duration": 27,
    "start_time": "2022-01-19T19:56:57.149Z"
   },
   {
    "duration": 55,
    "start_time": "2022-01-19T19:56:57.178Z"
   },
   {
    "duration": 23,
    "start_time": "2022-01-19T19:56:57.236Z"
   },
   {
    "duration": 405,
    "start_time": "2022-01-19T19:56:57.261Z"
   },
   {
    "duration": 17,
    "start_time": "2022-01-19T19:56:57.668Z"
   },
   {
    "duration": 47,
    "start_time": "2022-01-19T19:56:57.697Z"
   },
   {
    "duration": 18,
    "start_time": "2022-01-19T19:56:57.745Z"
   },
   {
    "duration": 35,
    "start_time": "2022-01-19T19:56:57.765Z"
   },
   {
    "duration": 49,
    "start_time": "2022-01-19T19:56:57.802Z"
   },
   {
    "duration": 7,
    "start_time": "2022-01-19T19:56:57.853Z"
   },
   {
    "duration": 28,
    "start_time": "2022-01-19T19:56:57.862Z"
   },
   {
    "duration": 42,
    "start_time": "2022-01-19T19:56:57.892Z"
   },
   {
    "duration": 17,
    "start_time": "2022-01-19T19:56:57.936Z"
   },
   {
    "duration": 26,
    "start_time": "2022-01-19T19:56:57.955Z"
   },
   {
    "duration": 21,
    "start_time": "2022-01-19T19:56:57.982Z"
   },
   {
    "duration": 203,
    "start_time": "2022-01-19T19:56:58.005Z"
   },
   {
    "duration": 19,
    "start_time": "2022-01-19T19:56:58.210Z"
   },
   {
    "duration": 30,
    "start_time": "2022-01-19T19:56:58.233Z"
   },
   {
    "duration": 402,
    "start_time": "2022-01-19T19:56:58.265Z"
   },
   {
    "duration": 10,
    "start_time": "2022-01-19T19:56:58.669Z"
   },
   {
    "duration": 212,
    "start_time": "2022-01-19T19:56:58.681Z"
   },
   {
    "duration": 16,
    "start_time": "2022-01-19T19:56:58.895Z"
   },
   {
    "duration": 95,
    "start_time": "2022-01-19T19:56:58.913Z"
   },
   {
    "duration": 122,
    "start_time": "2022-01-19T19:56:59.010Z"
   },
   {
    "duration": 117,
    "start_time": "2022-01-19T19:56:59.133Z"
   },
   {
    "duration": 86,
    "start_time": "2022-01-19T19:56:59.252Z"
   },
   {
    "duration": 12,
    "start_time": "2022-01-19T19:56:59.339Z"
   },
   {
    "duration": 33,
    "start_time": "2022-01-19T19:56:59.353Z"
   },
   {
    "duration": 411,
    "start_time": "2022-01-19T19:56:59.388Z"
   },
   {
    "duration": 6,
    "start_time": "2022-01-19T19:56:59.801Z"
   },
   {
    "duration": 28,
    "start_time": "2022-01-19T19:56:59.808Z"
   },
   {
    "duration": 39,
    "start_time": "2022-01-19T19:56:59.838Z"
   },
   {
    "duration": 19,
    "start_time": "2022-01-19T19:56:59.879Z"
   },
   {
    "duration": 35,
    "start_time": "2022-01-19T19:56:59.900Z"
   },
   {
    "duration": 8,
    "start_time": "2022-01-19T19:56:59.937Z"
   },
   {
    "duration": 33,
    "start_time": "2022-01-19T19:56:59.947Z"
   },
   {
    "duration": 16,
    "start_time": "2022-01-19T19:56:59.982Z"
   },
   {
    "duration": 24,
    "start_time": "2022-01-19T19:57:00.001Z"
   },
   {
    "duration": 45,
    "start_time": "2022-01-19T19:57:00.027Z"
   },
   {
    "duration": 37,
    "start_time": "2022-01-19T19:57:00.074Z"
   },
   {
    "duration": 371,
    "start_time": "2022-01-19T19:57:00.113Z"
   },
   {
    "duration": 19,
    "start_time": "2022-01-19T19:57:00.486Z"
   },
   {
    "duration": 50,
    "start_time": "2022-01-19T19:57:00.507Z"
   },
   {
    "duration": 294,
    "start_time": "2022-01-19T19:57:00.559Z"
   },
   {
    "duration": 44,
    "start_time": "2022-01-19T19:57:00.855Z"
   },
   {
    "duration": 17,
    "start_time": "2022-01-19T19:57:00.900Z"
   },
   {
    "duration": 514,
    "start_time": "2022-01-19T19:57:00.918Z"
   },
   {
    "duration": 5,
    "start_time": "2022-01-19T19:57:01.434Z"
   },
   {
    "duration": 175,
    "start_time": "2022-01-19T19:57:01.440Z"
   },
   {
    "duration": 166,
    "start_time": "2022-01-19T19:57:01.617Z"
   },
   {
    "duration": 669,
    "start_time": "2022-01-19T19:57:01.785Z"
   },
   {
    "duration": 600,
    "start_time": "2022-01-19T19:57:02.455Z"
   },
   {
    "duration": 188,
    "start_time": "2022-01-19T19:57:03.057Z"
   },
   {
    "duration": 4,
    "start_time": "2022-01-19T19:57:03.247Z"
   },
   {
    "duration": 29,
    "start_time": "2022-01-19T19:57:03.253Z"
   },
   {
    "duration": 67,
    "start_time": "2022-01-19T19:57:03.285Z"
   },
   {
    "duration": 367,
    "start_time": "2022-01-19T19:57:03.354Z"
   },
   {
    "duration": 7,
    "start_time": "2022-01-19T19:57:03.723Z"
   },
   {
    "duration": 22,
    "start_time": "2022-01-19T19:57:03.732Z"
   },
   {
    "duration": 32,
    "start_time": "2022-01-19T19:57:03.756Z"
   },
   {
    "duration": 263,
    "start_time": "2022-01-19T19:57:03.790Z"
   },
   {
    "duration": 9,
    "start_time": "2022-01-19T19:57:04.054Z"
   },
   {
    "duration": 177,
    "start_time": "2022-01-19T19:57:04.067Z"
   },
   {
    "duration": 1149,
    "start_time": "2022-03-24T19:19:42.502Z"
   },
   {
    "duration": 377,
    "start_time": "2022-03-24T19:19:43.653Z"
   },
   {
    "duration": 11,
    "start_time": "2022-03-24T19:19:44.032Z"
   },
   {
    "duration": 288,
    "start_time": "2022-03-24T19:19:44.045Z"
   },
   {
    "duration": 25,
    "start_time": "2022-03-24T19:19:44.335Z"
   },
   {
    "duration": 25,
    "start_time": "2022-03-24T19:19:44.361Z"
   },
   {
    "duration": 39,
    "start_time": "2022-03-24T19:19:44.387Z"
   },
   {
    "duration": 26,
    "start_time": "2022-03-24T19:19:44.428Z"
   },
   {
    "duration": 292,
    "start_time": "2022-03-24T19:19:44.456Z"
   },
   {
    "duration": 22,
    "start_time": "2022-03-24T19:19:44.751Z"
   },
   {
    "duration": 24,
    "start_time": "2022-03-24T19:19:44.775Z"
   },
   {
    "duration": 17,
    "start_time": "2022-03-24T19:19:44.809Z"
   },
   {
    "duration": 15,
    "start_time": "2022-03-24T19:19:44.828Z"
   },
   {
    "duration": 34,
    "start_time": "2022-03-24T19:19:44.845Z"
   },
   {
    "duration": 6,
    "start_time": "2022-03-24T19:19:44.881Z"
   },
   {
    "duration": 9,
    "start_time": "2022-03-24T19:19:44.909Z"
   },
   {
    "duration": 16,
    "start_time": "2022-03-24T19:19:44.920Z"
   },
   {
    "duration": 27,
    "start_time": "2022-03-24T19:19:44.937Z"
   },
   {
    "duration": 18,
    "start_time": "2022-03-24T19:19:44.965Z"
   },
   {
    "duration": 11,
    "start_time": "2022-03-24T19:19:44.985Z"
   },
   {
    "duration": 179,
    "start_time": "2022-03-24T19:19:44.998Z"
   },
   {
    "duration": 18,
    "start_time": "2022-03-24T19:19:45.179Z"
   },
   {
    "duration": 19,
    "start_time": "2022-03-24T19:19:45.208Z"
   },
   {
    "duration": 295,
    "start_time": "2022-03-24T19:19:45.229Z"
   },
   {
    "duration": 9,
    "start_time": "2022-03-24T19:19:45.526Z"
   },
   {
    "duration": 141,
    "start_time": "2022-03-24T19:19:45.537Z"
   },
   {
    "duration": 11,
    "start_time": "2022-03-24T19:19:45.680Z"
   },
   {
    "duration": 69,
    "start_time": "2022-03-24T19:19:45.709Z"
   },
   {
    "duration": 118,
    "start_time": "2022-03-24T19:19:45.780Z"
   },
   {
    "duration": 89,
    "start_time": "2022-03-24T19:19:45.908Z"
   },
   {
    "duration": 74,
    "start_time": "2022-03-24T19:19:45.999Z"
   },
   {
    "duration": 11,
    "start_time": "2022-03-24T19:19:46.075Z"
   },
   {
    "duration": 41,
    "start_time": "2022-03-24T19:19:46.088Z"
   },
   {
    "duration": 202,
    "start_time": "2022-03-24T19:19:46.131Z"
   },
   {
    "duration": 6,
    "start_time": "2022-03-24T19:19:46.335Z"
   },
   {
    "duration": 13,
    "start_time": "2022-03-24T19:19:46.342Z"
   },
   {
    "duration": 12,
    "start_time": "2022-03-24T19:19:46.357Z"
   },
   {
    "duration": 7,
    "start_time": "2022-03-24T19:19:46.370Z"
   },
   {
    "duration": 32,
    "start_time": "2022-03-24T19:19:46.379Z"
   },
   {
    "duration": 6,
    "start_time": "2022-03-24T19:19:46.413Z"
   },
   {
    "duration": 11,
    "start_time": "2022-03-24T19:19:46.421Z"
   },
   {
    "duration": 13,
    "start_time": "2022-03-24T19:19:46.434Z"
   },
   {
    "duration": 8,
    "start_time": "2022-03-24T19:19:46.448Z"
   },
   {
    "duration": 8,
    "start_time": "2022-03-24T19:19:46.458Z"
   },
   {
    "duration": 8,
    "start_time": "2022-03-24T19:19:46.467Z"
   },
   {
    "duration": 93,
    "start_time": "2022-03-24T19:19:46.477Z"
   },
   {
    "duration": 15,
    "start_time": "2022-03-24T19:19:46.572Z"
   },
   {
    "duration": 21,
    "start_time": "2022-03-24T19:19:46.589Z"
   },
   {
    "duration": 225,
    "start_time": "2022-03-24T19:19:46.612Z"
   },
   {
    "duration": 35,
    "start_time": "2022-03-24T19:19:46.838Z"
   },
   {
    "duration": 35,
    "start_time": "2022-03-24T19:19:46.875Z"
   },
   {
    "duration": 321,
    "start_time": "2022-03-24T19:19:46.912Z"
   },
   {
    "duration": 5,
    "start_time": "2022-03-24T19:19:47.235Z"
   },
   {
    "duration": 202,
    "start_time": "2022-03-24T19:19:47.242Z"
   },
   {
    "duration": 204,
    "start_time": "2022-03-24T19:19:47.446Z"
   },
   {
    "duration": 502,
    "start_time": "2022-03-24T19:19:47.652Z"
   },
   {
    "duration": 473,
    "start_time": "2022-03-24T19:19:48.156Z"
   },
   {
    "duration": 137,
    "start_time": "2022-03-24T19:19:48.631Z"
   },
   {
    "duration": 3,
    "start_time": "2022-03-24T19:19:48.770Z"
   },
   {
    "duration": 17,
    "start_time": "2022-03-24T19:19:48.775Z"
   },
   {
    "duration": 46,
    "start_time": "2022-03-24T19:19:48.794Z"
   },
   {
    "duration": 337,
    "start_time": "2022-03-24T19:19:48.842Z"
   },
   {
    "duration": 6,
    "start_time": "2022-03-24T19:19:49.181Z"
   },
   {
    "duration": 6,
    "start_time": "2022-03-24T19:19:49.188Z"
   },
   {
    "duration": 16,
    "start_time": "2022-03-24T19:19:49.196Z"
   },
   {
    "duration": 132,
    "start_time": "2022-03-24T19:19:49.214Z"
   },
   {
    "duration": 7,
    "start_time": "2022-03-24T19:19:49.347Z"
   },
   {
    "duration": 147,
    "start_time": "2022-03-24T19:19:49.355Z"
   }
  ],
  "kernelspec": {
   "display_name": "Python 3 (ipykernel)",
   "language": "python",
   "name": "python3"
  },
  "language_info": {
   "codemirror_mode": {
    "name": "ipython",
    "version": 3
   },
   "file_extension": ".py",
   "mimetype": "text/x-python",
   "name": "python",
   "nbconvert_exporter": "python",
   "pygments_lexer": "ipython3",
   "version": "3.9.5"
  },
  "toc": {
   "base_numbering": 1,
   "nav_menu": {},
   "number_sections": true,
   "sideBar": true,
   "skip_h1_title": true,
   "title_cell": "Содержание",
   "title_sidebar": "Contents",
   "toc_cell": true,
   "toc_position": {
    "height": "632.167px",
    "left": "368px",
    "top": "411.883px",
    "width": "334.4px"
   },
   "toc_section_display": true,
   "toc_window_display": false
  }
 },
 "nbformat": 4,
 "nbformat_minor": 2
}
